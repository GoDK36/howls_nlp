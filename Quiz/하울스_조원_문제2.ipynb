{
 "cells": [
  {
   "cell_type": "markdown",
   "metadata": {},
   "source": [
    "### 다마고치 키우기"
   ]
  },
  {
   "cell_type": "markdown",
   "metadata": {},
   "source": [
    "## reguirements\n",
    "\n",
    "* 다마고치는 레벨이 있다 (1~3), 처음 lv은 1이다.\n",
    "* 다마고치의 배부른 상태를 확인할 수 있다. (1~3)\n",
    "\n",
    "* 다마고치에게 밥을 줄 수 있다.\n",
    "\n",
    "* 밥을 줄 때 밥 양을 정할 수 있다. +1, +2, +3\n",
    "* 밥을 먹을 때마다 레벨과 배부름을 체크한다. \n",
    "* 다마고치는 lv만큼 밥 양을 먹으면 성장한다. \n",
    "\n",
    "* 밥을 먹고 lv이 오르면 배부름은 0으로 초기화 된다.\n",
    "\n",
    "* 다마고치를 운동시킬 수 있다. \n",
    "* 운동하면 배부름이 감소한다. -1\n",
    "* 다마고치가 lv이 4가 되면 집을 떠난다. ->새로 키우고 싶다면 새 인스턴스를 만들어야 한다. \n",
    "\n",
    "* 다마고치의 상태를 체크할 수 있다. \n",
    "\n",
    "* 철수와 영희는 둘 다 각자의 다마고치를 키우고 싶어한다. "
   ]
  },
  {
   "cell_type": "code",
   "execution_count": 19,
   "metadata": {},
   "outputs": [],
   "source": [
    "class damagochi:\n",
    "    def __init__(self, name):\n",
    "        self.at_home = True\n",
    "        self.full = 0\n",
    "        self.lv = 1\n",
    "        self.name = ''\n",
    "        self.init_name(name) #init에 method를 쓸 수 있다는 걸 보여주기 위함\n",
    "\n",
    "    def init_name(self, name):\n",
    "        self.name = name\n",
    "\n",
    "    def meal(self, n):\n",
    "        if self.at_home: #아직 덜 성장해야 진행\n",
    "            print(\"%s에게 밥을 주었습니다. \" % self.name)\n",
    "            if n>0: #0보다 클 때만 처리\n",
    "                self.full += n\n",
    "                if self.full >= 3:\n",
    "                    self.lv += 1\n",
    "                    if self.lv == 4:\n",
    "                        print(\"%s가 충분히 성장하여 집을 떠났습니다.\" % self.name)\n",
    "                        self.at_home = False\n",
    "\n",
    "            if self.full>3: #배부름이 3을 넘어가면 3으로 잘라줌\n",
    "                print(\"%s가 배불러 보입니다.\" % self.name)\n",
    "                self.full = 3\n",
    "        else: #다마고치 충분히 성장\n",
    "            print(\"%s는 충분히 성장하여 집을 떠났습니다.\" % self.name)\n",
    "\n",
    "    def work_out(self):\n",
    "        if self.at_home: #아직 덜 성장해야 진행\n",
    "            print(\"%s가 즐거워합니다.\" % self.name)\n",
    "            self.full -= 1\n",
    "        else: #다마고치 충분히 성장\n",
    "            print(\"%s는 충분히 성장하여 집을 떠났습니다.\" % self.name)\n",
    "\n",
    "    def show_status(self):\n",
    "        print(\"level: %d\" % self.lv)\n",
    "        print(\"배부름: %d\" % self.full)\n",
    "        print(\"이름: %s\" % self.name)\n",
    "        print(\"집에 있니?: %d\" % self.at_home)\n"
   ]
  },
  {
   "cell_type": "code",
   "execution_count": 27,
   "metadata": {},
   "outputs": [
    {
     "output_type": "stream",
     "name": "stdout",
     "text": "다마고치에게 밥을 주었습니다. \n"
    }
   ],
   "source": [
    "d = damagochi('다마고치')\n",
    "d.meal(3)"
   ]
  },
  {
   "cell_type": "code",
   "execution_count": 28,
   "metadata": {},
   "outputs": [
    {
     "output_type": "stream",
     "name": "stdout",
     "text": "level: 2\n배부름: 3\n이름: 다마고치\n집에 있니?: 1\n"
    }
   ],
   "source": [
    "d.show_status()"
   ]
  },
  {
   "cell_type": "code",
   "execution_count": 29,
   "metadata": {},
   "outputs": [
    {
     "output_type": "stream",
     "name": "stdout",
     "text": "다마고치에게 밥을 주었습니다. \n다마고치가 배불러 보입니다.\n"
    }
   ],
   "source": [
    "d.meal(3)"
   ]
  },
  {
   "cell_type": "code",
   "execution_count": 30,
   "metadata": {},
   "outputs": [
    {
     "output_type": "stream",
     "name": "stdout",
     "text": "level: 3\n배부름: 3\n이름: 다마고치\n집에 있니?: 1\n"
    }
   ],
   "source": [
    "d.show_status()"
   ]
  },
  {
   "cell_type": "code",
   "execution_count": 31,
   "metadata": {},
   "outputs": [
    {
     "output_type": "stream",
     "name": "stdout",
     "text": "다마고치가 즐거워합니다.\n"
    }
   ],
   "source": [
    "d.work_out()"
   ]
  },
  {
   "cell_type": "code",
   "execution_count": 25,
   "metadata": {},
   "outputs": [
    {
     "output_type": "stream",
     "name": "stdout",
     "text": "다마고치는 충분히 성장하여 집을 떠났습니다.\n"
    }
   ],
   "source": [
    "d.meal(3)"
   ]
  },
  {
   "cell_type": "code",
   "execution_count": null,
   "metadata": {},
   "outputs": [],
   "source": [
    "class damagochi2:\n",
    "    def __init__(self, name):\n",
    "        self.at_home = True\n",
    "        self.full = 0\n",
    "        self.lv = 1\n",
    "        self.name = name\n",
    "\n",
    "    def meal(self, n):\n",
    "        if self.at_home: #아직 덜 성장해야 진행\n",
    "            print(\"%s에게 밥을 주었습니다. \" % self.name)\n",
    "            if n>0: #0보다 클 때만 처리\n",
    "                self.full += n\n",
    "                if self.full >= self.lv:\n",
    "                    self.lv += 1\n",
    "                    self.full = 0\n",
    "                    if self.lv == 4:\n",
    "                        print(\"%s가 충분히 성장하여 집을 떠났습니다.\" % self.name)\n",
    "                        self.at_home = False\n",
    "\n",
    "        else: #다마고치 충분히 성장\n",
    "            print(\"%s는 충분히 성장하여 집을 떠났습니다.\" % self.name)\n",
    "\n",
    "    def work_out(self):\n",
    "        if self.at_home: #아직 덜 성장해야 진행\n",
    "            print(\"%s가 즐거워합니다.\" % self.name)\n",
    "            self.full -= 1\n",
    "        else: #다마고치 충분히 성장\n",
    "            print(\"%s는 충분히 성장하여 집을 떠났습니다.\" % self.name)\n",
    "\n",
    "    def show_status(self):\n",
    "        print(\"level: %d\" % self.lv)\n",
    "        print(\"배부름: %d\" % self.full)\n",
    "        print(\"이름: %s\" % self.name)\n",
    "        print(\"집에 있니?: %d\" % self.at_home)"
   ]
  }
 ],
 "metadata": {
  "language_info": {
   "codemirror_mode": {
    "name": "ipython",
    "version": 3
   },
   "file_extension": ".py",
   "mimetype": "text/x-python",
   "name": "python",
   "nbconvert_exporter": "python",
   "pygments_lexer": "ipython3",
   "version": "3.7.6-final"
  },
  "orig_nbformat": 2,
  "kernelspec": {
   "name": "python3",
   "display_name": "Python 3"
  }
 },
 "nbformat": 4,
 "nbformat_minor": 2
}