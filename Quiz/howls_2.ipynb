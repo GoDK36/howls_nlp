{
 "cells": [
  {
   "cell_type": "markdown",
   "metadata": {},
   "source": [
    "## 20200402 파이썬 문제"
   ]
  },
  {
   "cell_type": "code",
   "execution_count": 37,
   "metadata": {},
   "outputs": [
    {
     "name": "stdout",
     "output_type": "stream",
     "text": [
      "max=10, minimum=3\n"
     ]
    }
   ],
   "source": [
    "#리스트의 최댓값과 최솟값을 출력하여라\n",
    "nums=[3,4,7,8,9,10]\n",
    "\n",
    "print(f\"max={max(nums)}, minimum={min(nums)}\")\n"
   ]
  },
  {
   "cell_type": "code",
   "execution_count": 38,
   "metadata": {},
   "outputs": [
    {
     "name": "stdout",
     "output_type": "stream",
     "text": [
      "[10, 9, 8, 7, 5, 2, 1]\n"
     ]
    }
   ],
   "source": [
    "#다음 리스트를 내림차순으로 정렬하여라\n",
    "nums = [2,5,7,1,10,8,9]\n",
    "\n",
    "nums.sort(reverse=True)\n",
    "print(nums)\n",
    "#sort함수안 조건 널기"
   ]
  },
  {
   "cell_type": "code",
   "execution_count": 39,
   "metadata": {},
   "outputs": [
    {
     "name": "stdout",
     "output_type": "stream",
     "text": [
      "평균: 10803.1\n"
     ]
    }
   ],
   "source": [
    "#리스트의 평균값을 첫째자리 수까지 구하여라\n",
    "price=[10002, 10803, 11000, 12004, 10502, 10020, 10045, 12049]\n",
    "\n",
    "sumpri = sum(price)\n",
    "le = len(price)\n",
    "average = sumpri / le\n",
    "print('평균: %.1f'%(average))\n",
    "#리스트에서 len 과 sum 함수 사용가능"
   ]
  },
  {
   "cell_type": "code",
   "execution_count": 40,
   "metadata": {
    "scrolled": true
   },
   "outputs": [
    {
     "name": "stdout",
     "output_type": "stream",
     "text": [
      "('a', 'b', 'c', 'd', 'e')\n"
     ]
    },
    {
     "data": {
      "text/plain": [
       "tuple"
      ]
     },
     "execution_count": 40,
     "metadata": {},
     "output_type": "execute_result"
    }
   ],
   "source": [
    "#다음 리스트를 튜플로 변경하라\n",
    "data = ['a', 'b', 'c', 'd', 'e']\n",
    "\n",
    "data = tuple(data)\n",
    "print(data)\n",
    "type(data)"
   ]
  },
  {
   "cell_type": "code",
   "execution_count": 41,
   "metadata": {},
   "outputs": [
    {
     "name": "stdout",
     "output_type": "stream",
     "text": [
      "[1, 2, 3]\n"
     ]
    }
   ],
   "source": [
    "#다음 리스트에서 요소 4,5를 삭제하여라\n",
    "\n",
    "nums = [1,2,3,4,5]\n",
    "\n",
    "nums.remove(4)\n",
    "nums.remove(5)\n",
    "print(nums)\n",
    "#인자로 4,5 한번에 넣으면 오류남"
   ]
  },
  {
   "cell_type": "code",
   "execution_count": 42,
   "metadata": {},
   "outputs": [
    {
     "name": "stdout",
     "output_type": "stream",
     "text": [
      "[1, 2, 3, 4]\n"
     ]
    }
   ],
   "source": [
    "a=[1,2]\n",
    "b=(3,4)\n",
    "#c=a+b\n",
    "#(오류)>>타입이 다른경우, 연산자의 좌변과 우변의 \n",
    "#선언 순서에 따라 타입이 변경되기때문에\n",
    "\n",
    "a+=b\n",
    "print(a)\n",
    "\n",
    "#b+=a\n",
    "#(오류)>>"
   ]
  },
  {
   "cell_type": "code",
   "execution_count": 54,
   "metadata": {},
   "outputs": [
    {
     "name": "stdout",
     "output_type": "stream",
     "text": [
      "60\n",
      "{'A': 90, 'B': 80, 'C': 70, 'F': 50}\n"
     ]
    }
   ],
   "source": [
    "#dic1 = {'A':90, 'B':80, 'C':70, 'D':60, 'F':50}에서 ‘D’에 해당 되는 값을 \n",
    "#추출한 값은(dic)에 삭제되는 값은(dic1)에 넣어 만들어 보세요.\n",
    "\n",
    "dic={'A':90, 'B':80, 'C':70, 'D':60, 'F':50}\n",
    "dic1=dic.pop('D')\n",
    "print(dic1)\n",
    "print(dic)"
   ]
  },
  {
   "cell_type": "markdown",
   "metadata": {},
   "source": [
    "## 점프 투 파이썬 문제 5~12\n"
   ]
  },
  {
   "cell_type": "code",
   "execution_count": 44,
   "metadata": {},
   "outputs": [
    {
     "name": "stdout",
     "output_type": "stream",
     "text": [
      "a#b#c#d\n"
     ]
    }
   ],
   "source": [
    "#Q5.다음과 같은 문자열 a:b:c:d가 있다. 문자열의 replace 함수를 사용하여 a#b#c#d로 바꿔서 출력해 보자.\n",
    "a = \"a:b:c:d\"\n",
    "b = a.replace(\":\", \"#\")\n",
    "print(b)"
   ]
  },
  {
   "cell_type": "code",
   "execution_count": 7,
   "metadata": {},
   "outputs": [
    {
     "output_type": "stream",
     "name": "stdout",
     "text": "[5, 4, 3, 2, 1]\n"
    }
   ],
   "source": [
    "#Q6.[1, 3, 5, 4, 2]라는 리스트를 [5, 4, 3, 2, 1]로 만들어보자.\n",
    "a = [1, 3, 5, 4, 2]\n",
    "a.sort(reverse=True)\n",
    "# a.reverse( )\n",
    "print(a)  "
   ]
  },
  {
   "cell_type": "code",
   "execution_count": 46,
   "metadata": {},
   "outputs": [
    {
     "name": "stdout",
     "output_type": "stream",
     "text": [
      "Life is too short\n"
     ]
    }
   ],
   "source": [
    "#Q7.['Life', 'is', 'too', 'short'] 라는 리스트를 Life is too short라는 문자열로 만들어 출력해 보자.\n",
    "a = ['Life', 'is', 'too', 'short']\n",
    "result = \" \".join(a)\n",
    "print(result)"
   ]
  },
  {
   "cell_type": "code",
   "execution_count": 47,
   "metadata": {},
   "outputs": [
    {
     "name": "stdout",
     "output_type": "stream",
     "text": [
      "(1, 2, 3, 4)\n",
      "92458408\n",
      "(1, 2, 3, 4)\n",
      "94979848\n"
     ]
    }
   ],
   "source": [
    "#Q8.(1,2,3)이라는 튜플에 4라는 값을 추가하여 (1,2,3,4)처럼 만들어 출력해 보자.\n",
    "a = (1, 2, 3)\n",
    "a = a + (4,)\n",
    "print(a)       # (1, 2, 3, 4) 출력\n",
    "#여기서 궁금증이 하나 생깁니다. \n",
    "#튜플은 값을 변경할 수 없는데 ‘왜 값이 추가 될 수 있나?’ 라는 생각을 가지게 됩니다. \n",
    "#그 이유는 값이 변경되는 게 아니라 새로운 튜플이 생성되고 4라는 값이 변수에 대입되는 것입니다.\n",
    "\n",
    "#다음 코드를 실행해 보면 a의 고유 주소 값이 변경됨을 확인할 수 있다.\n",
    "\n",
    "a = (1, 2, 3)\n",
    "print (id(a))     # a의 고유 주소 값 출력\n",
    "a = a + (4,)\n",
    "print(a)\n",
    "print (id(a))     # (4,) 값이 더해 진 후 a의 고유 주소 값 출력"
   ]
  },
  {
   "cell_type": "code",
   "execution_count": 48,
   "metadata": {},
   "outputs": [
    {
     "ename": "TypeError",
     "evalue": "'tuple' object does not support item assignment",
     "output_type": "error",
     "traceback": [
      "\u001b[1;31m---------------------------------------------------------------------------\u001b[0m",
      "\u001b[1;31mTypeError\u001b[0m                                 Traceback (most recent call last)",
      "\u001b[1;32m<ipython-input-48-a46bc7b91271>\u001b[0m in \u001b[0;36m<module>\u001b[1;34m\u001b[0m\n\u001b[0;32m      2\u001b[0m \u001b[1;31m#다음 중 오류가 발생하는 경우를 고르고, 그 이유를 설명해 보자.\u001b[0m\u001b[1;33m\u001b[0m\u001b[1;33m\u001b[0m\u001b[1;33m\u001b[0m\u001b[0m\n\u001b[0;32m      3\u001b[0m \u001b[1;33m\u001b[0m\u001b[0m\n\u001b[1;32m----> 4\u001b[1;33m \u001b[0ma\u001b[0m\u001b[1;33m[\u001b[0m\u001b[1;34m'name'\u001b[0m\u001b[1;33m]\u001b[0m \u001b[1;33m=\u001b[0m \u001b[1;34m'python'\u001b[0m\u001b[1;33m\u001b[0m\u001b[1;33m\u001b[0m\u001b[0m\n\u001b[0m\u001b[0;32m      5\u001b[0m \u001b[0ma\u001b[0m\u001b[1;33m[\u001b[0m\u001b[1;33m(\u001b[0m\u001b[1;34m'a'\u001b[0m\u001b[1;33m,\u001b[0m\u001b[1;33m)\u001b[0m\u001b[1;33m]\u001b[0m \u001b[1;33m=\u001b[0m \u001b[1;34m'python'\u001b[0m\u001b[1;33m\u001b[0m\u001b[1;33m\u001b[0m\u001b[0m\n\u001b[0;32m      6\u001b[0m \u001b[0ma\u001b[0m\u001b[1;33m[\u001b[0m\u001b[1;33m[\u001b[0m\u001b[1;36m1\u001b[0m\u001b[1;33m]\u001b[0m\u001b[1;33m]\u001b[0m \u001b[1;33m=\u001b[0m \u001b[1;34m'python'\u001b[0m\u001b[1;33m\u001b[0m\u001b[1;33m\u001b[0m\u001b[0m\n",
      "\u001b[1;31mTypeError\u001b[0m: 'tuple' object does not support item assignment"
     ]
    }
   ],
   "source": [
    "#Q9.다음과 같은 딕셔너리 a가 있다. 다음 중 오류가 발생하는 경우는 어떤 경우인가? 그리고 그 이유를 설명해 보자.\n",
    "#다음 중 오류가 발생하는 경우를 고르고, 그 이유를 설명해 보자.\n",
    "\n",
    "a['name'] = 'python'\n",
    "a[('a',)] = 'python'\n",
    "a[[1]] = 'python'\n",
    "a[250] = 'python'\n",
    "\n",
    "#3번째 예를 실행하면 다음과 같은 오류가 발생한다.\n",
    "\n",
    "#3번이 오류>>리스트 같은 변하는 자료형은 키값으로 사용불가"
   ]
  },
  {
   "cell_type": "code",
   "execution_count": 55,
   "metadata": {},
   "outputs": [
    {
     "name": "stdout",
     "output_type": "stream",
     "text": [
      "{'A': 90, 'C': 70}\n"
     ]
    }
   ],
   "source": [
    "#Q10.딕셔너리 a에서 'B'에 해당되는 값을 추출해 보자\n",
    "a = {'A':90, 'B':80, 'C':70}\n",
    "a.pop('B') #pop함수는 반환값있음\n",
    "print(a)  # {'A':90, 'C':70} 출력\n"
   ]
  },
  {
   "cell_type": "code",
   "execution_count": 51,
   "metadata": {},
   "outputs": [
    {
     "name": "stdout",
     "output_type": "stream",
     "text": [
      "[1, 2, 3, 4, 5]\n"
     ]
    }
   ],
   "source": [
    "#Q11.a 리스트에서 중복된 숫자들을 제거해 보자.\n",
    "a = [1, 1, 1, 2, 2, 3, 3, 3, 4, 4, 5]\n",
    "aSet = set(a)     # a 리스트를 집합자료형으로 변환\n",
    "b = list(aSet)    # 집합자료형을 리스트 자료형으로 다시 변환\n",
    "print(b)          # [1,2,3,4,5] 출력"
   ]
  },
  {
   "cell_type": "code",
   "execution_count": 52,
   "metadata": {},
   "outputs": [
    {
     "name": "stdout",
     "output_type": "stream",
     "text": [
      "[1, 4, 3]\n"
     ]
    }
   ],
   "source": [
    "#Q12.파이썬은 다음처럼 동일한 값에 여러 개의 변수를 선언할 수 있다. 다음과 같이 a, b 변수를 선언 한 후 a의 두 번째 요솟값을 변경하면 b의 값은 어떻게 될까? 그리고 이런 결과가 나오는 이유에 대해서 설명해 보자.\n",
    "a = b = [1, 2, 3]\n",
    "a[1] = 4\n",
    "print(b)\n",
    "#[1, 4, 3]이 출력된다. a와 b 변수는 모두 동일한 [1, 2, 3]이라는 리스트 객체를 가리키고 있기 때문이다."
   ]
  },
  {
   "cell_type": "code",
   "execution_count": 3,
   "metadata": {},
   "outputs": [
    {
     "output_type": "stream",
     "name": "stdout",
     "text": "[1, 2, 3] [4, 5]\n"
    }
   ],
   "source": [
    "a, b = [1, 2, 3], [4, 5]\n",
    "print(a, b)"
   ]
  },
  {
   "cell_type": "code",
   "execution_count": null,
   "metadata": {},
   "outputs": [],
   "source": []
  }
 ],
 "metadata": {
  "kernelspec": {
   "display_name": "Python 3",
   "language": "python",
   "name": "python3"
  },
  "language_info": {
   "codemirror_mode": {
    "name": "ipython",
    "version": 3
   },
   "file_extension": ".py",
   "mimetype": "text/x-python",
   "name": "python",
   "nbconvert_exporter": "python",
   "pygments_lexer": "ipython3",
   "version": "3.7.6-final"
  }
 },
 "nbformat": 4,
 "nbformat_minor": 4
}