{
 "cells": [
  {
   "cell_type": "code",
   "execution_count": 2,
   "metadata": {},
   "outputs": [
    {
     "output_type": "stream",
     "name": "stdout",
     "text": "Requirement already satisfied: import_ipynb in c:\\users\\yjw\\anaconda3\\lib\\site-packages (0.1.3)\n"
    }
   ],
   "source": [
    "!pip install import_ipynb"
   ]
  },
  {
   "cell_type": "code",
   "execution_count": 87,
   "metadata": {},
   "outputs": [],
   "source": [
    "import import_ipynb\n",
    "import everytime_crawling as ec\n",
    "import pandas as pd"
   ]
  },
  {
   "cell_type": "code",
   "execution_count": 23,
   "metadata": {},
   "outputs": [
    {
     "output_type": "stream",
     "name": "stdout",
     "text": "파일이 작성되었습니다.\n"
    },
    {
     "output_type": "execute_result",
     "data": {
      "text/plain": "{'서울캠 자유게시판': '370454',\n '글로벌캠 자유게시판': '374012',\n '비밀게시판': '375133',\n '졸업생게시판': '386030',\n '새내기게시판': '375138',\n '서울캠 장터게시판': '375137',\n '글로벌캠 장터게시판': '420105',\n '홍보게시판': '375134',\n '동아리·학회': '418772',\n '정보게시판': '375135',\n '취업·진로': '375136',\n '교환학생&칠쁠일': '405248',\n '외대교지': '369693',\n '외대학보': '375035',\n '영자신문사': '404178',\n '동아리연합회': '388263',\n '교육방송국': '456079',\n '🔞': '373437',\n '연애 상담 게시판': '376367',\n '코딩 질문 게시판': '458372',\n '다이어트': '380878',\n '나의 이상형은.': '380298',\n '헬스': '401608',\n '외대맛집 게시판': '375518',\n '끝말잇기 게시판': '421217',\n '음악추천게시판': '377282',\n '반수생 게시판': '390313',\n '욕나무숲': '379257',\n '반려동물 저장소': '376056',\n '성소수자 게시판': '376632',\n '메이플 게시판': '385866',\n '☀️☁️오늘의 날씨⛄☂️': '459710',\n '덕후게시판': '376312',\n '💧우울증 게시판💧': '391851',\n '에타조교': '382452',\n '공무원 질문 게시판': '381748',\n '공인회계사 KICPA 수험생 공부인증게시판': '445241',\n '아이돌 게시판': '376444',\n 'Netflix and chilly pepper': '438047',\n '3 6 9 🤛': '444644',\n '연극 뮤지컬 덕후 모여라❤': '379133',\n '🎶가사 게시판🎶': '397531',\n '글로벌홀 게시판': '426380',\n '한 줄 소설': '414491',\n '⚾️야구 게시판⚾️': '431261',\n '전과/이중전공 게시판': '375372',\n '주식게시판': '445671',\n '💚To The World 여기는 NCT!💚': '444341',\n '♡mbti 이야기방♡': '455602',\n '외국어게시판': '378321',\n '외대 에세머': '378887',\n '글캠 빨버 시간표': '423156',\n 'EXO-L': '378318',\n '아르바이트 / 파트타임 게시판': '388345',\n '민간인 출입 금지': '455384',\n '🎞필름 카메라🎞게시판': '448517',\n 'MY DAY❤️': '455233',\n 'BTS⭐아미': '376633',\n '모현 홀로서기': '402079',\n 'Cats of 교개원😽': '411720',\n '🔹교직이수🔹': '411732',\n '락 좋아하는 대학생 게시판': '424830',\n '뷰티게시판': '388683',\n '종합게임갤러리': '399211',\n '독백': '431178',\n '곰신들의 모임': '378053',\n '트위치 트수들': '395839',\n 'TXT 게시판': '421583',\n '영화 추천 게시판': '425863',\n '고시': '442727',\n '성우 게시판': '459561',\n '대학원생들 모여라🌐🏫': '461298',\n 'IZ*ONE & WIZ*ONE🎵': '442764',\n '융복합소프트웨어': '452330',\n '부부의세계게시판': '460358',\n 'SEVENTEEN 💎CARAT': '377433',\n '서울맛집게시판🍕🍰🍲🥘': '387688',\n '노땅게시판': '390663',\n '외국인 계시판': '455632',\n '🐶동물의 숲 게시판🐱': '456083',\n '두산베어스 게시판🐻': '461469',\n '외대분실물 게시판': '427329',\n '국립외교원•5급 공부 인증 게시판': '457445',\n '짤 게시판': '449607'}"
     },
     "metadata": {},
     "execution_count": 23
    }
   ],
   "source": [
    "board_dic = ec.get_board_names()\n",
    "\n",
    "ec.save_board_names(board_dic)\n",
    "\n",
    "board_dic = ec.load_board_names('게시판명.txt')\n",
    "\n",
    "board_dic"
   ]
  },
  {
   "cell_type": "code",
   "execution_count": 28,
   "metadata": {},
   "outputs": [
    {
     "output_type": "execute_result",
     "data": {
      "text/plain": "   Unnamed: 0                                                 내용  \\\n0           0  안녕하세요 조교님! 혹시 부전공 신청은 막학기에 불가능한가요??ㅜ이번학기가 막학기고...   \n1           1  안녕하세요, 조교님!저는 전역이 5주 정도 남은 군인입니다. 전역 후 계획을 세우다...   \n2           2  방학중 어학연수에 대해 질문이 있어서요!휴학중 학점인정은 재학 기간중 1회에 한해서...   \n3           3  안녕하세요 조교님!제가지금 4학년 1학기 인데4학년은 1학기에 12학점 미만으로 학...   \n4           4  조교님 안녕하세요!재수강을 하려고 하는데재수강과목선택란에 조회결과가 없다고 뜨면다시...   \n5           5              안녕하세요 조교님!!자퇴를 하려고 하는데 어디서 신청하면 되나요??   \n6           6  안녕하세요 조교님!1/4학기 이전에 휴학 신청을 하면 등록금 환불이라고 들었는데 맞...   \n7           7  안녕하세요 조교님!!ㅠㅠ제가 항상 동일과목을 재수강 해서 자동연결이 됐어서이번에도 ...   \n8           8  안녕하세요 조교님!이번에 인성을 위한 lectio(언어와 문학, p/f 과목)을 듣...   \n9           9  안녕하세요 조교님! 제가 이번학기에 수강하는 언어와 문학 과목을 재수강 연결 하려고...   \n\n                                                  댓글  \\\n0                                                NaN   \n1                                                NaN   \n2                                                NaN   \n3                                                NaN   \n4                                                NaN   \n5  ['종합정보시스템 > 학적변동신청 > 자퇴신청을 한 다음, 자퇴원서를 작성을 해서 ...   \n6  ['1. 등록금 환불은 자퇴 시에만 가능합니다 휴학을 하면 등록휴학으로 처리됩니다 ...   \n7  ['음 지금 이게 전공인지 교양인지 또 (1),(2)로 나뉘어진 연강수업인지 아니면...   \n8  ['미네르바는 교양필수과목이기 때문에 타교양으로 재수강 연결을 할 수 없습니다 (동...   \n9  ['대학외국어는 교양필수과목이기 때문에 타교양으로 재수강 연결을 할 수 없습니다 (...   \n\n                                     댓글쓴이  \\\n0                                     NaN   \n1                                      []   \n2                                      []   \n3                                      []   \n4                                      []   \n5                                ['에타조교']   \n6  ['에타조교', '익명(글쓴이)', '에타조교', '익명(글쓴이)']   \n7  ['에타조교', '익명(글쓴이)', '에타조교', '익명(글쓴이)']   \n8                                ['에타조교']   \n9                                ['에타조교']   \n\n                                   대댓글여부         id  \n0                                    NaN  112883775  \n1                                    NaN  112880808  \n2                                    NaN  112864005  \n3                                    NaN  112848838  \n4                                    NaN  112813045  \n5                             ['parent']  112748915  \n6  ['parent', 'child', 'child', 'child']  112663087  \n7  ['parent', 'child', 'child', 'child']  112627947  \n8                             ['parent']  112619096  \n9                             ['parent']  112563109  ",
      "text/html": "<div>\n<style scoped>\n    .dataframe tbody tr th:only-of-type {\n        vertical-align: middle;\n    }\n\n    .dataframe tbody tr th {\n        vertical-align: top;\n    }\n\n    .dataframe thead th {\n        text-align: right;\n    }\n</style>\n<table border=\"1\" class=\"dataframe\">\n  <thead>\n    <tr style=\"text-align: right;\">\n      <th></th>\n      <th>Unnamed: 0</th>\n      <th>내용</th>\n      <th>댓글</th>\n      <th>댓글쓴이</th>\n      <th>대댓글여부</th>\n      <th>id</th>\n    </tr>\n  </thead>\n  <tbody>\n    <tr>\n      <th>0</th>\n      <td>0</td>\n      <td>안녕하세요 조교님! 혹시 부전공 신청은 막학기에 불가능한가요??ㅜ이번학기가 막학기고...</td>\n      <td>NaN</td>\n      <td>NaN</td>\n      <td>NaN</td>\n      <td>112883775</td>\n    </tr>\n    <tr>\n      <th>1</th>\n      <td>1</td>\n      <td>안녕하세요, 조교님!저는 전역이 5주 정도 남은 군인입니다. 전역 후 계획을 세우다...</td>\n      <td>NaN</td>\n      <td>[]</td>\n      <td>NaN</td>\n      <td>112880808</td>\n    </tr>\n    <tr>\n      <th>2</th>\n      <td>2</td>\n      <td>방학중 어학연수에 대해 질문이 있어서요!휴학중 학점인정은 재학 기간중 1회에 한해서...</td>\n      <td>NaN</td>\n      <td>[]</td>\n      <td>NaN</td>\n      <td>112864005</td>\n    </tr>\n    <tr>\n      <th>3</th>\n      <td>3</td>\n      <td>안녕하세요 조교님!제가지금 4학년 1학기 인데4학년은 1학기에 12학점 미만으로 학...</td>\n      <td>NaN</td>\n      <td>[]</td>\n      <td>NaN</td>\n      <td>112848838</td>\n    </tr>\n    <tr>\n      <th>4</th>\n      <td>4</td>\n      <td>조교님 안녕하세요!재수강을 하려고 하는데재수강과목선택란에 조회결과가 없다고 뜨면다시...</td>\n      <td>NaN</td>\n      <td>[]</td>\n      <td>NaN</td>\n      <td>112813045</td>\n    </tr>\n    <tr>\n      <th>5</th>\n      <td>5</td>\n      <td>안녕하세요 조교님!!자퇴를 하려고 하는데 어디서 신청하면 되나요??</td>\n      <td>['종합정보시스템 &gt; 학적변동신청 &gt; 자퇴신청을 한 다음, 자퇴원서를 작성을 해서 ...</td>\n      <td>['에타조교']</td>\n      <td>['parent']</td>\n      <td>112748915</td>\n    </tr>\n    <tr>\n      <th>6</th>\n      <td>6</td>\n      <td>안녕하세요 조교님!1/4학기 이전에 휴학 신청을 하면 등록금 환불이라고 들었는데 맞...</td>\n      <td>['1. 등록금 환불은 자퇴 시에만 가능합니다 휴학을 하면 등록휴학으로 처리됩니다 ...</td>\n      <td>['에타조교', '익명(글쓴이)', '에타조교', '익명(글쓴이)']</td>\n      <td>['parent', 'child', 'child', 'child']</td>\n      <td>112663087</td>\n    </tr>\n    <tr>\n      <th>7</th>\n      <td>7</td>\n      <td>안녕하세요 조교님!!ㅠㅠ제가 항상 동일과목을 재수강 해서 자동연결이 됐어서이번에도 ...</td>\n      <td>['음 지금 이게 전공인지 교양인지 또 (1),(2)로 나뉘어진 연강수업인지 아니면...</td>\n      <td>['에타조교', '익명(글쓴이)', '에타조교', '익명(글쓴이)']</td>\n      <td>['parent', 'child', 'child', 'child']</td>\n      <td>112627947</td>\n    </tr>\n    <tr>\n      <th>8</th>\n      <td>8</td>\n      <td>안녕하세요 조교님!이번에 인성을 위한 lectio(언어와 문학, p/f 과목)을 듣...</td>\n      <td>['미네르바는 교양필수과목이기 때문에 타교양으로 재수강 연결을 할 수 없습니다 (동...</td>\n      <td>['에타조교']</td>\n      <td>['parent']</td>\n      <td>112619096</td>\n    </tr>\n    <tr>\n      <th>9</th>\n      <td>9</td>\n      <td>안녕하세요 조교님! 제가 이번학기에 수강하는 언어와 문학 과목을 재수강 연결 하려고...</td>\n      <td>['대학외국어는 교양필수과목이기 때문에 타교양으로 재수강 연결을 할 수 없습니다 (...</td>\n      <td>['에타조교']</td>\n      <td>['parent']</td>\n      <td>112563109</td>\n    </tr>\n  </tbody>\n</table>\n</div>"
     },
     "metadata": {},
     "execution_count": 28
    }
   ],
   "source": [
    "eta_df = pd.read_csv(\"../자료/질문2.csv\",  encoding = 'ANSI')\n",
    "eta_df.head(10)"
   ]
  },
  {
   "cell_type": "code",
   "execution_count": 60,
   "metadata": {},
   "outputs": [
    {
     "output_type": "execute_result",
     "data": {
      "text/plain": "[112883775,\n 112880808,\n 112864005,\n 112848838,\n 112813045,\n 112748915,\n 112663087,\n 112627947,\n 112619096,\n 112563109]"
     },
     "metadata": {},
     "execution_count": 60
    }
   ],
   "source": [
    "ids = eta_df['id'].to_list()\n",
    "ids[:10]"
   ]
  },
  {
   "cell_type": "code",
   "execution_count": 57,
   "metadata": {},
   "outputs": [
    {
     "output_type": "stream",
     "name": "stdout",
     "text": "서울캠 자유게시판\n글로벌캠 자유게시판\n비밀게시판\n졸업생게시판\n새내기게시판\n서울캠 장터게시판\n글로벌캠 장터게시판\n홍보게시판\n동아리·학회\n정보게시판\n취업·진로\n교환학생&칠쁠일\n외대교지\n외대학보\n영자신문사\n동아리연합회\n교육방송국\n🔞\n연애 상담 게시판\n코딩 질문 게시판\n다이어트\n나의 이상형은.\n헬스\n외대맛집 게시판\n끝말잇기 게시판\n음악추천게시판\n반수생 게시판\n욕나무숲\n반려동물 저장소\n성소수자 게시판\n메이플 게시판\n☀️☁️오늘의 날씨⛄☂️\n덕후게시판\n💧우울증 게시판💧\n에타조교\n공무원 질문 게시판\n공인회계사 KICPA 수험생 공부인증게시판\n아이돌 게시판\nNetflix and chilly pepper\n3 6 9 🤛\n연극 뮤지컬 덕후 모여라❤\n🎶가사 게시판🎶\n글로벌홀 게시판\n한 줄 소설\n⚾️야구 게시판⚾️\n전과/이중전공 게시판\n주식게시판\n💚To The World 여기는 NCT!💚\n♡mbti 이야기방♡\n외국어게시판\n외대 에세머\n글캠 빨버 시간표\nEXO-L\n아르바이트 / 파트타임 게시판\n민간인 출입 금지\n🎞필름 카메라🎞게시판\nMY DAY❤️\nBTS⭐아미\n모현 홀로서기\nCats of 교개원😽\n🔹교직이수🔹\n락 좋아하는 대학생 게시판\n뷰티게시판\n종합게임갤러리\n독백\n곰신들의 모임\n트위치 트수들\nTXT 게시판\n영화 추천 게시판\n고시\n성우 게시판\n대학원생들 모여라🌐🏫\nIZ*ONE & WIZ*ONE🎵\n융복합소프트웨어\n부부의세계게시판\nSEVENTEEN 💎CARAT\n서울맛집게시판🍕🍰🍲🥘\n노땅게시판\n외국인 계시판\n🐶동물의 숲 게시판🐱\n두산베어스 게시판🐻\n외대분실물 게시판\n국립외교원•5급 공부 인증 게시판\n짤 게시판\n"
    },
    {
     "output_type": "error",
     "ename": "TypeError",
     "evalue": "__init__() got an unexpected keyword argument 'current_ids'",
     "traceback": [
      "\u001b[1;31m---------------------------------------------------------------------------\u001b[0m",
      "\u001b[1;31mTypeError\u001b[0m                                 Traceback (most recent call last)",
      "\u001b[1;32m<ipython-input-57-facbd6d61dd2>\u001b[0m in \u001b[0;36m<module>\u001b[1;34m\u001b[0m\n\u001b[0;32m     10\u001b[0m \u001b[0mdriver\u001b[0m \u001b[1;33m=\u001b[0m \u001b[0mec\u001b[0m\u001b[1;33m.\u001b[0m\u001b[0mlogin\u001b[0m\u001b[1;33m(\u001b[0m\u001b[1;33m)\u001b[0m\u001b[1;33m\u001b[0m\u001b[1;33m\u001b[0m\u001b[0m\n\u001b[0;32m     11\u001b[0m \u001b[1;33m\u001b[0m\u001b[0m\n\u001b[1;32m---> 12\u001b[1;33m \u001b[0mcns_data\u001b[0m \u001b[1;33m=\u001b[0m \u001b[0mec\u001b[0m\u001b[1;33m.\u001b[0m\u001b[0mcounsel_data\u001b[0m\u001b[1;33m(\u001b[0m\u001b[0mdriver\u001b[0m\u001b[1;33m,\u001b[0m \u001b[0mupdate_mode\u001b[0m\u001b[1;33m=\u001b[0m\u001b[1;32mTrue\u001b[0m\u001b[1;33m,\u001b[0m \u001b[0mcurrent_ids\u001b[0m \u001b[1;33m=\u001b[0m\u001b[0mids\u001b[0m\u001b[1;33m)\u001b[0m\u001b[1;33m\u001b[0m\u001b[1;33m\u001b[0m\u001b[0m\n\u001b[0m",
      "\u001b[1;31mTypeError\u001b[0m: __init__() got an unexpected keyword argument 'current_ids'"
     ]
    }
   ],
   "source": [
    "board_dic = ec.load_board_names('게시판명.txt')\n",
    "\n",
    "for b in board_dic: \n",
    "    print(b)\n",
    "\n",
    "board_name = input('크롤링하고 싶은 게시판명을 골라주세요: ') \n",
    "\n",
    "ec.board_selection(board_dic, board_name)\n"
   ]
  },
  {
   "cell_type": "code",
   "execution_count": 91,
   "metadata": {},
   "outputs": [],
   "source": [
    "driver = ec.login() "
   ]
  },
  {
   "cell_type": "code",
   "execution_count": 92,
   "metadata": {},
   "outputs": [],
   "source": [
    "cns_data = ec.counsel_data(driver,  update_mode= True)\n",
    "cns_data.current_ids = ids"
   ]
  },
  {
   "cell_type": "code",
   "execution_count": 98,
   "metadata": {},
   "outputs": [
    {
     "output_type": "error",
     "ename": "TypeError",
     "evalue": "start_update() missing 1 required positional argument: 'currnet_ids'",
     "traceback": [
      "\u001b[1;31m---------------------------------------------------------------------------\u001b[0m",
      "\u001b[1;31mTypeError\u001b[0m                                 Traceback (most recent call last)",
      "\u001b[1;32m<ipython-input-98-0ac5c92a8639>\u001b[0m in \u001b[0;36m<module>\u001b[1;34m\u001b[0m\n\u001b[1;32m----> 1\u001b[1;33m \u001b[0mcns_data\u001b[0m\u001b[1;33m.\u001b[0m\u001b[0mstart_update\u001b[0m\u001b[1;33m(\u001b[0m\u001b[1;33m)\u001b[0m\u001b[1;33m\u001b[0m\u001b[1;33m\u001b[0m\u001b[0m\n\u001b[0m",
      "\u001b[1;31mTypeError\u001b[0m: start_update() missing 1 required positional argument: 'currnet_ids'"
     ]
    }
   ],
   "source": [
    "\n",
    "cns_data.start_update()"
   ]
  },
  {
   "cell_type": "code",
   "execution_count": null,
   "metadata": {},
   "outputs": [],
   "source": []
  }
 ],
 "metadata": {
  "language_info": {
   "codemirror_mode": {
    "name": "ipython",
    "version": 3
   },
   "file_extension": ".py",
   "mimetype": "text/x-python",
   "name": "python",
   "nbconvert_exporter": "python",
   "pygments_lexer": "ipython3",
   "version": "3.7.6-final"
  },
  "orig_nbformat": 2,
  "kernelspec": {
   "name": "python3",
   "display_name": "Python 3"
  }
 },
 "nbformat": 4,
 "nbformat_minor": 2
}