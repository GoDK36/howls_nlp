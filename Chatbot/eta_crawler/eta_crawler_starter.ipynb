{
 "cells": [
  {
   "cell_type": "code",
   "execution_count": null,
   "metadata": {},
   "outputs": [],
   "source": [
    "#!pip install import_ipynb"
   ]
  },
  {
   "cell_type": "code",
   "execution_count": null,
   "metadata": {},
   "outputs": [],
   "source": [
    "import import_ipynb\n",
    "import everytime_crawling as ec\n",
    "import pandas as pd"
   ]
  },
  {
   "cell_type": "code",
   "execution_count": null,
   "metadata": {},
   "outputs": [],
   "source": [
    "#게시판 업데이트\n",
    "\"\"\"board_dic = ec.get_board_names()\n",
    "\n",
    "ec.save_board_names(board_dic)\n",
    "\n",
    "board_dic = ec.load_board_names('게시판명.txt')\n",
    "\n",
    "board_dic\"\"\""
   ]
  },
  {
   "cell_type": "code",
   "execution_count": null,
   "metadata": {},
   "outputs": [],
   "source": [
    "eta_df = pd.read_csv(\"../자료/질문2.csv\",  encoding = 'ANSI')\n",
    "# eta_df.head(10)"
   ]
  },
  {
   "cell_type": "code",
   "execution_count": null,
   "metadata": {},
   "outputs": [],
   "source": [
    "ids = eta_df['id'].to_list()\n",
    "# ids[:10]"
   ]
  },
  {
   "cell_type": "code",
   "execution_count": null,
   "metadata": {},
   "outputs": [],
   "source": [
    "#크롤링할 게시판 이름 고르기\n",
    "board_dic = ec.load_board_names('게시판명.txt')\n",
    "\n",
    "for b in board_dic: \n",
    "    print(b)\n"
   ]
  },
  {
   "cell_type": "code",
   "execution_count": null,
   "metadata": {},
   "outputs": [],
   "source": [
    "board_name = input('크롤링하고 싶은 게시판명을 골라주세요: ') \n",
    "\n",
    "ec.board_selection(board_dic, board_name)\n"
   ]
  },
  {
   "cell_type": "code",
   "execution_count": null,
   "metadata": {},
   "outputs": [],
   "source": [
    "driver = ec.login() "
   ]
  },
  {
   "cell_type": "code",
   "execution_count": null,
   "metadata": {},
   "outputs": [],
   "source": [
    "cns_data = ec.counsel_data(driver,  update_mode= True, cids = ids)\n",
    "# cns_data.current_ids = ids"
   ]
  },
  {
   "cell_type": "code",
   "execution_count": null,
   "metadata": {},
   "outputs": [],
   "source": [
    "cns_data.start_update()\n",
    "driver.close()"
   ]
  },
  {
   "cell_type": "code",
   "execution_count": null,
   "metadata": {
    "tags": [
     "outputPrepend"
    ]
   },
   "outputs": [],
   "source": [
    "n, ids = ec.crawl_devision(cns_data)\n",
    "print(\"새로 올라온 글 수: \",len(ids)) #새로 올라온 글 수\n",
    "articles, comments, comments_writers, comments_tag, ids_result = ec.crawl_ntimes(n, ids)"
   ]
  },
  {
   "cell_type": "code",
   "execution_count": null,
   "metadata": {},
   "outputs": [],
   "source": [
    "from pandas import Series, DataFrame\n",
    "import time\n",
    "raw_data = {'내용': articles, '댓글': comments, '댓글쓴이':comments_writers, '대댓글여부':comments_tag, 'id':ids_result,}\n",
    "\n",
    "eta_updated = DataFrame(raw_data) \n",
    "dt = time.strftime('%Y%m%d') \n",
    "file_name = \"에타조교_업데이트{}.csv\".format(dt)\n",
    "\n",
    "#csv로 저장\n",
    "# eta_updated.to_csv(file_name, mode='w',index =False, encoding='utf-8')"
   ]
  }
 ],
 "metadata": {
  "language_info": {
   "codemirror_mode": {
    "name": "ipython",
    "version": 3
   },
   "file_extension": ".py",
   "mimetype": "text/x-python",
   "name": "python",
   "nbconvert_exporter": "python",
   "pygments_lexer": "ipython3",
   "version": "3.7.6-final"
  },
  "orig_nbformat": 2,
  "kernelspec": {
   "name": "python3",
   "display_name": "Python 3"
  }
 },
 "nbformat": 4,
 "nbformat_minor": 2
}