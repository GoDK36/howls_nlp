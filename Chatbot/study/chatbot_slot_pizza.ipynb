{
 "cells": [
  {
   "cell_type": "markdown",
   "metadata": {},
   "source": [
    "# 챗봇 만들기\n",
    "\n",
    "### https://jfun.tistory.com/199?category=851249\n",
    "### https://www.slideshare.net/KimSungdong1/20170227-72644192"
   ]
  },
  {
   "cell_type": "code",
   "execution_count": 1,
   "metadata": {},
   "outputs": [],
   "source": [
    "input_data = '판교에 지금 주문해줘'\n",
    "output_data = ''\n",
    "\n",
    "request = {\n",
    "    \"intent_id\":\"\",\n",
    "    \"input_data\":input_data,\n",
    "    \"request_type\":\"text\",\n",
    "    \"story_slot_entity\":{},\n",
    "    \"output_data\":output_data\n",
    "}"
   ]
  },
  {
   "cell_type": "markdown",
   "metadata": {},
   "source": [
    "## 기본 데이터 셋(DB))"
   ]
  },
  {
   "cell_type": "code",
   "execution_count": 2,
   "metadata": {},
   "outputs": [],
   "source": [
    "intent_list = {\n",
    "    \"주문\":[\"주문\", \"배달\"],\n",
    "    \"예약\":[\"예약\", \"잡아줘\"],\n",
    "    \"정보\":[\"정보\",\"알려\"]\n",
    "}\n",
    "\n",
    "story_slot_entity = {\"주문\":{\"메뉴\":None, \"장소\":None, \"날짜\":None},\n",
    "\"예약\":{\"장소\": None, \"날짜\":None},\n",
    "\"정보\":{\"대상\":None}\n",
    "}"
   ]
  },
  {
   "cell_type": "markdown",
   "metadata": {},
   "source": [
    "## 형태소 분석"
   ]
  },
  {
   "cell_type": "code",
   "execution_count": 3,
   "metadata": {},
   "outputs": [
    {
     "output_type": "stream",
     "name": "stdout",
     "text": "[('판교', 'NNG'), ('에', 'JKB'), ('지금', 'MAG'), ('주문', 'NNG'), ('해', 'XSV+EC'), ('줘', 'VX+EC')]\n"
    }
   ],
   "source": [
    "from eunjeon import Mecab\n",
    "mecab = Mecab()\n",
    "preprocessed = mecab.pos(request.get('input_data'))\n",
    "\n",
    "print(preprocessed)"
   ]
  },
  {
   "cell_type": "markdown",
   "metadata": {},
   "source": [
    "## Intent 도출(Ruled Based)"
   ]
  },
  {
   "cell_type": "code",
   "execution_count": 4,
   "metadata": {},
   "outputs": [],
   "source": [
    "# Char CNN을 사용해서 연결하면 좀 더 쉽게 만들 수 있다\n",
    "intent_id = \"주문\"\n",
    "slot_value = story_slot_entity.get(\"주문\")"
   ]
  },
  {
   "cell_type": "markdown",
   "metadata": {},
   "source": [
    "## NER 도출(Ruled based)"
   ]
  },
  {
   "cell_type": "code",
   "execution_count": 5,
   "metadata": {},
   "outputs": [],
   "source": [
    "# LSTM 기법을 사용해서 연결하면 좀 더 쉬울 수 있다\n",
    "menu_list = [\"피자\", \"햄버거\", \"치킨\"]\n",
    "loc_list = [\"판교\", \"야탑\", \"서현\"]\n",
    "date_list = [\"지금\", '내일', '모레']"
   ]
  },
  {
   "cell_type": "markdown",
   "metadata": {},
   "source": [
    "## Dictionary 기반 slot 구성"
   ]
  },
  {
   "cell_type": "code",
   "execution_count": 6,
   "metadata": {},
   "outputs": [
    {
     "output_type": "stream",
     "name": "stdout",
     "text": "{'메뉴': None, '장소': '판교', '날짜': '지금'}\n"
    }
   ],
   "source": [
    "for pos_tag in preprocessed:\n",
    "    if pos_tag[1] in ['NNG', 'NNP', 'SL', 'MAG']:\n",
    "        if pos_tag[0] in menu_list:\n",
    "            slot_value['메뉴'] = pos_tag[0]\n",
    "        elif pos_tag[0] in loc_list:\n",
    "            slot_value['장소'] = pos_tag[0]\n",
    "        elif pos_tag[0] in date_list:\n",
    "            slot_value['날짜'] = pos_tag[0]\n",
    "\n",
    "\n",
    "print(story_slot_entity.get('주문'))"
   ]
  },
  {
   "cell_type": "markdown",
   "metadata": {},
   "source": [
    "## 빈 slot 검색"
   ]
  },
  {
   "cell_type": "code",
   "execution_count": 7,
   "metadata": {},
   "outputs": [
    {
     "output_type": "stream",
     "name": "stdout",
     "text": "메뉴선택해주세요\n"
    }
   ],
   "source": [
    "if None in slot_value.values():\n",
    "    key_values=\"\"\n",
    "    for key in slot_value.keys():\n",
    "        if slot_value[key] is None:\n",
    "            key_values = key_values + key + \"\"\n",
    "    output_data = key_values + \"선택해주세요\"\n",
    "else:\n",
    "    output_data=\"주문이 완료 되었습니다.\"\n",
    "\n",
    "print(output_data)"
   ]
  },
  {
   "cell_type": "code",
   "execution_count": 8,
   "metadata": {},
   "outputs": [
    {
     "output_type": "stream",
     "name": "stdout",
     "text": "메뉴선택해주세요\n"
    }
   ],
   "source": [
    "response = {\n",
    "    \"intent_id\":\"\",\n",
    "    \"input_data\":input_data,\n",
    "    \"request_type\":\"text\",\n",
    "    \"story_slot_entity\":{},\n",
    "    \"output_data\":\"\"\n",
    "}\n",
    "\n",
    "response[\"output_data\"]=output_data\n",
    "\n",
    "print(response[\"output_data\"])"
   ]
  },
  {
   "cell_type": "markdown",
   "metadata": {},
   "source": [
    "# Word Representation"
   ]
  },
  {
   "cell_type": "code",
   "execution_count": 9,
   "metadata": {},
   "outputs": [
    {
     "output_type": "stream",
     "name": "stdout",
     "text": "['안녕', '만나', '서', '반가워', '넌', '누구', '니', '나', '는', 'AI', '봇', '이', '란다', '.', '피자', '주문', '할께', '음료', '도', '주문', '해', '줘', '음료', '는', '뭘로', '콜라', '로', '해', '줘']\n"
    }
   ],
   "source": [
    "ona_data = [\n",
    "    ['안녕', '만나서 반가워'],\n",
    "    ['넌 누구니','나는 AI봇이란다.'],\n",
    "    ['피자 주문할께', '음료도 주문해줘'],\n",
    "    ['음료는 뭘로', '콜라로 해줘']\n",
    "]\n",
    "\n",
    "train_gata = list(map(lambda x: mecab.morphs(''.join(x)), ona_data))\n",
    "\n",
    "import itertools\n",
    "\n",
    "train_data = list(itertools.chain.from_iterable(train_gata))\n",
    "\n",
    "print(list(train_data))"
   ]
  },
  {
   "cell_type": "code",
   "execution_count": 10,
   "metadata": {},
   "outputs": [
    {
     "output_type": "stream",
     "name": "stdout",
     "text": "[0. 0. 0. 0. 0. 0. 0. 0. 0. 0. 0. 0. 0. 0. 0. 0. 0. 0. 0. 0. 0. 0. 0. 0.\n 0. 0. 0. 0. 0.]\n[1. 0. 0. 0. 0. 0. 0. 0. 0. 0. 0. 0. 0. 0. 0. 0. 0. 0. 0. 0. 0. 0. 0. 0.\n 0. 0. 0. 0. 0. 0.]\n[0. 1. 0. 0. 0. 0. 0. 0. 0. 0. 0. 0. 0. 0. 0. 0. 0. 0. 0. 0. 0. 0. 0. 0.\n 0. 0. 0. 0. 0. 0.]\n[0. 0. 1. 0. 0. 0. 0. 0. 0. 0. 0. 0. 0. 0. 0. 0. 0. 0. 0. 0. 0. 0. 0. 0.\n 0. 0. 0. 0. 0. 0.]\n[0. 0. 0. 1. 0. 0. 0. 0. 0. 0. 0. 0. 0. 0. 0. 0. 0. 0. 0. 0. 0. 0. 0. 0.\n 0. 0. 0. 0. 0. 0.]\n[0. 0. 0. 0. 1. 0. 0. 0. 0. 0. 0. 0. 0. 0. 0. 0. 0. 0. 0. 0. 0. 0. 0. 0.\n 0. 0. 0. 0. 0. 0.]\n[0. 0. 0. 0. 0. 1. 0. 0. 0. 0. 0. 0. 0. 0. 0. 0. 0. 0. 0. 0. 0. 0. 0. 0.\n 0. 0. 0. 0. 0. 0.]\n[0. 0. 0. 0. 0. 0. 1. 0. 0. 0. 0. 0. 0. 0. 0. 0. 0. 0. 0. 0. 0. 0. 0. 0.\n 0. 0. 0. 0. 0. 0.]\n[0. 0. 0. 0. 0. 0. 0. 1. 0. 0. 0. 0. 0. 0. 0. 0. 0. 0. 0. 0. 0. 0. 0. 0.\n 0. 0. 0. 0. 0. 0.]\n[0. 0. 0. 0. 0. 0. 0. 0. 1. 0. 0. 0. 0. 0. 0. 0. 0. 0. 0. 0. 0. 0. 0. 0.\n 0. 0. 0. 0. 0. 0.]\n[0. 0. 0. 0. 0. 0. 0. 0. 0. 1. 0. 0. 0. 0. 0. 0. 0. 0. 0. 0. 0. 0. 0. 0.\n 0. 0. 0. 0. 0. 0.]\n[0. 0. 0. 0. 0. 0. 0. 0. 0. 0. 1. 0. 0. 0. 0. 0. 0. 0. 0. 0. 0. 0. 0. 0.\n 0. 0. 0. 0. 0. 0.]\n[0. 0. 0. 0. 0. 0. 0. 0. 0. 0. 0. 1. 0. 0. 0. 0. 0. 0. 0. 0. 0. 0. 0. 0.\n 0. 0. 0. 0. 0. 0.]\n[0. 0. 0. 0. 0. 0. 0. 0. 0. 0. 0. 0. 1. 0. 0. 0. 0. 0. 0. 0. 0. 0. 0. 0.\n 0. 0. 0. 0. 0. 0.]\n[0. 0. 0. 0. 0. 0. 0. 0. 0. 0. 0. 0. 0. 1. 0. 0. 0. 0. 0. 0. 0. 0. 0. 0.\n 0. 0. 0. 0. 0. 0.]\n[0. 0. 0. 0. 0. 0. 0. 0. 0. 0. 0. 0. 0. 0. 1. 0. 0. 0. 0. 0. 0. 0. 0. 0.\n 0. 0. 0. 0. 0. 0.]\n[0. 0. 0. 0. 0. 0. 0. 0. 0. 0. 0. 0. 0. 0. 0. 1. 0. 0. 0. 0. 0. 0. 0. 0.\n 0. 0. 0. 0. 0. 0.]\n[0. 0. 0. 0. 0. 0. 0. 0. 0. 0. 0. 0. 0. 0. 0. 0. 1. 0. 0. 0. 0. 0. 0. 0.\n 0. 0. 0. 0. 0. 0.]\n[0. 0. 0. 0. 0. 0. 0. 0. 0. 0. 0. 0. 0. 0. 0. 0. 0. 1. 0. 0. 0. 0. 0. 0.\n 0. 0. 0. 0. 0. 0.]\n[0. 0. 0. 0. 0. 0. 0. 0. 0. 0. 0. 0. 0. 0. 0. 0. 0. 0. 1. 0. 0. 0. 0. 0.\n 0. 0. 0. 0. 0. 0.]\n[0. 0. 0. 0. 0. 0. 0. 0. 0. 0. 0. 0. 0. 0. 0. 1. 0. 0. 0. 0. 0. 0. 0. 0.\n 0. 0. 0. 0. 0. 0.]\n[0. 0. 0. 0. 0. 0. 0. 0. 0. 0. 0. 0. 0. 0. 0. 0. 0. 0. 0. 0. 1. 0. 0. 0.\n 0. 0. 0. 0. 0. 0.]\n[0. 0. 0. 0. 0. 0. 0. 0. 0. 0. 0. 0. 0. 0. 0. 0. 0. 0. 0. 0. 0. 1. 0. 0.\n 0. 0. 0. 0. 0. 0.]\n[0. 0. 0. 0. 0. 0. 0. 0. 0. 0. 0. 0. 0. 0. 0. 0. 0. 1. 0. 0. 0. 0. 0. 0.\n 0. 0. 0. 0. 0. 0.]\n[0. 0. 0. 0. 0. 0. 0. 0. 1. 0. 0. 0. 0. 0. 0. 0. 0. 0. 0. 0. 0. 0. 0. 0.\n 0. 0. 0. 0. 0. 0.]\n[0. 0. 0. 0. 0. 0. 0. 0. 0. 0. 0. 0. 0. 0. 0. 0. 0. 0. 0. 0. 0. 0. 0. 0.\n 1. 0. 0. 0. 0. 0.]\n[0. 0. 0. 0. 0. 0. 0. 0. 0. 0. 0. 0. 0. 0. 0. 0. 0. 0. 0. 0. 0. 0. 0. 0.\n 0. 1. 0. 0. 0. 0.]\n[0. 0. 0. 0. 0. 0. 0. 0. 0. 0. 0. 0. 0. 0. 0. 0. 0. 0. 0. 0. 0. 0. 0. 0.\n 0. 0. 1. 0. 0. 0.]\n[0. 0. 0. 0. 0. 0. 0. 0. 0. 0. 0. 0. 0. 0. 0. 0. 0. 0. 0. 0. 1. 0. 0. 0.\n 0. 0. 0. 0. 0. 0.]\n[0. 0. 0. 0. 0. 0. 0. 0. 0. 0. 0. 0. 0. 0. 0. 0. 0. 0. 0. 0. 0. 1. 0. 0.\n 0. 0. 0. 0. 0. 0.]\n"
    }
   ],
   "source": [
    "import numpy as np\n",
    "\n",
    "bucket = np.zeros(len(train_data), dtype=np.float)\n",
    "print(bucket)\n",
    "\n",
    "for word in train_data:\n",
    "    bucket_temp = bucket.copy()\n",
    "    bucket_temp = np.insert(bucket_temp, train_data.index(word), 1)\n",
    "    print(bucket_temp)"
   ]
  },
  {
   "cell_type": "markdown",
   "metadata": {},
   "source": [
    "# Word2Vec"
   ]
  },
  {
   "cell_type": "code",
   "execution_count": 11,
   "metadata": {},
   "outputs": [
    {
     "output_type": "stream",
     "name": "stdout",
     "text": "[['안녕', '만나', '서', '반가워', '넌', '누구', '니', '나', '는', 'AI', '봇', '이', '란다', '.', '피자', '주문', '할께', '음료', '도', '주문', '해', '줘', '음료', '는', '뭘로', '콜라', '로', '해', '줘']]\nmodel check:Word2Vec(vocab=24, size=50, alpha=0.025)\n"
    }
   ],
   "source": [
    "from gensim.models import word2vec\n",
    "\n",
    "train_data = [train_data]\n",
    "print(train_data)\n",
    "\n",
    "model = word2vec.Word2Vec(size=50, window=2, min_count=1)\n",
    "model.build_vocab(train_data)\n",
    "model.train(train_data, epochs=model.iter,total_examples=model.corpus_count)\n",
    "print(\"model check:{0}\".format(model))"
   ]
  },
  {
   "cell_type": "code",
   "execution_count": 12,
   "metadata": {},
   "outputs": [
    {
     "output_type": "stream",
     "name": "stdout",
     "text": "model load check : Word2Vec(vocab=24, size=50, alpha=0.025)\n"
    }
   ],
   "source": [
    "import os\n",
    "model.save(r\"E:\\Programming\\python\\NLP\\howls_nlp\\Chatbot\\자료\\models\\w2v.bin\")\n",
    "model = word2vec.Word2Vec.load(r\"E:\\Programming\\python\\NLP\\howls_nlp\\Chatbot\\자료\\models\\w2v.bin\")\n",
    "print(\"model load check : {0}\".format(model))"
   ]
  },
  {
   "cell_type": "code",
   "execution_count": 36,
   "metadata": {},
   "outputs": [
    {
     "output_type": "stream",
     "name": "stdout",
     "text": "['는', '주문', '음료', '해', '줘', '안녕', '만나', '서', '반가워', '넌', '누구', '니', '나', 'AI', '봇', '이', '란다', '.', '피자', '할께', '도', '뭘로', '콜라', '로']\n"
    }
   ],
   "source": [
    "vocab = model.wv.index2word\n",
    "X = model[vocab]\n",
    "print(model.wv.index2word)"
   ]
  },
  {
   "cell_type": "code",
   "execution_count": 16,
   "metadata": {},
   "outputs": [
    {
     "output_type": "stream",
     "name": "stdout",
     "text": "[-0.00065337  0.0032915   0.00731512  0.00152106 -0.00338048  0.00936381\n -0.00614295 -0.00866278 -0.00021987 -0.00751348  0.00510069  0.00116923\n -0.00014547 -0.0098279   0.00959107 -0.00077539 -0.0014325  -0.0023903\n  0.00740389  0.00168241 -0.00510244 -0.00279708  0.00348713 -0.00803259\n  0.0022518   0.00440094 -0.00268104  0.0057333   0.00925341  0.0017627\n -0.00808826 -0.00167314  0.00473477 -0.00135725  0.00450835  0.00921548\n  0.00624827  0.00752992  0.00472613  0.00384259 -0.00558561 -0.0069657\n -0.000337   -0.00970172 -0.0063238  -0.0005453  -0.00216016  0.002204\n  0.00079088  0.00842363]\n"
    }
   ],
   "source": [
    "print(model[\"안녕\"])"
   ]
  },
  {
   "cell_type": "code",
   "execution_count": 17,
   "metadata": {},
   "outputs": [
    {
     "output_type": "stream",
     "name": "stdout",
     "text": "[-6.7051100e-03  3.4749100e-03 -7.8624524e-03 -7.3517743e-03\n  7.9879966e-03  9.5368363e-03 -8.8668456e-03 -1.0110758e-03\n -3.7656953e-03  9.7560426e-03 -4.3843186e-04  5.5289286e-04\n  8.2662608e-03 -3.3839822e-03 -2.3097850e-03 -7.9606008e-03\n  6.0138297e-03 -9.1348197e-03 -4.1340603e-03 -8.3030937e-03\n -4.8751747e-03  1.7692229e-03  2.5843855e-03 -1.8755256e-03\n -3.1916308e-03 -9.9509833e-03 -7.3737996e-03  4.5817853e-03\n -5.5686268e-03 -2.5631003e-03 -9.8419013e-03  7.6122470e-03\n  3.2655559e-03  7.4797249e-03 -8.9968601e-03 -7.8320391e-03\n -1.9465693e-03 -2.8874541e-03  2.4098589e-03 -1.3217749e-03\n -2.1139465e-03 -3.3691113e-03  3.2208602e-05  1.5149413e-03\n -7.9452163e-03 -2.3124276e-03 -8.1009017e-03  9.1278274e-03\n -1.5967340e-03  2.5295245e-04]\n"
    }
   ],
   "source": [
    "print(model[\"AI\"])"
   ]
  },
  {
   "cell_type": "code",
   "execution_count": 18,
   "metadata": {},
   "outputs": [
    {
     "output_type": "stream",
     "name": "stdout",
     "text": "[('서', 0.29675987362861633), ('도', 0.2572103440761566), ('주문', 0.1627185046672821), ('는', 0.09738282114267349), ('란다', 0.09516383707523346), ('만나', 0.080685093998909), ('이', 0.07729511708021164), ('봇', 0.06776342540979385), ('반가워', 0.022914836183190346), ('.', 0.017276128754019737)]\n"
    }
   ],
   "source": [
    "res1 = model.most_similar(positive=\"누구\", negative=\"\", topn=10)\n",
    "print(res1)"
   ]
  },
  {
   "cell_type": "code",
   "execution_count": 37,
   "metadata": {},
   "outputs": [
    {
     "output_type": "stream",
     "name": "stderr",
     "text": "findfont: Font family ['NanumGothic'] not found. Falling back to DejaVu Sans.\n            x          y word\n0  -20.721655 -14.333797    는\n1   32.506218 -45.693287   주문\n2  -33.324867 -31.586437   음료\n3  -35.538128  22.122507    해\n4   53.187733  17.914452    줘\n5   31.804943  17.656918   안녕\n6   54.118591  -5.895360   만나\n7   32.917225  -2.162659    서\n8   14.066603 -32.262356  반가워\n9   13.340059  27.930819    넌\n10 -41.211990  -4.495268   누구\n11  32.506462 -22.049171    니\n12   5.041284  47.331814    나\n13 -20.679153   6.786255   AI\n14 -12.783925 -43.342548    봇\n15  -3.602477 -24.113514    이\n16  52.665295 -29.821205   란다\n17 -15.572395  35.072830    .\n18  33.530563  40.098587   피자\n19  13.977795   7.188174   할께\n20  -3.021863  -3.375639    도\n21   8.237351 -52.809071   뭘로\n22  -3.873580  17.564375   콜라\n23  14.281427 -12.242959    로\n"
    },
    {
     "output_type": "display_data",
     "data": {
      "text/plain": "<Figure size 432x288 with 1 Axes>",
      "image/svg+xml": "<?xml version=\"1.0\" encoding=\"utf-8\" standalone=\"no\"?>\r\n<!DOCTYPE svg PUBLIC \"-//W3C//DTD SVG 1.1//EN\"\r\n  \"http://www.w3.org/Graphics/SVG/1.1/DTD/svg11.dtd\">\r\n<!-- Created with matplotlib (https://matplotlib.org/) -->\r\n<svg height=\"256.116562pt\" version=\"1.1\" viewBox=\"0 0 389.307813 256.116562\" width=\"389.307813pt\" xmlns=\"http://www.w3.org/2000/svg\" xmlns:xlink=\"http://www.w3.org/1999/xlink\">\r\n <defs>\r\n  <style type=\"text/css\">\r\n*{stroke-linecap:butt;stroke-linejoin:round;}\r\n  </style>\r\n </defs>\r\n <g id=\"figure_1\">\r\n  <g id=\"patch_1\">\r\n   <path d=\"M 0 256.116562 \r\nL 389.307813 256.116562 \r\nL 389.307813 0 \r\nL 0 0 \r\nz\r\n\" style=\"fill:none;\"/>\r\n  </g>\r\n  <g id=\"axes_1\">\r\n   <g id=\"patch_2\">\r\n    <path d=\"M 35.304688 232.238437 \r\nL 370.104688 232.238437 \r\nL 370.104688 14.798437 \r\nL 35.304688 14.798437 \r\nz\r\n\" style=\"fill:#ffffff;\"/>\r\n   </g>\r\n   <g id=\"PathCollection_1\">\r\n    <defs>\r\n     <path d=\"M 0 3 \r\nC 0.795609 3 1.55874 2.683901 2.12132 2.12132 \r\nC 2.683901 1.55874 3 0.795609 3 0 \r\nC 3 -0.795609 2.683901 -1.55874 2.12132 -2.12132 \r\nC 1.55874 -2.683901 0.795609 -3 0 -3 \r\nC -0.795609 -3 -1.55874 -2.683901 -2.12132 -2.12132 \r\nC -2.683901 -1.55874 -3 -0.795609 -3 0 \r\nC -3 0.795609 -2.683901 1.55874 -2.12132 2.12132 \r\nC -1.55874 2.683901 -0.795609 3 0 3 \r\nz\r\n\" id=\"m5e90199d2c\" style=\"stroke:#1f77b4;\"/>\r\n    </defs>\r\n    <g clip-path=\"url(#pc510da3cb1)\">\r\n     <use style=\"fill:#1f77b4;stroke:#1f77b4;\" x=\"298.142845\" xlink:href=\"#m5e90199d2c\" y=\"98.341372\"/>\r\n     <use style=\"fill:#1f77b4;stroke:#1f77b4;\" x=\"111.207115\" xlink:href=\"#m5e90199d2c\" y=\"30.24923\"/>\r\n     <use style=\"fill:#1f77b4;stroke:#1f77b4;\" x=\"342.405194\" xlink:href=\"#m5e90199d2c\" y=\"60.88001\"/>\r\n     <use style=\"fill:#1f77b4;stroke:#1f77b4;\" x=\"350.178142\" xlink:href=\"#m5e90199d2c\" y=\"177.500438\"/>\r\n     <use style=\"fill:#1f77b4;stroke:#1f77b4;\" x=\"38.573853\" xlink:href=\"#m5e90199d2c\" y=\"168.363315\"/>\r\n     <use style=\"fill:#1f77b4;stroke:#1f77b4;\" x=\"113.669985\" xlink:href=\"#m5e90199d2c\" y=\"167.804121\"/>\r\n     <use style=\"fill:#1f77b4;stroke:#1f77b4;\" x=\"35.304688\" xlink:href=\"#m5e90199d2c\" y=\"116.664096\"/>\r\n     <use style=\"fill:#1f77b4;stroke:#1f77b4;\" x=\"109.763663\" xlink:href=\"#m5e90199d2c\" y=\"124.769064\"/>\r\n     <use style=\"fill:#1f77b4;stroke:#1f77b4;\" x=\"175.96685\" xlink:href=\"#m5e90199d2c\" y=\"59.41236\"/>\r\n     <use style=\"fill:#1f77b4;stroke:#1f77b4;\" x=\"178.518463\" xlink:href=\"#m5e90199d2c\" y=\"190.112263\"/>\r\n     <use style=\"fill:#1f77b4;stroke:#1f77b4;\" x=\"370.104688\" xlink:href=\"#m5e90199d2c\" y=\"119.704174\"/>\r\n     <use style=\"fill:#1f77b4;stroke:#1f77b4;\" x=\"111.206258\" xlink:href=\"#m5e90199d2c\" y=\"81.588665\"/>\r\n     <use style=\"fill:#1f77b4;stroke:#1f77b4;\" x=\"207.663676\" xlink:href=\"#m5e90199d2c\" y=\"232.238437\"/>\r\n     <use style=\"fill:#1f77b4;stroke:#1f77b4;\" x=\"297.99358\" xlink:href=\"#m5e90199d2c\" y=\"144.200207\"/>\r\n     <use style=\"fill:#1f77b4;stroke:#1f77b4;\" x=\"270.265621\" xlink:href=\"#m5e90199d2c\" y=\"35.353485\"/>\r\n     <use style=\"fill:#1f77b4;stroke:#1f77b4;\" x=\"238.020473\" xlink:href=\"#m5e90199d2c\" y=\"77.106274\"/>\r\n     <use style=\"fill:#1f77b4;stroke:#1f77b4;\" x=\"40.40865\" xlink:href=\"#m5e90199d2c\" y=\"64.71293\"/>\r\n     <use style=\"fill:#1f77b4;stroke:#1f77b4;\" x=\"280.058699\" xlink:href=\"#m5e90199d2c\" y=\"205.620005\"/>\r\n     <use style=\"fill:#1f77b4;stroke:#1f77b4;\" x=\"107.609625\" xlink:href=\"#m5e90199d2c\" y=\"216.532636\"/>\r\n     <use style=\"fill:#1f77b4;stroke:#1f77b4;\" x=\"176.278743\" xlink:href=\"#m5e90199d2c\" y=\"145.07291\"/>\r\n     <use style=\"fill:#1f77b4;stroke:#1f77b4;\" x=\"235.981364\" xlink:href=\"#m5e90199d2c\" y=\"122.13527\"/>\r\n     <use style=\"fill:#1f77b4;stroke:#1f77b4;\" x=\"196.439119\" xlink:href=\"#m5e90199d2c\" y=\"14.798438\"/>\r\n     <use style=\"fill:#1f77b4;stroke:#1f77b4;\" x=\"238.972581\" xlink:href=\"#m5e90199d2c\" y=\"167.603179\"/>\r\n     <use style=\"fill:#1f77b4;stroke:#1f77b4;\" x=\"175.212388\" xlink:href=\"#m5e90199d2c\" y=\"102.881295\"/>\r\n    </g>\r\n   </g>\r\n   <g id=\"matplotlib.axis_1\">\r\n    <g id=\"xtick_1\">\r\n     <g id=\"line2d_1\">\r\n      <defs>\r\n       <path d=\"M 0 0 \r\nL 0 3.5 \r\n\" id=\"mb2c4327182\" style=\"stroke:#000000;stroke-width:0.8;\"/>\r\n      </defs>\r\n      <g>\r\n       <use style=\"stroke:#000000;stroke-width:0.8;\" x=\"365.84819\" xlink:href=\"#mb2c4327182\" y=\"232.238437\"/>\r\n      </g>\r\n     </g>\r\n     <g id=\"text_1\">\r\n      <!-- −40 -->\r\n      <defs>\r\n       <path d=\"M 10.59375 35.5 \r\nL 73.1875 35.5 \r\nL 73.1875 27.203125 \r\nL 10.59375 27.203125 \r\nz\r\n\" id=\"DejaVuSans-8722\"/>\r\n       <path d=\"M 37.796875 64.3125 \r\nL 12.890625 25.390625 \r\nL 37.796875 25.390625 \r\nz\r\nM 35.203125 72.90625 \r\nL 47.609375 72.90625 \r\nL 47.609375 25.390625 \r\nL 58.015625 25.390625 \r\nL 58.015625 17.1875 \r\nL 47.609375 17.1875 \r\nL 47.609375 0 \r\nL 37.796875 0 \r\nL 37.796875 17.1875 \r\nL 4.890625 17.1875 \r\nL 4.890625 26.703125 \r\nz\r\n\" id=\"DejaVuSans-52\"/>\r\n       <path d=\"M 31.78125 66.40625 \r\nQ 24.171875 66.40625 20.328125 58.90625 \r\nQ 16.5 51.421875 16.5 36.375 \r\nQ 16.5 21.390625 20.328125 13.890625 \r\nQ 24.171875 6.390625 31.78125 6.390625 \r\nQ 39.453125 6.390625 43.28125 13.890625 \r\nQ 47.125 21.390625 47.125 36.375 \r\nQ 47.125 51.421875 43.28125 58.90625 \r\nQ 39.453125 66.40625 31.78125 66.40625 \r\nz\r\nM 31.78125 74.21875 \r\nQ 44.046875 74.21875 50.515625 64.515625 \r\nQ 56.984375 54.828125 56.984375 36.375 \r\nQ 56.984375 17.96875 50.515625 8.265625 \r\nQ 44.046875 -1.421875 31.78125 -1.421875 \r\nQ 19.53125 -1.421875 13.0625 8.265625 \r\nQ 6.59375 17.96875 6.59375 36.375 \r\nQ 6.59375 54.828125 13.0625 64.515625 \r\nQ 19.53125 74.21875 31.78125 74.21875 \r\nz\r\n\" id=\"DejaVuSans-48\"/>\r\n      </defs>\r\n      <g transform=\"translate(355.295846 246.836875)scale(0.1 -0.1)\">\r\n       <use xlink:href=\"#DejaVuSans-8722\"/>\r\n       <use x=\"83.789062\" xlink:href=\"#DejaVuSans-52\"/>\r\n       <use x=\"147.412109\" xlink:href=\"#DejaVuSans-48\"/>\r\n      </g>\r\n     </g>\r\n    </g>\r\n    <g id=\"xtick_2\">\r\n     <g id=\"line2d_2\">\r\n      <g>\r\n       <use style=\"stroke:#000000;stroke-width:0.8;\" x=\"295.608401\" xlink:href=\"#mb2c4327182\" y=\"232.238437\"/>\r\n      </g>\r\n     </g>\r\n     <g id=\"text_2\">\r\n      <!-- −20 -->\r\n      <defs>\r\n       <path d=\"M 19.1875 8.296875 \r\nL 53.609375 8.296875 \r\nL 53.609375 0 \r\nL 7.328125 0 \r\nL 7.328125 8.296875 \r\nQ 12.9375 14.109375 22.625 23.890625 \r\nQ 32.328125 33.6875 34.8125 36.53125 \r\nQ 39.546875 41.84375 41.421875 45.53125 \r\nQ 43.3125 49.21875 43.3125 52.78125 \r\nQ 43.3125 58.59375 39.234375 62.25 \r\nQ 35.15625 65.921875 28.609375 65.921875 \r\nQ 23.96875 65.921875 18.8125 64.3125 \r\nQ 13.671875 62.703125 7.8125 59.421875 \r\nL 7.8125 69.390625 \r\nQ 13.765625 71.78125 18.9375 73 \r\nQ 24.125 74.21875 28.421875 74.21875 \r\nQ 39.75 74.21875 46.484375 68.546875 \r\nQ 53.21875 62.890625 53.21875 53.421875 \r\nQ 53.21875 48.921875 51.53125 44.890625 \r\nQ 49.859375 40.875 45.40625 35.40625 \r\nQ 44.1875 33.984375 37.640625 27.21875 \r\nQ 31.109375 20.453125 19.1875 8.296875 \r\nz\r\n\" id=\"DejaVuSans-50\"/>\r\n      </defs>\r\n      <g transform=\"translate(285.056057 246.836875)scale(0.1 -0.1)\">\r\n       <use xlink:href=\"#DejaVuSans-8722\"/>\r\n       <use x=\"83.789062\" xlink:href=\"#DejaVuSans-50\"/>\r\n       <use x=\"147.412109\" xlink:href=\"#DejaVuSans-48\"/>\r\n      </g>\r\n     </g>\r\n    </g>\r\n    <g id=\"xtick_3\">\r\n     <g id=\"line2d_3\">\r\n      <g>\r\n       <use style=\"stroke:#000000;stroke-width:0.8;\" x=\"225.368611\" xlink:href=\"#mb2c4327182\" y=\"232.238437\"/>\r\n      </g>\r\n     </g>\r\n     <g id=\"text_3\">\r\n      <!-- 0 -->\r\n      <g transform=\"translate(222.187361 246.836875)scale(0.1 -0.1)\">\r\n       <use xlink:href=\"#DejaVuSans-48\"/>\r\n      </g>\r\n     </g>\r\n    </g>\r\n    <g id=\"xtick_4\">\r\n     <g id=\"line2d_4\">\r\n      <g>\r\n       <use style=\"stroke:#000000;stroke-width:0.8;\" x=\"155.128821\" xlink:href=\"#mb2c4327182\" y=\"232.238437\"/>\r\n      </g>\r\n     </g>\r\n     <g id=\"text_4\">\r\n      <!-- 20 -->\r\n      <g transform=\"translate(148.766321 246.836875)scale(0.1 -0.1)\">\r\n       <use xlink:href=\"#DejaVuSans-50\"/>\r\n       <use x=\"63.623047\" xlink:href=\"#DejaVuSans-48\"/>\r\n      </g>\r\n     </g>\r\n    </g>\r\n    <g id=\"xtick_5\">\r\n     <g id=\"line2d_5\">\r\n      <g>\r\n       <use style=\"stroke:#000000;stroke-width:0.8;\" x=\"84.889032\" xlink:href=\"#mb2c4327182\" y=\"232.238437\"/>\r\n      </g>\r\n     </g>\r\n     <g id=\"text_5\">\r\n      <!-- 40 -->\r\n      <g transform=\"translate(78.526532 246.836875)scale(0.1 -0.1)\">\r\n       <use xlink:href=\"#DejaVuSans-52\"/>\r\n       <use x=\"63.623047\" xlink:href=\"#DejaVuSans-48\"/>\r\n      </g>\r\n     </g>\r\n    </g>\r\n   </g>\r\n   <g id=\"matplotlib.axis_2\">\r\n    <g id=\"ytick_1\">\r\n     <g id=\"line2d_6\">\r\n      <defs>\r\n       <path d=\"M 0 0 \r\nL -3.5 0 \r\n\" id=\"mde4bfbe67a\" style=\"stroke:#000000;stroke-width:0.8;\"/>\r\n      </defs>\r\n      <g>\r\n       <use style=\"stroke:#000000;stroke-width:0.8;\" x=\"35.304688\" xlink:href=\"#mde4bfbe67a\" y=\"42.611297\"/>\r\n      </g>\r\n     </g>\r\n     <g id=\"text_6\">\r\n      <!-- −40 -->\r\n      <g transform=\"translate(7.2 46.410515)scale(0.1 -0.1)\">\r\n       <use xlink:href=\"#DejaVuSans-8722\"/>\r\n       <use x=\"83.789062\" xlink:href=\"#DejaVuSans-52\"/>\r\n       <use x=\"147.412109\" xlink:href=\"#DejaVuSans-48\"/>\r\n      </g>\r\n     </g>\r\n    </g>\r\n    <g id=\"ytick_2\">\r\n     <g id=\"line2d_7\">\r\n      <g>\r\n       <use style=\"stroke:#000000;stroke-width:0.8;\" x=\"35.304688\" xlink:href=\"#mde4bfbe67a\" y=\"86.038115\"/>\r\n      </g>\r\n     </g>\r\n     <g id=\"text_7\">\r\n      <!-- −20 -->\r\n      <g transform=\"translate(7.2 89.837334)scale(0.1 -0.1)\">\r\n       <use xlink:href=\"#DejaVuSans-8722\"/>\r\n       <use x=\"83.789062\" xlink:href=\"#DejaVuSans-50\"/>\r\n       <use x=\"147.412109\" xlink:href=\"#DejaVuSans-48\"/>\r\n      </g>\r\n     </g>\r\n    </g>\r\n    <g id=\"ytick_3\">\r\n     <g id=\"line2d_8\">\r\n      <g>\r\n       <use style=\"stroke:#000000;stroke-width:0.8;\" x=\"35.304688\" xlink:href=\"#mde4bfbe67a\" y=\"129.464933\"/>\r\n      </g>\r\n     </g>\r\n     <g id=\"text_8\">\r\n      <!-- 0 -->\r\n      <g transform=\"translate(21.942188 133.264152)scale(0.1 -0.1)\">\r\n       <use xlink:href=\"#DejaVuSans-48\"/>\r\n      </g>\r\n     </g>\r\n    </g>\r\n    <g id=\"ytick_4\">\r\n     <g id=\"line2d_9\">\r\n      <g>\r\n       <use style=\"stroke:#000000;stroke-width:0.8;\" x=\"35.304688\" xlink:href=\"#mde4bfbe67a\" y=\"172.891752\"/>\r\n      </g>\r\n     </g>\r\n     <g id=\"text_9\">\r\n      <!-- 20 -->\r\n      <g transform=\"translate(15.579688 176.690971)scale(0.1 -0.1)\">\r\n       <use xlink:href=\"#DejaVuSans-50\"/>\r\n       <use x=\"63.623047\" xlink:href=\"#DejaVuSans-48\"/>\r\n      </g>\r\n     </g>\r\n    </g>\r\n    <g id=\"ytick_5\">\r\n     <g id=\"line2d_10\">\r\n      <g>\r\n       <use style=\"stroke:#000000;stroke-width:0.8;\" x=\"35.304688\" xlink:href=\"#mde4bfbe67a\" y=\"216.31857\"/>\r\n      </g>\r\n     </g>\r\n     <g id=\"text_10\">\r\n      <!-- 40 -->\r\n      <g transform=\"translate(15.579688 220.117789)scale(0.1 -0.1)\">\r\n       <use xlink:href=\"#DejaVuSans-52\"/>\r\n       <use x=\"63.623047\" xlink:href=\"#DejaVuSans-48\"/>\r\n      </g>\r\n     </g>\r\n    </g>\r\n   </g>\r\n   <g id=\"patch_3\">\r\n    <path d=\"M 35.304688 232.238437 \r\nL 35.304688 14.798438 \r\n\" style=\"fill:none;stroke:#000000;stroke-linecap:square;stroke-linejoin:miter;stroke-width:0.8;\"/>\r\n   </g>\r\n   <g id=\"patch_4\">\r\n    <path d=\"M 370.104688 232.238437 \r\nL 370.104688 14.798438 \r\n\" style=\"fill:none;stroke:#000000;stroke-linecap:square;stroke-linejoin:miter;stroke-width:0.8;\"/>\r\n   </g>\r\n   <g id=\"patch_5\">\r\n    <path d=\"M 35.304688 232.238437 \r\nL 370.104688 232.238437 \r\n\" style=\"fill:none;stroke:#000000;stroke-linecap:square;stroke-linejoin:miter;stroke-width:0.8;\"/>\r\n   </g>\r\n   <g id=\"patch_6\">\r\n    <path d=\"M 35.304688 14.798437 \r\nL 370.104688 14.798437 \r\n\" style=\"fill:none;stroke:#000000;stroke-linecap:square;stroke-linejoin:miter;stroke-width:0.8;\"/>\r\n   </g>\r\n   <g id=\"text_11\">\r\n    <!-- 는 -->\r\n    <defs>\r\n     <path d=\"M 4.984375 -17.671875 \r\nL 4.984375 70.515625 \r\nL 54.984375 70.515625 \r\nL 54.984375 -17.671875 \r\nz\r\nM 10.59375 -12.109375 \r\nL 49.421875 -12.109375 \r\nL 49.421875 64.890625 \r\nL 10.59375 64.890625 \r\nz\r\n\" id=\"DejaVuSans-45716\"/>\r\n    </defs>\r\n    <g transform=\"translate(298.142845 98.341372)scale(0.1 -0.1)\">\r\n     <use xlink:href=\"#DejaVuSans-45716\"/>\r\n    </g>\r\n   </g>\r\n   <g id=\"text_12\">\r\n    <!-- 주문 -->\r\n    <defs>\r\n     <path d=\"M 4.984375 -17.671875 \r\nL 4.984375 70.515625 \r\nL 54.984375 70.515625 \r\nL 54.984375 -17.671875 \r\nz\r\nM 10.59375 -12.109375 \r\nL 49.421875 -12.109375 \r\nL 49.421875 64.890625 \r\nL 10.59375 64.890625 \r\nz\r\n\" id=\"DejaVuSans-51452\"/>\r\n     <path d=\"M 4.984375 -17.671875 \r\nL 4.984375 70.515625 \r\nL 54.984375 70.515625 \r\nL 54.984375 -17.671875 \r\nz\r\nM 10.59375 -12.109375 \r\nL 49.421875 -12.109375 \r\nL 49.421875 64.890625 \r\nL 10.59375 64.890625 \r\nz\r\n\" id=\"DejaVuSans-47928\"/>\r\n    </defs>\r\n    <g transform=\"translate(111.207115 30.24923)scale(0.1 -0.1)\">\r\n     <use xlink:href=\"#DejaVuSans-51452\"/>\r\n     <use x=\"60.009766\" xlink:href=\"#DejaVuSans-47928\"/>\r\n    </g>\r\n   </g>\r\n   <g id=\"text_13\">\r\n    <!-- 음료 -->\r\n    <defs>\r\n     <path d=\"M 4.984375 -17.671875 \r\nL 4.984375 70.515625 \r\nL 54.984375 70.515625 \r\nL 54.984375 -17.671875 \r\nz\r\nM 10.59375 -12.109375 \r\nL 49.421875 -12.109375 \r\nL 49.421875 64.890625 \r\nL 10.59375 64.890625 \r\nz\r\n\" id=\"DejaVuSans-51020\"/>\r\n     <path d=\"M 4.984375 -17.671875 \r\nL 4.984375 70.515625 \r\nL 54.984375 70.515625 \r\nL 54.984375 -17.671875 \r\nz\r\nM 10.59375 -12.109375 \r\nL 49.421875 -12.109375 \r\nL 49.421875 64.890625 \r\nL 10.59375 64.890625 \r\nz\r\n\" id=\"DejaVuSans-47308\"/>\r\n    </defs>\r\n    <g transform=\"translate(342.405194 60.88001)scale(0.1 -0.1)\">\r\n     <use xlink:href=\"#DejaVuSans-51020\"/>\r\n     <use x=\"60.009766\" xlink:href=\"#DejaVuSans-47308\"/>\r\n    </g>\r\n   </g>\r\n   <g id=\"text_14\">\r\n    <!-- 해 -->\r\n    <defs>\r\n     <path d=\"M 4.984375 -17.671875 \r\nL 4.984375 70.515625 \r\nL 54.984375 70.515625 \r\nL 54.984375 -17.671875 \r\nz\r\nM 10.59375 -12.109375 \r\nL 49.421875 -12.109375 \r\nL 49.421875 64.890625 \r\nL 10.59375 64.890625 \r\nz\r\n\" id=\"DejaVuSans-54644\"/>\r\n    </defs>\r\n    <g transform=\"translate(350.178142 177.500438)scale(0.1 -0.1)\">\r\n     <use xlink:href=\"#DejaVuSans-54644\"/>\r\n    </g>\r\n   </g>\r\n   <g id=\"text_15\">\r\n    <!-- 줘 -->\r\n    <defs>\r\n     <path d=\"M 4.984375 -17.671875 \r\nL 4.984375 70.515625 \r\nL 54.984375 70.515625 \r\nL 54.984375 -17.671875 \r\nz\r\nM 10.59375 -12.109375 \r\nL 49.421875 -12.109375 \r\nL 49.421875 64.890625 \r\nL 10.59375 64.890625 \r\nz\r\n\" id=\"DejaVuSans-51480\"/>\r\n    </defs>\r\n    <g transform=\"translate(38.573853 168.363315)scale(0.1 -0.1)\">\r\n     <use xlink:href=\"#DejaVuSans-51480\"/>\r\n    </g>\r\n   </g>\r\n   <g id=\"text_16\">\r\n    <!-- 안녕 -->\r\n    <defs>\r\n     <path d=\"M 4.984375 -17.671875 \r\nL 4.984375 70.515625 \r\nL 54.984375 70.515625 \r\nL 54.984375 -17.671875 \r\nz\r\nM 10.59375 -12.109375 \r\nL 49.421875 -12.109375 \r\nL 49.421875 64.890625 \r\nL 10.59375 64.890625 \r\nz\r\n\" id=\"DejaVuSans-50504\"/>\r\n     <path d=\"M 4.984375 -17.671875 \r\nL 4.984375 70.515625 \r\nL 54.984375 70.515625 \r\nL 54.984375 -17.671875 \r\nz\r\nM 10.59375 -12.109375 \r\nL 49.421875 -12.109375 \r\nL 49.421875 64.890625 \r\nL 10.59375 64.890625 \r\nz\r\n\" id=\"DejaVuSans-45397\"/>\r\n    </defs>\r\n    <g transform=\"translate(113.669985 167.804121)scale(0.1 -0.1)\">\r\n     <use xlink:href=\"#DejaVuSans-50504\"/>\r\n     <use x=\"60.009766\" xlink:href=\"#DejaVuSans-45397\"/>\r\n    </g>\r\n   </g>\r\n   <g id=\"text_17\">\r\n    <!-- 만나 -->\r\n    <defs>\r\n     <path d=\"M 4.984375 -17.671875 \r\nL 4.984375 70.515625 \r\nL 54.984375 70.515625 \r\nL 54.984375 -17.671875 \r\nz\r\nM 10.59375 -12.109375 \r\nL 49.421875 -12.109375 \r\nL 49.421875 64.890625 \r\nL 10.59375 64.890625 \r\nz\r\n\" id=\"DejaVuSans-47564\"/>\r\n     <path d=\"M 4.984375 -17.671875 \r\nL 4.984375 70.515625 \r\nL 54.984375 70.515625 \r\nL 54.984375 -17.671875 \r\nz\r\nM 10.59375 -12.109375 \r\nL 49.421875 -12.109375 \r\nL 49.421875 64.890625 \r\nL 10.59375 64.890625 \r\nz\r\n\" id=\"DejaVuSans-45208\"/>\r\n    </defs>\r\n    <g transform=\"translate(35.304688 116.664096)scale(0.1 -0.1)\">\r\n     <use xlink:href=\"#DejaVuSans-47564\"/>\r\n     <use x=\"60.009766\" xlink:href=\"#DejaVuSans-45208\"/>\r\n    </g>\r\n   </g>\r\n   <g id=\"text_18\">\r\n    <!-- 서 -->\r\n    <defs>\r\n     <path d=\"M 4.984375 -17.671875 \r\nL 4.984375 70.515625 \r\nL 54.984375 70.515625 \r\nL 54.984375 -17.671875 \r\nz\r\nM 10.59375 -12.109375 \r\nL 49.421875 -12.109375 \r\nL 49.421875 64.890625 \r\nL 10.59375 64.890625 \r\nz\r\n\" id=\"DejaVuSans-49436\"/>\r\n    </defs>\r\n    <g transform=\"translate(109.763663 124.769064)scale(0.1 -0.1)\">\r\n     <use xlink:href=\"#DejaVuSans-49436\"/>\r\n    </g>\r\n   </g>\r\n   <g id=\"text_19\">\r\n    <!-- 반가워 -->\r\n    <defs>\r\n     <path d=\"M 4.984375 -17.671875 \r\nL 4.984375 70.515625 \r\nL 54.984375 70.515625 \r\nL 54.984375 -17.671875 \r\nz\r\nM 10.59375 -12.109375 \r\nL 49.421875 -12.109375 \r\nL 49.421875 64.890625 \r\nL 10.59375 64.890625 \r\nz\r\n\" id=\"DejaVuSans-48152\"/>\r\n     <path d=\"M 4.984375 -17.671875 \r\nL 4.984375 70.515625 \r\nL 54.984375 70.515625 \r\nL 54.984375 -17.671875 \r\nz\r\nM 10.59375 -12.109375 \r\nL 49.421875 -12.109375 \r\nL 49.421875 64.890625 \r\nL 10.59375 64.890625 \r\nz\r\n\" id=\"DejaVuSans-44032\"/>\r\n     <path d=\"M 4.984375 -17.671875 \r\nL 4.984375 70.515625 \r\nL 54.984375 70.515625 \r\nL 54.984375 -17.671875 \r\nz\r\nM 10.59375 -12.109375 \r\nL 49.421875 -12.109375 \r\nL 49.421875 64.890625 \r\nL 10.59375 64.890625 \r\nz\r\n\" id=\"DejaVuSans-50892\"/>\r\n    </defs>\r\n    <g transform=\"translate(175.96685 59.41236)scale(0.1 -0.1)\">\r\n     <use xlink:href=\"#DejaVuSans-48152\"/>\r\n     <use x=\"60.009766\" xlink:href=\"#DejaVuSans-44032\"/>\r\n     <use x=\"120.019531\" xlink:href=\"#DejaVuSans-50892\"/>\r\n    </g>\r\n   </g>\r\n   <g id=\"text_20\">\r\n    <!-- 넌 -->\r\n    <defs>\r\n     <path d=\"M 4.984375 -17.671875 \r\nL 4.984375 70.515625 \r\nL 54.984375 70.515625 \r\nL 54.984375 -17.671875 \r\nz\r\nM 10.59375 -12.109375 \r\nL 49.421875 -12.109375 \r\nL 49.421875 64.890625 \r\nL 10.59375 64.890625 \r\nz\r\n\" id=\"DejaVuSans-45324\"/>\r\n    </defs>\r\n    <g transform=\"translate(178.518463 190.112263)scale(0.1 -0.1)\">\r\n     <use xlink:href=\"#DejaVuSans-45324\"/>\r\n    </g>\r\n   </g>\r\n   <g id=\"text_21\">\r\n    <!-- 누구 -->\r\n    <defs>\r\n     <path d=\"M 4.984375 -17.671875 \r\nL 4.984375 70.515625 \r\nL 54.984375 70.515625 \r\nL 54.984375 -17.671875 \r\nz\r\nM 10.59375 -12.109375 \r\nL 49.421875 -12.109375 \r\nL 49.421875 64.890625 \r\nL 10.59375 64.890625 \r\nz\r\n\" id=\"DejaVuSans-45572\"/>\r\n     <path d=\"M 4.984375 -17.671875 \r\nL 4.984375 70.515625 \r\nL 54.984375 70.515625 \r\nL 54.984375 -17.671875 \r\nz\r\nM 10.59375 -12.109375 \r\nL 49.421875 -12.109375 \r\nL 49.421875 64.890625 \r\nL 10.59375 64.890625 \r\nz\r\n\" id=\"DejaVuSans-44396\"/>\r\n    </defs>\r\n    <g transform=\"translate(370.104688 119.704174)scale(0.1 -0.1)\">\r\n     <use xlink:href=\"#DejaVuSans-45572\"/>\r\n     <use x=\"60.009766\" xlink:href=\"#DejaVuSans-44396\"/>\r\n    </g>\r\n   </g>\r\n   <g id=\"text_22\">\r\n    <!-- 니 -->\r\n    <defs>\r\n     <path d=\"M 4.984375 -17.671875 \r\nL 4.984375 70.515625 \r\nL 54.984375 70.515625 \r\nL 54.984375 -17.671875 \r\nz\r\nM 10.59375 -12.109375 \r\nL 49.421875 -12.109375 \r\nL 49.421875 64.890625 \r\nL 10.59375 64.890625 \r\nz\r\n\" id=\"DejaVuSans-45768\"/>\r\n    </defs>\r\n    <g transform=\"translate(111.206258 81.588665)scale(0.1 -0.1)\">\r\n     <use xlink:href=\"#DejaVuSans-45768\"/>\r\n    </g>\r\n   </g>\r\n   <g id=\"text_23\">\r\n    <!-- 나 -->\r\n    <g transform=\"translate(207.663676 232.238437)scale(0.1 -0.1)\">\r\n     <use xlink:href=\"#DejaVuSans-45208\"/>\r\n    </g>\r\n   </g>\r\n   <g id=\"text_24\">\r\n    <!-- AI -->\r\n    <defs>\r\n     <path d=\"M 34.1875 63.1875 \r\nL 20.796875 26.90625 \r\nL 47.609375 26.90625 \r\nz\r\nM 28.609375 72.90625 \r\nL 39.796875 72.90625 \r\nL 67.578125 0 \r\nL 57.328125 0 \r\nL 50.6875 18.703125 \r\nL 17.828125 18.703125 \r\nL 11.1875 0 \r\nL 0.78125 0 \r\nz\r\n\" id=\"DejaVuSans-65\"/>\r\n     <path d=\"M 9.8125 72.90625 \r\nL 19.671875 72.90625 \r\nL 19.671875 0 \r\nL 9.8125 0 \r\nz\r\n\" id=\"DejaVuSans-73\"/>\r\n    </defs>\r\n    <g transform=\"translate(297.99358 144.200207)scale(0.1 -0.1)\">\r\n     <use xlink:href=\"#DejaVuSans-65\"/>\r\n     <use x=\"68.408203\" xlink:href=\"#DejaVuSans-73\"/>\r\n    </g>\r\n   </g>\r\n   <g id=\"text_25\">\r\n    <!-- 봇 -->\r\n    <defs>\r\n     <path d=\"M 4.984375 -17.671875 \r\nL 4.984375 70.515625 \r\nL 54.984375 70.515625 \r\nL 54.984375 -17.671875 \r\nz\r\nM 10.59375 -12.109375 \r\nL 49.421875 -12.109375 \r\nL 49.421875 64.890625 \r\nL 10.59375 64.890625 \r\nz\r\n\" id=\"DejaVuSans-48391\"/>\r\n    </defs>\r\n    <g transform=\"translate(270.265621 35.353485)scale(0.1 -0.1)\">\r\n     <use xlink:href=\"#DejaVuSans-48391\"/>\r\n    </g>\r\n   </g>\r\n   <g id=\"text_26\">\r\n    <!-- 이 -->\r\n    <defs>\r\n     <path d=\"M 4.984375 -17.671875 \r\nL 4.984375 70.515625 \r\nL 54.984375 70.515625 \r\nL 54.984375 -17.671875 \r\nz\r\nM 10.59375 -12.109375 \r\nL 49.421875 -12.109375 \r\nL 49.421875 64.890625 \r\nL 10.59375 64.890625 \r\nz\r\n\" id=\"DejaVuSans-51060\"/>\r\n    </defs>\r\n    <g transform=\"translate(238.020473 77.106274)scale(0.1 -0.1)\">\r\n     <use xlink:href=\"#DejaVuSans-51060\"/>\r\n    </g>\r\n   </g>\r\n   <g id=\"text_27\">\r\n    <!-- 란다 -->\r\n    <defs>\r\n     <path d=\"M 4.984375 -17.671875 \r\nL 4.984375 70.515625 \r\nL 54.984375 70.515625 \r\nL 54.984375 -17.671875 \r\nz\r\nM 10.59375 -12.109375 \r\nL 49.421875 -12.109375 \r\nL 49.421875 64.890625 \r\nL 10.59375 64.890625 \r\nz\r\n\" id=\"DejaVuSans-46976\"/>\r\n     <path d=\"M 4.984375 -17.671875 \r\nL 4.984375 70.515625 \r\nL 54.984375 70.515625 \r\nL 54.984375 -17.671875 \r\nz\r\nM 10.59375 -12.109375 \r\nL 49.421875 -12.109375 \r\nL 49.421875 64.890625 \r\nL 10.59375 64.890625 \r\nz\r\n\" id=\"DejaVuSans-45796\"/>\r\n    </defs>\r\n    <g transform=\"translate(40.40865 64.71293)scale(0.1 -0.1)\">\r\n     <use xlink:href=\"#DejaVuSans-46976\"/>\r\n     <use x=\"60.009766\" xlink:href=\"#DejaVuSans-45796\"/>\r\n    </g>\r\n   </g>\r\n   <g id=\"text_28\">\r\n    <!-- . -->\r\n    <defs>\r\n     <path d=\"M 10.6875 12.40625 \r\nL 21 12.40625 \r\nL 21 0 \r\nL 10.6875 0 \r\nz\r\n\" id=\"DejaVuSans-46\"/>\r\n    </defs>\r\n    <g transform=\"translate(280.058699 205.620005)scale(0.1 -0.1)\">\r\n     <use xlink:href=\"#DejaVuSans-46\"/>\r\n    </g>\r\n   </g>\r\n   <g id=\"text_29\">\r\n    <!-- 피자 -->\r\n    <defs>\r\n     <path d=\"M 4.984375 -17.671875 \r\nL 4.984375 70.515625 \r\nL 54.984375 70.515625 \r\nL 54.984375 -17.671875 \r\nz\r\nM 10.59375 -12.109375 \r\nL 49.421875 -12.109375 \r\nL 49.421875 64.890625 \r\nL 10.59375 64.890625 \r\nz\r\n\" id=\"DejaVuSans-54588\"/>\r\n     <path d=\"M 4.984375 -17.671875 \r\nL 4.984375 70.515625 \r\nL 54.984375 70.515625 \r\nL 54.984375 -17.671875 \r\nz\r\nM 10.59375 -12.109375 \r\nL 49.421875 -12.109375 \r\nL 49.421875 64.890625 \r\nL 10.59375 64.890625 \r\nz\r\n\" id=\"DejaVuSans-51088\"/>\r\n    </defs>\r\n    <g transform=\"translate(107.609625 216.532636)scale(0.1 -0.1)\">\r\n     <use xlink:href=\"#DejaVuSans-54588\"/>\r\n     <use x=\"60.009766\" xlink:href=\"#DejaVuSans-51088\"/>\r\n    </g>\r\n   </g>\r\n   <g id=\"text_30\">\r\n    <!-- 할께 -->\r\n    <defs>\r\n     <path d=\"M 4.984375 -17.671875 \r\nL 4.984375 70.515625 \r\nL 54.984375 70.515625 \r\nL 54.984375 -17.671875 \r\nz\r\nM 10.59375 -12.109375 \r\nL 49.421875 -12.109375 \r\nL 49.421875 64.890625 \r\nL 10.59375 64.890625 \r\nz\r\n\" id=\"DejaVuSans-54624\"/>\r\n     <path d=\"M 4.984375 -17.671875 \r\nL 4.984375 70.515625 \r\nL 54.984375 70.515625 \r\nL 54.984375 -17.671875 \r\nz\r\nM 10.59375 -12.109375 \r\nL 49.421875 -12.109375 \r\nL 49.421875 64.890625 \r\nL 10.59375 64.890625 \r\nz\r\n\" id=\"DejaVuSans-44760\"/>\r\n    </defs>\r\n    <g transform=\"translate(176.278743 145.07291)scale(0.1 -0.1)\">\r\n     <use xlink:href=\"#DejaVuSans-54624\"/>\r\n     <use x=\"60.009766\" xlink:href=\"#DejaVuSans-44760\"/>\r\n    </g>\r\n   </g>\r\n   <g id=\"text_31\">\r\n    <!-- 도 -->\r\n    <defs>\r\n     <path d=\"M 4.984375 -17.671875 \r\nL 4.984375 70.515625 \r\nL 54.984375 70.515625 \r\nL 54.984375 -17.671875 \r\nz\r\nM 10.59375 -12.109375 \r\nL 49.421875 -12.109375 \r\nL 49.421875 64.890625 \r\nL 10.59375 64.890625 \r\nz\r\n\" id=\"DejaVuSans-46020\"/>\r\n    </defs>\r\n    <g transform=\"translate(235.981364 122.13527)scale(0.1 -0.1)\">\r\n     <use xlink:href=\"#DejaVuSans-46020\"/>\r\n    </g>\r\n   </g>\r\n   <g id=\"text_32\">\r\n    <!-- 뭘로 -->\r\n    <defs>\r\n     <path d=\"M 4.984375 -17.671875 \r\nL 4.984375 70.515625 \r\nL 54.984375 70.515625 \r\nL 54.984375 -17.671875 \r\nz\r\nM 10.59375 -12.109375 \r\nL 49.421875 -12.109375 \r\nL 49.421875 64.890625 \r\nL 10.59375 64.890625 \r\nz\r\n\" id=\"DejaVuSans-47960\"/>\r\n     <path d=\"M 4.984375 -17.671875 \r\nL 4.984375 70.515625 \r\nL 54.984375 70.515625 \r\nL 54.984375 -17.671875 \r\nz\r\nM 10.59375 -12.109375 \r\nL 49.421875 -12.109375 \r\nL 49.421875 64.890625 \r\nL 10.59375 64.890625 \r\nz\r\n\" id=\"DejaVuSans-47196\"/>\r\n    </defs>\r\n    <g transform=\"translate(196.439119 14.798438)scale(0.1 -0.1)\">\r\n     <use xlink:href=\"#DejaVuSans-47960\"/>\r\n     <use x=\"60.009766\" xlink:href=\"#DejaVuSans-47196\"/>\r\n    </g>\r\n   </g>\r\n   <g id=\"text_33\">\r\n    <!-- 콜라 -->\r\n    <defs>\r\n     <path d=\"M 4.984375 -17.671875 \r\nL 4.984375 70.515625 \r\nL 54.984375 70.515625 \r\nL 54.984375 -17.671875 \r\nz\r\nM 10.59375 -12.109375 \r\nL 49.421875 -12.109375 \r\nL 49.421875 64.890625 \r\nL 10.59375 64.890625 \r\nz\r\n\" id=\"DejaVuSans-53084\"/>\r\n     <path d=\"M 4.984375 -17.671875 \r\nL 4.984375 70.515625 \r\nL 54.984375 70.515625 \r\nL 54.984375 -17.671875 \r\nz\r\nM 10.59375 -12.109375 \r\nL 49.421875 -12.109375 \r\nL 49.421875 64.890625 \r\nL 10.59375 64.890625 \r\nz\r\n\" id=\"DejaVuSans-46972\"/>\r\n    </defs>\r\n    <g transform=\"translate(238.972581 167.603179)scale(0.1 -0.1)\">\r\n     <use xlink:href=\"#DejaVuSans-53084\"/>\r\n     <use x=\"60.009766\" xlink:href=\"#DejaVuSans-46972\"/>\r\n    </g>\r\n   </g>\r\n   <g id=\"text_34\">\r\n    <!-- 로 -->\r\n    <g transform=\"translate(175.212388 102.881295)scale(0.1 -0.1)\">\r\n     <use xlink:href=\"#DejaVuSans-47196\"/>\r\n    </g>\r\n   </g>\r\n  </g>\r\n </g>\r\n <defs>\r\n  <clipPath id=\"pc510da3cb1\">\r\n   <rect height=\"217.44\" width=\"334.8\" x=\"35.304688\" y=\"14.798437\"/>\r\n  </clipPath>\r\n </defs>\r\n</svg>\r\n",
      "image/png": "[encoded data removed]"
     },
     "metadata": {
      "needs_background": "light"
     }
    }
   ],
   "source": [
    "from sklearn.manifold import TSNE\n",
    "import pandas as pd\n",
    "import matplotlib\n",
    "import matplotlib.pyplot as plt\n",
    "\n",
    "font_name = matplotlib.font_manager.FontProperties(\n",
    "    fname=r\"C:\\Program Files\\Android\\Android Studio\\plugins\\android\\lib\\layoutlib\\data\\fonts\\NanumGothic.ttf\"\n",
    ").get_name()\n",
    "vocab = model.wv.index2word\n",
    "matplotlib.rc('font', family=font_name)\n",
    "tsne = TSNE(n_components=2)\n",
    "X_tsne = tsne.fit_transform(X)\n",
    "df = pd.concat([pd.DataFrame(X_tsne), pd.Series(vocab)], axis=1)\n",
    "\n",
    "df.columns = ['x', 'y', 'word']\n",
    "fig = plt.figure()\n",
    "ax = fig.add_subplot(1, 1, 1)\n",
    "print(df)\n",
    "ax.scatter(df['x'], df['y'])\n",
    "ax.set_xlim(df['x'].max(), df['x'].min())\n",
    "ax.set_ylim(df['y'].max(), df['y'].min())\n",
    "for i, txt in enumerate(df['word']):\n",
    "    ax.annotate(txt, (df['x'].iloc[i], df['y'].iloc[i]))\n",
    "plt.show()"
   ]
  },
  {
   "cell_type": "markdown",
   "metadata": {},
   "source": [
    "# 딥러닝 이용"
   ]
  },
  {
   "cell_type": "markdown",
   "metadata": {},
   "source": [
    "## Intent와 NER 모델을 만들기 위한 dataset 구성 방법"
   ]
  },
  {
   "cell_type": "markdown",
   "metadata": {},
   "source": [
    "### 피자주문, 숙소예약, 여행정보의 각각의 Entity구성 (서비스시에는 Entity는 별도 DB로 구성)\n",
    "### Entity 별 N by N의 수로 정제된 Text를 구할 수 있음"
   ]
  },
  {
   "cell_type": "code",
   "execution_count": 41,
   "metadata": {},
   "outputs": [
    {
     "output_type": "stream",
     "name": "stdout",
     "text": "Augmentation length is 108\n"
    }
   ],
   "source": [
    "train_data_order = ['판교에 오늘 피자 주문해줘']\n",
    "train_data_reserve = ['오늘 날짜에 호텔 예약 해줄래']\n",
    "train_data_info = ['모레 날짜의 판교 여행 정보 알려줘']\n",
    "\n",
    "get_data_list = train_data_info[0]\n",
    "\n",
    "dict_entity = {\n",
    "    'date' : ['오늘', '내일', '모레'],\n",
    "    'loc' : ['판교', '야탑'],\n",
    "    'menu' : ['피자', '햄버거'],\n",
    "    'hotel' : ['호텔', '여관', '민박'],\n",
    "    'travel' : ['여행', '관광', '카페']\n",
    "}\n",
    "\n",
    "length = 1\n",
    "for key in list(dict_entity.keys()):\n",
    "    length = length * len(dict_entity[key])\n",
    "print(\"Augmentation length is {0}\".format(length))"
   ]
  },
  {
   "cell_type": "markdown",
   "metadata": {},
   "source": [
    "## 형태소 분석"
   ]
  },
  {
   "cell_type": "code",
   "execution_count": 42,
   "metadata": {},
   "outputs": [
    {
     "output_type": "stream",
     "name": "stdout",
     "text": "[('모레', 'MAG'), ('날짜', 'NNG'), ('의', 'JKG'), ('판교', 'NNG'), ('여행', 'NNG'), ('정보', 'NNG'), ('알려줘', 'VV+EC+VX+EC')]\n"
    }
   ],
   "source": [
    "from eunjeon import Mecab\n",
    "mecab = Mecab()\n",
    "morphed_txt = mecab.pos(get_data_list)\n",
    "print(morphed_txt)"
   ]
  },
  {
   "cell_type": "markdown",
   "metadata": {},
   "source": [
    "## Feature Engineering(명사만 도출)\n",
    "#### FE로 intent와 NER 정확도를 높임\n",
    "\n",
    "### 일반명사(NNG)[메뉴]\n",
    "### 고유명사(NNP)[지역]\n",
    "### 영어(SL)[Pizza]\n",
    "### 사건부사(MAG)[오늘, 내일, 모레]"
   ]
  },
  {
   "cell_type": "code",
   "execution_count": 44,
   "metadata": {},
   "outputs": [
    {
     "output_type": "stream",
     "name": "stdout",
     "text": "모레 날짜 판교 여행 정보 \n"
    }
   ],
   "source": [
    "tagged_txt = ''\n",
    "for pos_tag in morphed_txt:\n",
    "    # Noun만 Check하기\n",
    "    if (pos_tag[1] in ['NNG', 'MAG', 'NNP', 'SL'] and len(pos_tag[0]) > 1):\n",
    "        feature_value = pos_tag[0]\n",
    "        tagged_txt = tagged_txt + pos_tag[0] + ' '\n",
    "print(tagged_txt)"
   ]
  },
  {
   "cell_type": "markdown",
   "metadata": {},
   "source": [
    "## Intent 학습 Data 구성\n",
    "\n",
    "### Intent 성능 향상을 위해 parse한 Text Data를 represent화 함 "
   ]
  },
  {
   "cell_type": "code",
   "execution_count": 47,
   "metadata": {},
   "outputs": [
    {
     "output_type": "stream",
     "name": "stdout",
     "text": "tagdate 날짜 tagloc tagtravel 정보  \n"
    }
   ],
   "source": [
    "pattern = ''\n",
    "for word in tagged_txt.split(' '):\n",
    "    entity = list(filter(lambda key:word in dict_entity[key], list(dict_entity.keys())))\n",
    "    if len(entity) > 0:\n",
    "        pattern = pattern + 'tag' + entity[0] + ' '\n",
    "    else:\n",
    "        pattern = pattern + word + ' '\n",
    "print(pattern)"
   ]
  },
  {
   "cell_type": "markdown",
   "metadata": {},
   "source": [
    "## Data augmentation (Entity and Pattern)\n",
    "\n",
    "### 각 의도별 Pattern text를 entity N의 배수로 Augmenatiation 작업"
   ]
  },
  {
   "cell_type": "code",
   "execution_count": 50,
   "metadata": {},
   "outputs": [],
   "source": [
    "def augmenntation_pattern(pattern, dict_entity):\n",
    "    # 입력된 패턴을 리스트로 바꿈\n",
    "    aug_pattern = pattern.split(' ')\n",
    "    # augment된 텍스트 리스트\n",
    "    augmented_text_list = []\n",
    "    # copy를 위한 임시 list\n",
    "    temp_aug = []\n",
    "    for i in range(0, len(aug_pattern)):\n",
    "        # entity에 해당하는 값일 경우 entity list를 가져옴\n",
    "        if aug_pattern[i].find(\"tag\") > -1:\n",
    "            dict_list = dict_entity[aug_pattern[i].replace(\"tag\", \"\")]\n",
    "            # 각 entity 별로 값을 append하면서 pattern 구성\n",
    "            for j in range(0, len(dict_list)):\n",
    "                # 최초 entity 값은 그냥 추가만 함\n",
    "                if i == 0:\n",
    "                    augmented_text_list.append(dict_list[j] + ' ')\n",
    "                elif j == 1:\n",
    "                    augmented_text_list = list(filter(lambda word:len(word.split(' ')) == i + 1, augmented_text_list))\n",
    "                    copy_data_order = augmented_text_list * (len(dict_list) - 2)\n",
    "                    augmented_text_list = list(map(lambda x:x + dict_list[j] + \" \", augmented_text_list))\n",
    "                    augmented_text_list = augmented_text_list + temp_aug + copy_data_order\n",
    "                else:\n",
    "                    # List의 수를 체크하여 값을 추가\n",
    "                    temp_aug = list(filter(lambda word:len(word.split(' ')) == i + 1, augmented_text_list))\n",
    "                    temp_aug = list(map(lambda x:x + dict_list[j] + ' ', temp_aug))\n",
    "                    # 추가된 list를 위해 기존 값 제거\n",
    "                    if j != 0:\n",
    "                        augmented_text_list = augmented_text_list[0:len(augmented_text_list) - len(temp_aug)]\n",
    "                        augmented_text_list = augmented_text_list + temp_aug\n",
    "        # entity 추가 대상이 아닌 경우 패턴만 추가\n",
    "        else:\n",
    "            augmented_text_list = list(map(lambda x:x + aug_pattern[i] + \" \", augmented_text_list))\n",
    "        # N*N으로 증가시키기 위한 list\n",
    "        temp_aug = augmented_text_list\n",
    "\n",
    "    return augmented_text_list"
   ]
  },
  {
   "cell_type": "code",
   "execution_count": 51,
   "metadata": {},
   "outputs": [
    {
     "output_type": "execute_result",
     "data": {
      "text/plain": "['오늘 날짜 야탑 관광 정보   ',\n '내일 날짜 야탑 관광 정보   ',\n '모레 날짜 야탑 관광 정보   ',\n '오늘 날짜 판교 관광 정보   ',\n '내일 날짜 판교 관광 정보   ',\n '모레 날짜 판교 관광 정보   ',\n '오늘 날짜 야탑 여행 정보   ',\n '내일 날짜 야탑 여행 정보   ',\n '모레 날짜 야탑 여행 정보   ',\n '오늘 날짜 판교 여행 정보   ',\n '내일 날짜 판교 여행 정보   ',\n '모레 날짜 판교 여행 정보   ',\n '오늘 날짜 야탑 카페 정보   ',\n '내일 날짜 야탑 카페 정보   ',\n '모레 날짜 야탑 카페 정보   ',\n '오늘 날짜 판교 카페 정보   ',\n '내일 날짜 판교 카페 정보   ',\n '모레 날짜 판교 카페 정보   ']"
     },
     "metadata": {},
     "execution_count": 51
    }
   ],
   "source": [
    "augmented_text_list = augmenntation_pattern(pattern, dict_entity)\n",
    "augmented_text_list"
   ]
  },
  {
   "cell_type": "markdown",
   "metadata": {},
   "source": [
    "## BIO Tagging"
   ]
  },
  {
   "cell_type": "code",
   "execution_count": 52,
   "metadata": {},
   "outputs": [],
   "source": [
    "def augmentation_bio_pattern(pattern, dict_entity):\n",
    "    # 입력되 패턴을 리스트로 바꿈\n",
    "    aug_pattern = pattern.split(' ')\n",
    "    # augment된 텍스트 리스트\n",
    "    augmented_text_list = []\n",
    "    # copy를 위한 임시 list\n",
    "    temp_aug = []\n",
    "    for i in range(0, len(aug_pattern)):\n",
    "        # entity에 해당하는 값일 경우 entity list를 가져옴\n",
    "        if aug_pattern[i].find(\"tag\") > -1:\n",
    "            dict_list = dict_entity[aug_pattern[i].replace(\"tag\", \"\")]\n",
    "            bio_tag = aug_pattern[i].replace(\"tag\", 'B_')\n",
    "            # 각 entity 별로 값을 append하면서 pattern 구성\n",
    "            for j in range(0, len(dict_list)):\n",
    "                # 최초 entity 값은 그냥 추가만 함\n",
    "                if i == 0:\n",
    "                    augmented_text_list.append(bio_tag + ' ')\n",
    "                elif j == 1:\n",
    "                    augmented_text_list = list(filter(lambda word:len(word.split(' ')) == i + 1, augmented_text_list))\n",
    "                    copy_data_order = augmented_text_list * (len(dict_list) - 2)\n",
    "                    augmented_text_list = list(map(lambda x:x + bio_tag + \" \", augmented_text_list))\n",
    "                    augmented_text_list = augmented_text_list + temp_aug + copy_data_order\n",
    "                else:\n",
    "                    # List의 수를 체크하여 값을 추가\n",
    "                    temp_aug = list(filter(lambda word:len(word.split(' ')) == i + 1, augmented_text_list))\n",
    "                    temp_aug = list(map(lambda x:x + dict_list[j] + ' ', temp_aug))\n",
    "                    # 추가된 list를 위해 기존 값 제거\n",
    "                    if j != 0:\n",
    "                        augmented_text_list = augmented_text_list[0:len(augmented_text_list) - len(temp_aug)]\n",
    "                        augmented_text_list = augmented_text_list + temp_aug\n",
    "        # entity 추가 대상이 아닌 경우 패턴만 추가\n",
    "        else:\n",
    "            augmented_text_list = list(map(lambda x:x + aug_pattern[i] + \" \", augmented_text_list))\n",
    "        # N*N으로 증가시키기 위한 list\n",
    "        temp_aug = augmented_text_list\n",
    "\n",
    "    return augmented_text_list"
   ]
  },
  {
   "cell_type": "code",
   "execution_count": 53,
   "metadata": {},
   "outputs": [
    {
     "output_type": "execute_result",
     "data": {
      "text/plain": "['B_date 날짜 B_loc B_travel 정보   ',\n 'B_date 날짜 B_loc B_travel 정보   ',\n 'B_date 날짜 B_loc B_travel 정보   ',\n 'B_date 날짜 판교 B_travel 정보   ',\n 'B_date 날짜 판교 B_travel 정보   ',\n 'B_date 날짜 판교 B_travel 정보   ',\n 'B_date 날짜 B_loc 여행 정보   ',\n 'B_date 날짜 B_loc 여행 정보   ',\n 'B_date 날짜 B_loc 여행 정보   ',\n 'B_date 날짜 판교 여행 정보   ',\n 'B_date 날짜 판교 여행 정보   ',\n 'B_date 날짜 판교 여행 정보   ',\n 'B_date 날짜 B_loc 카페 정보   ',\n 'B_date 날짜 B_loc 카페 정보   ',\n 'B_date 날짜 B_loc 카페 정보   ',\n 'B_date 날짜 판교 카페 정보   ',\n 'B_date 날짜 판교 카페 정보   ',\n 'B_date 날짜 판교 카페 정보   ']"
     },
     "metadata": {},
     "execution_count": 53
    }
   ],
   "source": [
    "bio_list = augmentation_bio_pattern(pattern, dict_entity)\n",
    "bio_list"
   ]
  },
  {
   "cell_type": "code",
   "execution_count": null,
   "metadata": {},
   "outputs": [],
   "source": []
  }
 ],
 "metadata": {
  "language_info": {
   "codemirror_mode": {
    "name": "ipython",
    "version": 3
   },
   "file_extension": ".py",
   "mimetype": "text/x-python",
   "name": "python",
   "nbconvert_exporter": "python",
   "pygments_lexer": "ipython3",
   "version": "3.7.7-final"
  },
  "orig_nbformat": 2,
  "kernelspec": {
   "name": "python3",
   "display_name": "Python 3"
  }
 },
 "nbformat": 4,
 "nbformat_minor": 2
}