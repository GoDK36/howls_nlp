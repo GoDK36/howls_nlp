{
 "cells": [
  {
   "cell_type": "markdown",
   "metadata": {},
   "source": [
    "# 챗봇 만들기\n",
    "\n",
    "### https://jfun.tistory.com/199?category=851249\n",
    "### https://www.slideshare.net/KimSungdong1/20170227-72644192"
   ]
  },
  {
   "cell_type": "code",
   "execution_count": 1,
   "metadata": {},
   "outputs": [],
   "source": [
    "input_data = '판교에 지금 주문해줘'\n",
    "output_data = ''\n",
    "\n",
    "request = {\n",
    "    \"intent_id\":\"\",\n",
    "    \"input_data\":input_data,\n",
    "    \"request_type\":\"text\",\n",
    "    \"story_slot_entity\":{},\n",
    "    \"output_data\":output_data\n",
    "}"
   ]
  },
  {
   "cell_type": "markdown",
   "metadata": {},
   "source": [
    "## 기본 데이터 셋(DB))"
   ]
  },
  {
   "cell_type": "code",
   "execution_count": 2,
   "metadata": {},
   "outputs": [],
   "source": [
    "intent_list = {\n",
    "    \"주문\":[\"주문\", \"배달\"],\n",
    "    \"예약\":[\"예약\", \"잡아줘\"],\n",
    "    \"정보\":[\"정보\",\"알려\"]\n",
    "}\n",
    "\n",
    "story_slot_entity = {\"주문\":{\"메뉴\":None, \"장소\":None, \"날짜\":None},\n",
    "\"예약\":{\"장소\": None, \"날짜\":None},\n",
    "\"정보\":{\"대상\":None}\n",
    "}"
   ]
  },
  {
   "cell_type": "markdown",
   "metadata": {},
   "source": [
    "## 형태소 분석"
   ]
  },
  {
   "cell_type": "code",
   "execution_count": 3,
   "metadata": {},
   "outputs": [
    {
     "output_type": "stream",
     "name": "stdout",
     "text": "[('판교', 'NNG'), ('에', 'JKB'), ('지금', 'MAG'), ('주문', 'NNG'), ('해', 'XSV+EC'), ('줘', 'VX+EC')]\n"
    }
   ],
   "source": [
    "from eunjeon import Mecab\n",
    "mecab = Mecab()\n",
    "preprocessed = mecab.pos(request.get('input_data'))\n",
    "\n",
    "print(preprocessed)"
   ]
  },
  {
   "cell_type": "markdown",
   "metadata": {},
   "source": [
    "## Intent 도출(Ruled Based)"
   ]
  },
  {
   "cell_type": "code",
   "execution_count": 4,
   "metadata": {},
   "outputs": [],
   "source": [
    "# Char CNN을 사용해서 연결하면 좀 더 쉽게 만들 수 있다\n",
    "intent_id = \"주문\"\n",
    "slot_value = story_slot_entity.get(\"주문\")"
   ]
  },
  {
   "cell_type": "markdown",
   "metadata": {},
   "source": [
    "## NER 도출(Ruled based)"
   ]
  },
  {
   "cell_type": "code",
   "execution_count": 5,
   "metadata": {},
   "outputs": [],
   "source": [
    "# LSTM 기법을 사용해서 연결하면 좀 더 쉬울 수 있다\n",
    "menu_list = [\"피자\", \"햄버거\", \"치킨\"]\n",
    "loc_list = [\"판교\", \"야탑\", \"서현\"]\n",
    "date_list = [\"지금\", '내일', '모레']"
   ]
  },
  {
   "cell_type": "markdown",
   "metadata": {},
   "source": [
    "## Dictionary 기반 slot 구성"
   ]
  },
  {
   "cell_type": "code",
   "execution_count": 12,
   "metadata": {},
   "outputs": [
    {
     "output_type": "stream",
     "name": "stdout",
     "text": "{'메뉴': None, '장소': '판교', '날짜': '지금'}\n"
    }
   ],
   "source": [
    "for pos_tag in preprocessed:\n",
    "    if pos_tag[1] in ['NNG', 'NNP', 'SL', 'MAG']:\n",
    "        if pos_tag[0] in menu_list:\n",
    "            slot_value['메뉴'] = pos_tag[0]\n",
    "        elif pos_tag[0] in loc_list:\n",
    "            slot_value['장소'] = pos_tag[0]\n",
    "        elif pos_tag[0] in date_list:\n",
    "            slot_value['날짜'] = pos_tag[0]\n",
    "\n",
    "\n",
    "print(story_slot_entity.get('주문'))"
   ]
  },
  {
   "cell_type": "markdown",
   "metadata": {},
   "source": [
    "## 빈 slot 검색"
   ]
  },
  {
   "cell_type": "code",
   "execution_count": null,
   "metadata": {},
   "outputs": [],
   "source": []
  }
 ],
 "metadata": {
  "language_info": {
   "codemirror_mode": {
    "name": "ipython",
    "version": 3
   },
   "file_extension": ".py",
   "mimetype": "text/x-python",
   "name": "python",
   "nbconvert_exporter": "python",
   "pygments_lexer": "ipython3",
   "version": "3.7.6-final"
  },
  "orig_nbformat": 2,
  "kernelspec": {
   "name": "python3",
   "display_name": "Python 3"
  }
 },
 "nbformat": 4,
 "nbformat_minor": 2
}