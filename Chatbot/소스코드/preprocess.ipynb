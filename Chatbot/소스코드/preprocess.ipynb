{
 "cells": [
  {
   "cell_type": "code",
   "execution_count": 21,
   "metadata": {},
   "outputs": [],
   "source": [
    "import os, re, csv\n",
    "import pandas as pd\n",
    "import numpy as np\n",
    "from kiwipiepy import Kiwi"
   ]
  },
  {
   "cell_type": "code",
   "execution_count": 28,
   "metadata": {},
   "outputs": [
    {
     "output_type": "execute_result",
     "data": {
      "text/plain": "                                               QUESTION  \\\n0     조교님! 이중전공이랑 부전공 차이에 대해서 궁금해요!이중전공은 학위+졸업장 표시인건...   \n1     안녕하세요 조교님!재수강 연결방밥 대로 종합정보시스템-수업수강관리-재수강과목선택메뉴...   \n2     조교님 안녕하세요!! 항상 수고가 많으십니다 다름아니라 제가 총평점이 좀 낮은편이라...   \n3     안녕하세요 조교님!제가 맨 처음에 이중전공을 gbt로 신청했다가이중전공 경영으로 변...   \n4     이중전공을 바꾸고싶은데 혹시 바꾸게 된다면 그전에 받은 학점은 이어가는 건가요? 아...   \n...                                                 ...   \n6885       안녕하세요 중외통 17학번인데요이중전공 어떤 걸로 하면 좋은지 추천해주세요 ㅎㅎ   \n6886                      공대생 이중전공으로 언어할까 하는데 힘듦? 언어추천좀   \n6887                         국제통상학과 이중전공생인데 걱정이 많이 된다..   \n6888  경영 후기 이중전공 신청할 때이중전공 떨어져서 부전공 경영인데후기 이중 경영 신청해...   \n6889                  국제학부 이중전공생 없나여ㅠ 다른 과보다 정보가 많이 없는듯   \n\n                                                 ANSWER  TAGSET  \n0                                                   NaN     NaN  \n1                                                   NaN     NaN  \n2                                                   NaN     NaN  \n3                                                   NaN     NaN  \n4                                                   NaN     NaN  \n...                                                 ...     ...  \n6885                                ['아 그렇군요! 감사합니다!!']     NaN  \n6886                    ['스페인어 했다가 힘들어서 영어로 바꾼 사람은 봤음']     NaN  \n6887  ['저도요.... 진짜 국통법 때문에 미칠거 같네요 ,', '나두...', '국통 ...     NaN  \n6888  ['부전공학점 다 채운다음 이중전공이랑 차이나는 전공점수 채워야되요', '한마디로 ...     NaN  \n6889  ['반가워요 동지...!', '저요저요!', '저욤!', '오 친해져요!!', '님...     NaN  \n\n[6890 rows x 3 columns]",
      "text/html": "<div>\n<style scoped>\n    .dataframe tbody tr th:only-of-type {\n        vertical-align: middle;\n    }\n\n    .dataframe tbody tr th {\n        vertical-align: top;\n    }\n\n    .dataframe thead th {\n        text-align: right;\n    }\n</style>\n<table border=\"1\" class=\"dataframe\">\n  <thead>\n    <tr style=\"text-align: right;\">\n      <th></th>\n      <th>QUESTION</th>\n      <th>ANSWER</th>\n      <th>TAGSET</th>\n    </tr>\n  </thead>\n  <tbody>\n    <tr>\n      <th>0</th>\n      <td>조교님! 이중전공이랑 부전공 차이에 대해서 궁금해요!이중전공은 학위+졸업장 표시인건...</td>\n      <td>NaN</td>\n      <td>NaN</td>\n    </tr>\n    <tr>\n      <th>1</th>\n      <td>안녕하세요 조교님!재수강 연결방밥 대로 종합정보시스템-수업수강관리-재수강과목선택메뉴...</td>\n      <td>NaN</td>\n      <td>NaN</td>\n    </tr>\n    <tr>\n      <th>2</th>\n      <td>조교님 안녕하세요!! 항상 수고가 많으십니다 다름아니라 제가 총평점이 좀 낮은편이라...</td>\n      <td>NaN</td>\n      <td>NaN</td>\n    </tr>\n    <tr>\n      <th>3</th>\n      <td>안녕하세요 조교님!제가 맨 처음에 이중전공을 gbt로 신청했다가이중전공 경영으로 변...</td>\n      <td>NaN</td>\n      <td>NaN</td>\n    </tr>\n    <tr>\n      <th>4</th>\n      <td>이중전공을 바꾸고싶은데 혹시 바꾸게 된다면 그전에 받은 학점은 이어가는 건가요? 아...</td>\n      <td>NaN</td>\n      <td>NaN</td>\n    </tr>\n    <tr>\n      <th>...</th>\n      <td>...</td>\n      <td>...</td>\n      <td>...</td>\n    </tr>\n    <tr>\n      <th>6885</th>\n      <td>안녕하세요 중외통 17학번인데요이중전공 어떤 걸로 하면 좋은지 추천해주세요 ㅎㅎ</td>\n      <td>['아 그렇군요! 감사합니다!!']</td>\n      <td>NaN</td>\n    </tr>\n    <tr>\n      <th>6886</th>\n      <td>공대생 이중전공으로 언어할까 하는데 힘듦? 언어추천좀</td>\n      <td>['스페인어 했다가 힘들어서 영어로 바꾼 사람은 봤음']</td>\n      <td>NaN</td>\n    </tr>\n    <tr>\n      <th>6887</th>\n      <td>국제통상학과 이중전공생인데 걱정이 많이 된다..</td>\n      <td>['저도요.... 진짜 국통법 때문에 미칠거 같네요 ,', '나두...', '국통 ...</td>\n      <td>NaN</td>\n    </tr>\n    <tr>\n      <th>6888</th>\n      <td>경영 후기 이중전공 신청할 때이중전공 떨어져서 부전공 경영인데후기 이중 경영 신청해...</td>\n      <td>['부전공학점 다 채운다음 이중전공이랑 차이나는 전공점수 채워야되요', '한마디로 ...</td>\n      <td>NaN</td>\n    </tr>\n    <tr>\n      <th>6889</th>\n      <td>국제학부 이중전공생 없나여ㅠ 다른 과보다 정보가 많이 없는듯</td>\n      <td>['반가워요 동지...!', '저요저요!', '저욤!', '오 친해져요!!', '님...</td>\n      <td>NaN</td>\n    </tr>\n  </tbody>\n</table>\n<p>6890 rows × 3 columns</p>\n</div>"
     },
     "metadata": {},
     "execution_count": 28
    }
   ],
   "source": [
    "# 데이터셋 불러와서 정리하기\n",
    "\n",
    "eta_df = pd.read_csv(r\"E:\\Programming\\python\\NLP\\howls_nlp\\Chatbot\\자료\\질문.csv\", encoding='ANSI')\n",
    "eta_df = eta_df.drop(['Unnamed: 0', '글쓴이', '더보기', 'id', '작성시간', '좋아요', '댓글 수'], axis=1)\n",
    "eta_df['TAGSET'] = np.nan\n",
    "eta_df.rename(columns={\"내용\":\"QUESTION\", \"댓글\":\"ANSWER\"}, inplace=True)\n",
    "\n",
    "eta2_df = pd.read_csv(r\"E:\\Programming\\python\\NLP\\howls_nlp\\Chatbot\\자료\\질문2.csv\", encoding='ANSI')\n",
    "eta2_df = eta2_df.drop(['Unnamed: 0', '댓글쓴이', '대댓글여부', 'id'], axis=1)\n",
    "eta2_df['TAGSET'] = np.nan\n",
    "eta2_df.rename(columns={\"내용\":\"QUESTION\", \"댓글\":\"ANSWER\"}, inplace=True)\n",
    "\n",
    "dm_df = pd.read_csv(r\"E:\\Programming\\python\\NLP\\howls_nlp\\Chatbot\\자료\\이중전과게시판_이중검색.csv\", encoding='UTF-8')\n",
    "dm_df = dm_df.drop(['Unnamed: 0', '댓글쓴이', '대댓글여부', 'id'], axis=1)\n",
    "dm_df['TAGSET'] = np.nan\n",
    "dm_df.rename(columns={\"내용\":\"QUESTION\", \"댓글\":\"ANSWER\"}, inplace=True)\n",
    "\n",
    "# 데이터 병합\n",
    "df_lst = [eta_df, eta2_df, dm_df]\n",
    "merged_df = pd.concat(df_lst)\n",
    "merged_df.reset_index(drop=True, inplace=True)\n",
    "merged_df = merged_df[['QUESTION', \"ANSWER\", \"TAGSET\"]]"
   ]
  },
  {
   "cell_type": "code",
   "execution_count": 29,
   "metadata": {},
   "outputs": [
    {
     "output_type": "execute_result",
     "data": {
      "text/plain": "'1.14.0'"
     },
     "metadata": {},
     "execution_count": 29
    }
   ],
   "source": []
  },
  {
   "cell_type": "code",
   "execution_count": null,
   "metadata": {},
   "outputs": [],
   "source": []
  }
 ],
 "metadata": {
  "language_info": {
   "codemirror_mode": {
    "name": "ipython",
    "version": 3
   },
   "file_extension": ".py",
   "mimetype": "text/x-python",
   "name": "python",
   "nbconvert_exporter": "python",
   "pygments_lexer": "ipython3",
   "version": "3.7.6-final"
  },
  "orig_nbformat": 2,
  "kernelspec": {
   "name": "python37664bitbaseconda7ccc1197ea424c04aa8e970980241a68",
   "display_name": "Python 3.7.6 64-bit ('base': conda)"
  }
 },
 "nbformat": 4,
 "nbformat_minor": 2
}