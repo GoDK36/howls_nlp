{
 "cells": [
  {
   "cell_type": "code",
   "execution_count": 1,
   "metadata": {},
   "outputs": [
    {
     "output_type": "error",
     "ename": "ModuleNotFoundError",
     "evalue": "No module named 'kiwipiepy'",
     "traceback": [
      "\u001b[1;31m---------------------------------------------------------------------------\u001b[0m",
      "\u001b[1;31mModuleNotFoundError\u001b[0m                       Traceback (most recent call last)",
      "\u001b[1;32m<ipython-input-1-ffde2f7a9b7d>\u001b[0m in \u001b[0;36m<module>\u001b[1;34m\u001b[0m\n\u001b[0;32m      2\u001b[0m \u001b[1;32mimport\u001b[0m \u001b[0mpandas\u001b[0m \u001b[1;32mas\u001b[0m \u001b[0mpd\u001b[0m\u001b[1;33m\u001b[0m\u001b[1;33m\u001b[0m\u001b[0m\n\u001b[0;32m      3\u001b[0m \u001b[1;32mimport\u001b[0m \u001b[0mnumpy\u001b[0m \u001b[1;32mas\u001b[0m \u001b[0mnp\u001b[0m\u001b[1;33m\u001b[0m\u001b[1;33m\u001b[0m\u001b[0m\n\u001b[1;32m----> 4\u001b[1;33m \u001b[1;32mfrom\u001b[0m \u001b[0mkiwipiepy\u001b[0m \u001b[1;32mimport\u001b[0m \u001b[0mKiwi\u001b[0m\u001b[1;33m\u001b[0m\u001b[1;33m\u001b[0m\u001b[0m\n\u001b[0m",
      "\u001b[1;31mModuleNotFoundError\u001b[0m: No module named 'kiwipiepy'"
     ]
    }
   ],
   "source": [
    "import os, re, csv\n",
    "import pandas as pd\n",
    "import numpy as np\n",
    "from kiwipiepy import Kiwi"
   ]
  },
  {
   "cell_type": "code",
   "execution_count": 4,
   "metadata": {},
   "outputs": [],
   "source": [
    "# 데이터셋 불러와서 정리하기\n",
    "\n",
    "eta_df = pd.read_csv(r\"D:\\Shin\\Develop\\python\\NLP\\howls_nlp\\Chatbot\\자료\\질문.csv\", encoding='ANSI')\n",
    "eta_df = eta_df.drop(['Unnamed: 0', '글쓴이', '더보기', 'id', '작성시간', '좋아요', '댓글 수'], axis=1)\n",
    "eta_df['TAGSET'] = np.nan\n",
    "eta_df.rename(columns={\"내용\":\"QUESTION\", \"댓글\":\"ANSWER\"}, inplace=True)\n",
    "\n",
    "eta2_df = pd.read_csv(r\"D:\\Shin\\Develop\\python\\NLP\\howls_nlp\\Chatbot\\자료\\질문2.csv\", encoding='ANSI')\n",
    "eta2_df = eta2_df.drop(['Unnamed: 0', '댓글쓴이', '대댓글여부', 'id'], axis=1)\n",
    "eta2_df['TAGSET'] = np.nan\n",
    "eta2_df.rename(columns={\"내용\":\"QUESTION\", \"댓글\":\"ANSWER\"}, inplace=True)\n",
    "\n",
    "dm_df = pd.read_csv(r\"D:\\Shin\\Develop\\python\\NLP\\howls_nlp\\Chatbot\\자료\\이중전과게시판_이중검색.csv\", encoding='UTF-8')\n",
    "dm_df = dm_df.drop(['Unnamed: 0', '댓글쓴이', '대댓글여부', 'id'], axis=1)\n",
    "dm_df['TAGSET'] = np.nan\n",
    "dm_df.rename(columns={\"내용\":\"QUESTION\", \"댓글\":\"ANSWER\"}, inplace=True)\n",
    "\n",
    "# 데이터 병합\n",
    "df_lst = [eta_df, eta2_df, dm_df]\n",
    "merged_df = pd.concat(df_lst)\n",
    "merged_df.reset_index(drop=True, inplace=True)\n",
    "merged_df = merged_df[['QUESTION', \"ANSWER\", \"TAGSET\"]]"
   ]
  },
  {
   "cell_type": "code",
   "execution_count": 29,
   "metadata": {},
   "outputs": [
    {
     "output_type": "execute_result",
     "data": {
      "text/plain": "'1.14.0'"
     },
     "metadata": {},
     "execution_count": 29
    }
   ],
   "source": []
  },
  {
   "cell_type": "code",
   "execution_count": null,
   "metadata": {},
   "outputs": [],
   "source": []
  }
 ],
 "metadata": {
  "language_info": {
   "codemirror_mode": {
    "name": "ipython",
    "version": 3
   },
   "file_extension": ".py",
   "mimetype": "text/x-python",
   "name": "python",
   "nbconvert_exporter": "python",
   "pygments_lexer": "ipython3",
   "version": "3.7.6-final"
  },
  "orig_nbformat": 2,
  "kernelspec": {
   "name": "python3",
   "display_name": "Python 3"
  }
 },
 "nbformat": 4,
 "nbformat_minor": 2
}