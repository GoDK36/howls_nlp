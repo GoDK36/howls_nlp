{
 "cells": [
  {
   "cell_type": "code",
   "execution_count": 7,
   "metadata": {},
   "outputs": [],
   "source": [
    "import os, re, csv\n",
    "import pandas as pd\n",
    "import numpy as np\n",
    "from kiwipiepy import Kiwi"
   ]
  },
  {
   "cell_type": "code",
   "execution_count": 9,
   "metadata": {},
   "outputs": [],
   "source": [
    "# 데이터셋 불러와서 정리하기\n",
    "\n",
    "eta_df = pd.read_csv(r\"D:\\Shin\\Develop\\python\\NLP\\howls_nlp\\Chatbot\\자료\\질문.csv\", encoding='ANSI')\n",
    "eta_df = eta_df.drop(['Unnamed: 0', '글쓴이', '더보기', 'id', '작성시간', '좋아요', '댓글 수'], axis=1)\n",
    "eta_df['TAGSET'] = np.nan\n",
    "eta_df.rename(columns={\"내용\":\"QUESTION\", \"댓글\":\"ANSWER\"}, inplace=True)\n",
    "\n",
    "eta2_df = pd.read_csv(r\"D:\\Shin\\Develop\\python\\NLP\\howls_nlp\\Chatbot\\자료\\질문2.csv\", encoding='ANSI')\n",
    "eta2_df = eta2_df.drop(['Unnamed: 0', '댓글쓴이', '대댓글여부', 'id'], axis=1)\n",
    "eta2_df['TAGSET'] = np.nan\n",
    "eta2_df.rename(columns={\"내용\":\"QUESTION\", \"댓글\":\"ANSWER\"}, inplace=True)\n",
    "\n",
    "dm_df = pd.read_csv(r\"D:\\Shin\\Develop\\python\\NLP\\howls_nlp\\Chatbot\\자료\\이중전과게시판_이중검색.csv\", encoding='UTF-8')\n",
    "dm_df = dm_df.drop(['Unnamed: 0', '댓글쓴이', '대댓글여부', 'id'], axis=1)\n",
    "dm_df['TAGSET'] = np.nan\n",
    "dm_df.rename(columns={\"내용\":\"QUESTION\", \"댓글\":\"ANSWER\"}, inplace=True)\n",
    "\n",
    "# 데이터 병합\n",
    "df_lst = [eta_df, eta2_df, dm_df]\n",
    "merged_df = pd.concat(df_lst)\n",
    "merged_df.reset_index(drop=True, inplace=True)\n",
    "merged_df = merged_df[['QUESTION', \"ANSWER\", \"TAGSET\"]]"
   ]
  },
  {
   "cell_type": "code",
   "execution_count": 10,
   "metadata": {},
   "outputs": [],
   "source": [
    "question_list = merged_df['QUESTION'].tolist()"
   ]
  },
  {
   "cell_type": "code",
   "execution_count": 4,
   "metadata": {},
   "outputs": [],
   "source": [
    "## pycrfsuite 띄어쓰기 교정\n",
    "from pycrfsuite_spacing import TemplateGenerator\n",
    "from pycrfsuite_spacing import CharacterFeatureTransformer\n",
    "\n",
    "to_feature = CharacterFeatureTransformer(\n",
    "    TemplateGenerator(\n",
    "        begin=-2,\n",
    "        end=2,\n",
    "        min_range_length=3,\n",
    "        max_range_length=3)\n",
    "    )"
   ]
  },
  {
   "cell_type": "code",
   "execution_count": 4,
   "metadata": {},
   "outputs": [
    {
     "output_type": "stream",
     "name": "stdout",
     "text": "['14장 추적', '귀녀의 모습을 한번 쳐다보고 떠나려 했다. 집안을 이리저리 기웃거리던 강포수는 윤씨부인에게 인사를 올리고 중문을 나서는 치수 뒷모습을 보았다. 실망에 얼굴이 일그러지면서 강포수는 치수 뒤를 따라나올 수밖에 없었다. 문전에는 하인들이 즐비하게 늘어서서 상전을 전송하기 위해 기다리고 있었다.', '치수는 거들떠보지 않고 나귀 등에 오르고 말고삐를 잡은 수동은 엉성한 수염에 묻힌 작은 입술을 다물고 늘어선 하인들에게 일별을 던진다.', '삼수가 묘하게 웃었다. 복이 삼수에게 곁눈질을 했다. 짐을 실은 다른 한 필의 나귀는 텁석부리 강포수를 경계했던지 말고삐를 잡자 코를 불었다.', '\"나리마님, 안녕히 다녀오시오.\"', '제가끔 인사했으나 최치수는 말안장에 앉아 강물만 바라보고 있었다.', '의외로 단촐한 출발이었다. 하인들이 서너 명은 수행하리니, 김평산도 동행하지 않을까 예상했었지만 기운 센 편도 아닌 수동이 한 사람만 데리고 강포수와 함께 출발한 것이다. 엉거주춤 서 있는 하인들은 언덕길을 내려가는 두 필의 나귀를 멍청히 내려다본다.', '일행은 강을 끼고, 나귀와 사람들 발자국에 다져진 길을 천천히 간다. 몇 번씩이나 돌아보고 하며 아쉬움에 가득 찼던 강포수는 최참판댁 지붕이 시야에서 사라지자 눈을 내리깔았다. 고개가 차츰 숙어지면서 발끝으로 눈길이 떨어진다.', \"'머 영영 안 돌아올 기건데?'\", '나귀는 강포수에게 곁눈질을 하며 끝내 미덥지 못한가 코를 분다. 앞서가는 나귀 등에는 최치수의 뒷모습이 짐짝같이 보이었다.', \"'온 천지가 허퉁한 거맨치로 마음이 허퉁해서 갈 바를 못 잡겄다. 총도 싫고 돈도 싫고 ……'\", '길섶에 뻗은 풀잎에 이슬이 남아 있어서 짚세기가 젖는다. 날씨는 변덕을 부릴는지, 흩어져 있는 구름은 훨씬 빠르게 움직이고 있는 것 같았으나 하늘은 휑하니 높았고 푸른 빛은 차가웠다. 들판은 바람에 일렁이고 있었다. 목동이 소를 몰고 들판을 질러가는데 송아지가 어미소 뒤를 졸래졸래 따라간다.', '십리 길을 거의 지나는 동안 아무도 입을 떼지 않았다. 이 중에서 앞장선 수동의 얼굴에는 간혹 긴장의 빛이 돌다간 생각에 잠기곤 했다.', \"'서방님 속마음을 알 수가 있이야제. 하지마는 이분 길에는 무신 사단이 있기는 있을 기다. 무서운 어른이니께.'\", '수동이는 지리산에 구천이가 있다는 뜬소문을 생각 안 할래야 안 할 수가 없었다. 할 수만 있다면 그는 머릿속에서 구천의 모습을 싹 지워버리고 싶었다. 그러나 별당아씨와 구천이를 도장에 가두었던 무서운 그날 밤의 일이 말고삐를 잡고 가는 눈앞에 선하게 떠오른다. 이미 모든 일을 각오한 듯 태연하게 반항 없이, 또 굽히려 하지도 않던 구천의 얼굴은 더욱더 선명하다. 그들의 죄 많은 애정을 젤 먼저 알아차린 사람이 수동이었다. 다음날 아침, 도장 문이 열려진 채 두 남녀가 도망친 것을 알고 마음속으로 기뻐하며 그들이 손 닿지 못할 곳으로 달아날 것을 바란 사람도 수동이였다. 화심리 장암선생 문병에서 돌아온 치수는 윤씨부인한테서 그 경위를 들었을 것이 틀림이 없겠는데 안방에서 나올 때 그는 싱긋이 웃었던 것이다.', '\"이놈 길상아! 나뭇잎을 왜 안 쓸었느냐?\"', '사랑 뜰에서 그는 호통을 한번 쳤고 그러고는 여느 때와 다름없이 성큼 사랑방으로 들어섰던 것이다. 다음날, 또 그 다음날, 계속하여 그에게서 하인들은 아무런 변화를 볼 수 없었다. 사람을 놔서 구천이의 수소문을 하고 있다는 말이 이따금 하인들을 긴장시키곤 했으나 그러나 하인들은 어느덧 그 사건에서 최치수를 도외시하게 되었던 것이다. 금실이 좋지 않던 내외간이었으니까, 하며 일단락 지어진 일로 치부했었다.', \"'아니지, 아니지. 서방님 성미가 우떻다고? 성미는 내가 잘 아누만.'\", '기우가, 총포 연습에서 기우에 그칠 일이 아님을 수동은 깨달았다. 그런데 지금, 단촐한 행장을 꾸려 산을 향하고 있는 것이다. 사냥이 한갓 놀이에 불과했더라면 최치수는 결코 단촐한 인원으로 출발하지는 않았을 것이다. 수동이는 이미 구천의 운명이 결정되어버린 것 같은 예감을 느낀다.', \"'불쌍한 놈, 이리 될지 모르고 일을 저질렀나. 인륜을 짓밟아놓고 우찌 지가 살기를 바랄 것꼬. 남으 여자도 유만부동이지. 하늘 겉은 상전의 아씨를, 부치가 까꾸로 서지 않고서야. 환장했지. 빌어묵을 놈. 참말이제 이 노릇을 우찌 하노.'\", '주막 앞에 이르러 잠시 쉬어가기 위해 최치수가 나귀에서 내렸을 때 수동이는 재빨리 상전의 얼굴을 살핀다. 항상 날카롭게 다물려져 있던 입술이 헤벌어져 있었다. 나귀를 몰고 앞서가면서 최치수의 날카로운 표정만을 상상해온 수동이로서는 의외였다. 나귀에게 물을 먹이면서 다시 치수 쪽을 보았을 때 그는 멍하니 강물을 바라보고 있었다. 전혀 아무 생각이 없는 듯했고 병신스럽게 보이기까지 했다. 강포수는 주막 앞에 쭈그리고 있었는데 눈살을 찌푸리며 하늘을 올려다보고 있었다.', '\"오늘 밤은 연곡사에서 묵는 게야. 알았느냐?\"', '강물을 바라본 채 치수가 말했다.', '\"예.\"', '떠나기 전에 한마디 한 말의 되풀이였다. 하늘을 쳐다보고 있던 강포수가 일어섰다. 치수 뒷모습을 향해 비실비실 걸어가더니', '\"나으리!\"', '천천히 몸을 돌리고 최치수는 강포수를 쳐다본다.', '\"나으리!\"', '\"……\"', '\"저어.\"']\n"
    }
   ],
   "source": [
    "## 훈련 파일 정제 (수강편람 + 토지)\n",
    "train_path = r'E:\\Programming\\python\\NLP\\howls_nlp\\Chatbot\\자료\\space_trainer.txt'\n",
    "\n",
    "corpus = open(train_path, encoding='utf-8').read()\n",
    "corpus = corpus.replace('\\t',' ')\n",
    "train_corpus = corpus.split('\\n')\n",
    "print(train_corpus[:30])"
   ]
  },
  {
   "cell_type": "code",
   "execution_count": 8,
   "metadata": {},
   "outputs": [],
   "source": [
    "# 모델 훈련\n",
    "from pycrfsuite_spacing import PyCRFSuiteSpacing\n",
    "\n",
    "model_path = 'space_model.crfsuite'\n",
    "correct = PyCRFSuiteSpacing(\n",
    "    to_feature=to_feature,\n",
    "    l1_cost = 0,\n",
    "    l2_cost = 1.0,  # L2 규제 사용\n",
    "    verbose=False,\n",
    ")\n",
    "correct.train(train_corpus, model_path)"
   ]
  },
  {
   "cell_type": "code",
   "execution_count": 7,
   "metadata": {},
   "outputs": [
    {
     "output_type": "execute_result",
     "data": {
      "text/plain": "'나도너만큼잘할 수 있어멍청아!'"
     },
     "metadata": {},
     "execution_count": 7
    }
   ],
   "source": [
    "correct('나도너만큼잘할수있어멍청아!')"
   ]
  },
  {
   "cell_type": "code",
   "execution_count": 24,
   "metadata": {},
   "outputs": [
    {
     "output_type": "stream",
     "name": "stdout",
     "text": "['조교님! 이중전공 이랑 부전공 차이에 대해서 궁금해요!이중전공은 학위+ 졸업장 표시인건 알겠는 데부전공은 졸업장에 도 표시가 안되나요?', '안녕하세요 조교님!재수강 연결 방밥 대로 종합정보시스템- 수업수강관리- 재수강과목선택메뉴를 들어갔는 데안내사항 및 이전 성적 연결 현황에 ‘동일 교과로 자동연결 되었습다 ‘ 라고 나와 있습니다. 그럼 학사공지에 나와 있는 대로 재수강할 이전 성적을 선택해 재수강연결을 할 필요없이 아무것도 안해도 된 다는 건가요? 감사합니다. !', '조교님 안녕하세요!! 항상 수고가 많으십니다 다름아니라 제가 총 평점이 좀 낮은 편이라 막학기에 수업을 더 들으면서 평점을 올려보고자 하는 데요, 졸업학점인 134학점을 초과해서 듣는 것이 문제가 되나요??ㅠㅠ', '안녕하세요 조교님!제가 맨 처음에 이중전공을 gbt로 신청했다가 이중전공 경영으로 변경하려고 시도했는 데자체시험에 2번 이나 떨어져 변경을 실패했습니다그래서 지난 겨울 방학(2019년)에 부전공으로 경영을 선택을 하고 2020년도 1학기 이중전공 변경기간에 경영으로 신청하려고 합니다한 번 종합정보시스템을 들어갔는 데 사진과 같은 내용이 있더라고요신경쓰지 않고 변경기간에 경영으로 신청하면 되는 건가요?', '이중전공을 바꾸고싶은 데 혹시 바꾸게 된 다면 그전에 받은 학점은 이어가는 건가요? 아니면 소멸되는 건가요?', '조교님 혹시 등록휴학 후 자퇴할 경우 이번 학기 등록금 환불이 가능한 가요?', '졸업유예 기간 동안 학점 취득이 가능한 가요?', '조교님 제가 인간과 사회 2학점 짜리 과목 씨쁠을 맞았었는 데 이걸 언어와 문학 3학점 짜리 페논패 과목으로 재수강 연결이 가능하나요??', '안녕하세요 조교님. 2019-2학기에 8학기 까지 마치고, 현재 사정상 2학점이 남은 상태로 휴학 중 입니다. 전공과 이중전공 학점은 다 채운 상황이나, 총 취득학점이 132학점 이라 2학점이 모자랍니다. 추가 학기를 들어야 하는 상황인데요, 이 경우 2020 여름 계절학기 때 2학점 수강 후 수료가 가능한 지 궁금합니다. 답변 부탁드립니다- !', '교양 영어 재수강 하는 학생은 온라인 과제 하려면 전에 썼던 책이 있는 코드로 할 수 있는 건가요? 아니면 새 책으로 해야 하나요?']\n"
    }
   ],
   "source": [
    "corrected_question = []\n",
    "for x in question_list:\n",
    "    correction = correct(x)\n",
    "    corrected_question.append(correction)\n",
    "print(corrected_question[:10])"
   ]
  },
  {
   "cell_type": "code",
   "execution_count": 12,
   "metadata": {},
   "outputs": [
    {
     "output_type": "stream",
     "name": "stdout",
     "text": "all tags length = 154633 --> 124077, (num_doc = 3460682)"
    }
   ],
   "source": [
    "## soyspace 이용한 띄어쓰기\n",
    "from soyspacing.countbase import CountSpace\n",
    "\n",
    "corpus_fname = r'D:\\Shin\\Develop\\python\\NLP\\Resource\\big_space_trainer.txt'\n",
    "model = CountSpace()\n",
    "model.train(corpus_fname)\n",
    "\n",
    "# 모델 저장하기\n",
    "model.save_model(r\"D:\\Shin\\Develop\\python\\NLP\\howls_nlp\\Chatbot\\자료\\models\\soy_big_space_model\", json_format=False)"
   ]
  },
  {
   "cell_type": "code",
   "execution_count": 13,
   "metadata": {},
   "outputs": [],
   "source": [
    "# 모델 불러오기\n",
    "from soyspacing.countbase import CountSpace\n",
    "\n",
    "model = CountSpace()\n",
    "model.load_model(r\"D:\\Shin\\Develop\\python\\NLP\\howls_nlp\\Chatbot\\자료\\models\\soy_big_space_model\", json_format=False)"
   ]
  },
  {
   "cell_type": "code",
   "execution_count": 14,
   "metadata": {},
   "outputs": [
    {
     "output_type": "stream",
     "name": "stdout",
     "text": "[('조교님! 이중전공이랑 부전공 차이에 대해서 궁금해요!이중전공은 학위+졸업장 표시인건 알겠는데부전공은 졸업장에도 표시가 안되나요?', [None, None, None, 1, None, 0, 0, 0, None, 1, None, 0, 1, None, None, 1, 0, 0, 1, None, 0, None, None, None, None, 0, 0, 0, 1, None, None, None, None, None, 1, None, None, None, 1, None, None, 0, None, None, 0, 0, 1, None, None, None, None, 1, None, None, 1, None, None, None, 0, 1]), ('안녕하세요 조교님!재수강 연결방밥 대로 종합정보시스템-수업수강관리-재수강과목선택메뉴를 들어갔는데안내사항 및 이전성적 연결현황에 ‘동일교과로 자동연결되었습다 ‘ 라고 나와 있습니다. 그럼 학사공지에 나와 있는 대로 재수강할 이전 성적을 선택해 재수강연결을 할 필요 없이 아무것도 안 해도 된다는 건가요? 감사합니다.!', [0, 0, 0, None, 1, None, None, None, None, None, 0, 1, None, None, None, 1, None, 1, None, 0, 0, 0, 0, 0, None, None, None, None, None, None, None, None, None, None, 0, None, 0, None, None, None, None, None, 1, 0, 0, 0, 0, None, None, None, None, 1, 1, None, None, None, 1, None, None, None, None, 1, None, None, None, None, None, 1, None, None, None, None, None, None, None, 1, 1, None, 1, None, 1, 0, 0, 0, 0, 1, 0, 1, None, 0, 0, None, 1, 0, 1, 0, 1, 0, 1, None, 0, None, 1, None, 1, None, None, 1, 0, None, 1, None, 0, None, None, None, 1, 1, 0, 1, None, 1, 0, 0, 0, 1, 1, 0, 1, None, 0, 1, 0, 0, 0, 1, None, 0, 0, 0, 0, None, 1]), ('조교님 안녕하세요!! 항상 수고가 많으십니다 다름아니라 제가 총평점이 좀 낮은편이라 막학기에 수업을 더 들으면서 평점을 올려보고자 하는데요, 졸업학점인 134학점을 초과해서 듣는것이 문제가 되나요??ㅠㅠ', [None, None, 1, None, 0, 0, 0, None, None, 1, None, 1, None, None, 1, None, None, 0, None, 1, None, None, None, 0, 1, None, 1, None, None, None, 1, 1, None, None, None, None, 1, None, None, None, 1, None, None, 1, 1, None, None, 0, 1, None, None, 1, 0, 0, 0, None, 1, 0, 0, 0, 0, 1, None, 0, 0, None, 1, None, 0, 0, 0, 0, 1, None, None, None, 1, None, None, 0, 1, 0, 0, 1, None, None, 0, None, None, None, 1]), ('안녕하세요 조교님!제가 맨 처음에 이중전공을 gbt로 신청했다가 이중전공 경영으로 변경하려고 시도했는데자체시험에 2번이나 떨어져 변경을 실패했습니다그래서 지난 겨울방학(2019년)에 부전공으로 경영을 선택을 하고 2020년도 1학기 이중전공 변경기간에 경영으로 신청하려고 합니다한번 종합정보시스템을 들어갔는데 사진과 같은 내용이 있더라고요신경 쓰지 않고 변경기간에 경영으로 신청하면 되는 건가요?', [0, 0, 0, None, 1, None, None, None, None, None, 1, 1, None, 0, 1, None, 0, 0, 0, 1, None, None, None, 1, None, None, None, 0, 1, 0, 0, 0, 1, None, None, None, 1, 0, None, None, 0, 1, None, None, None, 0, None, None, None, None, None, 1, None, None, None, 1, None, 0, 1, None, None, 1, None, None, None, 0, 0, None, None, 0, 1, None, 1, None, None, None, None, None, 0, 0, 0, None, None, None, 1, None, 0, 0, 0, 1, None, None, 1, 0, None, 1, 0, 1, None, 0, 0, None, None, 1, None, 0, 1, 0, 0, 0, 1, None, None, None, 0, 1, None, None, None, 1, 0, None, 0, 0, 1, 0, 0, None, None, 1, None, 0, 0, 0, 0, 0, None, 1, 0, 0, 0, 0, 1, None, None, 1, 0, 1, None, 0, 1, None, 0, 0, 0, None, None, 1, 0, 1, 0, 1, None, None, None, 0, 1, None, None, None, 1, 0, None, 0, 1, 0, 1, 0, 0, 0, 1]), ('이중전공을 바꾸고싶은데 혹시 바꾸게 된다면 그전에 받은 학점은 이어가는 건가요? 아니면 소멸되는 건가요?', [0, 0, 0, 0, 1, 0, None, None, 0, None, 1, None, 1, None, None, 1, 0, 0, 1, None, 0, 1, None, 1, None, 0, 1, None, None, 0, 1, 0, 0, 0, 1, 0, 0, 1, None, None, None, 1, 0, 0, 0, 1]), ('조교님 혹시 등록휴학 후 자퇴할 경우 이번학기 등록금 환불이 가능한가요?', [None, None, 1, None, 1, None, None, None, 1, 1, None, None, 1, None, 1, None, None, None, 1, 0, 0, 1, None, None, 1, 0, 0, None, None, 0, 1]), ('졸업유예 기간동안 학점 취득이 가능한가요?', [None, None, None, 1, None, None, None, 1, None, 1, None, None, 1, 0, 0, None, None, 0, 1]), ('조교님 제가 인간과 사회 2학점 짜리 과목 씨쁠을 맞았었는데 이걸 언어와 문학 3학점 짜리 페논패 과목으로 재수강 연결이 가능하나요??', [None, None, 1, None, 1, None, None, 1, None, 1, None, 0, 1, None, 1, None, 1, None, None, 1, None, None, None, 0, 1, None, 1, None, 0, 1, None, 1, None, None, 1, None, 1, None, None, 1, None, 0, 0, 1, 0, 0, 1, None, None, 1, 0, 0, None, None, 0, None, 1]), ('안녕하세요 조교님.2019-2학기에 8학기 까지 마치고, 현재 사정상 2학점이 남은 상태로 휴학중입니다. 전공과 이중전공 학점은 다 채운 상황이나, 총 취득학점이 132학점이라 2학점이 모자랍니다. 추가학기를 들어야 하는 상황인데요, 이 경우 2020 여름 계절학기 때 2학점 수강 후 수료가 가능한지 궁금합니다. 답변 부탁드립니다-!', [0, 0, 0, None, 1, None, None, None, None, None, 0, 0, None, None, 0, 0, None, 1, None, None, 1, None, 1, None, 0, None, 1, 0, 1, None, None, 1, None, 0, 0, 1, None, 1, None, 0, 1, None, None, None, 0, 0, 0, 1, None, None, 1, None, 0, 0, 1, 0, 0, 1, 1, None, 1, None, 0, None, 0, 1, 1, None, 0, 0, 0, 1, None, None, 0, 0, None, None, 1, None, 0, 0, 1, 0, None, None, 0, 0, 1, None, None, None, None, 1, 0, 0, 1, 0, 1, 0, None, None, 0, 0, 1, 1, None, 1, None, 0, None, 1, None, 1, None, 0, 0, 1, 1, None, 0, 1, None, 1, 1, None, None, 1, None, 0, None, 1, None, 0, 0, 0, 0, 1, None, 1, None, 0, 0, 0, 0, None, None, 1]), ('교양영어 재수강 하는 학생은 온라인 과제 하려면 전에 썼던 책이 있는 코드로 할 수 있는 건가요? 아니면 새 책으로 해야 하나요?', [None, None, None, 1, None, 0, 1, None, 1, 0, 0, 1, None, None, 1, None, 1, None, 0, 1, None, 1, None, 1, None, 1, 0, 1, None, None, 1, 1, 1, 0, 1, 0, 0, 0, 1, 0, 0, 1, 1, None, None, 1, 0, 1, None, None, 0, 1])]\n"
    }
   ],
   "source": [
    "soy_corrected_question = []\n",
    "for x in question_list:\n",
    "    corrected = model.correct(x)\n",
    "    soy_corrected_question.append(corrected)\n",
    "print(soy_corrected_question[:10])"
   ]
  },
  {
   "cell_type": "code",
   "execution_count": 7,
   "metadata": {},
   "outputs": [
    {
     "output_type": "stream",
     "name": "stdout",
     "text": "['조교님! 이중전공이랑 부전공 차이에 대해서 궁금해요!이중전공은 학위+졸업장 표시인건 알겠는데부전공은 졸업장에도 표시가 안되나요?', '안녕하세요 조교님!재수강 연결방밥 대로 종합정보시스템-수업수강관리-재수강과목선택메뉴를 들어갔는데안내사항 및 이전성적 연결현황에 ‘동일교과로 자동연결되었습다 ‘ 라고 나와 있습니다. 그럼 학사공지에 나와 있는 대로 재수강할 이전 성적을 선택해 재수강연결을 할 필요 없이 아무것도 안해도 된다는 건가요? 감사합니다.!', '조교님 안녕하세요!! 항상 수고가 많으십니다 다름아니라 제가 총평점이 좀 낮은편이라 막학기에 수업을 더 들으면서 평점을 올려보고자 하는데요, 졸업학점인 134학점을 초과해서 듣는것이 문제가 되나요??ㅠㅠ', '안녕하세요 조교님!제가 맨 처음에 이중전공을 gbt로 신청했다가 이중전공 경영으로 변경하려고 시도했는데자체시험에 2번이나 떨어져 변경을 실패했습니다그래서 지난 겨울방학(2019년)에 부전공으로 경영을 선택을 하고 2020년도 1학기 이중전공 변경기간에 경영으로 신청하려고 합니다한번 종합정보시스템을 들어갔는데 사진과 같은 내용이 있더라고요신경 쓰지 않고 변경기간에 경영으로 신청하면 되는 건가요?', '이중전공을 바꾸고 싶은데 혹시 바꾸게 된다면 그전에 받은 학점은 이어가는 건가요? 아니면 소멸되는 건가요?', '조교님 혹시 등록휴학 후 자퇴할 경우 이번학기 등록금 환불이 가능한가요?', '졸업유예 기간동안 학점 취득이 가능한가요?', '조교님 제가 인간과 사회 2학점 짜리 과목 씨쁠을 맞았었는데 이걸 언어와 문학 3학점 짜리 페논패 과목으로 재수강 연결이 가능하나요??', '안녕하세요 조교님.2019-2학기에 8학기 까지 마치고, 현재 사정상 2학점이 남은 상태로 휴학중입니다. 전공과 이중전공 학점은 다 채운 상황이나, 총 취득학점이 132학점이라 2학점이 모자랍니다. 추가학기를 들어야 하는 상황인데요, 이 경우 2020 여름 계절학기 때 2학점 수강 후 수료가 가능한지 궁금합니다. 답변 부탁드립니다-!', '교양영어 재수강 하는 학생은 온라인 과제 하려면 전에 썼던 책이 있는 코드로 할 수 있는 건가요? 아니면 새 책으로 해야 하나요?']\n"
    }
   ],
   "source": [
    "spaced_quest = []\n",
    "for quest, tag in soy_corrected_question:\n",
    "    if type(quest) == str:\n",
    "        spaced_quest.append(quest)\n",
    "    else:\n",
    "        continue\n",
    "print(spaced_quest[:10])"
   ]
  },
  {
   "cell_type": "code",
   "execution_count": 8,
   "metadata": {},
   "outputs": [
    {
     "output_type": "execute_result",
     "data": {
      "text/plain": "                                               QUESTION  \\\n0     조교님! 이중전공이랑 부전공 차이에 대해서 궁금해요!이중전공은 학위+졸업장 표시인건...   \n1     안녕하세요 조교님!재수강 연결방밥 대로 종합정보시스템-수업수강관리-재수강과목선택메뉴...   \n2     조교님 안녕하세요!! 항상 수고가 많으십니다 다름아니라 제가 총평점이 좀 낮은편이라...   \n3     안녕하세요 조교님!제가 맨 처음에 이중전공을 gbt로 신청했다가 이중전공 경영으로 ...   \n4     이중전공을 바꾸고 싶은데 혹시 바꾸게 된다면 그전에 받은 학점은 이어가는 건가요? ...   \n...                                                 ...   \n6885       안녕하세요 중외통 17학번인데요이중전공 어떤 걸로 하면 좋은지 추천해주세요 ㅎㅎ   \n6886                      공대생 이중전공으로 언어할까 하는데 힘듦? 언어추천좀   \n6887                         국제통상학과 이중전공생인데 걱정이 많이 된다..   \n6888  경영 후기 이중전공 신청할 때이중전공 떨어져서 부전공 경영인데후기 이중 경영 신청해...   \n6889                  국제학부 이중전공생 없나여ㅠ 다른 과보다 정보가 많이 없는듯   \n\n                                                 ANSWER  TAGSET  \n0                                                   NaN     NaN  \n1                                                   NaN     NaN  \n2                                                   NaN     NaN  \n3                                                   NaN     NaN  \n4                                                   NaN     NaN  \n...                                                 ...     ...  \n6885                                ['아 그렇군요! 감사합니다!!']     NaN  \n6886                    ['스페인어 했다가 힘들어서 영어로 바꾼 사람은 봤음']     NaN  \n6887  ['저도요.... 진짜 국통법 때문에 미칠거 같네요 ,', '나두...', '국통 ...     NaN  \n6888  ['부전공학점 다 채운다음 이중전공이랑 차이나는 전공점수 채워야되요', '한마디로 ...     NaN  \n6889  ['반가워요 동지...!', '저요저요!', '저욤!', '오 친해져요!!', '님...     NaN  \n\n[6890 rows x 3 columns]",
      "text/html": "<div>\n<style scoped>\n    .dataframe tbody tr th:only-of-type {\n        vertical-align: middle;\n    }\n\n    .dataframe tbody tr th {\n        vertical-align: top;\n    }\n\n    .dataframe thead th {\n        text-align: right;\n    }\n</style>\n<table border=\"1\" class=\"dataframe\">\n  <thead>\n    <tr style=\"text-align: right;\">\n      <th></th>\n      <th>QUESTION</th>\n      <th>ANSWER</th>\n      <th>TAGSET</th>\n    </tr>\n  </thead>\n  <tbody>\n    <tr>\n      <th>0</th>\n      <td>조교님! 이중전공이랑 부전공 차이에 대해서 궁금해요!이중전공은 학위+졸업장 표시인건...</td>\n      <td>NaN</td>\n      <td>NaN</td>\n    </tr>\n    <tr>\n      <th>1</th>\n      <td>안녕하세요 조교님!재수강 연결방밥 대로 종합정보시스템-수업수강관리-재수강과목선택메뉴...</td>\n      <td>NaN</td>\n      <td>NaN</td>\n    </tr>\n    <tr>\n      <th>2</th>\n      <td>조교님 안녕하세요!! 항상 수고가 많으십니다 다름아니라 제가 총평점이 좀 낮은편이라...</td>\n      <td>NaN</td>\n      <td>NaN</td>\n    </tr>\n    <tr>\n      <th>3</th>\n      <td>안녕하세요 조교님!제가 맨 처음에 이중전공을 gbt로 신청했다가 이중전공 경영으로 ...</td>\n      <td>NaN</td>\n      <td>NaN</td>\n    </tr>\n    <tr>\n      <th>4</th>\n      <td>이중전공을 바꾸고 싶은데 혹시 바꾸게 된다면 그전에 받은 학점은 이어가는 건가요? ...</td>\n      <td>NaN</td>\n      <td>NaN</td>\n    </tr>\n    <tr>\n      <th>...</th>\n      <td>...</td>\n      <td>...</td>\n      <td>...</td>\n    </tr>\n    <tr>\n      <th>6885</th>\n      <td>안녕하세요 중외통 17학번인데요이중전공 어떤 걸로 하면 좋은지 추천해주세요 ㅎㅎ</td>\n      <td>['아 그렇군요! 감사합니다!!']</td>\n      <td>NaN</td>\n    </tr>\n    <tr>\n      <th>6886</th>\n      <td>공대생 이중전공으로 언어할까 하는데 힘듦? 언어추천좀</td>\n      <td>['스페인어 했다가 힘들어서 영어로 바꾼 사람은 봤음']</td>\n      <td>NaN</td>\n    </tr>\n    <tr>\n      <th>6887</th>\n      <td>국제통상학과 이중전공생인데 걱정이 많이 된다..</td>\n      <td>['저도요.... 진짜 국통법 때문에 미칠거 같네요 ,', '나두...', '국통 ...</td>\n      <td>NaN</td>\n    </tr>\n    <tr>\n      <th>6888</th>\n      <td>경영 후기 이중전공 신청할 때이중전공 떨어져서 부전공 경영인데후기 이중 경영 신청해...</td>\n      <td>['부전공학점 다 채운다음 이중전공이랑 차이나는 전공점수 채워야되요', '한마디로 ...</td>\n      <td>NaN</td>\n    </tr>\n    <tr>\n      <th>6889</th>\n      <td>국제학부 이중전공생 없나여ㅠ 다른 과보다 정보가 많이 없는듯</td>\n      <td>['반가워요 동지...!', '저요저요!', '저욤!', '오 친해져요!!', '님...</td>\n      <td>NaN</td>\n    </tr>\n  </tbody>\n</table>\n<p>6890 rows × 3 columns</p>\n</div>"
     },
     "metadata": {},
     "execution_count": 8
    }
   ],
   "source": [
    "merged_df['QUESTION'] = spaced_quest\n",
    "\n",
    "merged_df"
   ]
  },
  {
   "cell_type": "code",
   "execution_count": 9,
   "metadata": {},
   "outputs": [],
   "source": [
    "### 정규식(이모티콘)으로 전처리하기 ###"
   ]
  },
  {
   "cell_type": "code",
   "execution_count": 10,
   "metadata": {
    "tags": [
     "outputPrepend"
    ]
   },
   "outputs": [
    {
     "output_type": "stream",
     "name": "stdout",
     "text": "['이중전공이랑 부전공 차이에 대해서 궁금해요이중전공은 학위졸업장 표시인건 알겠는데부전공은 졸업장에도 표시가 안되나요', '재수강 연결방밥 대로 종합정보시스템-수업수강관리-재수강과목선택메뉴를 들어갔는데안내사항 및 이전성적 연결현황에 ‘동일교과로 자동연결되었습다 ‘ 라고 나와 있습니다 그럼 학사공지에 나와 있는 대로 재수강할 이전 성적을 선택해 재수강연결을 할 필요 없이 아무것도 안해도 된다는 건가요 감사합니다', '항상 수고가 많으십니다 다름아니라 제가 총평점이 좀 낮은편이라 막학기에 수업을 더 들으면서 평점을 올려보고자 하는데요 졸업학점인 134학점을 초과해서 듣는것이 문제가 되나요', '제가 맨 처음에 이중전공을 gbt로 신청했다가 이중전공 경영으로 변경하려고 시도했는데자체시험에 2번이나 떨어져 변경을 실패했습니다그래서 지난 겨울방학2019년에 부전공으로 경영을 선택을 하고 2020년도 1학기 이중전공 변경기간에 경영으로 신청하려고 합니다한번 종합정보시스템을 들어갔는데 사진과 같은 내요이 있더라고요신경 쓰지 않고 변경기간에 경영으로 신청하면 되는 건가요', '이중전공을 바꾸고 싶은데 혹시 바꾸게 된다면 그전에 받은 학점은 이어가는 건가요 아니면 소멸되는 건가요']\n"
    },
    {
     "output_type": "execute_result",
     "data": {
      "text/plain": "                                               QUESTION  \\\n0     이중전공이랑 부전공 차이에 대해서 궁금해요이중전공은 학위졸업장 표시인건 알겠는데부전...   \n1     재수강 연결방밥 대로 종합정보시스템-수업수강관리-재수강과목선택메뉴를 들어갔는데안내사...   \n2     항상 수고가 많으십니다 다름아니라 제가 총평점이 좀 낮은편이라 막학기에 수업을 더 ...   \n3     제가 맨 처음에 이중전공을 gbt로 신청했다가 이중전공 경영으로 변경하려고 시도했는...   \n4     이중전공을 바꾸고 싶은데 혹시 바꾸게 된다면 그전에 받은 학점은 이어가는 건가요 아...   \n...                                                 ...   \n6885               중외통 17학번인데요이중전공 어떤 걸로 하면 좋은지 추천해주세요    \n6886                       공대생 이중전공으로 언어할까 하는데 힘듦 언어추천좀   \n6887                           국제통상학과 이중전공생인데 걱정이 많이 된다   \n6888  경영 후기 이중전공 신청할 때이중전공 떨어져서 부전공 경영인데후기 이중전공 경영 신...   \n6889                   국제학부 이중전공생 없나요 다른 과보다 정보가 많이 없는듯   \n\n                                                 ANSWER  TAGSET  \n0                                                   NaN     NaN  \n1                                                   NaN     NaN  \n2                                                   NaN     NaN  \n3                                                   NaN     NaN  \n4                                                   NaN     NaN  \n...                                                 ...     ...  \n6885                                ['아 그렇군요! 감사합니다!!']     NaN  \n6886                    ['스페인어 했다가 힘들어서 영어로 바꾼 사람은 봤음']     NaN  \n6887  ['저도요.... 진짜 국통법 때문에 미칠거 같네요 ,', '나두...', '국통 ...     NaN  \n6888  ['부전공학점 다 채운다음 이중전공이랑 차이나는 전공점수 채워야되요', '한마디로 ...     NaN  \n6889  ['반가워요 동지...!', '저요저요!', '저욤!', '오 친해져요!!', '님...     NaN  \n\n[6890 rows x 3 columns]",
      "text/html": "<div>\n<style scoped>\n    .dataframe tbody tr th:only-of-type {\n        vertical-align: middle;\n    }\n\n    .dataframe tbody tr th {\n        vertical-align: top;\n    }\n\n    .dataframe thead th {\n        text-align: right;\n    }\n</style>\n<table border=\"1\" class=\"dataframe\">\n  <thead>\n    <tr style=\"text-align: right;\">\n      <th></th>\n      <th>QUESTION</th>\n      <th>ANSWER</th>\n      <th>TAGSET</th>\n    </tr>\n  </thead>\n  <tbody>\n    <tr>\n      <th>0</th>\n      <td>이중전공이랑 부전공 차이에 대해서 궁금해요이중전공은 학위졸업장 표시인건 알겠는데부전...</td>\n      <td>NaN</td>\n      <td>NaN</td>\n    </tr>\n    <tr>\n      <th>1</th>\n      <td>재수강 연결방밥 대로 종합정보시스템-수업수강관리-재수강과목선택메뉴를 들어갔는데안내사...</td>\n      <td>NaN</td>\n      <td>NaN</td>\n    </tr>\n    <tr>\n      <th>2</th>\n      <td>항상 수고가 많으십니다 다름아니라 제가 총평점이 좀 낮은편이라 막학기에 수업을 더 ...</td>\n      <td>NaN</td>\n      <td>NaN</td>\n    </tr>\n    <tr>\n      <th>3</th>\n      <td>제가 맨 처음에 이중전공을 gbt로 신청했다가 이중전공 경영으로 변경하려고 시도했는...</td>\n      <td>NaN</td>\n      <td>NaN</td>\n    </tr>\n    <tr>\n      <th>4</th>\n      <td>이중전공을 바꾸고 싶은데 혹시 바꾸게 된다면 그전에 받은 학점은 이어가는 건가요 아...</td>\n      <td>NaN</td>\n      <td>NaN</td>\n    </tr>\n    <tr>\n      <th>...</th>\n      <td>...</td>\n      <td>...</td>\n      <td>...</td>\n    </tr>\n    <tr>\n      <th>6885</th>\n      <td>중외통 17학번인데요이중전공 어떤 걸로 하면 좋은지 추천해주세요</td>\n      <td>['아 그렇군요! 감사합니다!!']</td>\n      <td>NaN</td>\n    </tr>\n    <tr>\n      <th>6886</th>\n      <td>공대생 이중전공으로 언어할까 하는데 힘듦 언어추천좀</td>\n      <td>['스페인어 했다가 힘들어서 영어로 바꾼 사람은 봤음']</td>\n      <td>NaN</td>\n    </tr>\n    <tr>\n      <th>6887</th>\n      <td>국제통상학과 이중전공생인데 걱정이 많이 된다</td>\n      <td>['저도요.... 진짜 국통법 때문에 미칠거 같네요 ,', '나두...', '국통 ...</td>\n      <td>NaN</td>\n    </tr>\n    <tr>\n      <th>6888</th>\n      <td>경영 후기 이중전공 신청할 때이중전공 떨어져서 부전공 경영인데후기 이중전공 경영 신...</td>\n      <td>['부전공학점 다 채운다음 이중전공이랑 차이나는 전공점수 채워야되요', '한마디로 ...</td>\n      <td>NaN</td>\n    </tr>\n    <tr>\n      <th>6889</th>\n      <td>국제학부 이중전공생 없나요 다른 과보다 정보가 많이 없는듯</td>\n      <td>['반가워요 동지...!', '저요저요!', '저욤!', '오 친해져요!!', '님...</td>\n      <td>NaN</td>\n    </tr>\n  </tbody>\n</table>\n<p>6890 rows × 3 columns</p>\n</div>"
     },
     "metadata": {},
     "execution_count": 10
    }
   ],
   "source": [
    "norm_content = []\n",
    "for text in spaced_quest:\n",
    "    punct = re.compile(r'[\\~\\'\\\"\\.\\,\\?\\!\\:\\;\\)\\(\\+]+') \n",
    "    norm_text = re.sub(punct, \"\", text)\n",
    "    norm_text = re.sub(r'(안녕)+(하세요)?', '', norm_text)\n",
    "    norm_text = re.sub(r'(조교)[님]?', \"\", norm_text)\n",
    "    norm_text = re.sub(r'[ㄱ-ㅎㅏ-ㅣ]+', '', norm_text) # ㅠ하나 쓰는 놈들꺼 제거...\n",
    "    norm_text = re.sub( r\"\\s{2,}\",\" \", norm_text) \n",
    "    norm_text = re.sub( r\"\\A\\s+\",'', norm_text)\n",
    "    norm_text = re.sub(r\"([가-힣]+)[여용염]\",r\"\\1요\",norm_text) # 용용체 제거 슈바끄...\n",
    "    norm_text = re.sub(r\"\\b이중[^전공]*?\\b\",\"이중전공\",norm_text) # 이중으로만 적혀있는거 변형\n",
    "    norm_text = re.sub(r\"\\b부전[^공]*?\\b\",\"부전공\",norm_text) # 부전으로만 적혀있는거 변형\n",
    "\n",
    "    # 줄인말제거\n",
    "    norm_text = re.sub(r\"\\b전심[가-힣]*\\b\", \"전공심화\", norm_text)\n",
    "    norm_text = re.sub(r\"\\b융전[가-힣]*\\b\", \"융합전공\", norm_text)\n",
    "    norm_text = re.sub(r'\\b연계전공\\b', '융합전공', norm_text) # 단어 통일화\n",
    "    \n",
    "    norm_content.append(norm_text)\n",
    "\n",
    "print(norm_content[:5])\n",
    "\n",
    "merged_df['QUESTION'] = norm_content\n",
    "\n",
    "merged_df"
   ]
  },
  {
   "cell_type": "code",
   "execution_count": 11,
   "metadata": {},
   "outputs": [],
   "source": [
    "### kiwi를 사용한 형태소 분석 ###"
   ]
  },
  {
   "cell_type": "code",
   "execution_count": 17,
   "metadata": {
    "tags": [
     "outputPrepend",
     "outputPrepend",
     "outputPrepend",
     "outputPrepend",
     "outputPrepend",
     "outputPrepend",
     "outputPrepend",
     "outputPrepend",
     "outputPrepend",
     "outputPrepend",
     "outputPrepend",
     "outputPrepend",
     "outputPrepend",
     "outputPrepend",
     "outputPrepend",
     "outputPrepend",
     "outputPrepend",
     "outputPrepend",
     "outputPrepend",
     "outputPrepend",
     "outputPrepend",
     "outputPrepend",
     "outputPrepend",
     "outputPrepend",
     "outputPrepend",
     "outputPrepend",
     "outputPrepend",
     "outputPrepend",
     "outputPrepend",
     "outputPrepend",
     "outputPrepend",
     "outputPrepend",
     "outputPrepend",
     "outputPrepend",
     "outputPrepend",
     "outputPrepend",
     "outputPrepend",
     "outputPrepend",
     "outputPrepend",
     "outputPrepend",
     "outputPrepend",
     "outputPrepend",
     "outputPrepend",
     "outputPrepend",
     "outputPrepend",
     "outputPrepend",
     "outputPrepend",
     "outputPrepend",
     "outputPrepend",
     "outputPrepend",
     "outputPrepend",
     "outputPrepend",
     "outputPrepend",
     "outputPrepend",
     "outputPrepend",
     "outputPrepend",
     "outputPrepend",
     "outputPrepend",
     "outputPrepend",
     "outputPrepend",
     "outputPrepend",
     "outputPrepend",
     "outputPrepend",
     "outputPrepend",
     "outputPrepend",
     "outputPrepend",
     "outputPrepend",
     "outputPrepend",
     "outputPrepend",
     "outputPrepend",
     "outputPrepend",
     "outputPrepend",
     "outputPrepend",
     "outputPrepend",
     "outputPrepend",
     "outputPrepend",
     "outputPrepend",
     "outputPrepend",
     "outputPrepend",
     "outputPrepend",
     "outputPrepend",
     "outputPrepend",
     "outputPrepend",
     "outputPrepend",
     "outputPrepend",
     "outputPrepend",
     "outputPrepend",
     "outputPrepend",
     "outputPrepend",
     "outputPrepend",
     "outputPrepend",
     "outputPrepend",
     "outputPrepend",
     "outputPrepend",
     "outputPrepend",
     "outputPrepend",
     "outputPrepend",
     "outputPrepend",
     "outputPrepend",
     "outputPrepend",
     "outputPrepend",
     "outputPrepend",
     "outputPrepend",
     "outputPrepend",
     "outputPrepend",
     "outputPrepend",
     "outputPrepend",
     "outputPrepend",
     "outputPrepend",
     "outputPrepend",
     "outputPrepend",
     "outputPrepend",
     "outputPrepend",
     "outputPrepend",
     "outputPrepend",
     "outputPrepend",
     "outputPrepend",
     "outputPrepend",
     "outputPrepend",
     "outputPrepend",
     "outputPrepend",
     "outputPrepend",
     "outputPrepend",
     "outputPrepend",
     "outputPrepend",
     "outputPrepend",
     "outputPrepend",
     "outputPrepend",
     "outputPrepend",
     "outputPrepend",
     "outputPrepend",
     "outputPrepend",
     "outputPrepend",
     "outputPrepend",
     "outputPrepend",
     "outputPrepend",
     "outputPrepend",
     "outputPrepend",
     "outputPrepend",
     "outputPrepend",
     "outputPrepend",
     "outputPrepend",
     "outputPrepend",
     "outputPrepend",
     "outputPrepend",
     "outputPrepend",
     "outputPrepend",
     "outputPrepend",
     "outputPrepend",
     "outputPrepend",
     "outputPrepend",
     "outputPrepend",
     "outputPrepend",
     "outputPrepend",
     "outputPrepend",
     "outputPrepend",
     "outputPrepend",
     "outputPrepend",
     "outputPrepend",
     "outputPrepend",
     "outputPrepend",
     "outputPrepend",
     "outputPrepend",
     "outputPrepend",
     "outputPrepend",
     "outputPrepend",
     "outputPrepend",
     "outputPrepend",
     "outputPrepend",
     "outputPrepend",
     "outputPrepend",
     "outputPrepend",
     "outputPrepend",
     "outputPrepend",
     "outputPrepend",
     "outputPrepend",
     "outputPrepend",
     "outputPrepend",
     "outputPrepend",
     "outputPrepend",
     "outputPrepend",
     "outputPrepend",
     "outputPrepend",
     "outputPrepend",
     "outputPrepend",
     "outputPrepend",
     "outputPrepend",
     "outputPrepend"
    ]
   },
   "outputs": [
    {
     "output_type": "stream",
     "name": "stdout",
     "text": "[['이중전공/@', '이랑/JC', '부전공/@', '차이/NNG', '에/JKB', '대하/VV', '어서/EC', '궁금/XR', '하/XSA', '어요/EF', '이중전공/@', '은/JX', '학위/NNG', '졸업장/NNG', '표시/NNG', '이/VCP', 'ᆫ/ETM', '거/NNB', 'ᆫ/JX', '알/VV', '겠/EP', '는데/EC', '부전공/@', '은/JX', '졸업장/NNG', '에/JKB', '도/JX', '표시/NNG', '가/JKS', '안/MAG', '되/VV', '나요/EF'], ['재수강/NNP', '연결/NNG', '방/NNG', '밥/NNG', '대로/JX', '종합/NNG', '정보/NNG', '시스템/NNG', '-/SO', '수업/NNG', '수강/NNG', '관리/NNG', '-/SO', '재/XPN', '수강/NNG', '과목/NNG', '선택/NNG', '메뉴/NNG', '를/JKO', '들어가/VV', '었/EP', '는데/EC', '안내/NNG', '사항/NNG', '및/MAG', '이전/NNG', '성적/NNG', '연결/NNG', '현황/NNG', '에/JKB', '‘/SS', '동일/NNG', '교과/NNG', '로/JKB', '자동연결되었습/NNG', '다/EC', '‘/SS', '라고/JKQ', '나오/VV', '어/EC', '있/VX', '습니다/EC', '그럼/MAJ', '학사/NNG', '공지/NNG', '에/JKB', '나오/VV', '어/EC', '있/VX', '는/ETM', '대로/NNB', '재수강/NNP', '할/NNB', '이전/NNG', '성적/NNG', '을/JKO', '선택/NNG', '하/XSV', '어/EC', '재수강/NNP', '연결/NNG', '을/JKO', '하/VV', 'ᆯ/ETM', '필요/NNG', '없이/MAG', '아무것/NNG', '도/JX', '안/MAG', '하/VV', '어도/EC', '되/VV', 'ᆫ다는/ETM', '거/NNB', '이/VCP', 'ᆫ가요/EF', '감사/NNG', '하/XSA', 'ᆸ니다/EF'], ['항상/MAG', '수고/NNG', '가/JKS', '많/VA', '으시/EP', 'ᆸ니다/EF', '다르/VA', 'ᆷ/ETN', '아니/VCN', '라/EC', '제가/NNP', '총/MM', '평점/NNG', '이/JKS', '좀/MAG', '낮/VA', '은/ETM', '편/NNB', '이/VCP', '라/EC', '막/MAG', '학기/NNG', '에/JKB', '수업/NNG', '을/JKO', '더/MAG', '듣/VV', '으면서/EC', '평점/NNG', '을/JKO', '올리/VV', '어/EC', '보/VX', '고자/EC', '하/VX', '는데요/EF', '졸업/NNG', '학점/NNG', '이/VCP', 'ᆫ/ETM', '134/SN', '학점/NNG', '을/JKO', '초과/NNG', '하/XSV', '어서/EC', '듣/VV', '는/ETM', '것/NNB', '이/JKS', '문제/NNG', '가/JKC', '되/VV', '나요/EF'], ['제/NP', '가/JKS', '맨/MM', '처음/NNG', '에/JKB', '이중전공/@', '을/JKO', 'gbt/SL', '로/JKB', '신청/NNG', '하/XSV', '었/EP', '다가/EC', '이중전공/@', '경영/NNG', '으로/JKB', '변경/NNG', '하/XSV', '려고/EC', '시도/NNG', '하/XSV', '었/EP', '는데/EC', '자체/NNG', '시험/NNG', '에/JKB', '2/SN', '번/NNB', '이나/JX', '떨어지/VV', '어/EC', '변경/NNG', '을/JKO', '실패/NNG', '하/XSV', '었/EP', '습니다/EF', '그래서/MAJ', '지나/VV', 'ᆫ/ETM', '겨울/NNG', '방학/NNG', '2019/SN', '년/NNB', '에/JKB', '부전공/@', '으로/JKB', '경영/NNG', '을/JKO', '선택/NNG', '을/JKO', '하/VV', '고/EC', '2020년/NNP', '도/JX', '1/SN', '학기/NNG', '이중전공/@', '변경/NNG', '기간/NNG', '에/JKB', '경영/NNG', '으로/JKB', '신청/NNG', '하/XSV', '려고/EC', '하/VX', 'ᆸ니다/EF', '한번/NNG', '종합/NNG', '정보/NNG', '시스템/NNG', '을/JKO', '들어가/VV', '었/EP', '는데/EC', '사진/NNG', '과/JKB', '같/VA', '은/ETM', '내요/NNP', '이/JKS', '있/VV', '더라고요/EF', '신경/NNG', '쓰/VV', '지/EC', '않/VX', '고/EC', '변경/NNG', '기간/NNG', '에/JKB', '경영/NNG', '으로/JKB', '신청/NNG', '하/XSV', '면/EC', '되/VV', '는/ETM', '거/NNB', '이/VCP', 'ᆫ가/EF', '요/JX'], ['이중전공/@', '을/JKO', '바꾸/VV', '고/EC', '싶/VX', '은데/EC', '혹시/MAG', '바꾸/VV', '게/EC', '되/VV', 'ᆫ다면/EC', '그/MM', '전/NNG', '에/JKB', '받/VV', '은/ETM', '학점/NNG', '은/JX', '잇/VV', '어/EC', '가/VX', '는/ETM', '거/NNB', '이/VCP', 'ᆫ가요/EF', '아니면/MAJ', '소멸/NNG', '되/XSV', '는/ETM', '거/NNB', '이/VCP', 'ᆫ가/EF', '요/JX'], ['혹시/MAG', '등록/NNG', '휴학/NNG', '후/NNG', '자퇴/NNG', '하/XSV', 'ᆯ/ETM', '경우/NNG', '이번/NNG', '학기/NNG', '등록금/NNG', '환불/NNG', '이/JKS', '가능/NNG', '하/XSA', 'ᆫ가요/EF'], ['졸업/NNG', '유예/NNG', '기간/NNG', '동안/NNG', '학점/NNG', '취득/NNG', '이/JKS', '가능/NNG', '하/XSA', 'ᆫ가요/EF'], ['제/NP', '가/JKS', '인간/NNG', '과/JC', '사회/NNG', '2/SN', '학점/NNG', '짜리/XSN', '과목/NNG', '씨쁠/NNG', '을/JKO', '맞/VV', '었었/EP', '는데/EC', '이거/NP', 'ᆯ/JKO', '언어/NNG', '와/JC', '문학/NNG', '3/SN', '학점/NNG', '짜리/XSN', '페논/NNG', '패/NNG', '과목/NNG', '으로/JKB', '재수강/NNP', '연결/NNG', '이/JKS', '가능/NNG', '하/XSA', '나/EC', '요/JX'], ['2019/SN', '-/SO', '2/SN', '학기/NNG', '에/JKB', '8/SN', '학기/NNG', '까지/JX', '마치/VV', '고/EC', '현재/MAG', '사정/NNG', '상/XSN', '2/SN', '학점/NNG', '이/JKS', '남/VV', '은/ETM', '상태/NNG', '로/JKB', '휴학/NNG', '중/NNB', '이/VCP', 'ᆸ니다/EF', '전공/NNG', '과/JC', '이중전공/@', '학점/NNG', '은/JX', '다/MAG', '채운/NNP', '상황/NNG', '이나/JC', '총/MM', '취득/NNG', '학점/NNG', '이/JKS', '132/SN', '학점/NNG', '이/VCP', '라/EC', '2/SN', '학점/NNG', '이/JKS', '모자라/VV', 'ᆸ니다/EF', '추가/NNG', '학기/NNG', '를/JKO', '듣/VV', '어야/EC', '하/VX', '는/ETM', '상황/NNG', '이/VCP', 'ᆫ데요/EF', '이/MM', '경우/NNG', '2020/SN', '여름/NNG', '계절/NNG', '학기/NNG', '때/NNG', '2/SN', '학점/NNG', '수강/NNG', '후/NNG', '수료/NNG', '가/JKS', '가능/NNG', '하/XSA', 'ᆫ지/EC', '궁금/XR', '하/XSA', 'ᆸ니다/EF', '답변/NNG', '부탁/NNG', '드리/VV', 'ᆸ니다/EF', '-/SO'], ['교양/NNG', '영어/NNG', '재/XPN', '수강/NNG', '하/XSV', '는/ETM', '학생/NNG', '은/JX', '온라인/NNG', '과제/NNG', '하/XSV', '려면/EC', '전/NNG', '에/JKB', '쓰/VV', '었/EP', '던/ETM', '책/NNG', '이/JKS', '있/VV', '는/ETM', '코드/NNG', '로/JKB', '하/VV', 'ᆯ/ETM', '수/NNB', '있/VV', '는/ETM', '거/NNB', '이/VCP', 'ᆫ가요/EF', '아니면/MAJ', '새/MM', '책/NNG', '으로/JKB', '하/VV', '어야/EC', '하/VX', '나요/EF'], ['동일/NNG', '년도/NNB', '내/NNB', '에서/JKB', '학점/NNG', '이월/NNG', '이/JKS', '가능/NNG', '하/XSA', 'ᆫ/ETM', '것/NNB', '에/JKB', '대하/VV', '요/JX', '질문/NNG', '드리/VV', 'ᆸ니다/EF', '1/SN', '봄/NNG', '학기/NNG', '에/JKB', '휴학/NNG', '을/JKO', '하/VV', '고/EC', '가을/NNG', '학기/NNG', '에/JKB', '복학/NNG', '하/XSV', '면/EC', '학점/NNG', '은/JX', '최대/NNG', '20/SN', '일/NNB', '뿐/JX', '이/VCP', 'ᆫ가요/EC', '22/SN', '이렇게/MAG', '는/JX', '못/MAG', '듣/VV', '는지/EC', '2/SN', '봄/NNG', '학기/NNG', '에/JKB', '교환/NNG', '학생/NNG', '을/JKO', '가/VV', '어서/EC', '17/SN', '학점/NNG', '을/JKO', '이수/NNG', '받/VV', '으면/EC', '가을/NNG', '학기/NNG', '에/JKB', '외대/NNP', '에서/JKB', '23/SN', '학점/NNG', '을/JKO', '듣/VV', '을/ETM', '수/NNB', '있/VV', '나요/EF'], ['만약/NNG', '에/JKB', '이중전공/@', '-/SO', '>/SS', '이중전공/@', '변경/NNG', '하/XSV', '고/EC', '다시/MAG', '이중전공/@', '-/SO', '>/SS', '부전공/@', 'b/SL', '로/JKB', '내리/VV', '는/ETM', '것/NNB', '도/JX', '가능/NNG', '하/XSA', 'ᆫ가요/EF'], ['혹시/MAG', '미리/MAG', '복학/NNG', '신청/NNG', '을/JKO', '하/VV', 'ᆯ/ETM', '수/NNB', '있/VV', '는지/EC', '궁금/XR', '하/XSA', 'ᆸ니다/EF', '공무원/NNG', '임요유예시/NNG', '에/JKB', '재학/NNG', '증명서/NNG', '가/JKS', '필요/NNG', '하/XSA', 'ᆸ니다/EF', '허/VV', '나/EC', '임요/NNG', '유예/NNG', '시기/NNG', '가/JKS', '복학/NNG', '신청/NNG', '을/JKO', '하/VV', '는/ETM', '시기/NNG', '보다/JKB', '빠르/VA', '어서/EC', '휴학/NNG', '생/XSN', '이/VCP', 'ᆫ/ETM', '신분/NNG', '이/JKC', '되/VV', 'ᆸ니다/EF', '그래서/MAJ', '혹시/MAG', '미리/MAG', '복학/NNG', '신청/NNG', '을/JKO', '하/VV', '어서/EC', '재학/NNG', '증명서/NNG', '를/JKO', '뽑/VV', '을/ETM', '수/NNB', '있/VV', '는지/EC', '궁금/XR', '하/XSA', 'ᆸ니다/EF'], ['1/SN', '학년/NNG', '자퇴/NNG', '후/NNG', '재/XPN', '입학/NNG', '가능/NNG', '하/XSA', 'ᆫ지/EC', '요/JX', '일/NR', '학기/NNG', '를/JKO', '끝내/VV', '고/EC', '가능/NNG', '하/XSA', 'ᆫ지/EC', '궁금/XR', '하/XSA', 'ᆸ니다/EF'], ['교환/NNG', '학생/NNG', '제도/NNG', '에/JKB', '대하/VV', '어서/EC', '궁금증/NNG', '이/JKS', '생기/VV', '어서/EC', '학교/NNG', '홈페이지/NNG', '를/JKO', '둘러보/VV', '다가/EC', '궁금/XR', '하/XSA', 'ᆫ/ETM', '점/NNG', '이/JKS', '생기/VV', '었/EP', '는데/EC', '요/JX', '국제/NNG', '교류/NNG', '팀/NNG', '홈페이지/NNG', '에서/JKB', '협정/NNG', '현황/NNG', '을/JKO', '보/VV', '면/EC', '조지타운/NNP', '대학교/NNG', '와/JKB', '의/JKG', '협정/NNG', '이/JKS', '체결/NNG', '되/XSV', 'ᆫ/ETM', '거/NNB', 'ᆯ로/JKB', '나오/VV', 'ᆸ니다/EF', '하지만/MAJ', '막상/MAG', '국제/NNG', '교류/NNG', '프로그램/NNG', '의/JKG', '교환/NNG', '대상/NNG', '대학교/NNG', '에/JKB', '들어가/VV', '어/EC', '보/VX', '면/EC', '조지타운/NNP', '대학교/NNG', '는/JX', '빠지/VV', '어/EC', '있/VX', '는데요/EF', '조지타운/NNP', '대학교/NNG', '와/JKB', '는/JX', '어떤/MM', '협정/NNG', '이/JKC', '되/VV', '어/EC', '있/VX', '는/ETM', '거/NNB', '이/VCP', 'ᆫ지/EC', '어디/NP', '서/JKB', '알/VV', 'ᆯ/ETM', '수/NNB', '가/JKS', '있/VV', '을까요/EC'], ['수강편람/NNG', '을/JKO', '읽/VV', '다가/EC', '조금/MAG', '헷갈리/VV', '는/ETM', '부분/NNG', '이/JKS', '있/VV', '어서/EC', '문의/NNG', '드리/VV', 'ᆸ니다/EF', '17/SN', '학번/NNG', '기준/NNG', '졸업/NNG', '필수/NNG', '교양/NNG', '에/JKB', '있/VV', '어서/EC', '자유/NNG', '선택/NNG', '교양/NNG', '부분/NNG', '에/JKB', '대하/VV', '어서/EC', '질문/NNG', '드리/VV', '고/EC', '싶/VX', '습니다/EC', '기초/NNG', '교양/NNG', '과/JC', '핵심/NNG', '교양/NNG', '을/JKO', '다/MAG', '이수/NNG', '하/XSV', '고/EC', '남은/NNP', '12/SN', '학점/NNG', '을/JKO', '교양/NNG', '영역/NNG', '에서/JKB', '자유/NNG', '롭/XSA', '게/EC', '이수/NNG', '하/XSV', '는/ETM', '것/NNB', '이/VCP', '라고/EC', '되/VV', '어/EC', '있/VX', '는데/EC', '한국/NNP', '외대/NNP', '애/NNG', 'ᆸ/NNG', '성적/NNG', '조회/NNG', '상/XSN', '에서/JKB', '교양/NNG', '영역/NNG', '35/SN', '이/VCP', '라고/EC', '표시/NNG', '되/XSV', '어/EC', '있/VX', '는/ETM', '것/NNB', '은/JX', '제가/NNP', '교양/NNG', '영역/NNG', '에서/JKB', '졸업/NNG', '요건/NNG', '을/JKO', '충족/NNG', '하/XSV', '었/EP', '다고/EC', '보/VV', '어도/EC', '되/VV', '는/ETM', '것/NNB', '이/VCP', 'ᆫ가/EF', '요/JX'], ['제가/NNP', '막/MAG', '학기/NNG', '이/VCP', 'ᆫ데/EC', '훕/NNG', '스/VV', '커리어/NNG', '수강/NNG', '하/XSV', '는/ETM', '거/NNB', 'ᆯ/JKO', '깜빡/MAG', '하/XSV', '었/EP', '는데요/EF', '계절/NNG', '학기/NNG', '로/JKB', '듣/VV', '는/ETM', '것/NNB', '이/VCP', '가능/NNG', '하/XSA', 'ᆯ까요/EC', '마지막/NNG', '학점/NNG', '은/JX', '계절/NNG', '학기/NNG', '로/JKB', '못/MAG', '채우/VV', 'ᆫ다는/ETM', '말/NNG', '을/JKO', '어디/NP', '서/JKB', '듣/VV', '어서/EC', '심란/XR', '하/XSA', '네요/EF'], ['건강/NNG', '꼭/MAG', '잘/MAG', '챙기/VV', '시/EP', '구/EC', '기분/NNG', '좋/VA', '은/ETM', '날/NNG', '들/XSN', '많/VA', '으시/EP', '기/ETN', 'ᆯ/JKO', '바라/VV', 'ᆸ니다/EF', '다른/MM', '게/EC', '아니/VCN', '라/EC', '제가/NNP', '국제/NNG', '학/NNG', '에서/JKB', '국/NNG', '통/NNG', '으로/JKB', '부전공/@', '을/JKO', '변경/NNG', '하/XSV', '었/EP', '습니다/EF', '이전/NNG', '에/JKB', '들/VV', '었/EP', '던/ETM', '국제/NNG', '학/NNG', '의/JKG', 'principles/SL', 'of/SL', 'Economics/SL', '1/SN', '을/JKO', '재/XPN', '수강/NNG', '하/VV', '려는데/EC', '국/NNG', '통/NNG', 'principles/SL', 'of/SL', 'Economics/SL', '1/SN', '으로/JKB', '연결/NNG', '하/XSV', 'ᆯ/ETM', '수/NNB', '있/VV', '을까요/EC', '전화/NNG', '를/JKO', '돌리/VV', '어/EC', '보/VX', '어도/EC', '제대로/MAG', '설명/NNG', '하/XSV', '어/EC', '주/VX', '는/ETM', '곳/NNG', '이/JKS', '없/VA', '어서/EC', '질문/NNG', '드리/VV', 'ᆸ니다/EF', '언제나/MAG', '감사/NNG', '드리/VV', 'ᆸ니다/EF'], ['에/IC', '타/MM', '코로나/NNP', '항상/NNG', '조심하세요수강편람/NNP', '을/JKO', '보/VV', '면/EC', '7/SN', '-/SO', '8/SN', '학기/NNG', '까지/JX', '졸업/NNG', '조건/NNG', '학점/NNG', '다/MAG', '채우/VV', '어야/EC', '후기/NNG', '이중전공/@', '신청/NNG', '하/XSV', 'ᆯ/ETM', '수/NNB', '있/VV', '다고/EC', '듣/VV', '었/EP', '습니다/EC', '신청/NNG', '기간/NNG', '이/JKS', '4/SN', '월/NNB', '달/NNG', '이/VCP', '라고/EC', '되/VV', '어/EC', '있/VX', '던데/EC', '그럼/MAJ', '제/NP', '가/JKS', '지금/MAG', '18/SN', '학번/NNG', '이/VCP', '고/EC', '이제/MAG', '3/SN', '학년/NNG', '을/JKO', '시작/NNG', '하/XSV', '면/EC', '3/SN', '학년/NNG', '-/SO', '56/SN', '학기/NNG', '//SP', '4/SN', '학년/NNG', '-/SO', '78/SN', '학기/NNG', '이/VCP', '니까/EC', '4/SN', '학년/NNG', '내/NNB', '에/JKB', '조건/NNG', '을/JKO', '만족/NNG', '하/XSA', '고/EC', '5/SN', '-/SO', '1/SN', '학기/NNG', '에/JKB', '신청/NNG', '하/XSV', '면/EC', '되/VV', '나요/EF', '그럼/MAJ', '5/SN', '-/SO', '1/SN', '봄/NNG', '에/JKB', '시작/NNG', '하/XSV', '는/ETM', '것/NNB', '이/VCP', '맞/VV', '는/ETM', '거/NNB', '이/VCP', 'ᆫ가/EF', '요/JX'], ['인턴/NNG', '을/JKO', '마무리/NNG', '하/XSV', 'ᆫ/ETM', '학기/NNG', '에/JKB', '졸업/NNG', '하/XSV', 'ᆯ/ETM', '수/NNB', '있/VV', '나요/EC', '2020/SN', '-/SO', '1/SN', '학기/NNG', '동안/NNG', '졸업/NNG', '요건/NNG', '을/JKO', '충족/NNG', '시키/XSV', 'ᆯ/ETM', '수/NNB', '있/VV', '습니다/EC', '2020/SN', '-/SO', '2/SN', '학기/NNG', '에/JKB', '는/JX', '인턴/NNG', '을/JKO', '하/VV', '고/EC', '연말/NNG', '에/JKB', '바로/MAG', '졸업/NNG', '하/XSV', 'ᆯ/ETM', '수/NNB', '있/VV', '나요/EF'], ['총/MM', '재수강/NNP', '학점/NNG', '도/JX', '제한/NNG', '이/JKS', '있/VV', '나요/EC', '한/MM', '학기/NNG', '동안/NNG', '듣/VV', '는/ETM', '거/NNB', '말/VV', '구요/EF'], ['이번/NNG', '에/JKB', '칠쁠일/NNG', '을/JKO', '우선/MAG', '선발/NNG', '로/JKB', '지원/NNG', '하/XSV', '었/EP', '는데/EC', '코로나/NNP', '때문/NNB', '에/JKB', '우리/NP', '나라/NNG', '에서/JKB', '선발/NNG', '을/JKO', '완료/NNG', '하/XSV', '요도/NNG', '파견/NNG', '취소/NNG', '가/JKC', '되/VV', 'ᆯ/ETM', '수/NNB', '있/VV', '다고/EC', '듣/VV', '었/EP', '습니다/EC', '이/MM', '경우/NNG', '파견/NNG', '취소/NNG', '가/JKC', '되/VV', '어서/EC', '2020/SN', '-/SO', '2/SN', '에/JKB', '못/MAG', '가/VV', '고/EC', '2021/SN', '-/SO', '1/SN', '에/JKB', '칠쁠/NNG', '일/NR', '파견/NNG', '재/XPN', '신청/NNG', '을/JKO', '하/VV', 'ᆫ다면/EC', '우선/MAG', '선발/NNG', '로/JKB', '지원/NNG', '하/XSV', 'ᆯ/ETM', '수/NNB', '있/VV', '나요/EC', '우선/MAG', '선발/NNG', '로/JKB', '한번/NNG', '뽑히/VV', '었었/EP', '다고/EC', '못/MAG', '가/VV', '면/EC', '우선/MAG', '선발/NNG', '이/JKS', '증발/NNG', '하/XSV', '나/EC', '궁금/XR', '하/XSA', 'ᆸ니다/EF'], ['항상/MAG', '고생/NNG', '많/VA', '으시/EP', 'ᆸ니다/EF', '제/NP', '가/JKS', '이번/NNG', '학기/NNG', '에/JKB', '복학/NNG', '신청/NNG', '을/JKO', '하/VV', '었/EP', '다가/EC', '다시/MAG', '취소/NNG', '하/XSV', '려고/EC', '보니/NNP', '복학/NNG', '신청/NNG', '후/NNG', '취소/NNG', '는/JX', '학/NNG', '종지/NNG', '방문/NNG', '신청/NNG', '만/JX', '되/VV', 'ᆫ다/EC', '네요/EF', '그러면/MAJ', '혹시/MAG', '수강/NNG', '변경/NNG', '기간/NNG', '때/NNG', '신청/NNG', '하/XSV', 'ᆫ/ETM', '과목/NNG', '을/JKO', '모두/MAG', '삭제/NNG', '하/XSV', '고/EC', '버티/VV', '면/EC', '어떻게/MAG', '되/VV', '는지/EC', '알/VV', '시/EP', '나요/EC', '감사/NNG', '하/XSA', 'ᆸ니다/EF'], ['혹시/MAG', '페논페/NNG', '과목/NNG', '페일받을시/NNG', '에/JKB', 'f/SL', '가/JKS', '기록/NNG', '에/JKB', '남/VV', '나요/EC', '나중/NNG', '에/JKB', '성적/NNG', '증명서/NNG', '뽑/VV', '었/EP', '을/ETM', '때/NNG', '요/JX', '이수/NNG', '학점/NNG', '에/JKB', '포함/NNG', '안/MAG', '되/VV', 'ᆫ다는/ETM', '거/NNB', 'ᆫ/JX', '알/VV', '고/EC', '있/VX', '습니다/EF'], ['고생/NNG', '이/JKS', '많/VA', '으시/EP', 'ᆸ니다/EF', '다르/VA', 'ᆷ/ETN', '아니/VCN', '라/EC', '영역/NNG', '별/XSN', '취득/NNG', '학점/NNG', '을/JKO', '보/VV', '니/EC', '1/SN', '학년/NNG', '때/NNG', '듣/VV', '었/EP', '던/ETM', '전공/NNG', '과목/NNG', '이/JKS', '자선/NNG', '학점/NNG', '영역/NNG', '에/JKB', '포함/NNG', '되/XSV', 'ᆫ/ETM', '거/NNB', 'ᆯ/JKO', '발견/NNG', '하/XSV', '었/EP', '습니다/EF', '이/VCP', '자선/NNG', '학점/NNG', '을/JKO', '전공/NNG', '학점/NNG', '으로/JKB', '수정/NNG', '하/XSV', '려면/EC', '어디/NP', '에/JKB', '문의/NNG', '하/XSV', '면/EC', '되/VV', 'ᆯ까요/EF'], ['고생/NNG', '많/VA', '으시/EP', 'ᆸ니다/EF', '이번/NNG', '8/SN', '학기/NNG', '가/JKS', '막/MAG', '학기/NNG', '이/VCP', '고/EC', '20/SN', '학점/NNG', '듣/VV', '는/ETM', '재학/NNG', '생/XSN', '이/VCP', 'ᆫ데/EC', '이번/NNG', '학기/NNG', '에/JKB', '좋/VA', '은/ETM', '성적/NNG', '을/JKO', '얻/VV', '어도/EC', '장학금/NNG', '을/JKO', '받/VV', '을/ETM', '수/NNB', '있/VA', '나요/EF'], ['한/MM', '학기/NNG', '최대/NNG', '수강/NNG', '신청/NNG', '가능/NNG', '하/XSA', 'ᆫ/ETM', '학점/NNG', '이/JKS', '20/SN', '점/NNB', '으로/JKB', '알/VV', '고/EC', '있/VX', '는데/EC', '이/MM', '중/NNB', '재수강/NNP', '하/VV', '는/ETM', '과목/NNG', '도/JX', '포함/NNG', '이/VCP', 'ᆫ가요/EC', '재/XPN', '수강/NNG', '하/XSV', '는/ETM', '과목/NNG', '은/JX', '이미/MAG', '듣/VV', '었/EP', '던/ETM', '과목/NNG', '이/VCP', '라/EC', '당해/NNG', '학기/NNG', '학점/NNB', '에/JKB', '는/JX', '카운트/NNG', '가/JKC', '되/VV', '지/EC', '않/VX', '는다는/ETM', '말/NNG', '을/JKO', '듣/VV', '어서/EC', '요/JX'], ['수고/NNG', '많/VA', '으시/EP', 'ᆸ니다/EF', '다르/VA', 'ᆷ/ETN', '이/JKC', '아니/VCN', '라/EC', '제가/NNP', '통대생/NNG', '이/VCP', 'ᆫ/ETM', '데/NNB', '부전공/@', '에다가/JKB', '교직이수/NNP', '를/JKO', '하/VV', '고/EC', '있/VX', '어요/EF', '그렇/VA', '다면/EC', '졸업/NNG', '학점/NNG', '은/JX', '어떻게/MAG', '되/VV', '는/ETM', '거/NNB', '이/VCP', 'ᆫ가요/EF', '1/SN', '전공/NNG', '70/SN', '부/NNB', '전/NNG', '21/SN', '교양/NNG', '32/SN', '교직/NNG', '22/SN', '=/SW', '145/SN', '따라서/MAJ', '5/SN', '학점/NNG', '은/JX', '자유/NNG', '롭/XSA', '게/EC', '이/MM', '수/NNG', '2/SN', '전공/NNG', '70/SN', '부/NNB', '전/NNG', '21/SN', '교양/NNG', '32/SN', '자선/NNG', '27/SN', '=/SW', '150/SN', '이수/NNP', '후/NNG', '교직/NNG', '22/SN', '학점/NNG', '추가/NNG', '총/MM', '172/SN', '학점/NNG', '이/JKS', '수/NNG', '이/MM', '둘/NR', '중/NNB', '에/JKB', '뭐/NP', '가/JKS', '맞/VV', '는/ETM', '거/NNB', '이/VCP', 'ᆫ가요/EF', '감사/NNG', '하/XSA', 'ᆸ니다/EF'], ['저/NP', '는/JX', '현재/MAG', '3/SN', '학년/NNG', '1/SN', '학기/NNG', '이수/NNG', '중/NNB', '이/VCP', 'ᆫ/ETM', '18/SN', '학번/NNG', '학생/NNG', '이/VCP', 'ᆸ니다/EF', 'Flex/SL', '시험/NNG', '관련/NNG', '하/XSV', '어서/EC', '묻/VV', '어/EC', '보/VX', '려/EC', '하/VX', 'ᆸ니다/EF', 'flex/SL', '시험/NNG', '성적/NNG', '을/JKO', '학/NNG', '종지/NNG', '교양/NNG', '영어/NNP', '담당/NNG', '교수/NNG', '에게/JKB', '제출/NNG', '하/XSV', '면/EC', '실요/NNG', '외국어/NNG', '교양/NNG', '선택/NNG', '항목/NNG', '으로/JKB', '2/SN', '학점/NNG', '을/JKO', '받/VV', '을/ETM', '수/NNB', '있/VV', '다고/EC', '듣/VV', '었/EP', '는데/EC', '18/SN', '학번/NNG', '이/VCP', 'ᆫ/ETM', '저/NP', '에게/JKB', '도/JX', '해당/NNG', '되/XSV', '는/ETM', '내요/NNP', '이/VCP', 'ᆫ지/EC', '궁금/XR', '하/XSA', 'ᆸ니다/EF', '해당/NNG', '되/XSV', 'ᆯ/ETM', '경우/NNG', '4/SN', '월/NNB', '19/SN', '일/NNB', '에/JKB', '시행/NNG', '되/XSV', '는/ETM', '2020/SN', '년/NNB', '제/XPN', '1/SN', '차/NNB', '시험/NNG', '듣/VV', '기/ETN', '//SP', '읽/VV', '기/ETN', '시험/NNG', '을/JKO', '치루/VV', '면/EC', '되/VV', '는/ETM', '것/NNB', '이/VCP', 'ᆫ지/EC', '도/JX', '여쭙/VV', '고/EC', '자/VV', '글/NNG', '남기/VV', 'ᆸ니다/EF'], ['저/NP', '는/JX', '4/SN', '학년/NNG', '2/SN', '학기/NNG', '이수/NNG', '중/NNB', '이/VCP', 'ᆸ니다/EF', '다음/NNG', '학기/NNG', '9/SN', '학기/NNG', '예정/NNG', '이/VCP', 'ᆸ니다/EF', '4/SN', '학년/NNG', '은/JX', '12/SN', '학점/NNG', '미만/NNG', '도/JX', '듣/VV', '을/ETM', '수/NNB', '있/VV', '다고/EC', '하/VV', '던데/EC', '9/SN', '학기/NNG', '예정/NNG', '이/VCP', '어도/EC', '12/SN', '학점/NNG', '밑/NNG', '으로/JKB', '듣/VV', '을/ETM', '수/NNB', '있/VV', '나요/EC', '지금/NNG', '은/JX', '수업/NNG', '잡/VV', '느라/EC', '12/SN', '이상/NNG', '으로/JKB', '등록/NNG', '되/XSV', '어/EC', '있/VX', '는데/EC', '12/SN', '과목/NNG', '드랍/NNG', '하/VX', '고/EC', '싶/VX', '어서/EC', '요/JX'], ['옛날/NNG', '에/JKB', '교직/NNG', '신청/NNG', '에/JKB', '선발/NNG', '되/XSV', '어서/EC', '교직/NNG', '수업/NNG', '6/SN', '학점/NNG', '을/JKO', '수강/NNG', '하/XSV', 'ᆫ/ETM', '상태/NNG', '이/VCP', 'ᆫ데요/EF', '현재/NNG', '는/JX', '교직이수/NNP', '를/JKO', '포기/NNG', '하/XSV', 'ᆫ/ETM', '상태/NNG', '이/VCP', 'ᆫ데/EC', '따로/MAG', '이수/NNG', '를/JKO', '포기/NNG', '하/XSV', '는/ETM', '절차/NNG', '를/JKO', '거치/VV', '어야/EC', '하나/NR', '이/VCP', '요/EC', '또/MAJ', '그동안/MAG', '들/VV', '었/EP', '던/ETM', '수업/NNG', '듣/VV', '은/ETM', '자선/NNG', '으로/JKB', '넘어가/VV', '나요/EF', '현재/MAG', '종합/NNG', '시스템/NNG', '에/JKB', '는/JX', '6/SN', '학점/NNG', '이/JKS', '교직/NNG', '취득/NNG', '학점/NNG', '으로/JKB', '분류/NNG', '되/XSV', '어/EC', '있/VX', '는/ETM', '상태/NNG', '이/VCP', 'ᆸ니다/EF'], []]\n"
    }
   ],
   "source": [
    "from kiwipiepy import Kiwi\n",
    "\n",
    "kiwi = Kiwi()\n",
    "\n",
    "#대분류 사전 추가\n",
    "kiwi.add_user_word('이중전공', 'DM', 20.0)\n",
    "kiwi.add_user_word('융합전공', 'UM', 20.0)\n",
    "kiwi.add_user_word('전공심화', 'MD', 20.0)\n",
    "kiwi.add_user_word('부전공', 'SM', 20.0)\n",
    "kiwi.add_user_word('연계전공', 'UM', 20.0)\n",
    "\n",
    "kiwi.prepare()\n",
    "\n",
    "## 형태소 분석\n",
    "sent = ''\n",
    "lem_cont = []\n",
    "for quest in norm_content:\n",
    "    ## 형태소만 떼어내기\n",
    "    temp_tagging = [x[0] for x in kiwi.analyze(quest, top_n=1)]\n",
    "    inner_temp = [\"{}/{}\".format(word, tag) for word, tag, score1, score2 in temp_tagging[0]]\n",
    "    lem_cont.append(inner_temp)\n",
    "\n",
    "print(lem_cont[:32])"
   ]
  },
  {
   "cell_type": "code",
   "execution_count": 20,
   "metadata": {},
   "outputs": [
    {
     "output_type": "stream",
     "name": "stdout",
     "text": "청강은 학점으로 안들어가는 거 맞나요 그럼 만약 현재 최대 학점임에도 불구하고 청강 할 수 있는 거죠\n[([], 0.0)]\n"
    }
   ],
   "source": [
    "print(norm_content[31])\n",
    "print(kiwi.analyze(norm_content[31],1))"
   ]
  },
  {
   "cell_type": "code",
   "execution_count": 13,
   "metadata": {
    "tags": [
     "outputPrepend"
    ]
   },
   "outputs": [
    {
     "output_type": "stream",
     "name": "stdout",
     "text": "['이중전공 부전공 차이 대하 이중전공 학위 졸업장 표시 부전공 졸업장 표시', '재수강 연결 종합 정보 시스템 수업 수강 관리 수강 과목 선택 메뉴 들어가 안내 사항 이전 성적 연결 현황 동일 교과 자동연결되었습 나오 학사 공지 나오 대로 재수강 이전 성적 선택 재수강 연결 필요 아무것 감사', '수고 다르 아니 제가 평점 학기 수업 평점 올리 졸업 학점 134 학점 초과 문제', '처음 이중전공 신청 이중전공 경영 변경 시도 자체 시험 떨어지 변경 실패 지나 겨울 방학 2019 부전공 경영 선택 2020년 학기 이중전공 변경 기간 경영 신청 한번 종합 정보 시스템 들어가 사진 내요 신경 변경 기간 경영 신청', '이중전공 바꾸 바꾸 학점 소멸', '등록 휴학 자퇴 경우 이번 학기 등록금 환불 가능', '졸업 유예 기간 동안 학점 취득 가능', '인간 사회 학점 짜리 과목 씨쁠 이거 언어 문학 학점 짜리 페논 과목 재수강 연결 가능', '2019 학기 학기 마치 사정 학점 상태 휴학 전공 이중전공 학점 채운 상황 취득 학점 132 학점 학점 모자라 추가 학기 상황 경우 2020 여름 계절 학기 학점 수강 수료 가능 답변 부탁 드리', '교양 영어 수강 학생 온라인 과제 코드']\n"
    },
    {
     "output_type": "execute_result",
     "data": {
      "text/plain": "                                               QUESTION  \\\n0     이중전공이랑 부전공 차이에 대해서 궁금해요이중전공은 학위졸업장 표시인건 알겠는데부전...   \n1     재수강 연결방밥 대로 종합정보시스템-수업수강관리-재수강과목선택메뉴를 들어갔는데안내사...   \n2     항상 수고가 많으십니다 다름아니라 제가 총평점이 좀 낮은편이라 막학기에 수업을 더 ...   \n3     제가 맨 처음에 이중전공을 gbt로 신청했다가 이중전공 경영으로 변경하려고 시도했는...   \n4     이중전공을 바꾸고 싶은데 혹시 바꾸게 된다면 그전에 받은 학점은 이어가는 건가요 아...   \n...                                                 ...   \n6885               중외통 17학번인데요이중전공 어떤 걸로 하면 좋은지 추천해주세요    \n6886                       공대생 이중전공으로 언어할까 하는데 힘듦 언어추천좀   \n6887                           국제통상학과 이중전공생인데 걱정이 많이 된다   \n6888  경영 후기 이중전공 신청할 때이중전공 떨어져서 부전공 경영인데후기 이중전공 경영 신...   \n6889                   국제학부 이중전공생 없나요 다른 과보다 정보가 많이 없는듯   \n\n                                                 ANSWER  TAGSET  \\\n0                                                   NaN     NaN   \n1                                                   NaN     NaN   \n2                                                   NaN     NaN   \n3                                                   NaN     NaN   \n4                                                   NaN     NaN   \n...                                                 ...     ...   \n6885                                ['아 그렇군요! 감사합니다!!']     NaN   \n6886                    ['스페인어 했다가 힘들어서 영어로 바꾼 사람은 봤음']     NaN   \n6887  ['저도요.... 진짜 국통법 때문에 미칠거 같네요 ,', '나두...', '국통 ...     NaN   \n6888  ['부전공학점 다 채운다음 이중전공이랑 차이나는 전공점수 채워야되요', '한마디로 ...     NaN   \n6889  ['반가워요 동지...!', '저요저요!', '저욤!', '오 친해져요!!', '님...     NaN   \n\n                                                  LEMMA  \n0              이중전공 부전공 차이 대하 이중전공 학위 졸업장 표시 부전공 졸업장 표시  \n1     재수강 연결 종합 정보 시스템 수업 수강 관리 수강 과목 선택 메뉴 들어가 안내 사...  \n2         수고 다르 아니 제가 평점 학기 수업 평점 올리 졸업 학점 134 학점 초과 문제  \n3     처음 이중전공 신청 이중전공 경영 변경 시도 자체 시험 떨어지 변경 실패 지나 겨울...  \n4                                      이중전공 바꾸 바꾸 학점 소멸  \n...                                                 ...  \n6885                                   중외 17 학번 이중전공 추천  \n6886                                공대 이중전공 언어 힘들 언어 추천  \n6887                                   국제 통상 학과 이중전공 걱정  \n6888  경영 후기 이중전공 신청 이중전공 떨어지 부전공 경영 후기 이중전공 경영 신청 경영...  \n6889                                      국제 학부 이중전공 정보  \n\n[6890 rows x 4 columns]",
      "text/html": "<div>\n<style scoped>\n    .dataframe tbody tr th:only-of-type {\n        vertical-align: middle;\n    }\n\n    .dataframe tbody tr th {\n        vertical-align: top;\n    }\n\n    .dataframe thead th {\n        text-align: right;\n    }\n</style>\n<table border=\"1\" class=\"dataframe\">\n  <thead>\n    <tr style=\"text-align: right;\">\n      <th></th>\n      <th>QUESTION</th>\n      <th>ANSWER</th>\n      <th>TAGSET</th>\n      <th>LEMMA</th>\n    </tr>\n  </thead>\n  <tbody>\n    <tr>\n      <th>0</th>\n      <td>이중전공이랑 부전공 차이에 대해서 궁금해요이중전공은 학위졸업장 표시인건 알겠는데부전...</td>\n      <td>NaN</td>\n      <td>NaN</td>\n      <td>이중전공 부전공 차이 대하 이중전공 학위 졸업장 표시 부전공 졸업장 표시</td>\n    </tr>\n    <tr>\n      <th>1</th>\n      <td>재수강 연결방밥 대로 종합정보시스템-수업수강관리-재수강과목선택메뉴를 들어갔는데안내사...</td>\n      <td>NaN</td>\n      <td>NaN</td>\n      <td>재수강 연결 종합 정보 시스템 수업 수강 관리 수강 과목 선택 메뉴 들어가 안내 사...</td>\n    </tr>\n    <tr>\n      <th>2</th>\n      <td>항상 수고가 많으십니다 다름아니라 제가 총평점이 좀 낮은편이라 막학기에 수업을 더 ...</td>\n      <td>NaN</td>\n      <td>NaN</td>\n      <td>수고 다르 아니 제가 평점 학기 수업 평점 올리 졸업 학점 134 학점 초과 문제</td>\n    </tr>\n    <tr>\n      <th>3</th>\n      <td>제가 맨 처음에 이중전공을 gbt로 신청했다가 이중전공 경영으로 변경하려고 시도했는...</td>\n      <td>NaN</td>\n      <td>NaN</td>\n      <td>처음 이중전공 신청 이중전공 경영 변경 시도 자체 시험 떨어지 변경 실패 지나 겨울...</td>\n    </tr>\n    <tr>\n      <th>4</th>\n      <td>이중전공을 바꾸고 싶은데 혹시 바꾸게 된다면 그전에 받은 학점은 이어가는 건가요 아...</td>\n      <td>NaN</td>\n      <td>NaN</td>\n      <td>이중전공 바꾸 바꾸 학점 소멸</td>\n    </tr>\n    <tr>\n      <th>...</th>\n      <td>...</td>\n      <td>...</td>\n      <td>...</td>\n      <td>...</td>\n    </tr>\n    <tr>\n      <th>6885</th>\n      <td>중외통 17학번인데요이중전공 어떤 걸로 하면 좋은지 추천해주세요</td>\n      <td>['아 그렇군요! 감사합니다!!']</td>\n      <td>NaN</td>\n      <td>중외 17 학번 이중전공 추천</td>\n    </tr>\n    <tr>\n      <th>6886</th>\n      <td>공대생 이중전공으로 언어할까 하는데 힘듦 언어추천좀</td>\n      <td>['스페인어 했다가 힘들어서 영어로 바꾼 사람은 봤음']</td>\n      <td>NaN</td>\n      <td>공대 이중전공 언어 힘들 언어 추천</td>\n    </tr>\n    <tr>\n      <th>6887</th>\n      <td>국제통상학과 이중전공생인데 걱정이 많이 된다</td>\n      <td>['저도요.... 진짜 국통법 때문에 미칠거 같네요 ,', '나두...', '국통 ...</td>\n      <td>NaN</td>\n      <td>국제 통상 학과 이중전공 걱정</td>\n    </tr>\n    <tr>\n      <th>6888</th>\n      <td>경영 후기 이중전공 신청할 때이중전공 떨어져서 부전공 경영인데후기 이중전공 경영 신...</td>\n      <td>['부전공학점 다 채운다음 이중전공이랑 차이나는 전공점수 채워야되요', '한마디로 ...</td>\n      <td>NaN</td>\n      <td>경영 후기 이중전공 신청 이중전공 떨어지 부전공 경영 후기 이중전공 경영 신청 경영...</td>\n    </tr>\n    <tr>\n      <th>6889</th>\n      <td>국제학부 이중전공생 없나요 다른 과보다 정보가 많이 없는듯</td>\n      <td>['반가워요 동지...!', '저요저요!', '저욤!', '오 친해져요!!', '님...</td>\n      <td>NaN</td>\n      <td>국제 학부 이중전공 정보</td>\n    </tr>\n  </tbody>\n</table>\n<p>6890 rows × 4 columns</p>\n</div>"
     },
     "metadata": {},
     "execution_count": 13
    }
   ],
   "source": [
    "## 불용어 처리 ##\n",
    "\n",
    "file = open(r'E:\\Programming\\python\\NLP\\howls_nlp\\Chatbot\\자료\\stop_words.txt','r', encoding = 'utf8')\n",
    "lines = file.readlines()\n",
    "file.close()\n",
    "stop_words = lines[0].split()\n",
    "\n",
    "#texts = [[word for word in document if word not in stop_words]\n",
    "#            for document in lem_cont]\n",
    "\n",
    "#print(texts[:10])\n",
    "\n",
    "listed_cont = [[comb.split('/') for comb in sent] for sent in lem_cont]\n",
    "\n",
    "main_texts = []\n",
    "non_mean = []\n",
    "for sent in listed_cont:\n",
    "    texts = []\n",
    "    for word in sent:\n",
    "        # 한 글자 제거\n",
    "        if len(word[0]) > 1:\n",
    "            # 조사 등 불필요한 거 제거\n",
    "            if 'N' in word[-1]:\n",
    "                texts.append(word[0])\n",
    "            elif '@' in word[-1]:\n",
    "                texts.append(word[0])\n",
    "            elif 'V' in word[-1]:\n",
    "                texts.append(word[0])\n",
    "            else:\n",
    "                non_mean.append(word[0])\n",
    "        else:\n",
    "            non_mean.append(word[0])\n",
    "    \n",
    "    main_texts.append(texts)\n",
    "\n",
    "lemmatized_question = []\n",
    "\n",
    "for noun in main_texts:\n",
    "    txt = ' '.join(noun)\n",
    "    lemmatized_question.append(txt)\n",
    "\n",
    "print(lemmatized_question[:10])\n",
    "\n",
    "merged_df['LEMMA'] = lemmatized_question\n",
    "\n",
    "merged_df"
   ]
  },
  {
   "cell_type": "code",
   "execution_count": 14,
   "metadata": {},
   "outputs": [
    {
     "output_type": "stream",
     "name": "stdout",
     "text": "[['이중전공', '부전공', '차이', '대하', '이중전공', '학위', '졸업장', '표시', '부전공', '졸업장', '표시'], ['재수강', '연결', '종합', '정보', '시스템', '수업', '수강', '관리', '수강', '과목', '선택', '메뉴', '들어가', '안내', '사항', '이전', '성적', '연결', '현황', '동일', '교과', '자동연결되었습', '나오', '학사', '공지', '나오', '대로', '재수강', '이전', '성적', '선택', '재수강', '연결', '필요', '아무것', '감사'], ['수고', '다르', '아니', '제가', '평점', '학기', '수업', '평점', '올리', '졸업', '학점', '134', '학점', '초과', '문제'], ['처음', '이중전공', '신청', '이중전공', '경영', '변경', '시도', '자체', '시험', '떨어지', '변경', '실패', '지나', '겨울', '방학', '2019', '부전공', '경영', '선택', '2020년', '학기', '이중전공', '변경', '기간', '경영', '신청', '한번', '종합', '정보', '시스템', '들어가', '사진', '내요', '신경', '변경', '기간', '경영', '신청'], ['이중전공', '바꾸', '바꾸', '학점', '소멸'], ['등록', '휴학', '자퇴', '경우', '이번', '학기', '등록금', '환불', '가능'], ['졸업', '유예', '기간', '동안', '학점', '취득', '가능'], ['인간', '사회', '학점', '짜리', '과목', '씨쁠', '이거', '언어', '문학', '학점', '짜리', '페논', '과목', '재수강', '연결', '가능'], ['2019', '학기', '학기', '마치', '사정', '학점', '상태', '휴학', '전공', '이중전공', '학점', '채운', '상황', '취득', '학점', '132', '학점', '학점', '모자라', '추가', '학기', '상황', '경우', '2020', '여름', '계절', '학기', '학점', '수강', '수료', '가능', '답변', '부탁', '드리'], ['교양', '영어', '수강', '학생', '온라인', '과제', '코드'], ['동일', '년도', '학점', '이월', '가능', '대하', '질문', '드리', '학기', '휴학', '가을', '학기', '복학', '학점', '최대', '20', '22', '학기', '교환', '학생', '17', '학점', '이수', '가을', '학기', '외대', '23', '학점'], ['만약', '이중전공', '이중전공', '변경', '이중전공', '부전공', '내리', '가능'], ['복학', '신청', '공무원', '임요유예시', '재학', '증명서', '필요', '임요', '유예', '시기', '복학', '신청', '시기', '빠르', '휴학', '신분', '복학', '신청', '재학', '증명서'], ['학년', '자퇴', '입학', '가능', '학기', '끝내', '가능'], ['교환', '학생', '제도', '대하', '궁금증', '생기', '학교', '홈페이지', '둘러보', '생기', '국제', '교류', '홈페이지', '협정', '현황', '조지타운', '대학교', '협정', '체결', '나오', '국제', '교류', '프로그램', '교환', '대상', '대학교', '들어가', '조지타운', '대학교', '빠지', '조지타운', '대학교', '협정', '어디'], ['수강편람', '헷갈리', '부분', '문의', '드리', '17', '학번', '기준', '졸업', '필수', '교양', '자유', '선택', '교양', '부분', '대하', '질문', '드리', '기초', '교양', '핵심', '교양', '이수', '남은', '12', '학점', '교양', '영역', '자유', '이수', '한국', '외대', '성적', '조회', '교양', '영역', '35', '표시', '제가', '교양', '영역', '졸업', '요건', '충족'], ['제가', '학기', '커리어', '수강', '계절', '학기', '가능', '마지막', '학점', '계절', '학기', '채우', '어디'], ['건강', '챙기', '기분', '바라', '아니', '제가', '국제', '부전공', '변경', '이전', '국제', '수강', '연결', '전화', '돌리', '설명', '질문', '드리', '감사', '드리'], ['코로나', '항상', '조심하세요수강편람', '학기', '졸업', '조건', '학점', '채우', '후기', '이중전공', '신청', '신청', '기간', '18', '학번', '학년', '시작', '학년', '56', '학기', '학년', '78', '학기', '학년', '조건', '만족', '학기', '신청', '시작'], ['인턴', '마무리', '학기', '졸업', '2020', '학기', '동안', '졸업', '요건', '충족', '시키', '2020', '학기', '인턴', '연말', '졸업'], ['재수강', '학점', '제한', '학기', '동안'], ['이번', '칠쁠일', '선발', '지원', '코로나', '때문', '우리', '나라', '선발', '완료', '요도', '파견', '취소', '경우', '파견', '취소', '2020', '2021', '칠쁠', '파견', '신청', '선발', '지원', '선발', '한번', '뽑히', '선발', '증발'], ['고생', '이번', '학기', '복학', '신청', '취소', '보니', '복학', '신청', '취소', '종지', '방문', '신청', '수강', '변경', '기간', '신청', '과목', '삭제', '버티', '감사'], ['페논페', '과목', '페일받을시', '기록', '나중', '성적', '증명서', '이수', '학점', '포함'], ['고생', '다르', '아니', '영역', '취득', '학점', '학년', '전공', '과목', '자선', '학점', '영역', '포함', '발견', '자선', '학점', '전공', '학점', '수정', '어디', '문의'], ['고생', '이번', '학기', '학기', '20', '학점', '재학', '이번', '학기', '성적', '장학금'], ['학기', '최대', '수강', '신청', '가능', '학점', '20', '재수강', '과목', '포함', '수강', '과목', '과목', '당해', '학기', '학점', '카운트'], ['수고', '다르', '아니', '제가', '통대생', '부전공', '교직이수', '그렇', '졸업', '학점', '전공', '70', '21', '교양', '32', '교직', '22', '145', '학점', '자유', '전공', '70', '21', '교양', '32', '자선', '27', '150', '이수', '교직', '22', '학점', '추가', '172', '학점', '감사'], ['학년', '학기', '이수', '18', '학번', '학생', '시험', '관련', '시험', '성적', '종지', '교양', '영어', '담당', '교수', '제출', '실요', '외국어', '교양', '선택', '항목', '학점', '18', '학번', '해당', '내요', '해당', '경우', '19', '시행', '2020', '시험', '시험', '치루', '여쭙', '남기'], ['학년', '학기', '이수', '다음', '학기', '학기', '예정', '학년', '12', '학점', '미만', '학기', '예정', '12', '학점', '지금', '수업', '12', '이상', '등록', '12', '과목', '드랍'], ['옛날', '교직', '신청', '선발', '교직', '수업', '학점', '수강', '상태', '현재', '교직이수', '포기', '상태', '이수', '포기', '절차', '거치', '하나', '수업', '자선', '넘어가', '종합', '시스템', '학점', '교직', '취득', '학점', '분류', '상태'], [], ['수강편람', '모르', '부분', '질문', '드리', '졸업', '학점', '150', '학점', '전공', '최소', '70', '학점', '전공심화', '전공', '최소', '학점', '78', '학점', '교양', '최소', '학점', '32', '학점', '110', '학점', '나머지', '40', '학점', '전공', '교양', '채우', '맞나', '40', '학점', '자선', '들어가'], ['도움', '드려요', '제가', '이중전공', '중외통', '경영', '부전', '바꾸', '여기', '경영', '이중', '올리', '가능'], ['친절', '답변', '감사', '여쭈', '이번', '공지', '휴학', '신청', '기간', '이번', '학기', '등록금', '상태', '이번', '학기', '휴학', '휴학', '신청', '휴학', '신청', '이번', '등록금', '전액', '나중', '제가', '복학', '학기', '등록금', '옮기', '복학', '등록금', '필요'], ['중도', '휴학', '기간', '언제', '중도', '휴학', '특별', '사유'], ['이중전공', '변경', '해당', '전공', '수업', '성적표', '자선', '표시', '이중전공', '학점', '인정', '가능'], ['씨쁠', '버리', '과목', '성적', '버리', '만회', '방법', '재수강'], ['다르', '아니', '재수강', '체크', '수강', '신청', '재수강', '수강', '나중', '과목', '연결', '재수강', '들어가'], ['14', '학번', '부전공', '질문', '인문', '대전', '54', '부전공', '21', '교양', '26', '최소', '학점', '134', '학점', '33', '학점', '이것', '자선', '교양', '졸업', '교양', '59', '학점', '걱정', '교양'], ['수고', '다르', '아니', '제가', '자비', '유학', '와서', '수강', '신청', '휴학', '신청', '그제', '상태', '한국', '돌아가', '고민', '휴학', '신청', '미결', '상태', '지금', '취소', '시간표'], ['교환', '학생', '관해', '질문', '올리', '최소', '12', '학점', '취득', '다음', '학기', '국장', '이하', '국교', '전화', '한국장학재단', '물어보', '학교', '정하', '최소', '학점', '맞추', '답변', '부탁', '드리'], ['감사', '전공', '통대', '부전공', '경영', '이중전공', '경영', '올리', '학기', '티오', '후기', '이중전공', '생각', '학기', '제가', '채우', '졸업', '학점', '기준', '부전공', '전공', '부전공', '이수', '졸업', '요건', '학점', '전공', '이중전공', '이수', '졸업', '학점', '제가', '후기', '이중전공', '위하', '학기', '전공', '이중전공', '학점', '150', '학점', '학기', '150', '학점', '초과', '제가', '경영', '수업', '하나', '이상', '경영', '이중'], ['올리', '졸업', '인증', '외국어', '가산점', '제도', '관련', '여쭈', '정규', '과정', '정규', '과정', '잉글리시', '잉글리시', '클리닉', '가지', '이수', '가산점', '제가', '프로그램', '정규', '과정', '잉글리시', '서바이벌', '이수', '가산점', '만약', '가능', '정규', '과정', '200', '가산점', '주어지', '토익', '시험', '인증', '기준', '점수'], ['이상', '신입', '융합전공', '폐강', '정보', '기록학', '전공'], ['학기', '다니', '학년', '학기', '남은', '학점', '22', '학점', '어떻', '계절', '아니', '학기', '최근', '동기', '하나', '학기', '별도', '추가', '문의', '22', '학점', '수강', '얘기', '어디', '여쭈', '개강', '바쁘', '염치', '한번'], ['마음', '문의드려요', '졸업', '논문', '위하', '수강', '수업', '학기', '학기', '제출', '심사', '졸논', '수업', '학기', '제출', '심사', '학기', '알리', '고맙'], ['새내기', '대학', '외국어', '등급', '나누', '수업', '그거', '놓치', '그거', '학년', '학기', '아니', '자리', '그거', '놓치', '대학', '외국어', '아무거', '진리', '걱정', '강의', '학년'], ['제가', '과목', '기초', '중국어', '수강', '기존', '학점', '짜리', '수업', '이번', '학점', '바뀌', '재수강', '학점', '추가', '인정'], ['제가', '2019', '휴학', '상태', '겨울', '계절', '종정', '성적', '확인', '성적', '확인', '확인', '방법', '감사'], ['제가', '학년', '신입생', '세미나', '과목', '페이', '이번', '재수강', '연결', '기간', '재수강', '연결', '감사'], ['이번', '영어대교류', '들으려고비고란', '교류', '과목', '수강', '신청', '구분', '자선', '들어가', '모르', '영어', '전공', '교류', '과목', '전공', '표시', '구분', '자선', '뜨는걸까요비고란', '영어', '교류', '과목', '쓰요', '인정'], ['수고', '다르', '아니', '전공', '학점', '54', '초과', '55', '학점', '제가', '부전공', '코스', '졸업', '남은', '자선', '학점', '13', '학점', '만약', '전공', '학점', '학점', '초과', '수강', '남은', '자선', '학점', '12', '학점', '여쭈'], ['대학', '외국어', '교양', '인정', '제가', '평화', '영어', '진리', '교양', '중국어', '추가', '들엇', '경우'], ['이중전공', '변경', '신청', '기존', '이중전공', '학점', '기존', '이중전공', '학점', '사라지', '42', '학점', '새롭', '이중전공'], ['제가', '등록', '기간', '등록', '추가', '등록', '기간', '국장', '면학', '장학금', '합치', '등록금', '추가', '등록', '하나', '어떻'], ['대학', '교류', '대하', '남기', '학교', '교류', '가능', '어떻', '전공', '관련', '과목', '자선', '처리', '수강', '신청', '학교', '신청', '절차', '방식', '이수', '가능', '학점', '학기', '제한', '대학', '전공', '교류', '관해', '정보', '어디'], ['부전공', '변경', '관련', '문의', '작년', '부전공', '신청', '이번', '부전공', '바꾸', '생각', '바꾸', '마음', '굴뚝', '부전공', '변경', '신청'], ['입학', '관련', '질문', '휴학', '초과', '입학', '휴학', '기회', '주어지', '박탈'], ['질문', '번거롭', '감사', '체육', '카테고리', '과목', '과학', '기술', '카테고리', '과목', '재수강', '가능'], ['제가', '소수어', '전공', '수업', '수강', '수강', '인원', '폐강', '인원', '기준', '대하', '알리', '수강편람', '제가', '학기', '재학', '이번', '학기', '졸업', '논문', '수업', '수강', '학기', '졸업', '논문', '수업', '동안', '작성', '학년', '수업', '작성', '졸업', '심사', '통과', '상관없', '학기', '맞추', '졸논심사', '말씀'], ['수고', '71', '다녀오', '학기', '정규', '학기', '해당', '학기', '외대', '등록금', '외국', '소재', '대학', '등록금', '상황', '학기', '국가', '장학금', '수혜', '어떻', '71', '다녀오', '학기', '졸업', '71', '다녀오', '학기', '학기', '국장', '수혜', '가능'], ['교환', '학생', '관련', '드리', '질문', '아너스', '프로그램', '71', '제도', '학점', '인정받', '패스엔페일', '학점', '계산', '학점', '계산', '방식'], ['학기', '재학', '이번', '학기', '다니', '134', '학점', '채우', '여름', '계절', '전공', '과목', '수강', '추가', '수업', '계절', '학기', '128', '학점', '이상', '이수', '제한', '학기', '자유'], ['동일', '과목', '수강', '대하', '여쭈', '전공', '이중전공', '겹치', '경원', '중복', '수강', '상황', '학기', '전공', '재수강', '이중전공', '초수강', '동시', '수강', '가능', '고생', '감사'], ['다르', '아니', '제가', '저번', '학기', '세계', '주요', '문화', '번역', '역할', '사이버', '강의', '학점', '패스', '재수강', '연결'], ['대학', '학점', '교류', '관련', '가지', '질문', '드리', '최대', '학점', '이내', '수강', '신청', '가능', '타교', '우리', '학교', '동시', '수강', '신청', '이번', '학기', '최대', '수강', '가능', '학점', '학점', '강의', '신청', '서류', '신청', '당시', '미네르바', '대학', '장님', '도장', '교양', '카테고리', '신청', '전공', '학과', '장님', '도장', '자선', '카테고리', '바꾸', '친절', '답변', '감사', '건강', '챙기', '하루', '보내'], ['답변', '고생', '다르', '아니', '재수강', '관련', '문의', '드리', '전공', '학기', '수업', '학점', '작년', '학기', '열리', '이번', '학기', '학점', '학점', '수업', '바뀌', '열리', '재수강', '저번', '수업', '학점', '삭제', '새롭', '학점', '인정', '경우', '작년', '학점', '삭제', '올해', '학점', '인정', '문의', '드리'], ['요건', '조기', '졸업', '학석사연계', '과정', '신청', '이번', '학기', '조기', '졸업', '신청', '다음', '학기', '석사', '신청', '생각'], ['부전공', '이수', '전공심화', '부전공', '바꾸', '바꾸', '처음', '이중전공', '부전공', '바꾸', '걱정', '답변', '부탁', '드리', '감사'], ['대하', '질문', '드리', '하는데요이튜터', '선발', '이것', '교내', '근로', '형식', '국장', '근로', '장학금', '신청'], ['교직이수', '관련', '여쭈', '전공', '서양어', '대학', '교직이수', '가능', '다니', '이번', '이중전공', '상경', '계열', '신청', '전공', '상경', '계열', '수업', '나중', '교직', '진로', '생각', '이번', '학년', '학기', '과목', '교직', '과목', '만약', '교직', '과목', '교직이수', '교직', '자격증', '전공', '프랑스어', '교직', '자격증', '나오', '가요', '이중전공', '상경', '계열', '때문', '교직', '자격증', '영어', '교육', '나오', '만약', '이중전공', '영어과', '영어', '교육', '교직', '자격증'], ['국내외', '학점', '교류', '알아보', '신입', '학교', '홈페이지', '통하', '이것저것', '알아보', '해결', '부분', '게시판', '문의', '드리', '국내외', '학점', '교류', '인정', '학점', '최대', '35', '학점', '국내', '대학', '학점', '교류', '교환', '학생', '학점', '이렇', '35', '학점', '인정', '국외', '교류', '보고서', '찾아보', '영어', '대학', '학점', '인정', '학점', '쓰요', '이거', '의미', '보고서', '첨부', '본교', '정식', '학점', '인정', '규정', '영어', '학과', '학점', '인정'], ['올해', '학년', '학생', '제가', '세계', '문화', '번역', '세무', '저번', '학기', '페일했는데요', '이번', '재수강', '수강', '신청', '누르', '아니', '패스페일이요', '초수강', '재수강', '학점', '버리', '재수강', '포함', '수강', '질문', '드리'], ['증원', '신청', '준비', '성적', '증명서', '이메일', '첨부', '제출', '종정', '연결', '전자', '증명서', '홈페이지', '성적', '증명서', '일반', '파일', '다운', '3500', '발급', '주민등록번호', '앞자리', '생년월일', '입력', '전자', '증명서', '뷰어', '열람', '가능', '증원', '신청', '이메일', '생일', '알리', '드리', '공지', '사항', '적히', '파일', '첨부', '보내', '확인', '여쭈', '감사', '건강', '유의하세욧'], ['최대', '학기', '다니'], ['수고', '다르', '아니', '청강', '제도', '관련', '문의', '청강', '신청', '과목', '승인', '수업', '관련', '자료', '첨부', '자료', '청강', '승인', '다음', '동안', '온라인', '수강', '청강', '온라인', '수강', '청강', '정규', '과목', '정규', '과목', '차이', '무엇'], ['이번', '학기', '휴학', '신청', '상태', '월요일', '수강', '신청', '정정', '기간', '강의', '복학', '신청', '가능', '예비', '수강', '신청', '수강', '신청', '대상자', '수강', '신청', '담기', '긴하', '고생', '감사'], ['교환', '학생', '관련', '질문', '2021', '학기', '교환', '학생', '지원', '2020', '정규', '학기', '성적', '반영', '2020', '여름', '계절', '학기', '성적', '반영', '교환', '학생', '71', '합격자', '성적', '지원', '경쟁', '방법', '귀국', '보고서', '나오', '작성', '최근', '아니', '현재', '지원', '불가', '대학', '경우', '경우', '국제', '교류', '지원', '가능', '대학', '목록', '문의'], ['바쁘', '와중', '애쓰', '감사', '다르', '아니', '작년', '신입', '진단', '평가', '응시', '못하', '올해', '신입', '위하', '신청', '재학', '수강', '신청', '일정', '먼저', '평화', '신청', '신청', '진단', '평가', '진리', '나오', '경우', '수강', '신청', '평화', '과목', '버리', '진리', '평화', '신청', '이상', '영어', '진단', '평가', '재학', '수강', '신청', '후요', '신입', '재학', '이렇', '신청', '하나', '정정기'], ['에타죠교님다름', '아니', '학녀', '학년', '수업', '학년', '수업', '학년', '써잇', '장바구니', '학녀', '표시', '수업', '처크'], ['수고', '다르', '아니', '제가', '이중전공', '통계', '학과', '이번', '학기', '수학과', '통계학', '전공', '인정', '이산수학', '신청', '해놨는', '연결', '작업', '어떻'], ['코로나', '위험', '국가', '자비', '유학', '학생', '다르', '아니', '상황', '갑작스럽', '악화', '한국', '돌아가', '예정', '휴학', '신분', '공부', '때문', '당장', '복학', '신청', '학기', '나가', '다음', '복학', '신청', '가능', '문제', '제가', '복학', '신청', '수강', '신청', '하나', '관련', '해결책'], ['경영학과', '부전공', '정정기', '수강', '신청', '경영학', '원론', '수업', '다음', '과목', '장바구니', '못하', '상태', '수강', '신청', '도와주', '무조', '수업', '감사'], ['로그인', '이메일', '종정', '등록', '이메일', '적히', '학교', '이메일', '형식', '아니', '네이버', '종정', '등록', '괜찮', '아니', '학교', '이메일', '만들'], ['부전공', '변경', '17', '부전공', '신청', '기간', '하면', '되나요', '신청', '부전공', '부전공', '변경', '기존', '부전공', '취소'], ['글로벌', '캠퍼스', '학생', '서울', '경제학', '전공', '신청', '부전공', '이중전공', '안해놨으', '자유', '선택', '정기', '학기', '경제학', '수강'], ['경영학', '부전공', '학기', '외대', '협약', '학교', '경영학과', '자비', '유학', '교환', '학생', '생각', '경영학', '학점', '인정', '가능', '과목', '제한', '여쭈'], ['문화', '카테고리', '과목', '미래', '시뮬레이션', '패논', '과목', '수강'], ['제가', '17', '학년도', '코어', '산업', '인턴', '증명서', '발급', '회장', '증명서', '발급', '가능', '감사'], ['수고', '이번', '국가', '리더', '이중전공', '변경', '원래', '이중전공', '바꾸', '티오', '정하', '이번', '티오', '정하', '컷트라인', '티오', '어디', '확인', '핑프', '코로나', '바이러스', '조심'], ['수고', '다르', '아니', '대학', '외국어', '대학', '영어', '진리', '수강', '상태', '대학', '외국어', '대학', '중국어', '바꾸', '학기', '학기', '재수강'], ['학년', '19', '학번', '학생', '제가', '이중전공', '신청', '경영', '바꾸', '학기', '경영', '시험', '정시', '들어가', '후기', '이중전공', '변경', '신청', '학기', '수업', '학기', '경영', '이중전공', '시험', '경영', '이중전공', '시험', '합격', '합격', '못하', '경우', '학기', '후에', '부전공', '신청', '하루', '감사'], ['작년', '학기', '마지막', '학기', '졸업', '인증', '토익', '증명서', '14', '졸업', '예정', '상태', '이번', '상반기', '토익', '점수', '증명서', '제출', '8월', '졸업', '대면', '제출', '졸업', '가능'], ['제가', '이번', '20', '년도', '학기', '휴학', '학기', '자비', '유학', '예정', '사이', '올해', '여름', '계절', '학기', '유학', '학기', '다음', '나라', '겨울', '계절', '학기', '제가', '찾아보', '직전', '학기', '휴학', '다음', '학기', '복학', '다음', '학기', '합산', '학점', '인정', '학기', '기준', '앞뒤', '계절', '학기', '경우', '여름', '겨울', '계절', '인정', '학점', '오버되', '아니', '여쭈'], ['재수강', '대하', '질문', '드리', '작년', '학점', '수업', '올해', '학점', '재수강', '학점', '인정', '평가', '재수강', '기준'], ['메일', '교수', '증원', '신청', '경우', '개강', '이후', '시간표', '업데이트', '교수', '명단', '시간표', '여쭈'], ['졸업', '필요', '봉사', '시간', '시간', '학교', '찾아보', '나오', '코로나', '조심', '건강'], ['학점', '인정', '관해', '질문', '드리', '학년', '과목', '학점', '인정', '내요', '내요', '추가', '과목', '이름', '바뀌', '경우', '정상', '학점', '카운트', '참고', '재수강', '아니'], ['후기', '이중', '제도', '관하', '질문', '드리', '경제', '부전공', '변경', '시기', '티오', '변경', '신청', '못하', '후기', '이중', '대하', '고려', '학기', '휴학', '이번', '학기', '20', '20', '학기', '교환', '학생', '다녀오', '예정', '돌아오', '학기', '이때', '후기', '이중전공', '신청', '돌아오', '21', '학기', '3월', '수강', '신청', '4월', '후기', '이중', '신청', '이번', '학기', '후기', '이중', '신청', '학년', '오르']]\n[['DM', 'UK'], ['UK'], ['UK'], ['DM', 'UK'], ['DM'], ['UK'], ['UK'], ['UK'], ['DM'], ['UK']]\n"
    },
    {
     "output_type": "execute_result",
     "data": {
      "text/plain": "                                               QUESTION  \\\n0     이중전공이랑 부전공 차이에 대해서 궁금해요이중전공은 학위졸업장 표시인건 알겠는데부전...   \n1     재수강 연결방밥 대로 종합정보시스템-수업수강관리-재수강과목선택메뉴를 들어갔는데안내사...   \n2     항상 수고가 많으십니다 다름아니라 제가 총평점이 좀 낮은편이라 막학기에 수업을 더 ...   \n3     제가 맨 처음에 이중전공을 gbt로 신청했다가 이중전공 경영으로 변경하려고 시도했는...   \n4     이중전공을 바꾸고 싶은데 혹시 바꾸게 된다면 그전에 받은 학점은 이어가는 건가요 아...   \n...                                                 ...   \n6885               중외통 17학번인데요이중전공 어떤 걸로 하면 좋은지 추천해주세요    \n6886                       공대생 이중전공으로 언어할까 하는데 힘듦 언어추천좀   \n6887                           국제통상학과 이중전공생인데 걱정이 많이 된다   \n6888  경영 후기 이중전공 신청할 때이중전공 떨어져서 부전공 경영인데후기 이중전공 경영 신...   \n6889                   국제학부 이중전공생 없나요 다른 과보다 정보가 많이 없는듯   \n\n                                                 ANSWER    TAGSET  \\\n0                                                   NaN  [DM, UK]   \n1                                                   NaN      [UK]   \n2                                                   NaN      [UK]   \n3                                                   NaN  [DM, UK]   \n4                                                   NaN      [DM]   \n...                                                 ...       ...   \n6885                                ['아 그렇군요! 감사합니다!!']      [DM]   \n6886                    ['스페인어 했다가 힘들어서 영어로 바꾼 사람은 봤음']      [DM]   \n6887  ['저도요.... 진짜 국통법 때문에 미칠거 같네요 ,', '나두...', '국통 ...      [DM]   \n6888  ['부전공학점 다 채운다음 이중전공이랑 차이나는 전공점수 채워야되요', '한마디로 ...  [DM, UK]   \n6889  ['반가워요 동지...!', '저요저요!', '저욤!', '오 친해져요!!', '님...      [DM]   \n\n                                                  LEMMA  \n0              이중전공 부전공 차이 대하 이중전공 학위 졸업장 표시 부전공 졸업장 표시  \n1     재수강 연결 종합 정보 시스템 수업 수강 관리 수강 과목 선택 메뉴 들어가 안내 사...  \n2         수고 다르 아니 제가 평점 학기 수업 평점 올리 졸업 학점 134 학점 초과 문제  \n3     처음 이중전공 신청 이중전공 경영 변경 시도 자체 시험 떨어지 변경 실패 지나 겨울...  \n4                                      이중전공 바꾸 바꾸 학점 소멸  \n...                                                 ...  \n6885                                   중외 17 학번 이중전공 추천  \n6886                                공대 이중전공 언어 힘들 언어 추천  \n6887                                   국제 통상 학과 이중전공 걱정  \n6888  경영 후기 이중전공 신청 이중전공 떨어지 부전공 경영 후기 이중전공 경영 신청 경영...  \n6889                                      국제 학부 이중전공 정보  \n\n[6890 rows x 4 columns]",
      "text/html": "<div>\n<style scoped>\n    .dataframe tbody tr th:only-of-type {\n        vertical-align: middle;\n    }\n\n    .dataframe tbody tr th {\n        vertical-align: top;\n    }\n\n    .dataframe thead th {\n        text-align: right;\n    }\n</style>\n<table border=\"1\" class=\"dataframe\">\n  <thead>\n    <tr style=\"text-align: right;\">\n      <th></th>\n      <th>QUESTION</th>\n      <th>ANSWER</th>\n      <th>TAGSET</th>\n      <th>LEMMA</th>\n    </tr>\n  </thead>\n  <tbody>\n    <tr>\n      <th>0</th>\n      <td>이중전공이랑 부전공 차이에 대해서 궁금해요이중전공은 학위졸업장 표시인건 알겠는데부전...</td>\n      <td>NaN</td>\n      <td>[DM, UK]</td>\n      <td>이중전공 부전공 차이 대하 이중전공 학위 졸업장 표시 부전공 졸업장 표시</td>\n    </tr>\n    <tr>\n      <th>1</th>\n      <td>재수강 연결방밥 대로 종합정보시스템-수업수강관리-재수강과목선택메뉴를 들어갔는데안내사...</td>\n      <td>NaN</td>\n      <td>[UK]</td>\n      <td>재수강 연결 종합 정보 시스템 수업 수강 관리 수강 과목 선택 메뉴 들어가 안내 사...</td>\n    </tr>\n    <tr>\n      <th>2</th>\n      <td>항상 수고가 많으십니다 다름아니라 제가 총평점이 좀 낮은편이라 막학기에 수업을 더 ...</td>\n      <td>NaN</td>\n      <td>[UK]</td>\n      <td>수고 다르 아니 제가 평점 학기 수업 평점 올리 졸업 학점 134 학점 초과 문제</td>\n    </tr>\n    <tr>\n      <th>3</th>\n      <td>제가 맨 처음에 이중전공을 gbt로 신청했다가 이중전공 경영으로 변경하려고 시도했는...</td>\n      <td>NaN</td>\n      <td>[DM, UK]</td>\n      <td>처음 이중전공 신청 이중전공 경영 변경 시도 자체 시험 떨어지 변경 실패 지나 겨울...</td>\n    </tr>\n    <tr>\n      <th>4</th>\n      <td>이중전공을 바꾸고 싶은데 혹시 바꾸게 된다면 그전에 받은 학점은 이어가는 건가요 아...</td>\n      <td>NaN</td>\n      <td>[DM]</td>\n      <td>이중전공 바꾸 바꾸 학점 소멸</td>\n    </tr>\n    <tr>\n      <th>...</th>\n      <td>...</td>\n      <td>...</td>\n      <td>...</td>\n      <td>...</td>\n    </tr>\n    <tr>\n      <th>6885</th>\n      <td>중외통 17학번인데요이중전공 어떤 걸로 하면 좋은지 추천해주세요</td>\n      <td>['아 그렇군요! 감사합니다!!']</td>\n      <td>[DM]</td>\n      <td>중외 17 학번 이중전공 추천</td>\n    </tr>\n    <tr>\n      <th>6886</th>\n      <td>공대생 이중전공으로 언어할까 하는데 힘듦 언어추천좀</td>\n      <td>['스페인어 했다가 힘들어서 영어로 바꾼 사람은 봤음']</td>\n      <td>[DM]</td>\n      <td>공대 이중전공 언어 힘들 언어 추천</td>\n    </tr>\n    <tr>\n      <th>6887</th>\n      <td>국제통상학과 이중전공생인데 걱정이 많이 된다</td>\n      <td>['저도요.... 진짜 국통법 때문에 미칠거 같네요 ,', '나두...', '국통 ...</td>\n      <td>[DM]</td>\n      <td>국제 통상 학과 이중전공 걱정</td>\n    </tr>\n    <tr>\n      <th>6888</th>\n      <td>경영 후기 이중전공 신청할 때이중전공 떨어져서 부전공 경영인데후기 이중전공 경영 신...</td>\n      <td>['부전공학점 다 채운다음 이중전공이랑 차이나는 전공점수 채워야되요', '한마디로 ...</td>\n      <td>[DM, UK]</td>\n      <td>경영 후기 이중전공 신청 이중전공 떨어지 부전공 경영 후기 이중전공 경영 신청 경영...</td>\n    </tr>\n    <tr>\n      <th>6889</th>\n      <td>국제학부 이중전공생 없나요 다른 과보다 정보가 많이 없는듯</td>\n      <td>['반가워요 동지...!', '저요저요!', '저욤!', '오 친해져요!!', '님...</td>\n      <td>[DM]</td>\n      <td>국제 학부 이중전공 정보</td>\n    </tr>\n  </tbody>\n</table>\n<p>6890 rows × 4 columns</p>\n</div>"
     },
     "metadata": {},
     "execution_count": 14
    }
   ],
   "source": [
    "##Tagset 달기\n",
    "print(main_texts[:100])\n",
    "tagset = []\n",
    "for sent in main_texts:\n",
    "    tags = []\n",
    "    for word in sent:\n",
    "        if '이중전공' == word:\n",
    "            tags.append(\"DM\")\n",
    "        elif '부전공' == word:\n",
    "            tags.append(\"SM\")\n",
    "        elif '전공심화' == word:\n",
    "            tags.append(\"MD\")\n",
    "        elif '융합전공' == word:\n",
    "            tags.append(\"UM\")\n",
    "        else:\n",
    "            tags.append(\"UK\")\n",
    "    tagset.append(tags)\n",
    "\n",
    "tagsets = []\n",
    "for sent_tag in tagset:\n",
    "    tagsets.append(list(set(sent_tag)))\n",
    "\n",
    "for tags in tagsets:\n",
    "    if len(tags) > 1:\n",
    "        del tags[-1]\n",
    "print(tagsets[:10])\n",
    "\n",
    "\n",
    "merged_df['TAGSET'] = tagsets\n",
    "\n",
    "merged_df"
   ]
  },
  {
   "cell_type": "code",
   "execution_count": 71,
   "metadata": {},
   "outputs": [],
   "source": [
    "# csv로 출력\n",
    "\n",
    "\n",
    "merged_df.to_csv(r\"E:\\Programming\\python\\NLP\\howls_nlp\\Chatbot\\자료\\results\\preprocessed_question.csv\", index=False, encoding=\"utf-8\")"
   ]
  },
  {
   "cell_type": "code",
   "execution_count": null,
   "metadata": {},
   "outputs": [],
   "source": []
  }
 ],
 "metadata": {
  "language_info": {
   "codemirror_mode": {
    "name": "ipython",
    "version": 3
   },
   "file_extension": ".py",
   "mimetype": "text/x-python",
   "name": "python",
   "nbconvert_exporter": "python",
   "pygments_lexer": "ipython3",
   "version": "3.7.6-final"
  },
  "orig_nbformat": 2,
  "kernelspec": {
   "name": "python3",
   "display_name": "Python 3"
  }
 },
 "nbformat": 4,
 "nbformat_minor": 2
}