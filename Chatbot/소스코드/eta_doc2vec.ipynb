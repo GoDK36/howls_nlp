{
 "cells": [
  {
   "cell_type": "code",
   "execution_count": 12,
   "metadata": {},
   "outputs": [],
   "source": [
    "#!pip install eunjeon #은전 프로젝트 패키지, Mecab 사용 위함.\n",
    "\n",
    "#밑에 없는 패키지들은\n",
    "#!pip install 패키지명\n",
    "#으로 설치하면 됩니다."
   ]
  },
  {
   "cell_type": "code",
   "execution_count": 3,
   "metadata": {},
   "outputs": [
    {
     "data": {
      "text/plain": [
       "(3024, 6)"
      ]
     },
     "execution_count": 3,
     "metadata": {},
     "output_type": "execute_result"
    }
   ],
   "source": [
    "import os, re, csv\n",
    "import pandas as pd\n",
    "from eunjeon import Mecab\n",
    "from tqdm import tqdm\n",
    "import gensim\n",
    "#import soynlp\n",
    "mecab = Mecab()\n",
    "\n",
    "eta_df = pd.read_csv(r\"질문.csv\", encoding='ANSI')\n",
    "\n",
    "eta_df.shape"
   ]
  },
  {
   "cell_type": "markdown",
   "metadata": {},
   "source": [
    "# dataframe에서 댓글, 내용 리스트로 가져오기"
   ]
  },
  {
   "cell_type": "code",
   "execution_count": 4,
   "metadata": {},
   "outputs": [],
   "source": [
    "comments = eta_df['댓글'].tolist()"
   ]
  },
  {
   "cell_type": "code",
   "execution_count": 5,
   "metadata": {},
   "outputs": [],
   "source": [
    "content = eta_df['내용'].tolist()"
   ]
  },
  {
   "cell_type": "markdown",
   "metadata": {},
   "source": [
    "# 전처리 (정규화, 불용어 제거)"
   ]
  },
  {
   "cell_type": "code",
   "execution_count": 56,
   "metadata": {},
   "outputs": [],
   "source": [
    "file = open('stop_words.txt','r', encoding = 'utf8')\n",
    "lines = file.readlines()\n",
    "file.close()\n",
    "stop_words = lines[0].split()\n",
    "\n",
    "#print(stop_words)"
   ]
  },
  {
   "cell_type": "code",
   "execution_count": 57,
   "metadata": {},
   "outputs": [],
   "source": [
    "norm_content = []\n",
    "def text_normalization(content):\n",
    "    result = []\n",
    "    for text in content:\n",
    "        punct = re.compile(r'[\\~\\'\\\"\\.\\,\\?\\!\\:\\;\\)\\(\\+]+') \n",
    "        norm_text = re.sub(punct, \"\", text)\n",
    "        norm_text = re.sub(r'안녕(\\s)*(하세요)?', '', norm_text) #안녕, 안녕하세요, 안녕 하세요...\n",
    "        norm_text = re.sub(r'(조교)[님]?', \"\", norm_text) #조교, 조교님\n",
    "        norm_text = re.sub(r'[ㄱ-ㅎㅏ-ㅣ]{2,}', ' ', norm_text) #2개 이상 자모 연속 제거 \n",
    "        norm_text = re.sub( r\"\\s{2,}\",\" \", norm_text) #2개 이상 띄어쓰기 1개로 \n",
    "        norm_text = re.sub( r\"\\A\\s+\",'', norm_text) #전처리로 생성된 맨 앞 띄어쓰기 제거\n",
    "        result.append(norm_text)\n",
    "    return result\n",
    "\n",
    "norm_content = text_normalization(content)\n",
    "\n",
    "#print(norm_content[:20])"
   ]
  },
  {
   "cell_type": "code",
   "execution_count": 58,
   "metadata": {},
   "outputs": [],
   "source": [
    "### 명사 추출\n",
    "noun_content = []\n",
    "for x in norm_content:\n",
    "    noun_content.append(mecab.nouns(x))\n",
    "\n",
    "##불용어 제거\n",
    "def delete_stopwords(norm_content, test=False):\n",
    "    noun_content = []\n",
    "    for x in norm_content:\n",
    "        noun_content.append(mecab.nouns(x))\n",
    "    \n",
    "    ### 추출된 명사들을 묶어 merge_content 에 담는다\n",
    "    merge_content = []\n",
    "    for noun in noun_content:\n",
    "        txt = ' '.join(noun)\n",
    "        merge_content.append(txt)\n",
    "    \n",
    "    ### 불용어 리스트에 없는 단어들만 추가, 명사들로 이뤄진 리스트들\n",
    "    texts = [[word for word in document.split() if word not in stop_words]\n",
    "            for document in merge_content]\n",
    "    if test == True:\n",
    "        return texts[0]\n",
    "    return texts\n",
    "\n",
    "texts = delete_stopwords(norm_content)\n",
    "#print(texts)\n",
    "\n",
    "\n",
    "###texts 합쳐서 하나의 코퍼스로\n",
    "# n_merge_content = []\n",
    "\n",
    "# for noun in texts:\n",
    "#     txt = ' '.join(noun)\n",
    "#     n_merge_content.append(txt)\n",
    "\n",
    "\n"
   ]
  },
  {
   "cell_type": "markdown",
   "metadata": {},
   "source": [
    "# 구축한 corpus로 doc2vec 모델 만들기"
   ]
  },
  {
   "cell_type": "code",
   "execution_count": 60,
   "metadata": {},
   "outputs": [
    {
     "name": "stderr",
     "output_type": "stream",
     "text": [
      "3024it [00:00, 758133.61it/s]\n"
     ]
    }
   ],
   "source": [
    "#corpus 읽어서 태그달기(태그는 임의의 태그, 입력된 순서대로 달림)\n",
    "def read_corpus(noun_content):\n",
    "    for i, content in tqdm(enumerate(noun_content)):\n",
    "        yield gensim.models.doc2vec.TaggedDocument(content, [i])\n",
    "\n",
    "corpus = list(read_corpus(noun_content))\n",
    "#모델 학습, doc2vec\n",
    "model = gensim.models.doc2vec.Doc2Vec(vector_size=50, min_count=2, epochs=40) #모델 생성\n",
    "model.build_vocab(corpus) #모델 훈련 위한 vocab 생성\n",
    "model.train(corpus, total_examples=model.corpus_count, epochs=model.epochs) #모델 훈련"
   ]
  },
  {
   "cell_type": "markdown",
   "metadata": {},
   "source": [
    "# 유사한 상위 10개 질문들과 그 답변들"
   ]
  },
  {
   "cell_type": "code",
   "execution_count": 61,
   "metadata": {},
   "outputs": [
    {
     "name": "stdout",
     "output_type": "stream",
     "text": [
      "궁금하신 사항을 입력해 주세요: 안녕하세요 조교님! 제가 4-1까지 졸업 필요 학점을 다 채웠는데, 4-2 때 등록금만 내고 수업을 안들어도 되나요?\n",
      "\n",
      "\n",
      "\n",
      "1 ) 유사도:  0.5782312750816345\n",
      "------질문------\n",
      "안녕하세요 조교님! 조기졸업 대상자가 아닌데 4-1에 필수이수학점을 모두 마친 상태라 4-2에 수업을 들을 필요가 없는데도 4-2 등록금을 내야하나요? 그리고 수업은 안들어도 되는지 아니면 하나라도 수강신청해서 들어야하는지도 궁금합니다!\n",
      "\n",
      "\n",
      "------답변------\n",
      "1 ) '조기졸업자를 제외하면 8학기까지는 무조건 등록을 해야 졸업이 가능합니다 또한 최소 1학점 이상 수강신청을 해야 등록이 가능하니 8학기에도 한 과목 이상은 들으셔야 합니다'\n",
      "\n",
      "\n",
      "\n",
      "\n",
      "\n",
      "2 ) 유사도:  0.5360193252563477\n",
      "------질문------\n",
      "조교님!! 8학기까지 다들었는데 졸업학점에서 1학점정도가 부족하면 계절학기로 충당하고 졸업할 수 있나요??\n",
      "\n",
      "\n",
      "------답변------\n",
      "1 ) '계절학기는 무조건 정규학기 학점으로 산입되어야 합니다 즉 8학기 직후 바로 그 다음 계절을 듣는 경우에만 가능합니다 (8학기까지 마치고 휴학을 했다가 계절만 듣고 졸업하는 것은 불가)\n",
      "2 ) 답변 주셔서 감사합니다 조교님??'\n",
      "\n",
      "\n",
      "\n",
      "\n",
      "\n",
      "3 ) 유사도:  0.5239826440811157\n",
      "------질문------\n",
      "조교님 안녕하세요만약 4-2까지 학점은 다 채웠는데추가학기에 재수강을 하고 싶으면4-2겨울계절 듣고, 5-1재수강듣고, 여름계절 듣고 졸업하는 것도 가능한가요?\n",
      "\n",
      "\n",
      "------답변------\n",
      "1 ) '계절도 전부 재수강으로 생각한 것입니다\n",
      "2 ) 졸업학점을 다 채우면 그 때부턴 수료생 신분이 되어서 추가학기 수강이 불가능합니다 전공이든 필수과목이든 졸업에 필요한 학점을 1학점이라도 남겨둬야 추가학기 수강이 가능합니다'\n",
      "\n",
      "\n",
      "\n",
      "\n",
      "\n",
      "4 ) 유사도:  0.5043133497238159\n",
      "------질문------\n",
      "조교님 막학기 8학기이면 8학점들어두 등록금 안깎아주나여?\n",
      "\n",
      "\n",
      "------답변------\n",
      "1 ) '네 추가학기만 등록금 깎아줘요\n",
      "2 ) 정규학기 즉 8학기까지는 등록금이 동일합니다'\n",
      "\n",
      "\n",
      "\n",
      "\n",
      "\n",
      "5 ) 유사도:  0.4875412583351135\n",
      "------질문------\n",
      "안녕하세요 조교님제가 이번 학기가 마지막 학기인데 다른 학점은 다 채웠지만 실용외국어 학점이 충족이 안 돼서 다음 학기도 등록해야 합니다. 등록을 안 하면 플렉스 대체가 안 되는 걸로 알고 있어서 ㅠ그래서 수업 하나 신청하고 플렉스 대체하려 하는데1. 4학년 2학기가 끝나도 졸업 학점이 다 안채워지면 추가 학기는 따로 신청같은거 안해도 자동으로 진행되는 걸까요?2. 수업은 교양 재수강을 사이버강의교양 같은걸로 하나 신청하려하는데 추가학기에 재수강만 신청하는것이 가능한가요?감사합니다!\n",
      "\n",
      "\n",
      "------답변------\n",
      "1 ) '1. 네 졸업학점을 다 못채웠으면 계속 재학생 신분으로 남습니다 추가학기로 수강신청도 가능하죠 2. 4학년 이상 재학생부턴 학기당 과목 하나만 들으셔도 됩니다 재수강 여부는 상관없습니다'\n",
      "\n",
      "\n",
      "\n",
      "\n",
      "\n",
      "6 ) 유사도:  0.48495376110076904\n",
      "------질문------\n",
      "조교님 안녕하세요. 전공 초과학점 관련해서 문의드려요. 지금 전공을 52학점 이수했고 2학점이 남아있는데 이번에 전공3학점짜리를 신청하면 55학점 초과되어서 수업하나가 자선으로 빠지게 될거 같은데요.. 그럼 2학점짜리 수업이 자선으로 빠져도 53학점이 되는거고 이번에 듣는 3학점짜리가 ㅈㅏ선으로 빠지면 52학점 그대로라 졸업을 못하게 되는건가요...\n",
      "\n",
      "\n",
      "------답변------\n",
      "1 ) '그냥 전공 55학점을 이수한 것으로 처리되며 특정 수업이 자선으로 빠지고 그런 건 없습니다 즉 전공이수학점인 54학점은 충족시키는거죠\n",
      "2 ) 정말 감사함니다 ㅠㅠㅠ사람들이 자동으로 자선으로 빠진다고 그래서 멘붕이었거든요.. 늘 도움주셔서 정말 감사합니다 조교님!!!\n",
      "3 ) 초과된 학점은 그냥 자선처럼 생각하면 된다는 뜻인것 같습니다 어쨌든 수업이 통째로 자선으로 넘어가는 일은 없습니다'\n",
      "\n",
      "\n",
      "\n",
      "\n",
      "\n",
      "7 ) 유사도:  0.4842037558555603\n",
      "------질문------\n",
      "조교님 안녕하세요20-1학기 기준 7학기 등록생입니다 막학기를 앞두고 졸업과 관련하여 궁금한게 있어 글 남깁니다추가학기가 아닌 정규 8학기면 최소 1학점이라도 신청하고 본 등록금을 다 납부해야한다고 알고 있습니다. 다만 제가 막학기 오프라인 수업이 어려운 상황이라 7학기까지 졸업 이수 학점을 다 충족 시켜놓고, 막학기엔 수강신청하고 등록금 납부 후 전과목 수강 취소(드랍)를 할 수 있나요?등록금만 납부하고 드랍해서 실 오프라인 수업 듣는건 없는 0학점 상태 말입니다. 항상 감사합니다!\n",
      "\n",
      "\n",
      "------답변------\n",
      "1 ) '+위의 경우가 불가하다면, 7학기까지 졸업 이수 학점을 다 충족시킨 후, 8학기엔 한과목만 신청하고 페일 뜨면 0학점을 이수한 꼴이니까 8학기가 아예 등록 인정이 안되는건가요? 졸업이 불가한가요?? 이거 때문에 머리가 너무 아프네요ㅜㅜ 에타 조교님의 힘이 필요합니다ㅜ!!\n",
      "2 ) 1. 등록을 한 상태에서 전과목을 드랍하면 학점이 0이 되면서 학사경고를 받습니다 학기인정도 안되고 등록금도 환불받을 수 없습니다 2. 다만 패스페일 수업에서 페일을 받아서 0학점이 되는 경우는 학기 인정이 될지는 잘 모르겠네요...이건 학종지에 문의해보시길 바랍니다\n",
      "3 ) 아하 전과목 드랍시 학기인정이 안되는군요! 2번 사항은 학종지에 문의해보겠습니다 항상 고맙습니다 에타조교님!!'\n",
      "\n",
      "\n",
      "\n",
      "\n",
      "\n",
      "8 ) 유사도:  0.4779205322265625\n",
      "------질문------\n",
      "4학년 1학기에 졸업학점 다 채워들어도 4학년 2학기 다녀야하나요?\n",
      "\n",
      "\n",
      "------답변------\n",
      "1 ) '정규 8학기는 다 들으셔야 됩니다\n",
      "2 ) 조기졸업만 예외입니다'\n",
      "\n",
      "\n",
      "\n",
      "\n",
      "\n",
      "9 ) 유사도:  0.47615981101989746\n",
      "------질문------\n",
      "안녕하세요 조교님 :)전필 과목을 에프 받으면졸업을 위해서 재수강을 무조건 해야하잖아요?근데 재수강 학점이 없으면..어떻게 되나요?졸업...못하나여??\n",
      "\n",
      "\n",
      "------답변------\n",
      "1 ) '지나가다가 댓글달아요 ㅋㅋ 그거 옛날에 학종지에 물어봤는데 못하는건 아닌데 골치아파지는건 확실한듯 해요.. 과마다 다른듯?\n",
      "2 ) 답변해주셔서 감사합니다 :)\n",
      "3 ) 재수강 제한 학점이 생기고 나서 요즘 그런 문제들이 나오고 있습니다 관련 지침이 따로 없어서 저도 답을 드리기 곤란한데 졸업이 달린 문제인 만큼 구제 방안은 있을 것이라 생각됩니다 학종지에 문의바랍니다\n",
      "4 ) 답변해주셔서 감사합니다~ :)'\n",
      "\n",
      "\n",
      "\n",
      "\n",
      "\n",
      "10 ) 유사도:  0.47539830207824707\n",
      "------질문------\n",
      "안녕하세요 자선교양학점 6학점을 교양 수업으로 채우지 못하면 전공학점을 더 많이 들어서 총학점을 채워도 졸업학점이 안되는 게 맞나요?\n",
      "\n",
      "\n",
      "------답변------\n",
      "1 ) '이미 다 채워둔 상태인데 전공으로 인정받은 국외교류 학점을 자선으로 돌릴 순 없겠죠? ㅠㅠ\n",
      "2 ) 졸업학점 상 자선은 전공, 이중, 교양 뭘로 채우든 상관없는 학점입니다 자선이 0학점이어도 다른 곳에서 채웠으면 졸업됩니다'\n",
      "\n",
      "\n",
      "\n",
      "\n",
      "\n"
     ]
    }
   ],
   "source": [
    "#main\n",
    "query = input('궁금하신 사항을 입력해 주세요: ')\n",
    "query = [query] #전처리에 인수 값으로 리스트 형식으로 넣어줘야 하기 때문에 문자열을 포함한 리스트 형식으로 변경\n",
    "\n",
    "##전처리 진행, 전처리한 문장을 학습한 doc2vec모델에 적용해 vectorize\n",
    "norm_content = text_normalization(query)\n",
    "preprocessed = delete_stopwords(norm_content, test = True)\n",
    "vector = model.infer_vector(preprocessed) #학습된 모델로 벡터값 유추\n",
    "\n",
    "##가장 유사한 vector를 갖는 질문들 모아모아\n",
    "sims = model.docvecs.most_similar([vector], topn=len(model.docvecs))\n",
    "\n",
    "##유사도 상위 10개 tag들\n",
    "sims_tags = list(map(lambda x: x[0], sims[:10])) \n",
    "\n",
    "\n",
    "print('\\n\\n')\n",
    "for i, tag in enumerate(sims_tags):\n",
    "    print(i+1, ')', '유사도: ', sims[i][1])\n",
    "    print('------질문------')\n",
    "    print(content[tag])\n",
    "    print('\\n')\n",
    "    \n",
    "    print('------답변------')\n",
    "    comment_devided = comments[tag].split('[')[1].split(']')[0].split(\"\\', \\'\")\n",
    "    for j, comment in enumerate(comment_devided):\n",
    "        print(j+1,')', comment)\n",
    "    print('\\n\\n\\n\\n')"
   ]
  },
  {
   "cell_type": "code",
   "execution_count": null,
   "metadata": {},
   "outputs": [],
   "source": []
  }
 ],
 "metadata": {
  "kernelspec": {
   "display_name": "Python 3",
   "language": "python",
   "name": "python3"
  },
  "language_info": {
   "codemirror_mode": {
    "name": "ipython",
    "version": 3
   },
   "file_extension": ".py",
   "mimetype": "text/x-python",
   "name": "python",
   "nbconvert_exporter": "python",
   "pygments_lexer": "ipython3",
   "version": "3.7.3"
  }
 },
 "nbformat": 4,
 "nbformat_minor": 2
}
