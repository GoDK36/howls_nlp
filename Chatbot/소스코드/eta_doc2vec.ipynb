{
 "cells": [
  {
   "cell_type": "code",
   "execution_count": 1,
   "metadata": {},
   "outputs": [],
   "source": [
    "#!pip install eunjeon #은전 프로젝트 패키지, Mecab 사용 위함.\n",
    "\n",
    "#밑에 없는 패키지들은\n",
    "#!pip install 패키지명\n",
    "#으로 설치하면 됩니다."
   ]
  },
  {
   "cell_type": "code",
   "execution_count": 8,
   "metadata": {},
   "outputs": [
    {
     "output_type": "execute_result",
     "data": {
      "text/plain": "(3024, 6)"
     },
     "metadata": {},
     "execution_count": 8
    }
   ],
   "source": [
    "import os, re, csv\n",
    "import pandas as pd\n",
    "from eunjeon import Mecab\n",
    "from tqdm import tqdm\n",
    "import gensim\n",
    "#import soynlp\n",
    "mecab = Mecab()\n",
    "\n",
    "eta_df = pd.read_csv(r\"E:\\Programming\\python\\NLP\\howls_nlp\\Chatbot\\자료\\질문2.csv\", encoding='ANSI')\n",
    "\n",
    "eta_df.shape"
   ]
  },
  {
   "cell_type": "markdown",
   "metadata": {},
   "source": [
    "# dataframe에서 댓글, 내용 리스트로 가져오기"
   ]
  },
  {
   "cell_type": "code",
   "execution_count": 9,
   "metadata": {},
   "outputs": [],
   "source": [
    "comments = eta_df['댓글'].tolist()"
   ]
  },
  {
   "cell_type": "code",
   "execution_count": 10,
   "metadata": {},
   "outputs": [],
   "source": [
    "content = eta_df['내용'].tolist()"
   ]
  },
  {
   "cell_type": "markdown",
   "metadata": {},
   "source": [
    "# 전처리 (정규화, 불용어 제거)"
   ]
  },
  {
   "cell_type": "code",
   "execution_count": 12,
   "metadata": {},
   "outputs": [],
   "source": [
    "file = open(r'E:\\Programming\\python\\NLP\\howls_nlp\\Chatbot\\자료\\stop_words.txt','r', encoding = 'utf8')\n",
    "lines = file.readlines()\n",
    "file.close()\n",
    "stop_words = lines[0].split()\n",
    "\n",
    "#print(stop_words)"
   ]
  },
  {
   "cell_type": "code",
   "execution_count": 13,
   "metadata": {},
   "outputs": [],
   "source": [
    "norm_content = []\n",
    "def text_normalization(content):\n",
    "    result = []\n",
    "    for text in content:\n",
    "        punct = re.compile(r'[\\~\\'\\\"\\.\\,\\?\\!\\:\\;\\)\\(\\+]+') \n",
    "        norm_text = re.sub(punct, \"\", text)\n",
    "        norm_text = re.sub(r'안녕(\\s)*(하세요)?', '', norm_text) #안녕, 안녕하세요, 안녕 하세요...\n",
    "        norm_text = re.sub(r'(조교)[님]?', \"\", norm_text) #조교, 조교님\n",
    "        norm_text = re.sub(r'[ㄱ-ㅎㅏ-ㅣ]{2,}', ' ', norm_text) #2개 이상 자모 연속 제거 \n",
    "        norm_text = re.sub( r\"\\s{2,}\",\" \", norm_text) #2개 이상 띄어쓰기 1개로 \n",
    "        norm_text = re.sub( r\"\\A\\s+\",'', norm_text) #전처리로 생성된 맨 앞 띄어쓰기 제거\n",
    "        result.append(norm_text)\n",
    "    return result\n",
    "\n",
    "norm_content = text_normalization(content)\n",
    "\n",
    "#print(norm_content[:20])"
   ]
  },
  {
   "cell_type": "code",
   "execution_count": 14,
   "metadata": {},
   "outputs": [],
   "source": [
    "### 명사 추출\n",
    "noun_content = []\n",
    "for x in norm_content:\n",
    "    noun_content.append(mecab.nouns(x))\n",
    "\n",
    "##불용어 제거\n",
    "def delete_stopwords(norm_content, test=False):\n",
    "    noun_content = []\n",
    "    for x in norm_content:\n",
    "        noun_content.append(mecab.nouns(x))\n",
    "    \n",
    "    ### 추출된 명사들을 묶어 merge_content 에 담는다\n",
    "    merge_content = []\n",
    "    for noun in noun_content:\n",
    "        txt = ' '.join(noun)\n",
    "        merge_content.append(txt)\n",
    "    \n",
    "    ### 불용어 리스트에 없는 단어들만 추가, 명사들로 이뤄진 리스트들\n",
    "    texts = [[word for word in document.split() if word not in stop_words]\n",
    "            for document in merge_content]\n",
    "    if test == True:\n",
    "        return texts[0]\n",
    "    return texts\n",
    "\n",
    "texts = delete_stopwords(norm_content)\n",
    "#print(texts)\n",
    "\n",
    "\n",
    "###texts 합쳐서 하나의 코퍼스로\n",
    "# n_merge_content = []\n",
    "\n",
    "# for noun in texts:\n",
    "#     txt = ' '.join(noun)\n",
    "#     n_merge_content.append(txt)\n",
    "\n",
    "\n"
   ]
  },
  {
   "cell_type": "markdown",
   "metadata": {},
   "source": [
    "# 구축한 corpus로 doc2vec 모델 만들기"
   ]
  },
  {
   "cell_type": "code",
   "execution_count": 18,
   "metadata": {
    "tags": [
     "outputPrepend"
    ]
   },
   "outputs": [
    {
     "output_type": "stream",
     "name": "stderr",
     "text": "3024it [00:00, 571847.40it/s]\n[['부', '전공', '신청', '학기', '가능', '막', '학기', '계절도', '예정', '졸', '건데', '이번', '학기', '중', '이중', '전공', '걸', '전공', '변경', '가능'], ['저', '전역', '주', '정도', '군인', '전역', '후', '계획', '점', '질문', '저', '군', '복무', '중', '군', '원격', '강좌', '년', '학기', '교양', '학점', '수강', '전역', '후', '년', '학기', '복학', '예정', '년', '여름', '계절', '학기', '것', '가능', '가요', '만약', '여름', '계절', '학기', '수강', '것', '가능', '년', '학기', '입대', '전', '학기', '수강', '강좌', '년', '여름', '계절', '학기', '것', '가능', '학우', '노력', '께', '감사', '말씀'], ['방학', '중', '어학연수', '질문', '휴학', '중', '학점', '인정', '재학', '기간', '중', '회', '가능', '데', '방학', '중', '어학연수', '휴학', '중', '학점', '인정', '기준', '방학', '휴학', '중', '어학연수', '관련', '내용', '휴학', '중', '학점', '인정', '회', '가능']]\n----------------------------------------------------------------------------------------------------\n[TaggedDocument(words=['부', '전공', '신청', '학기', '가능', '막', '학기', '계절도', '예정', '졸', '건데', '이번', '학기', '중', '이중', '전공', '걸', '전공', '변경', '가능'], tags=[0]), TaggedDocument(words=['저', '전역', '주', '정도', '군인', '전역', '후', '계획', '점', '질문', '저', '군', '복무', '중', '군', '원격', '강좌', '년', '학기', '교양', '학점', '수강', '전역', '후', '년', '학기', '복학', '예정', '년', '여름', '계절', '학기', '것', '가능', '가요', '만약', '여름', '계절', '학기', '수강', '것', '가능', '년', '학기', '입대', '전', '학기', '수강', '강좌', '년', '여름', '계절', '학기', '것', '가능', '학우', '노력', '께', '감사', '말씀'], tags=[1]), TaggedDocument(words=['방학', '중', '어학연수', '질문', '휴학', '중', '학점', '인정', '재학', '기간', '중', '회', '가능', '데', '방학', '중', '어학연수', '휴학', '중', '학점', '인정', '기준', '방학', '휴학', '중', '어학연수', '관련', '내용', '휴학', '중', '학점', '인정', '회', '가능'], tags=[2])]\n"
    }
   ],
   "source": [
    "#corpus 읽어서 태그달기(태그는 임의의 태그, 입력된 순서대로 달림)\n",
    "def read_corpus(noun_content):\n",
    "    for i, content in tqdm(enumerate(noun_content)):\n",
    "        yield gensim.models.doc2vec.TaggedDocument(content, [i])\n",
    "\n",
    "corpus = list(read_corpus(noun_content))\n",
    "print(noun_content[:3])\n",
    "print(\"-\"*100)\n",
    "print(corpus[:3])\n",
    "#모델 학습, doc2vec\n",
    "model = gensim.models.doc2vec.Doc2Vec(vector_size=50, min_count=2, epochs=40) #모델 생성\n",
    "model.build_vocab(corpus) #모델 훈련 위한 vocab 생성\n",
    "model.train(corpus, total_examples=model.corpus_count, epochs=model.epochs) #모델 훈련"
   ]
  },
  {
   "cell_type": "markdown",
   "metadata": {},
   "source": [
    "# 유사한 상위 10개 질문들과 그 답변들"
   ]
  },
  {
   "cell_type": "code",
   "execution_count": 19,
   "metadata": {},
   "outputs": [
    {
     "output_type": "stream",
     "name": "stdout",
     "text": "\n\n\n1 ) 유사도:  0.8827359080314636\n------질문------\n안녕하세요 조교님! 같은 전공 부전공에서 이중으로 올리는 것도 혹시 이중전공 변경 신청 해야하나요?\n\n\n------답변------\n1 ) '네 이중전공을 신청하는 것이므로 변경신청을 통해 해야합니다'\n\n\n\n\n\n2 ) 유사도:  0.8716222047805786\n------질문------\n서울캠 > 글캠 통계학과이중 혹은 부전공 가능한가요?\n\n\n------답변------\n1 ) '네 이공계열(공대, 자대) 소속 전공들은 다 가능합니다~'\n\n\n\n\n\n3 ) 유사도:  0.8669173717498779\n------질문------\n조교님! 혹시 부전공을 이중전공으로 올리려면 어떻게 해야되나요?ㅜㅜ\n\n\n------답변------\n1 ) '이중전공 변경기간에 동일하게 신청하셔야 됩니다 단 이전에 이중전공 변경 이력이 있으면 재학 중 1회라는 규정상 신청이 불가합니다'\n\n\n\n\n\n4 ) 유사도:  0.8663200736045837\n------질문------\n안녕하세요 조교님 ㅠㅠ 이중전공을 부전공으로 내렸는데 학점 일부분이 자선으로 넘어갔어요ㅠㅠ 자선을 부전공으로 인정받으려면 어캐해야하나요ㅠ\n\n\n------답변------\n1 ) '소속 단과대에 이수구분변경 신청서를 내야합니다 단과대 사무실에 문의 바랍니다\n2 ) 소속단과대는 부전공단과대 말씀이신가요? 아님 본전공?\n3 ) 답변을 헷갈리게 했군요 부전공 단과대에 문의바랍니다\n4 ) 감사합니다..'\n\n\n\n\n\n5 ) 유사도:  0.8570381999015808\n------질문------\n안녕하세요 이번학기 휴학 신청을 하고 등록휴학을 하려고 햇는데 깜빡하고 등록금 납부를 못했습니다. 혹시 추가 등록기간에 등록금을 완납하면 등록휴핟 가능할까요?\n\n\n------답변------\n1 ) '추가로 국장도 그대로 받을수 있을까요..?\n2 ) 휴학 신청을 한 상태에서 금번 등록기간에 납부를 했든 추가등록기간에 납부를 하든 다 등록휴학이 됩니다 국장에 선발되셨다면 그것도 등록금 고지서에 다 반영됩니다\n3 ) 감사합니다!'\n\n\n\n\n\n6 ) 유사도:  0.8546684980392456\n------질문------\n안녕하세요 조교님????이제 2학년 되서 이중전공을 처음으로 듣는데 본전공이랑 수업이 다 겹쳐서요ㅠㅠ이중전공도 다른학년(3,4학년) 수업 맘대로 못듣나요?.?\n\n\n------답변------\n1 ) '과마다 지침이 좀 다른데요. 보통은 1순위: 해당 학년, 2순위: 졸업 예비 고학번들, 3순위: 이중전공생, 4순위: 부전공생 으로 알고 있습니다. 근데 과마다 다르니까 해당 과사에 전화해서 물어보시는게 좋겠어요.\n2 ) 우앗 감사합니닷!!\n3 ) 윗분께서 설명을 잘 해주셨네요^^'\n\n\n\n\n\n7 ) 유사도:  0.8521749377250671\n------질문------\n현재 이중전공 수업을 듣고 있는데 이중전공을 바꾸고 싶습니다.이번학기에 변경신청이 가능한가요??\n\n\n------답변------\n1 ) '2학기엔 보통 10월말~11월초에 신청공지가 뜨니 그 때 신청하시길 바랍니다'\n\n\n\n\n\n8 ) 유사도:  0.8477488160133362\n------질문------\n이중전공 변경신청기간 언제인가요???\n\n\n------답변------\n1 ) '이번 달 말쯤에 학교홈피의 학사공지에 일정이 뜰겁니다'\n\n\n\n\n\n9 ) 유사도:  0.8423337936401367\n------질문------\n조교님!자선학점이 교양학점으로 인정되나요? 자선은 자선일뿐인가요?ㅠㅠ\n\n\n------답변------\n1 ) '자선은 자선일 뿐입니다\n2 ) 전공, 이중(부)전공, 교양을 제외한 수업들은 모두 자선처리됩니다'\n\n\n\n\n\n10 ) 유사도:  0.8421565294265747\n------질문------\n조교님 일학년 이중전공 신청일은 언제인가용??\n\n\n------답변------\n1 ) '아직 공식 공지가 올라오지 않았으나, 작년엔 11월 말에 공지가 떴습니다 각 학과에도 안내 공문이 발송되니 학교 홈피 및 학과 커뮤니티, 홈피에도 게재될겁니다\n2 ) 감사합ㄴ당~~'\n\n\n\n\n\n"
    }
   ],
   "source": [
    "#main\n",
    "query = input('궁금하신 사항을 입력해 주세요: ')\n",
    "query = [query] #전처리에 인수 값으로 리스트 형식으로 넣어줘야 하기 때문에 문자열을 포함한 리스트 형식으로 변경\n",
    "\n",
    "##전처리 진행, 전처리한 문장을 학습한 doc2vec모델에 적용해 vectorize\n",
    "norm_content = text_normalization(query)\n",
    "preprocessed = delete_stopwords(norm_content, test = True)\n",
    "vector = model.infer_vector(preprocessed) #학습된 모델로 벡터값 유추\n",
    "\n",
    "##가장 유사한 vector를 갖는 질문들 모아모아\n",
    "sims = model.docvecs.most_similar([vector], topn=len(model.docvecs))\n",
    "\n",
    "##유사도 상위 10개 tag들\n",
    "sims_tags = list(map(lambda x: x[0], sims[:10])) \n",
    "\n",
    "\n",
    "print('\\n\\n')\n",
    "for i, tag in enumerate(sims_tags):\n",
    "    print(i+1, ')', '유사도: ', sims[i][1])\n",
    "    print('------질문------')\n",
    "    print(content[tag])\n",
    "    print('\\n')\n",
    "    \n",
    "    print('------답변------')\n",
    "    comment_devided = comments[tag].split('[')[1].split(']')[0].split(\"\\', \\'\")\n",
    "    for j, comment in enumerate(comment_devided):\n",
    "        print(j+1,')', comment)\n",
    "    print('\\n\\n\\n\\n')"
   ]
  },
  {
   "cell_type": "code",
   "execution_count": null,
   "metadata": {},
   "outputs": [],
   "source": []
  }
 ],
 "metadata": {
  "kernelspec": {
   "display_name": "Python 3.7.6 64-bit ('base': conda)",
   "language": "python",
   "name": "python37664bitbaseconda7ccc1197ea424c04aa8e970980241a68"
  },
  "language_info": {
   "codemirror_mode": {
    "name": "ipython",
    "version": 3
   },
   "file_extension": ".py",
   "mimetype": "text/x-python",
   "name": "python",
   "nbconvert_exporter": "python",
   "pygments_lexer": "ipython3",
   "version": "3.7.7-final"
  }
 },
 "nbformat": 4,
 "nbformat_minor": 2
}