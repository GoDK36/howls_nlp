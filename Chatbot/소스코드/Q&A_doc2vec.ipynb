{
 "cells": [
  {
   "cell_type": "code",
   "execution_count": 1,
   "metadata": {},
   "outputs": [],
   "source": [
    "import os, re, csv\n",
    "import pandas as pd\n",
    "from eunjeon import Mecab\n",
    "from tqdm import tqdm\n",
    "import gensim\n",
    "import multiprocessing"
   ]
  },
  {
   "cell_type": "code",
   "execution_count": 2,
   "metadata": {},
   "outputs": [],
   "source": [
    "#corpus 읽어서 태그달기(태그는 임의의 태그, 입력된 순서대로 달림)\n",
    "def read_corpus(noun_content):\n",
    "    for i, content in tqdm(enumerate(noun_content)):\n",
    "        yield gensim.models.doc2vec.TaggedDocument(content, [i])"
   ]
  },
  {
   "cell_type": "code",
   "execution_count": 3,
   "metadata": {},
   "outputs": [
    {
     "output_type": "stream",
     "name": "stdout",
     "text": "['이중전공 부전공 차이 대하 이중전공 학위 졸업장 표시 부전공 졸업장 표시', '재수강 연결 종합 정보 시스템 수업 수강 관리 수강 과목 선택 메뉴 들어가 안내 사항 이전 성적 연결 현황 동일 교과 자동연결되었습 나오 학사 공지 나오 대로 재수강 이전 성적 선택 재수강 연결 필요 아무것 감사', '수고 다르 아니 제가 평점 학기 수업 평점 올리 졸업 학점 134 학점 초과 문제', '처음 이중전공 신청 이중전공 경영 변경 시도 자체 시험 떨어지 변경 실패 지나 겨울 방학 2019 부전공 경영 선택 2020년 학기 이중전공 변경 기간 경영 신청 한번 종합 정보 시스템 들어가 사진 내요 신경 변경 기간 경영 신청', '이중전공 바꾸 바꾸 학점 소멸', '등록 휴학 자퇴 경우 이번 학기 등록금 환불 가능', '졸업 유예 기간 동안 학점 취득 가능', '인간 사회 학점 짜리 과목 씨쁠 이거 언어 문학 학점 짜리 페논 과목 재수강 연결 가능', '2019 학기 학기 마치 사정 학점 상태 휴학 전공 이중전공 학점 채운 상황 취득 학점 132 학점 학점 모자라 추가 학기 상황 경우 2020 여름 계절 학기 학점 수강 수료 가능 답변 부탁 드리', '교양 영어 수강 학생 온라인 과제 코드']\n[['이중전공', '부전공', '차이', '대하', '이중전공', '학위', '졸업장', '표시', '부전공', '졸업장', '표시'], ['재수강', '연결', '종합', '정보', '시스템', '수업', '수강', '관리', '수강', '과목', '선택', '메뉴', '들어가', '안내', '사항', '이전', '성적', '연결', '현황', '동일', '교과', '자동연결되었습', '나오', '학사', '공지', '나오', '대로', '재수강', '이전', '성적', '선택', '재수강', '연결', '필요', '아무것', '감사'], ['수고', '다르', '아니', '제가', '평점', '학기', '수업', '평점', '올리', '졸업', '학점', '134', '학점', '초과', '문제'], ['처음', '이중전공', '신청', '이중전공', '경영', '변경', '시도', '자체', '시험', '떨어지', '변경', '실패', '지나', '겨울', '방학', '2019', '부전공', '경영', '선택', '2020년', '학기', '이중전공', '변경', '기간', '경영', '신청', '한번', '종합', '정보', '시스템', '들어가', '사진', '내요', '신경', '변경', '기간', '경영', '신청'], ['이중전공', '바꾸', '바꾸', '학점', '소멸'], ['등록', '휴학', '자퇴', '경우', '이번', '학기', '등록금', '환불', '가능'], ['졸업', '유예', '기간', '동안', '학점', '취득', '가능'], ['인간', '사회', '학점', '짜리', '과목', '씨쁠', '이거', '언어', '문학', '학점', '짜리', '페논', '과목', '재수강', '연결', '가능'], ['2019', '학기', '학기', '마치', '사정', '학점', '상태', '휴학', '전공', '이중전공', '학점', '채운', '상황', '취득', '학점', '132', '학점', '학점', '모자라', '추가', '학기', '상황', '경우', '2020', '여름', '계절', '학기', '학점', '수강', '수료', '가능', '답변', '부탁', '드리'], ['교양', '영어', '수강', '학생', '온라인', '과제', '코드']]\n"
    }
   ],
   "source": [
    "df = pd.read_csv(r\"D:\\Shin\\Develop\\python\\NLP\\howls_nlp\\Chatbot\\자료\\results\\Q&A.csv\")\n",
    "lem = df[\"LEMMA\"].tolist()\n",
    "print(lem[:10])\n",
    "lem_cont = []\n",
    "for k in lem:\n",
    "    lem_cont.append(str(k).split())\n",
    "print(lem_cont[:10])"
   ]
  },
  {
   "cell_type": "code",
   "execution_count": 4,
   "metadata": {},
   "outputs": [
    {
     "output_type": "stream",
     "name": "stderr",
     "text": "7015it [00:00, 701350.18it/s]\n[TaggedDocument(words=['이중전공', '부전공', '차이', '대하', '이중전공', '학위', '졸업장', '표시', '부전공', '졸업장', '표시'], tags=[0]), TaggedDocument(words=['재수강', '연결', '종합', '정보', '시스템', '수업', '수강', '관리', '수강', '과목', '선택', '메뉴', '들어가', '안내', '사항', '이전', '성적', '연결', '현황', '동일', '교과', '자동연결되었습', '나오', '학사', '공지', '나오', '대로', '재수강', '이전', '성적', '선택', '재수강', '연결', '필요', '아무것', '감사'], tags=[1]), TaggedDocument(words=['수고', '다르', '아니', '제가', '평점', '학기', '수업', '평점', '올리', '졸업', '학점', '134', '학점', '초과', '문제'], tags=[2]), TaggedDocument(words=['처음', '이중전공', '신청', '이중전공', '경영', '변경', '시도', '자체', '시험', '떨어지', '변경', '실패', '지나', '겨울', '방학', '2019', '부전공', '경영', '선택', '2020년', '학기', '이중전공', '변경', '기간', '경영', '신청', '한번', '종합', '정보', '시스템', '들어가', '사진', '내요', '신경', '변경', '기간', '경영', '신청'], tags=[3]), TaggedDocument(words=['이중전공', '바꾸', '바꾸', '학점', '소멸'], tags=[4]), TaggedDocument(words=['등록', '휴학', '자퇴', '경우', '이번', '학기', '등록금', '환불', '가능'], tags=[5]), TaggedDocument(words=['졸업', '유예', '기간', '동안', '학점', '취득', '가능'], tags=[6]), TaggedDocument(words=['인간', '사회', '학점', '짜리', '과목', '씨쁠', '이거', '언어', '문학', '학점', '짜리', '페논', '과목', '재수강', '연결', '가능'], tags=[7]), TaggedDocument(words=['2019', '학기', '학기', '마치', '사정', '학점', '상태', '휴학', '전공', '이중전공', '학점', '채운', '상황', '취득', '학점', '132', '학점', '학점', '모자라', '추가', '학기', '상황', '경우', '2020', '여름', '계절', '학기', '학점', '수강', '수료', '가능', '답변', '부탁', '드리'], tags=[8]), TaggedDocument(words=['교양', '영어', '수강', '학생', '온라인', '과제', '코드'], tags=[9])]\n"
    }
   ],
   "source": [
    "corpus = list(read_corpus(lem_cont))\n",
    "print(corpus[:10])\n",
    "\n",
    "cores = multiprocessing.cpu_count()\n",
    "\n",
    "#doc2vec parameters\n",
    "vector_size = 1000\n",
    "window_size = 15\n",
    "word_min_count = 2\n",
    "sampling_threshold = 1e-5\n",
    "negative_size = 5\n",
    "train_epoch = 100\n",
    "dm = 1 #0 = dbow; 1 = dmpv\n",
    "worker_count = cores #number of parallel processes\n",
    "\n",
    "#모델 학습, doc2vec\n",
    "model = gensim.models.doc2vec.Doc2Vec(\n",
    "    min_count=word_min_count, size=vector_size, alpha=0.025, min_alpha=0.025, seed=1234, workers=worker_count\n",
    "    )\n",
    "\n",
    "#모델 생성\n",
    "model.build_vocab(corpus) #모델 훈련 위한 vocab 생성\n",
    "\n",
    "# Train document vectors!\n",
    "for epoch in range(10):\n",
    "\tmodel.train(corpus, total_examples=model.corpus_count, epochs=train_epoch)\n",
    "\tmodel.alpha -= 0.002 # decrease the learning rate\n",
    "\tmodel.min_alpha = model.alpha # fix the learning rate, no decay\n",
    "\n",
    "# To save\n",
    "model.save(r\"D:\\Shin\\Develop\\python\\NLP\\howls_nlp\\Chatbot\\자료\\models\\doc2vec.model\")\n",
    "model.save_word2vec_format(r\"D:\\Shin\\Develop\\python\\NLP\\howls_nlp\\Chatbot\\자료\\models\\doc2vec.model.word2vec_format\", binary=False)\n"
   ]
  },
  {
   "cell_type": "code",
   "execution_count": null,
   "metadata": {},
   "outputs": [],
   "source": []
  }
 ],
 "metadata": {
  "language_info": {
   "codemirror_mode": {
    "name": "ipython",
    "version": 3
   },
   "file_extension": ".py",
   "mimetype": "text/x-python",
   "name": "python",
   "nbconvert_exporter": "python",
   "pygments_lexer": "ipython3",
   "version": "3.7.6-final"
  },
  "orig_nbformat": 2,
  "kernelspec": {
   "name": "python3",
   "display_name": "Python 3"
  }
 },
 "nbformat": 4,
 "nbformat_minor": 2
}