{
 "cells": [
  {
   "cell_type": "code",
   "execution_count": 1,
   "metadata": {},
   "outputs": [],
   "source": [
    "import os, re, csv\n",
    "import pandas as pd\n",
    "import numpy as np\n",
    "from kiwipiepy import Kiwi"
   ]
  },
  {
   "cell_type": "code",
   "execution_count": 2,
   "metadata": {},
   "outputs": [],
   "source": [
    "# 데이터셋 불러와서 정리하기\n",
    "\n",
    "eta_df = pd.read_csv(r\"E:\\Programming\\python\\NLP\\howls_nlp\\Chatbot\\자료\\질문.csv\", encoding='ANSI')\n",
    "eta_df = eta_df.drop(['Unnamed: 0', '글쓴이', '더보기', 'id', '작성시간', '좋아요', '댓글 수'], axis=1)\n",
    "eta_df['TAGSET'] = np.nan\n",
    "eta_df.rename(columns={\"내용\":\"QUESTION\", \"댓글\":\"ANSWER\"}, inplace=True)\n",
    "\n",
    "eta2_df = pd.read_csv(r\"E:\\Programming\\python\\NLP\\howls_nlp\\Chatbot\\자료\\질문2.csv\", encoding='ANSI')\n",
    "eta2_df = eta2_df.drop(['Unnamed: 0', '댓글쓴이', '대댓글여부', 'id'], axis=1)\n",
    "eta2_df['TAGSET'] = np.nan\n",
    "eta2_df.rename(columns={\"내용\":\"QUESTION\", \"댓글\":\"ANSWER\"}, inplace=True)\n",
    "\n",
    "dm_df = pd.read_csv(r\"E:\\Programming\\python\\NLP\\howls_nlp\\Chatbot\\자료\\이중전과게시판_이중검색.csv\", encoding='UTF-8')\n",
    "dm_df = dm_df.drop(['Unnamed: 0', '댓글쓴이', '대댓글여부', 'id'], axis=1)\n",
    "dm_df['TAGSET'] = np.nan\n",
    "dm_df.rename(columns={\"내용\":\"QUESTION\", \"댓글\":\"ANSWER\"}, inplace=True)\n",
    "\n",
    "# 데이터 병합\n",
    "df_lst = [eta_df, eta2_df, dm_df]\n",
    "merged_df = pd.concat(df_lst)\n",
    "merged_df.reset_index(drop=True, inplace=True)\n",
    "merged_df = merged_df[['QUESTION', \"ANSWER\", \"TAGSET\"]]"
   ]
  },
  {
   "cell_type": "code",
   "execution_count": 98,
   "metadata": {},
   "outputs": [],
   "source": [
    "def csv2data(*df):\n",
    "\n",
    "    \"\"\"\n",
    "    csv 파일은 필수적으로 내용을 가지고 있어야한다.\n",
    "\n",
    "    class_lst는 리스트 형태의 str으로 이루어져야한다.\n",
    "    \"\"\"\n",
    "    for i in range(0, len(df)):\n",
    "        print(df[i])\n",
    "        df = df[i]\n",
    "        col = df.columns.tolist()\n",
    "\n",
    "        if '내용' not in col:\n",
    "            print(\"내용이 없습니다\")\n",
    "        else:\n",
    "            pass\n",
    "\n",
    "        col_nme = []\n",
    "        not_need = []\n",
    "        if '내용' == col:\n",
    "            col_nme.append('내용')\n",
    "            col.remove('내용')\n",
    "        elif '댓글' == col:\n",
    "            col_nme.append('댓글')\n",
    "            col.remove('댓글')\n",
    "        else:\n",
    "            pass\n",
    "\n",
    "        df = df.drop(col, axis=1)\n",
    "        df['TAGSET'] = np.nan\n",
    "        df.rename(columns={\"내용\":\"QUESTION\", \"댓글\":\"ANSWER\"}, inplace=True)\n",
    "\n",
    "    # 데이터 병합\n",
    "    df_lst = list(df)\n",
    "    merged_df = pd.concat(df_lst)\n",
    "    merged_df.reset_index(drop=True, inplace=True)\n",
    "    merged_df = merged_df[['QUESTION', \"ANSWER\", \"TAGSET\"]]\n",
    "\n",
    "    return merged_df"
   ]
  },
  {
   "cell_type": "code",
   "execution_count": 99,
   "metadata": {},
   "outputs": [
    {
     "output_type": "stream",
     "name": "stdout",
     "text": "Unnamed: 0     글쓴이                                                 내용  \\\n0              0      익명  조교님! 이중전공이랑 부전공 차이에 대해서 궁금해요!이중전공은 학위+졸업장 표시인건...   \n1              1      익명  안녕하세요 조교님!재수강 연결방밥 대로 종합정보시스템-수업수강관리-재수강과목선택메뉴...   \n2              2      익명  조교님 안녕하세요!! 항상 수고가 많으십니다 다름아니라 제가 총평점이 좀 낮은편이라...   \n3              3      익명  안녕하세요 조교님!제가 맨 처음에 이중전공을 gbt로 신청했다가이중전공 경영으로 변...   \n4              4      익명  이중전공을 바꾸고싶은데 혹시 바꾸게 된다면 그전에 받은 학점은 이어가는 건가요? 아...   \n...          ...     ...                                                ...   \n3011        3011      익명  조교님 신입생으로 들어올때는 따로 홈페이지에서 장학금 등록했었는데 2학기때는 그런게...   \n3012        3012      익명  조교님 필승1학년인데 조기 졸업관련해서 질문 드립니다. 조기 졸업은 1학기 조기 졸...   \n3013        3013      익명         조교님~ 저희학교는 어학 장학금이 없나요? 아니면 어학 관련 대회는 없나요?   \n3014        3014  (알수없음)              첫 글 써봅니다.좋은일 해주셔서 감사합니다!경례올립니다 필~~~씅!   \n3015        3015    에타조교  에타조교 게시판 개설많은 고민이 있었습니다. 학사조교 하면서 에타에 익명으로 학사행...   \n\n      더보기         id              작성시간  좋아요  댓글 수  \n0       0  112245378  2020-03-25 18:17    0     0  \n1       1  112204241  2020-03-25 15:00    0     0  \n2       0  112183678  2020-03-25 13:17    0     0  \n3       1  112132727   2020-03-25 2:44    0     0  \n4       0  112064305  2020-03-24 21:12    0     1  \n...   ...        ...               ...  ...   ...  \n3011    0   28890549   2017-08-21 9:53    0     5  \n3012    0   28884796   2017-08-21 2:26    0    14  \n3013    0   28879554   2017-08-21 0:33    0     3  \n3014    0   28879182   2017-08-21 0:26    4     1  \n3015    1   28877634   2017-08-21 0:00   21     1  \n\n[3016 rows x 8 columns]\n"
    },
    {
     "output_type": "error",
     "ename": "KeyError",
     "evalue": "1",
     "traceback": [
      "\u001b[1;31m---------------------------------------------------------------------------\u001b[0m",
      "\u001b[1;31mKeyError\u001b[0m                                  Traceback (most recent call last)",
      "\u001b[1;32m~\\Anaconda3\\lib\\site-packages\\pandas\\core\\indexes\\base.py\u001b[0m in \u001b[0;36mget_loc\u001b[1;34m(self, key, method, tolerance)\u001b[0m\n\u001b[0;32m   2645\u001b[0m             \u001b[1;32mtry\u001b[0m\u001b[1;33m:\u001b[0m\u001b[1;33m\u001b[0m\u001b[1;33m\u001b[0m\u001b[0m\n\u001b[1;32m-> 2646\u001b[1;33m                 \u001b[1;32mreturn\u001b[0m \u001b[0mself\u001b[0m\u001b[1;33m.\u001b[0m\u001b[0m_engine\u001b[0m\u001b[1;33m.\u001b[0m\u001b[0mget_loc\u001b[0m\u001b[1;33m(\u001b[0m\u001b[0mkey\u001b[0m\u001b[1;33m)\u001b[0m\u001b[1;33m\u001b[0m\u001b[1;33m\u001b[0m\u001b[0m\n\u001b[0m\u001b[0;32m   2647\u001b[0m             \u001b[1;32mexcept\u001b[0m \u001b[0mKeyError\u001b[0m\u001b[1;33m:\u001b[0m\u001b[1;33m\u001b[0m\u001b[1;33m\u001b[0m\u001b[0m\n",
      "\u001b[1;32mpandas\\_libs\\index.pyx\u001b[0m in \u001b[0;36mpandas._libs.index.IndexEngine.get_loc\u001b[1;34m()\u001b[0m\n",
      "\u001b[1;32mpandas\\_libs\\index.pyx\u001b[0m in \u001b[0;36mpandas._libs.index.IndexEngine.get_loc\u001b[1;34m()\u001b[0m\n",
      "\u001b[1;32mpandas\\_libs\\hashtable_class_helper.pxi\u001b[0m in \u001b[0;36mpandas._libs.hashtable.PyObjectHashTable.get_item\u001b[1;34m()\u001b[0m\n",
      "\u001b[1;32mpandas\\_libs\\hashtable_class_helper.pxi\u001b[0m in \u001b[0;36mpandas._libs.hashtable.PyObjectHashTable.get_item\u001b[1;34m()\u001b[0m\n",
      "\u001b[1;31mKeyError\u001b[0m: 1",
      "\nDuring handling of the above exception, another exception occurred:\n",
      "\u001b[1;31mKeyError\u001b[0m                                  Traceback (most recent call last)",
      "\u001b[1;32m<ipython-input-99-67bb0a2606f9>\u001b[0m in \u001b[0;36m<module>\u001b[1;34m\u001b[0m\n\u001b[0;32m      3\u001b[0m \u001b[0mdm_df\u001b[0m \u001b[1;33m=\u001b[0m \u001b[0mpd\u001b[0m\u001b[1;33m.\u001b[0m\u001b[0mread_csv\u001b[0m\u001b[1;33m(\u001b[0m\u001b[1;34mr\"E:\\Programming\\python\\NLP\\howls_nlp\\Chatbot\\자료\\이중전과게시판_이중검색.csv\"\u001b[0m\u001b[1;33m,\u001b[0m \u001b[0mencoding\u001b[0m\u001b[1;33m=\u001b[0m\u001b[1;34m'UTF-8'\u001b[0m\u001b[1;33m)\u001b[0m\u001b[1;33m\u001b[0m\u001b[1;33m\u001b[0m\u001b[0m\n\u001b[0;32m      4\u001b[0m \u001b[1;33m\u001b[0m\u001b[0m\n\u001b[1;32m----> 5\u001b[1;33m \u001b[0mcsv2data\u001b[0m\u001b[1;33m(\u001b[0m\u001b[0meta_df\u001b[0m\u001b[1;33m,\u001b[0m \u001b[0meta2_df\u001b[0m\u001b[1;33m,\u001b[0m \u001b[0mdm_df\u001b[0m\u001b[1;33m)\u001b[0m\u001b[1;33m\u001b[0m\u001b[1;33m\u001b[0m\u001b[0m\n\u001b[0m",
      "\u001b[1;32m<ipython-input-98-319108972b07>\u001b[0m in \u001b[0;36mcsv2data\u001b[1;34m(*df)\u001b[0m\n\u001b[0;32m      7\u001b[0m     \"\"\"\n\u001b[0;32m      8\u001b[0m     \u001b[1;32mfor\u001b[0m \u001b[0mi\u001b[0m \u001b[1;32min\u001b[0m \u001b[0mrange\u001b[0m\u001b[1;33m(\u001b[0m\u001b[1;36m0\u001b[0m\u001b[1;33m,\u001b[0m \u001b[0mlen\u001b[0m\u001b[1;33m(\u001b[0m\u001b[0mdf\u001b[0m\u001b[1;33m)\u001b[0m\u001b[1;33m)\u001b[0m\u001b[1;33m:\u001b[0m\u001b[1;33m\u001b[0m\u001b[1;33m\u001b[0m\u001b[0m\n\u001b[1;32m----> 9\u001b[1;33m         \u001b[0mprint\u001b[0m\u001b[1;33m(\u001b[0m\u001b[0mdf\u001b[0m\u001b[1;33m[\u001b[0m\u001b[0mi\u001b[0m\u001b[1;33m]\u001b[0m\u001b[1;33m)\u001b[0m\u001b[1;33m\u001b[0m\u001b[1;33m\u001b[0m\u001b[0m\n\u001b[0m\u001b[0;32m     10\u001b[0m         \u001b[0mdf\u001b[0m \u001b[1;33m=\u001b[0m \u001b[0mdf\u001b[0m\u001b[1;33m[\u001b[0m\u001b[0mi\u001b[0m\u001b[1;33m]\u001b[0m\u001b[1;33m\u001b[0m\u001b[1;33m\u001b[0m\u001b[0m\n\u001b[0;32m     11\u001b[0m         \u001b[0mcol\u001b[0m \u001b[1;33m=\u001b[0m \u001b[0mdf\u001b[0m\u001b[1;33m.\u001b[0m\u001b[0mcolumns\u001b[0m\u001b[1;33m.\u001b[0m\u001b[0mtolist\u001b[0m\u001b[1;33m(\u001b[0m\u001b[1;33m)\u001b[0m\u001b[1;33m\u001b[0m\u001b[1;33m\u001b[0m\u001b[0m\n",
      "\u001b[1;32m~\\Anaconda3\\lib\\site-packages\\pandas\\core\\frame.py\u001b[0m in \u001b[0;36m__getitem__\u001b[1;34m(self, key)\u001b[0m\n\u001b[0;32m   2798\u001b[0m             \u001b[1;32mif\u001b[0m \u001b[0mself\u001b[0m\u001b[1;33m.\u001b[0m\u001b[0mcolumns\u001b[0m\u001b[1;33m.\u001b[0m\u001b[0mnlevels\u001b[0m \u001b[1;33m>\u001b[0m \u001b[1;36m1\u001b[0m\u001b[1;33m:\u001b[0m\u001b[1;33m\u001b[0m\u001b[1;33m\u001b[0m\u001b[0m\n\u001b[0;32m   2799\u001b[0m                 \u001b[1;32mreturn\u001b[0m \u001b[0mself\u001b[0m\u001b[1;33m.\u001b[0m\u001b[0m_getitem_multilevel\u001b[0m\u001b[1;33m(\u001b[0m\u001b[0mkey\u001b[0m\u001b[1;33m)\u001b[0m\u001b[1;33m\u001b[0m\u001b[1;33m\u001b[0m\u001b[0m\n\u001b[1;32m-> 2800\u001b[1;33m             \u001b[0mindexer\u001b[0m \u001b[1;33m=\u001b[0m \u001b[0mself\u001b[0m\u001b[1;33m.\u001b[0m\u001b[0mcolumns\u001b[0m\u001b[1;33m.\u001b[0m\u001b[0mget_loc\u001b[0m\u001b[1;33m(\u001b[0m\u001b[0mkey\u001b[0m\u001b[1;33m)\u001b[0m\u001b[1;33m\u001b[0m\u001b[1;33m\u001b[0m\u001b[0m\n\u001b[0m\u001b[0;32m   2801\u001b[0m             \u001b[1;32mif\u001b[0m \u001b[0mis_integer\u001b[0m\u001b[1;33m(\u001b[0m\u001b[0mindexer\u001b[0m\u001b[1;33m)\u001b[0m\u001b[1;33m:\u001b[0m\u001b[1;33m\u001b[0m\u001b[1;33m\u001b[0m\u001b[0m\n\u001b[0;32m   2802\u001b[0m                 \u001b[0mindexer\u001b[0m \u001b[1;33m=\u001b[0m \u001b[1;33m[\u001b[0m\u001b[0mindexer\u001b[0m\u001b[1;33m]\u001b[0m\u001b[1;33m\u001b[0m\u001b[1;33m\u001b[0m\u001b[0m\n",
      "\u001b[1;32m~\\Anaconda3\\lib\\site-packages\\pandas\\core\\indexes\\base.py\u001b[0m in \u001b[0;36mget_loc\u001b[1;34m(self, key, method, tolerance)\u001b[0m\n\u001b[0;32m   2646\u001b[0m                 \u001b[1;32mreturn\u001b[0m \u001b[0mself\u001b[0m\u001b[1;33m.\u001b[0m\u001b[0m_engine\u001b[0m\u001b[1;33m.\u001b[0m\u001b[0mget_loc\u001b[0m\u001b[1;33m(\u001b[0m\u001b[0mkey\u001b[0m\u001b[1;33m)\u001b[0m\u001b[1;33m\u001b[0m\u001b[1;33m\u001b[0m\u001b[0m\n\u001b[0;32m   2647\u001b[0m             \u001b[1;32mexcept\u001b[0m \u001b[0mKeyError\u001b[0m\u001b[1;33m:\u001b[0m\u001b[1;33m\u001b[0m\u001b[1;33m\u001b[0m\u001b[0m\n\u001b[1;32m-> 2648\u001b[1;33m                 \u001b[1;32mreturn\u001b[0m \u001b[0mself\u001b[0m\u001b[1;33m.\u001b[0m\u001b[0m_engine\u001b[0m\u001b[1;33m.\u001b[0m\u001b[0mget_loc\u001b[0m\u001b[1;33m(\u001b[0m\u001b[0mself\u001b[0m\u001b[1;33m.\u001b[0m\u001b[0m_maybe_cast_indexer\u001b[0m\u001b[1;33m(\u001b[0m\u001b[0mkey\u001b[0m\u001b[1;33m)\u001b[0m\u001b[1;33m)\u001b[0m\u001b[1;33m\u001b[0m\u001b[1;33m\u001b[0m\u001b[0m\n\u001b[0m\u001b[0;32m   2649\u001b[0m         \u001b[0mindexer\u001b[0m \u001b[1;33m=\u001b[0m \u001b[0mself\u001b[0m\u001b[1;33m.\u001b[0m\u001b[0mget_indexer\u001b[0m\u001b[1;33m(\u001b[0m\u001b[1;33m[\u001b[0m\u001b[0mkey\u001b[0m\u001b[1;33m]\u001b[0m\u001b[1;33m,\u001b[0m \u001b[0mmethod\u001b[0m\u001b[1;33m=\u001b[0m\u001b[0mmethod\u001b[0m\u001b[1;33m,\u001b[0m \u001b[0mtolerance\u001b[0m\u001b[1;33m=\u001b[0m\u001b[0mtolerance\u001b[0m\u001b[1;33m)\u001b[0m\u001b[1;33m\u001b[0m\u001b[1;33m\u001b[0m\u001b[0m\n\u001b[0;32m   2650\u001b[0m         \u001b[1;32mif\u001b[0m \u001b[0mindexer\u001b[0m\u001b[1;33m.\u001b[0m\u001b[0mndim\u001b[0m \u001b[1;33m>\u001b[0m \u001b[1;36m1\u001b[0m \u001b[1;32mor\u001b[0m \u001b[0mindexer\u001b[0m\u001b[1;33m.\u001b[0m\u001b[0msize\u001b[0m \u001b[1;33m>\u001b[0m \u001b[1;36m1\u001b[0m\u001b[1;33m:\u001b[0m\u001b[1;33m\u001b[0m\u001b[1;33m\u001b[0m\u001b[0m\n",
      "\u001b[1;32mpandas\\_libs\\index.pyx\u001b[0m in \u001b[0;36mpandas._libs.index.IndexEngine.get_loc\u001b[1;34m()\u001b[0m\n",
      "\u001b[1;32mpandas\\_libs\\index.pyx\u001b[0m in \u001b[0;36mpandas._libs.index.IndexEngine.get_loc\u001b[1;34m()\u001b[0m\n",
      "\u001b[1;32mpandas\\_libs\\hashtable_class_helper.pxi\u001b[0m in \u001b[0;36mpandas._libs.hashtable.PyObjectHashTable.get_item\u001b[1;34m()\u001b[0m\n",
      "\u001b[1;32mpandas\\_libs\\hashtable_class_helper.pxi\u001b[0m in \u001b[0;36mpandas._libs.hashtable.PyObjectHashTable.get_item\u001b[1;34m()\u001b[0m\n",
      "\u001b[1;31mKeyError\u001b[0m: 1"
     ]
    }
   ],
   "source": [
    "\n",
    "eta_df = pd.read_csv(r\"E:\\Programming\\python\\NLP\\howls_nlp\\Chatbot\\자료\\질문.csv\", encoding='ANSI')\n",
    "eta2_df = pd.read_csv(r\"E:\\Programming\\python\\NLP\\howls_nlp\\Chatbot\\자료\\질문2.csv\", encoding='ANSI')\n",
    "dm_df = pd.read_csv(r\"E:\\Programming\\python\\NLP\\howls_nlp\\Chatbot\\자료\\이중전과게시판_이중검색.csv\", encoding='UTF-8')\n",
    "\n",
    "csv2data(eta_df, eta2_df, dm_df)"
   ]
  },
  {
   "cell_type": "code",
   "execution_count": 3,
   "metadata": {},
   "outputs": [],
   "source": [
    "question_list = merged_df['QUESTION'].tolist()"
   ]
  },
  {
   "cell_type": "code",
   "execution_count": 4,
   "metadata": {},
   "outputs": [],
   "source": [
    "## pycrfsuite 띄어쓰기 교정\n",
    "from pycrfsuite_spacing import TemplateGenerator\n",
    "from pycrfsuite_spacing import CharacterFeatureTransformer\n",
    "\n",
    "to_feature = CharacterFeatureTransformer(\n",
    "    TemplateGenerator(\n",
    "        begin=-2,\n",
    "        end=2,\n",
    "        min_range_length=3,\n",
    "        max_range_length=3)\n",
    "    )"
   ]
  },
  {
   "cell_type": "code",
   "execution_count": 4,
   "metadata": {},
   "outputs": [
    {
     "output_type": "stream",
     "name": "stdout",
     "text": "['14장 추적', '귀녀의 모습을 한번 쳐다보고 떠나려 했다. 집안을 이리저리 기웃거리던 강포수는 윤씨부인에게 인사를 올리고 중문을 나서는 치수 뒷모습을 보았다. 실망에 얼굴이 일그러지면서 강포수는 치수 뒤를 따라나올 수밖에 없었다. 문전에는 하인들이 즐비하게 늘어서서 상전을 전송하기 위해 기다리고 있었다.', '치수는 거들떠보지 않고 나귀 등에 오르고 말고삐를 잡은 수동은 엉성한 수염에 묻힌 작은 입술을 다물고 늘어선 하인들에게 일별을 던진다.', '삼수가 묘하게 웃었다. 복이 삼수에게 곁눈질을 했다. 짐을 실은 다른 한 필의 나귀는 텁석부리 강포수를 경계했던지 말고삐를 잡자 코를 불었다.', '\"나리마님, 안녕히 다녀오시오.\"', '제가끔 인사했으나 최치수는 말안장에 앉아 강물만 바라보고 있었다.', '의외로 단촐한 출발이었다. 하인들이 서너 명은 수행하리니, 김평산도 동행하지 않을까 예상했었지만 기운 센 편도 아닌 수동이 한 사람만 데리고 강포수와 함께 출발한 것이다. 엉거주춤 서 있는 하인들은 언덕길을 내려가는 두 필의 나귀를 멍청히 내려다본다.', '일행은 강을 끼고, 나귀와 사람들 발자국에 다져진 길을 천천히 간다. 몇 번씩이나 돌아보고 하며 아쉬움에 가득 찼던 강포수는 최참판댁 지붕이 시야에서 사라지자 눈을 내리깔았다. 고개가 차츰 숙어지면서 발끝으로 눈길이 떨어진다.', \"'머 영영 안 돌아올 기건데?'\", '나귀는 강포수에게 곁눈질을 하며 끝내 미덥지 못한가 코를 분다. 앞서가는 나귀 등에는 최치수의 뒷모습이 짐짝같이 보이었다.', \"'온 천지가 허퉁한 거맨치로 마음이 허퉁해서 갈 바를 못 잡겄다. 총도 싫고 돈도 싫고 ……'\", '길섶에 뻗은 풀잎에 이슬이 남아 있어서 짚세기가 젖는다. 날씨는 변덕을 부릴는지, 흩어져 있는 구름은 훨씬 빠르게 움직이고 있는 것 같았으나 하늘은 휑하니 높았고 푸른 빛은 차가웠다. 들판은 바람에 일렁이고 있었다. 목동이 소를 몰고 들판을 질러가는데 송아지가 어미소 뒤를 졸래졸래 따라간다.', '십리 길을 거의 지나는 동안 아무도 입을 떼지 않았다. 이 중에서 앞장선 수동의 얼굴에는 간혹 긴장의 빛이 돌다간 생각에 잠기곤 했다.', \"'서방님 속마음을 알 수가 있이야제. 하지마는 이분 길에는 무신 사단이 있기는 있을 기다. 무서운 어른이니께.'\", '수동이는 지리산에 구천이가 있다는 뜬소문을 생각 안 할래야 안 할 수가 없었다. 할 수만 있다면 그는 머릿속에서 구천의 모습을 싹 지워버리고 싶었다. 그러나 별당아씨와 구천이를 도장에 가두었던 무서운 그날 밤의 일이 말고삐를 잡고 가는 눈앞에 선하게 떠오른다. 이미 모든 일을 각오한 듯 태연하게 반항 없이, 또 굽히려 하지도 않던 구천의 얼굴은 더욱더 선명하다. 그들의 죄 많은 애정을 젤 먼저 알아차린 사람이 수동이었다. 다음날 아침, 도장 문이 열려진 채 두 남녀가 도망친 것을 알고 마음속으로 기뻐하며 그들이 손 닿지 못할 곳으로 달아날 것을 바란 사람도 수동이였다. 화심리 장암선생 문병에서 돌아온 치수는 윤씨부인한테서 그 경위를 들었을 것이 틀림이 없겠는데 안방에서 나올 때 그는 싱긋이 웃었던 것이다.', '\"이놈 길상아! 나뭇잎을 왜 안 쓸었느냐?\"', '사랑 뜰에서 그는 호통을 한번 쳤고 그러고는 여느 때와 다름없이 성큼 사랑방으로 들어섰던 것이다. 다음날, 또 그 다음날, 계속하여 그에게서 하인들은 아무런 변화를 볼 수 없었다. 사람을 놔서 구천이의 수소문을 하고 있다는 말이 이따금 하인들을 긴장시키곤 했으나 그러나 하인들은 어느덧 그 사건에서 최치수를 도외시하게 되었던 것이다. 금실이 좋지 않던 내외간이었으니까, 하며 일단락 지어진 일로 치부했었다.', \"'아니지, 아니지. 서방님 성미가 우떻다고? 성미는 내가 잘 아누만.'\", '기우가, 총포 연습에서 기우에 그칠 일이 아님을 수동은 깨달았다. 그런데 지금, 단촐한 행장을 꾸려 산을 향하고 있는 것이다. 사냥이 한갓 놀이에 불과했더라면 최치수는 결코 단촐한 인원으로 출발하지는 않았을 것이다. 수동이는 이미 구천의 운명이 결정되어버린 것 같은 예감을 느낀다.', \"'불쌍한 놈, 이리 될지 모르고 일을 저질렀나. 인륜을 짓밟아놓고 우찌 지가 살기를 바랄 것꼬. 남으 여자도 유만부동이지. 하늘 겉은 상전의 아씨를, 부치가 까꾸로 서지 않고서야. 환장했지. 빌어묵을 놈. 참말이제 이 노릇을 우찌 하노.'\", '주막 앞에 이르러 잠시 쉬어가기 위해 최치수가 나귀에서 내렸을 때 수동이는 재빨리 상전의 얼굴을 살핀다. 항상 날카롭게 다물려져 있던 입술이 헤벌어져 있었다. 나귀를 몰고 앞서가면서 최치수의 날카로운 표정만을 상상해온 수동이로서는 의외였다. 나귀에게 물을 먹이면서 다시 치수 쪽을 보았을 때 그는 멍하니 강물을 바라보고 있었다. 전혀 아무 생각이 없는 듯했고 병신스럽게 보이기까지 했다. 강포수는 주막 앞에 쭈그리고 있었는데 눈살을 찌푸리며 하늘을 올려다보고 있었다.', '\"오늘 밤은 연곡사에서 묵는 게야. 알았느냐?\"', '강물을 바라본 채 치수가 말했다.', '\"예.\"', '떠나기 전에 한마디 한 말의 되풀이였다. 하늘을 쳐다보고 있던 강포수가 일어섰다. 치수 뒷모습을 향해 비실비실 걸어가더니', '\"나으리!\"', '천천히 몸을 돌리고 최치수는 강포수를 쳐다본다.', '\"나으리!\"', '\"……\"', '\"저어.\"']\n"
    }
   ],
   "source": [
    "## 훈련 파일 정제 (수강편람)\n",
    "train_path = r'E:\\Programming\\python\\NLP\\howls_nlp\\Chatbot\\자료\\space_trainer.txt'\n",
    "\n",
    "corpus = open(train_path, encoding='utf-8').read()\n",
    "corpus = corpus.replace('\\t',' ')\n",
    "train_corpus = corpus.split('\\n')\n",
    "print(train_corpus[:30])"
   ]
  },
  {
   "cell_type": "code",
   "execution_count": 8,
   "metadata": {},
   "outputs": [],
   "source": [
    "# 모델 훈련\n",
    "from pycrfsuite_spacing import PyCRFSuiteSpacing\n",
    "\n",
    "model_path = 'space_model.crfsuite'\n",
    "correct = PyCRFSuiteSpacing(\n",
    "    to_feature=to_feature,\n",
    "    l1_cost = 0,\n",
    "    l2_cost = 1.0,  # L2 규제 사용\n",
    "    verbose=False,\n",
    ")\n",
    "correct.train(train_corpus, model_path)"
   ]
  },
  {
   "cell_type": "code",
   "execution_count": 7,
   "metadata": {},
   "outputs": [
    {
     "output_type": "execute_result",
     "data": {
      "text/plain": "'나도너만큼잘할 수 있어멍청아!'"
     },
     "metadata": {},
     "execution_count": 7
    }
   ],
   "source": [
    "correct('나도너만큼잘할수있어멍청아!')"
   ]
  },
  {
   "cell_type": "code",
   "execution_count": 24,
   "metadata": {},
   "outputs": [
    {
     "output_type": "stream",
     "name": "stdout",
     "text": "['조교님! 이중전공 이랑 부전공 차이에 대해서 궁금해요!이중전공은 학위+ 졸업장 표시인건 알겠는 데부전공은 졸업장에 도 표시가 안되나요?', '안녕하세요 조교님!재수강 연결 방밥 대로 종합정보시스템- 수업수강관리- 재수강과목선택메뉴를 들어갔는 데안내사항 및 이전 성적 연결 현황에 ‘동일 교과로 자동연결 되었습다 ‘ 라고 나와 있습니다. 그럼 학사공지에 나와 있는 대로 재수강할 이전 성적을 선택해 재수강연결을 할 필요없이 아무것도 안해도 된 다는 건가요? 감사합니다. !', '조교님 안녕하세요!! 항상 수고가 많으십니다 다름아니라 제가 총 평점이 좀 낮은 편이라 막학기에 수업을 더 들으면서 평점을 올려보고자 하는 데요, 졸업학점인 134학점을 초과해서 듣는 것이 문제가 되나요??ㅠㅠ', '안녕하세요 조교님!제가 맨 처음에 이중전공을 gbt로 신청했다가 이중전공 경영으로 변경하려고 시도했는 데자체시험에 2번 이나 떨어져 변경을 실패했습니다그래서 지난 겨울 방학(2019년)에 부전공으로 경영을 선택을 하고 2020년도 1학기 이중전공 변경기간에 경영으로 신청하려고 합니다한 번 종합정보시스템을 들어갔는 데 사진과 같은 내용이 있더라고요신경쓰지 않고 변경기간에 경영으로 신청하면 되는 건가요?', '이중전공을 바꾸고싶은 데 혹시 바꾸게 된 다면 그전에 받은 학점은 이어가는 건가요? 아니면 소멸되는 건가요?', '조교님 혹시 등록휴학 후 자퇴할 경우 이번 학기 등록금 환불이 가능한 가요?', '졸업유예 기간 동안 학점 취득이 가능한 가요?', '조교님 제가 인간과 사회 2학점 짜리 과목 씨쁠을 맞았었는 데 이걸 언어와 문학 3학점 짜리 페논패 과목으로 재수강 연결이 가능하나요??', '안녕하세요 조교님. 2019-2학기에 8학기 까지 마치고, 현재 사정상 2학점이 남은 상태로 휴학 중 입니다. 전공과 이중전공 학점은 다 채운 상황이나, 총 취득학점이 132학점 이라 2학점이 모자랍니다. 추가 학기를 들어야 하는 상황인데요, 이 경우 2020 여름 계절학기 때 2학점 수강 후 수료가 가능한 지 궁금합니다. 답변 부탁드립니다- !', '교양 영어 재수강 하는 학생은 온라인 과제 하려면 전에 썼던 책이 있는 코드로 할 수 있는 건가요? 아니면 새 책으로 해야 하나요?']\n"
    }
   ],
   "source": [
    "corrected_question = []\n",
    "for x in question_list:\n",
    "    correction = correct(x)\n",
    "    corrected_question.append(correction)\n",
    "print(corrected_question[:10])"
   ]
  },
  {
   "cell_type": "code",
   "execution_count": 14,
   "metadata": {},
   "outputs": [
    {
     "output_type": "stream",
     "name": "stdout",
     "text": "all tags length = 163369 --> 104037, (num_doc = 3451290)"
    }
   ],
   "source": [
    "## soyspace 이용한 띄어쓰기\n",
    "from soyspacing.countbase import CountSpace\n",
    "\n",
    "corpus_fname = r'E:\\Programming\\python\\NLP\\howls_nlp\\Chatbot\\자료\\자이언트_대본.txt'\n",
    "model = CountSpace()\n",
    "model.train(corpus_fname)\n",
    "\n",
    "# 모델 저장하기\n",
    "model.save_model(r\"E:\\Programming\\python\\NLP\\howls_nlp\\Chatbot\\자료\\soy_space_model\", json_format=False)"
   ]
  },
  {
   "cell_type": "code",
   "execution_count": 6,
   "metadata": {},
   "outputs": [],
   "source": [
    "# 모델 불러오기\n",
    "from soyspacing.countbase import CountSpace\n",
    "\n",
    "model = CountSpace()\n",
    "model.load_model(r\"E:\\Programming\\python\\NLP\\howls_nlp\\Chatbot\\자료\\soy_space_model\", json_format=False)"
   ]
  },
  {
   "cell_type": "code",
   "execution_count": 7,
   "metadata": {},
   "outputs": [
    {
     "output_type": "stream",
     "name": "stdout",
     "text": "[('조교님! 이중전공이랑 부전공 차이에 대해서 궁금해요!이중전공은 학위+졸업장 표시인건 알겠는데부전공은 졸업장에도 표시가 안되나요?', [None, None, None, 1, None, None, None, None, None, 1, None, None, 1, None, None, 1, 0, 0, 1, None, 0, None, None, None, None, None, None, None, 1, None, None, None, None, None, 1, None, None, None, 1, None, None, 0, None, None, None, None, 1, None, None, None, 0, 1, None, None, 1, None, None, None, 0, 1]), ('안녕하세요 조교님!재수강 연결방밥 대로 종합정보시스템-수업수강관리-재수강과목선택메뉴를 들어갔는데안내사항 및 이전성적 연결현황에 ‘동일교과로 자동연결되었습다 ‘ 라고 나와 있습니다. 그럼 학사공지에 나와 있는 대로 재수강할 이전 성적을 선택해 재수강연결을 할 필요 없이 아무것도 안해도 된다는 건가요? 감사합니다.!', [0, 0, 0, None, 1, None, None, None, None, None, None, 1, None, None, None, 1, None, 1, None, None, None, None, None, None, None, None, None, None, None, None, None, None, None, None, None, None, None, None, None, None, None, None, 1, 0, 0, 0, 0, None, None, None, None, 1, 1, None, None, None, 1, None, None, None, None, 1, None, None, None, None, None, 1, None, None, None, None, None, None, None, 1, 1, None, 1, None, 1, 0, 0, 0, 0, 1, 0, 1, None, None, None, None, 1, 0, 1, 0, 1, 0, 1, None, None, None, 1, None, 1, None, None, 1, None, None, 1, None, None, None, None, None, 1, 1, 0, 1, None, 1, 0, 0, 0, 1, None, 0, 1, None, 0, 1, 0, 0, 0, 1, None, 0, 0, 0, 0, None, 1]), ('조교님 안녕하세요!! 항상 수고가 많으십니다 다름아니라 제가 총평점이 좀 낮은편이라 막학기에 수업을 더 들으면서 평점을 올려보고자 하는데요, 졸업학점인 134학점을 초과해서 듣는것이 문제가 되나요??ㅠㅠ', [None, None, 1, None, 0, 0, 0, None, None, 1, None, 1, None, None, 1, None, None, 0, None, 1, None, None, None, 0, 1, None, 1, None, None, None, 1, 1, None, None, None, None, 1, None, None, None, 1, None, None, 1, 1, None, None, 0, 1, None, None, 1, 0, 0, 0, None, 1, None, 0, 0, 0, 1, None, None, None, None, 1, None, None, None, None, None, 1, None, None, None, 1, None, None, 0, 1, 0, 0, 1, None, None, 0, None, None, None, 1]), ('안녕하세요 조교님!제가 맨 처음에 이중전공을 gbt로 신청했다가 이중전공 경영으로 변경하려고 시도했는데자체시험에 2번이나 떨어져 변경을 실패했습니다그래서 지난 겨울방학(2019년)에 부전공으로 경영을 선택을 하고 2020년도 1학기 이중전공 변경기간에 경영으로 신청하려고 합니다한번 종합정보시스템을 들어갔는데 사진과 같은 내용이 있더라고요신경 쓰지 않고 변경기간에 경영으로 신청하면 되는 건가요?', [0, 0, 0, None, 1, None, None, None, None, None, 1, 1, None, None, 1, None, None, None, None, 1, None, None, None, 1, None, None, None, None, 1, None, None, None, 1, None, None, None, 1, None, None, None, 0, 1, None, None, None, 0, None, None, None, None, None, 1, None, None, None, 1, None, 0, 1, None, None, 1, None, None, None, 0, 0, None, None, 0, 1, None, 1, None, None, None, None, None, None, None, None, None, None, None, 1, None, None, None, None, 1, None, None, 1, None, None, 1, 0, 1, None, None, None, None, None, 1, None, None, 1, None, None, None, 1, None, None, None, None, 1, None, None, None, 1, None, None, None, 0, 1, 0, 0, None, None, 1, None, None, None, None, None, None, None, 1, 0, 0, 0, 0, 1, None, None, 1, 0, 1, None, 0, 1, None, None, None, 0, None, None, 1, 0, 1, 0, 1, None, None, None, None, 1, None, None, None, 1, None, None, None, 1, 0, 1, 0, 0, 0, 1]), ('이중전공을 바꾸고 싶은데 혹시 바꾸게 된다면 그전에 받은 학점은 이어가는 건가요? 아니면 소멸되는 건가요?', [None, None, None, None, 1, 0, 0, 1, 0, None, 1, None, 1, None, None, 1, None, 0, 1, None, 0, 1, None, 1, None, None, 1, None, None, 0, 1, 0, 0, 0, 1, 0, 0, 1, None, None, None, 1, 0, 0, 0, 1]), ('조교님 혹시 등록휴학 후 자퇴할 경우 이번학기 등록금 환불이 가능한가요?', [None, None, 1, None, 1, None, None, None, 1, 1, None, None, 1, None, 1, None, None, None, 1, None, None, 1, None, None, 1, 0, 0, None, None, 0, 1]), ('졸업유예 기간동안 학점 취득이 가능한가요?', [None, None, None, 1, None, None, None, 1, None, 1, None, None, 1, 0, 0, None, None, 0, 1]), ('조교님 제가 인간과 사회 2학점 짜리 과목 씨쁠을 맞았었는데 이걸 언어와 문학 3학점 짜리 페논패 과목으로 재수강 연결이 가능하나요??', [None, None, 1, None, 1, None, None, 1, None, 1, None, None, 1, None, 1, None, 1, None, None, 1, None, None, None, 0, 1, None, 1, None, None, 1, None, 1, None, None, 1, None, 1, None, None, 1, None, None, 0, 1, None, None, 1, None, None, 1, 0, 0, None, None, 0, None, 1]), ('안녕하세요 조교님.2019-2학기에 8학기 까지 마치고, 현재 사정상 2학점이 남은 상태로 휴학중입니다. 전공과 이중전공 학점은 다 채운 상황이나, 총 취득학점이 132학점이라 2학점이 모자랍니다. 추가학기를 들어야 하는 상황인데요, 이 경우 2020 여름 계절학기 때 2학점 수강 후 수료가 가능한지 궁금합니다. 답변 부탁드립니다-!', [0, 0, 0, None, 1, None, None, None, None, None, None, None, None, None, None, None, None, 1, None, None, 1, None, 1, None, 0, None, 1, 0, 1, None, None, 1, None, None, None, 1, None, 1, None, 0, 1, None, None, None, 0, 0, 0, 1, None, None, 1, None, None, None, 1, None, None, 1, 1, None, 1, None, 0, None, 0, 1, 1, None, None, None, None, 1, None, None, None, None, None, None, 1, None, None, None, 1, None, None, None, 0, 0, 1, None, None, None, None, 1, 0, 0, 1, 0, 1, 0, None, None, 0, 0, 1, 1, None, 1, None, None, None, 1, None, 1, None, None, None, 1, 1, None, None, 1, None, 1, 1, None, None, 1, None, 0, None, 1, None, None, None, 0, 0, 1, None, 1, None, 0, 0, 0, 0, None, None, 1]), ('교양영어 재수강 하는 학생은 온라인 과제 하려면 전에 썼던 책이 있는 코드로 할 수 있는 건가요? 아니면 새 책으로 해야 하나요?', [None, None, None, 1, None, None, 1, None, 1, None, None, 1, None, None, 1, None, 1, None, 0, 1, None, 1, None, 1, None, 1, 0, 1, None, None, 1, 1, 1, 0, 1, 0, 0, 0, 1, 0, 0, 1, 1, None, None, 1, 0, 1, None, None, 0, 1])]\n"
    }
   ],
   "source": [
    "soy_corrected_question = []\n",
    "for x in question_list:\n",
    "    corrected = model.correct(x)\n",
    "    soy_corrected_question.append(corrected)\n",
    "print(soy_corrected_question[:10])"
   ]
  },
  {
   "cell_type": "code",
   "execution_count": 8,
   "metadata": {},
   "outputs": [
    {
     "output_type": "stream",
     "name": "stdout",
     "text": "['조교님! 이중전공이랑 부전공 차이에 대해서 궁금해요!이중전공은 학위+졸업장 표시인건 알겠는데부전공은 졸업장에도 표시가 안되나요?', '안녕하세요 조교님!재수강 연결방밥 대로 종합정보시스템-수업수강관리-재수강과목선택메뉴를 들어갔는데안내사항 및 이전성적 연결현황에 ‘동일교과로 자동연결되었습다 ‘ 라고 나와 있습니다. 그럼 학사공지에 나와 있는 대로 재수강할 이전 성적을 선택해 재수강연결을 할 필요 없이 아무것도 안해도 된다는 건가요? 감사합니다.!', '조교님 안녕하세요!! 항상 수고가 많으십니다 다름아니라 제가 총평점이 좀 낮은편이라 막학기에 수업을 더 들으면서 평점을 올려보고자 하는데요, 졸업학점인 134학점을 초과해서 듣는것이 문제가 되나요??ㅠㅠ', '안녕하세요 조교님!제가 맨 처음에 이중전공을 gbt로 신청했다가 이중전공 경영으로 변경하려고 시도했는데자체시험에 2번이나 떨어져 변경을 실패했습니다그래서 지난 겨울방학(2019년)에 부전공으로 경영을 선택을 하고 2020년도 1학기 이중전공 변경기간에 경영으로 신청하려고 합니다한번 종합정보시스템을 들어갔는데 사진과 같은 내용이 있더라고요신경 쓰지 않고 변경기간에 경영으로 신청하면 되는 건가요?', '이중전공을 바꾸고 싶은데 혹시 바꾸게 된다면 그전에 받은 학점은 이어가는 건가요? 아니면 소멸되는 건가요?', '조교님 혹시 등록휴학 후 자퇴할 경우 이번학기 등록금 환불이 가능한가요?', '졸업유예 기간동안 학점 취득이 가능한가요?', '조교님 제가 인간과 사회 2학점 짜리 과목 씨쁠을 맞았었는데 이걸 언어와 문학 3학점 짜리 페논패 과목으로 재수강 연결이 가능하나요??', '안녕하세요 조교님.2019-2학기에 8학기 까지 마치고, 현재 사정상 2학점이 남은 상태로 휴학중입니다. 전공과 이중전공 학점은 다 채운 상황이나, 총 취득학점이 132학점이라 2학점이 모자랍니다. 추가학기를 들어야 하는 상황인데요, 이 경우 2020 여름 계절학기 때 2학점 수강 후 수료가 가능한지 궁금합니다. 답변 부탁드립니다-!', '교양영어 재수강 하는 학생은 온라인 과제 하려면 전에 썼던 책이 있는 코드로 할 수 있는 건가요? 아니면 새 책으로 해야 하나요?']\n"
    }
   ],
   "source": [
    "spaced_quest = []\n",
    "for quest, tag in soy_corrected_question:\n",
    "    if type(quest) == str:\n",
    "        spaced_quest.append(quest)\n",
    "    else:\n",
    "        continue\n",
    "print(spaced_quest[:10])"
   ]
  },
  {
   "cell_type": "code",
   "execution_count": 9,
   "metadata": {},
   "outputs": [
    {
     "output_type": "execute_result",
     "data": {
      "text/plain": "                                               QUESTION  \\\n0     조교님! 이중전공이랑 부전공 차이에 대해서 궁금해요!이중전공은 학위+졸업장 표시인건...   \n1     안녕하세요 조교님!재수강 연결방밥 대로 종합정보시스템-수업수강관리-재수강과목선택메뉴...   \n2     조교님 안녕하세요!! 항상 수고가 많으십니다 다름아니라 제가 총평점이 좀 낮은편이라...   \n3     안녕하세요 조교님!제가 맨 처음에 이중전공을 gbt로 신청했다가 이중전공 경영으로 ...   \n4     이중전공을 바꾸고 싶은데 혹시 바꾸게 된다면 그전에 받은 학점은 이어가는 건가요? ...   \n...                                                 ...   \n6885       안녕하세요 중외통 17학번인데요이중전공 어떤 걸로 하면 좋은지 추천해주세요 ㅎㅎ   \n6886                      공대생 이중전공으로 언어할까 하는데 힘듦? 언어추천좀   \n6887                         국제통상학과 이중전공생인데 걱정이 많이 된다..   \n6888  경영 후기 이중전공 신청할 때이중전공 떨어져서 부전공 경영인데후기 이중 경영 신청해...   \n6889                  국제학부 이중전공생 없나여ㅠ 다른 과보다 정보가 많이 없는듯   \n\n                                                 ANSWER  TAGSET  \n0                                                   NaN     NaN  \n1                                                   NaN     NaN  \n2                                                   NaN     NaN  \n3                                                   NaN     NaN  \n4                                                   NaN     NaN  \n...                                                 ...     ...  \n6885                                ['아 그렇군요! 감사합니다!!']     NaN  \n6886                    ['스페인어 했다가 힘들어서 영어로 바꾼 사람은 봤음']     NaN  \n6887  ['저도요.... 진짜 국통법 때문에 미칠거 같네요 ,', '나두...', '국통 ...     NaN  \n6888  ['부전공학점 다 채운다음 이중전공이랑 차이나는 전공점수 채워야되요', '한마디로 ...     NaN  \n6889  ['반가워요 동지...!', '저요저요!', '저욤!', '오 친해져요!!', '님...     NaN  \n\n[6890 rows x 3 columns]",
      "text/html": "<div>\n<style scoped>\n    .dataframe tbody tr th:only-of-type {\n        vertical-align: middle;\n    }\n\n    .dataframe tbody tr th {\n        vertical-align: top;\n    }\n\n    .dataframe thead th {\n        text-align: right;\n    }\n</style>\n<table border=\"1\" class=\"dataframe\">\n  <thead>\n    <tr style=\"text-align: right;\">\n      <th></th>\n      <th>QUESTION</th>\n      <th>ANSWER</th>\n      <th>TAGSET</th>\n    </tr>\n  </thead>\n  <tbody>\n    <tr>\n      <th>0</th>\n      <td>조교님! 이중전공이랑 부전공 차이에 대해서 궁금해요!이중전공은 학위+졸업장 표시인건...</td>\n      <td>NaN</td>\n      <td>NaN</td>\n    </tr>\n    <tr>\n      <th>1</th>\n      <td>안녕하세요 조교님!재수강 연결방밥 대로 종합정보시스템-수업수강관리-재수강과목선택메뉴...</td>\n      <td>NaN</td>\n      <td>NaN</td>\n    </tr>\n    <tr>\n      <th>2</th>\n      <td>조교님 안녕하세요!! 항상 수고가 많으십니다 다름아니라 제가 총평점이 좀 낮은편이라...</td>\n      <td>NaN</td>\n      <td>NaN</td>\n    </tr>\n    <tr>\n      <th>3</th>\n      <td>안녕하세요 조교님!제가 맨 처음에 이중전공을 gbt로 신청했다가 이중전공 경영으로 ...</td>\n      <td>NaN</td>\n      <td>NaN</td>\n    </tr>\n    <tr>\n      <th>4</th>\n      <td>이중전공을 바꾸고 싶은데 혹시 바꾸게 된다면 그전에 받은 학점은 이어가는 건가요? ...</td>\n      <td>NaN</td>\n      <td>NaN</td>\n    </tr>\n    <tr>\n      <th>...</th>\n      <td>...</td>\n      <td>...</td>\n      <td>...</td>\n    </tr>\n    <tr>\n      <th>6885</th>\n      <td>안녕하세요 중외통 17학번인데요이중전공 어떤 걸로 하면 좋은지 추천해주세요 ㅎㅎ</td>\n      <td>['아 그렇군요! 감사합니다!!']</td>\n      <td>NaN</td>\n    </tr>\n    <tr>\n      <th>6886</th>\n      <td>공대생 이중전공으로 언어할까 하는데 힘듦? 언어추천좀</td>\n      <td>['스페인어 했다가 힘들어서 영어로 바꾼 사람은 봤음']</td>\n      <td>NaN</td>\n    </tr>\n    <tr>\n      <th>6887</th>\n      <td>국제통상학과 이중전공생인데 걱정이 많이 된다..</td>\n      <td>['저도요.... 진짜 국통법 때문에 미칠거 같네요 ,', '나두...', '국통 ...</td>\n      <td>NaN</td>\n    </tr>\n    <tr>\n      <th>6888</th>\n      <td>경영 후기 이중전공 신청할 때이중전공 떨어져서 부전공 경영인데후기 이중 경영 신청해...</td>\n      <td>['부전공학점 다 채운다음 이중전공이랑 차이나는 전공점수 채워야되요', '한마디로 ...</td>\n      <td>NaN</td>\n    </tr>\n    <tr>\n      <th>6889</th>\n      <td>국제학부 이중전공생 없나여ㅠ 다른 과보다 정보가 많이 없는듯</td>\n      <td>['반가워요 동지...!', '저요저요!', '저욤!', '오 친해져요!!', '님...</td>\n      <td>NaN</td>\n    </tr>\n  </tbody>\n</table>\n<p>6890 rows × 3 columns</p>\n</div>"
     },
     "metadata": {},
     "execution_count": 9
    }
   ],
   "source": [
    "merged_df['QUESTION'] = spaced_quest\n",
    "\n",
    "merged_df"
   ]
  },
  {
   "cell_type": "code",
   "execution_count": 10,
   "metadata": {},
   "outputs": [],
   "source": [
    "### 정규식(이모티콘)으로 전처리하기 ###"
   ]
  },
  {
   "cell_type": "code",
   "execution_count": 64,
   "metadata": {
    "tags": [
     "outputPrepend"
    ]
   },
   "outputs": [
    {
     "output_type": "stream",
     "name": "stdout",
     "text": "['이중전공이랑 부전공 차이에 대해서 궁금해요이중전공은 학위졸업장 표시인건 알겠는데부전공은 졸업장에도 표시가 안되나요', '재수강 연결방밥 대로 종합정보시스템-수업수강관리-재수강과목선택메뉴를 들어갔는데안내사항 및 이전성적 연결현황에 ‘동일교과로 자동연결되었습다 ‘ 라고 나와 있습니다 그럼 학사공지에 나와 있는 대로 재수강할 이전 성적을 선택해 재수강연결을 할 필요 없이 아무것도 안해도 된다는 건가요 감사합니다', '항상 수고가 많으십니다 다름아니라 제가 총평점이 좀 낮은편이라 막학기에 수업을 더 들으면서 평점을 올려보고자 하는데요 졸업학점인 134학점을 초과해서 듣는것이 문제가 되나요', '제가 맨 처음에 이중전공을 gbt로 신청했다가 이중전공 경영으로 변경하려고 시도했는데자체시험에 2번이나 떨어져 변경을 실패했습니다그래서 지난 겨울방학2019년에 부전공으로 경영을 선택을 하고 2020년도 1학기 이중전공 변경기간에 경영으로 신청하려고 합니다한번 종합정보시스템을 들어갔는데 사진과 같은 내요이 있더라고요신경 쓰지 않고 변경기간에 경영으로 신청하면 되는 건가요', '이중전공을 바꾸고 싶은데 혹시 바꾸게 된다면 그전에 받은 학점은 이어가는 건가요 아니면 소멸되는 건가요']\n"
    },
    {
     "output_type": "execute_result",
     "data": {
      "text/plain": "                                               QUESTION  \\\n0     이중전공이랑 부전공 차이에 대해서 궁금해요이중전공은 학위졸업장 표시인건 알겠는데부전...   \n1     재수강 연결방밥 대로 종합정보시스템-수업수강관리-재수강과목선택메뉴를 들어갔는데안내사...   \n2     항상 수고가 많으십니다 다름아니라 제가 총평점이 좀 낮은편이라 막학기에 수업을 더 ...   \n3     제가 맨 처음에 이중전공을 gbt로 신청했다가 이중전공 경영으로 변경하려고 시도했는...   \n4     이중전공을 바꾸고 싶은데 혹시 바꾸게 된다면 그전에 받은 학점은 이어가는 건가요 아...   \n...                                                 ...   \n6885               중외통 17학번인데요이중전공 어떤 걸로 하면 좋은지 추천해주세요    \n6886                       공대생 이중전공으로 언어할까 하는데 힘듦 언어추천좀   \n6887                           국제통상학과 이중전공생인데 걱정이 많이 된다   \n6888  경영 후기 이중전공 신청할 때이중전공 떨어져서 부전공 경영인데후기 이중전공 경영 신...   \n6889                   국제학부 이중전공생 없나요 다른 과보다 정보가 많이 없는듯   \n\n                                                 ANSWER  TAGSET  \\\n0                                                   NaN     NaN   \n1                                                   NaN     NaN   \n2                                                   NaN     NaN   \n3                                                   NaN     NaN   \n4                                                   NaN     NaN   \n...                                                 ...     ...   \n6885                                ['아 그렇군요! 감사합니다!!']     NaN   \n6886                    ['스페인어 했다가 힘들어서 영어로 바꾼 사람은 봤음']     NaN   \n6887  ['저도요.... 진짜 국통법 때문에 미칠거 같네요 ,', '나두...', '국통 ...     NaN   \n6888  ['부전공학점 다 채운다음 이중전공이랑 차이나는 전공점수 채워야되요', '한마디로 ...     NaN   \n6889  ['반가워요 동지...!', '저요저요!', '저욤!', '오 친해져요!!', '님...     NaN   \n\n                                                  LEMMA  \n0              이중전공 부전공 차이 대하 이중전공 학위 졸업장 표시 부전공 졸업장 표시  \n1     재수강 연결 종합 정보 시스템 수업 수강 관리 수강 과목 선택 메뉴 들어가 안내 사...  \n2         수고 다르 아니 제가 평점 학기 수업 평점 올리 졸업 학점 134 학점 초과 문제  \n3     처음 이중전공 신청 이중전공 경영 변경 시도 자체 시험 떨어지 변경 실패 지나 겨울...  \n4                                      이중전공 바꾸 바꾸 학점 소멸  \n...                                                 ...  \n6885                                   중외 17 학번 이중전공 추천  \n6886                                공대 이중전공 언어 힘들 언어 추천  \n6887                                   국제 통상 학과 이중전공 걱정  \n6888  경영 후기 이중전공 신청 이중전공 떨어지 부전공 경영 후기 이중전공 경영 신청 경영...  \n6889                                      국제 학부 이중전공 정보  \n\n[6890 rows x 4 columns]",
      "text/html": "<div>\n<style scoped>\n    .dataframe tbody tr th:only-of-type {\n        vertical-align: middle;\n    }\n\n    .dataframe tbody tr th {\n        vertical-align: top;\n    }\n\n    .dataframe thead th {\n        text-align: right;\n    }\n</style>\n<table border=\"1\" class=\"dataframe\">\n  <thead>\n    <tr style=\"text-align: right;\">\n      <th></th>\n      <th>QUESTION</th>\n      <th>ANSWER</th>\n      <th>TAGSET</th>\n      <th>LEMMA</th>\n    </tr>\n  </thead>\n  <tbody>\n    <tr>\n      <th>0</th>\n      <td>이중전공이랑 부전공 차이에 대해서 궁금해요이중전공은 학위졸업장 표시인건 알겠는데부전...</td>\n      <td>NaN</td>\n      <td>NaN</td>\n      <td>이중전공 부전공 차이 대하 이중전공 학위 졸업장 표시 부전공 졸업장 표시</td>\n    </tr>\n    <tr>\n      <th>1</th>\n      <td>재수강 연결방밥 대로 종합정보시스템-수업수강관리-재수강과목선택메뉴를 들어갔는데안내사...</td>\n      <td>NaN</td>\n      <td>NaN</td>\n      <td>재수강 연결 종합 정보 시스템 수업 수강 관리 수강 과목 선택 메뉴 들어가 안내 사...</td>\n    </tr>\n    <tr>\n      <th>2</th>\n      <td>항상 수고가 많으십니다 다름아니라 제가 총평점이 좀 낮은편이라 막학기에 수업을 더 ...</td>\n      <td>NaN</td>\n      <td>NaN</td>\n      <td>수고 다르 아니 제가 평점 학기 수업 평점 올리 졸업 학점 134 학점 초과 문제</td>\n    </tr>\n    <tr>\n      <th>3</th>\n      <td>제가 맨 처음에 이중전공을 gbt로 신청했다가 이중전공 경영으로 변경하려고 시도했는...</td>\n      <td>NaN</td>\n      <td>NaN</td>\n      <td>처음 이중전공 신청 이중전공 경영 변경 시도 자체 시험 떨어지 변경 실패 지나 겨울...</td>\n    </tr>\n    <tr>\n      <th>4</th>\n      <td>이중전공을 바꾸고 싶은데 혹시 바꾸게 된다면 그전에 받은 학점은 이어가는 건가요 아...</td>\n      <td>NaN</td>\n      <td>NaN</td>\n      <td>이중전공 바꾸 바꾸 학점 소멸</td>\n    </tr>\n    <tr>\n      <th>...</th>\n      <td>...</td>\n      <td>...</td>\n      <td>...</td>\n      <td>...</td>\n    </tr>\n    <tr>\n      <th>6885</th>\n      <td>중외통 17학번인데요이중전공 어떤 걸로 하면 좋은지 추천해주세요</td>\n      <td>['아 그렇군요! 감사합니다!!']</td>\n      <td>NaN</td>\n      <td>중외 17 학번 이중전공 추천</td>\n    </tr>\n    <tr>\n      <th>6886</th>\n      <td>공대생 이중전공으로 언어할까 하는데 힘듦 언어추천좀</td>\n      <td>['스페인어 했다가 힘들어서 영어로 바꾼 사람은 봤음']</td>\n      <td>NaN</td>\n      <td>공대 이중전공 언어 힘들 언어 추천</td>\n    </tr>\n    <tr>\n      <th>6887</th>\n      <td>국제통상학과 이중전공생인데 걱정이 많이 된다</td>\n      <td>['저도요.... 진짜 국통법 때문에 미칠거 같네요 ,', '나두...', '국통 ...</td>\n      <td>NaN</td>\n      <td>국제 통상 학과 이중전공 걱정</td>\n    </tr>\n    <tr>\n      <th>6888</th>\n      <td>경영 후기 이중전공 신청할 때이중전공 떨어져서 부전공 경영인데후기 이중전공 경영 신...</td>\n      <td>['부전공학점 다 채운다음 이중전공이랑 차이나는 전공점수 채워야되요', '한마디로 ...</td>\n      <td>NaN</td>\n      <td>경영 후기 이중전공 신청 이중전공 떨어지 부전공 경영 후기 이중전공 경영 신청 경영...</td>\n    </tr>\n    <tr>\n      <th>6889</th>\n      <td>국제학부 이중전공생 없나요 다른 과보다 정보가 많이 없는듯</td>\n      <td>['반가워요 동지...!', '저요저요!', '저욤!', '오 친해져요!!', '님...</td>\n      <td>NaN</td>\n      <td>국제 학부 이중전공 정보</td>\n    </tr>\n  </tbody>\n</table>\n<p>6890 rows × 4 columns</p>\n</div>"
     },
     "metadata": {},
     "execution_count": 64
    }
   ],
   "source": [
    "norm_content = []\n",
    "for text in spaced_quest:\n",
    "    punct = re.compile(r'[\\~\\'\\\"\\.\\,\\?\\!\\:\\;\\)\\(\\+]+') \n",
    "    norm_text = re.sub(punct, \"\", text)\n",
    "    norm_text = re.sub(r'(안녕)+(하세요)?', '', norm_text)\n",
    "    norm_text = re.sub(r'(조교)[님]?', \"\", norm_text)\n",
    "    norm_text = re.sub(r'[ㄱ-ㅎㅏ-ㅣ]+', '', norm_text) # ㅠ하나 쓰는 놈들꺼 제거...\n",
    "    norm_text = re.sub( r\"\\s{2,}\",\" \", norm_text) \n",
    "    norm_text = re.sub( r\"\\A\\s+\",'', norm_text)\n",
    "    norm_text = re.sub(r\"([가-힣]+)[여용염]\",r\"\\1요\",norm_text) # 용용체 제거 슈바끄...\n",
    "    norm_text = re.sub(r\"\\b이중[^전공]*?\\b\",\"이중전공\",norm_text) # 이중으로만 적혀있는거 변형\n",
    "    norm_text = re.sub(r\"\\b부전[^공]*?\\b\",\"부전공\",norm_text) # 부전으로만 적혀있는거 변형\n",
    "\n",
    "    # 줄인말제거\n",
    "    norm_text = re.sub(r\"\\b전심[가-힣]*\\b\", \"전공심화\", norm_text)\n",
    "    norm_text = re.sub(r\"\\b융전[가-힣]*\\b\", \"융합전공\", norm_text)\n",
    "    norm_text = re.sub(r'\\b연계전공\\b', '융합전공', norm_text) # 단어 통일화\n",
    "    \n",
    "    norm_content.append(norm_text)\n",
    "\n",
    "print(norm_content[:5])\n",
    "\n",
    "merged_df['QUESTION'] = norm_content\n",
    "\n",
    "merged_df"
   ]
  },
  {
   "cell_type": "code",
   "execution_count": 12,
   "metadata": {},
   "outputs": [],
   "source": [
    "### kiwi를 사용한 형태소 분석 ###"
   ]
  },
  {
   "cell_type": "code",
   "execution_count": 65,
   "metadata": {
    "tags": [
     "outputPrepend",
     "outputPrepend",
     "outputPrepend",
     "outputPrepend",
     "outputPrepend",
     "outputPrepend",
     "outputPrepend",
     "outputPrepend",
     "outputPrepend",
     "outputPrepend",
     "outputPrepend",
     "outputPrepend",
     "outputPrepend",
     "outputPrepend",
     "outputPrepend",
     "outputPrepend",
     "outputPrepend",
     "outputPrepend",
     "outputPrepend",
     "outputPrepend",
     "outputPrepend",
     "outputPrepend",
     "outputPrepend",
     "outputPrepend",
     "outputPrepend",
     "outputPrepend",
     "outputPrepend",
     "outputPrepend",
     "outputPrepend",
     "outputPrepend",
     "outputPrepend",
     "outputPrepend",
     "outputPrepend",
     "outputPrepend",
     "outputPrepend",
     "outputPrepend",
     "outputPrepend",
     "outputPrepend",
     "outputPrepend",
     "outputPrepend",
     "outputPrepend",
     "outputPrepend",
     "outputPrepend",
     "outputPrepend",
     "outputPrepend",
     "outputPrepend",
     "outputPrepend",
     "outputPrepend",
     "outputPrepend",
     "outputPrepend",
     "outputPrepend",
     "outputPrepend",
     "outputPrepend",
     "outputPrepend",
     "outputPrepend",
     "outputPrepend",
     "outputPrepend",
     "outputPrepend",
     "outputPrepend",
     "outputPrepend",
     "outputPrepend",
     "outputPrepend",
     "outputPrepend",
     "outputPrepend",
     "outputPrepend",
     "outputPrepend",
     "outputPrepend",
     "outputPrepend",
     "outputPrepend",
     "outputPrepend",
     "outputPrepend",
     "outputPrepend",
     "outputPrepend",
     "outputPrepend",
     "outputPrepend",
     "outputPrepend",
     "outputPrepend",
     "outputPrepend",
     "outputPrepend",
     "outputPrepend",
     "outputPrepend",
     "outputPrepend",
     "outputPrepend",
     "outputPrepend",
     "outputPrepend",
     "outputPrepend",
     "outputPrepend",
     "outputPrepend",
     "outputPrepend",
     "outputPrepend",
     "outputPrepend",
     "outputPrepend",
     "outputPrepend",
     "outputPrepend",
     "outputPrepend",
     "outputPrepend",
     "outputPrepend",
     "outputPrepend",
     "outputPrepend",
     "outputPrepend",
     "outputPrepend",
     "outputPrepend",
     "outputPrepend",
     "outputPrepend",
     "outputPrepend",
     "outputPrepend",
     "outputPrepend",
     "outputPrepend",
     "outputPrepend",
     "outputPrepend",
     "outputPrepend",
     "outputPrepend",
     "outputPrepend",
     "outputPrepend",
     "outputPrepend",
     "outputPrepend",
     "outputPrepend",
     "outputPrepend",
     "outputPrepend",
     "outputPrepend",
     "outputPrepend",
     "outputPrepend",
     "outputPrepend",
     "outputPrepend",
     "outputPrepend",
     "outputPrepend",
     "outputPrepend",
     "outputPrepend",
     "outputPrepend",
     "outputPrepend",
     "outputPrepend",
     "outputPrepend",
     "outputPrepend",
     "outputPrepend",
     "outputPrepend",
     "outputPrepend",
     "outputPrepend",
     "outputPrepend",
     "outputPrepend",
     "outputPrepend",
     "outputPrepend",
     "outputPrepend",
     "outputPrepend",
     "outputPrepend",
     "outputPrepend",
     "outputPrepend",
     "outputPrepend",
     "outputPrepend",
     "outputPrepend",
     "outputPrepend",
     "outputPrepend",
     "outputPrepend",
     "outputPrepend",
     "outputPrepend",
     "outputPrepend",
     "outputPrepend",
     "outputPrepend",
     "outputPrepend",
     "outputPrepend",
     "outputPrepend",
     "outputPrepend",
     "outputPrepend",
     "outputPrepend",
     "outputPrepend",
     "outputPrepend",
     "outputPrepend",
     "outputPrepend",
     "outputPrepend",
     "outputPrepend",
     "outputPrepend",
     "outputPrepend",
     "outputPrepend",
     "outputPrepend",
     "outputPrepend",
     "outputPrepend",
     "outputPrepend",
     "outputPrepend",
     "outputPrepend",
     "outputPrepend",
     "outputPrepend",
     "outputPrepend",
     "outputPrepend",
     "outputPrepend",
     "outputPrepend",
     "outputPrepend",
     "outputPrepend",
     "outputPrepend",
     "outputPrepend"
    ]
   },
   "outputs": [
    {
     "output_type": "stream",
     "name": "stdout",
     "text": "[['이중전공/@', '이랑/JC', '부전공/@', '차이/NNG', '에/JKB', '대하/VV', '어서/EC', '궁금/XR', '하/XSA', '어요/EF', '이중전공/@', '은/JX', '학위/NNG', '졸업장/NNG', '표시/NNG', '이/VCP', 'ᆫ/ETM', '거/NNB', 'ᆫ/JX', '알/VV', '겠/EP', '는데/EC', '부전공/@', '은/JX', '졸업장/NNG', '에/JKB', '도/JX', '표시/NNG', '가/JKS', '안/MAG', '되/VV', '나요/EF'], ['재수강/NNP', '연결/NNG', '방/NNG', '밥/NNG', '대로/JX', '종합/NNG', '정보/NNG', '시스템/NNG', '-/SO', '수업/NNG', '수강/NNG', '관리/NNG', '-/SO', '재/XPN', '수강/NNG', '과목/NNG', '선택/NNG', '메뉴/NNG', '를/JKO', '들어가/VV', '었/EP', '는데/EC', '안내/NNG', '사항/NNG', '및/MAG', '이전/NNG', '성적/NNG', '연결/NNG', '현황/NNG', '에/JKB', '‘/SS', '동일/NNG', '교과/NNG', '로/JKB', '자동연결되었습/NNG', '다/EC', '‘/SS', '라고/JKQ', '나오/VV', '어/EC', '있/VX', '습니다/EC', '그럼/MAJ', '학사/NNG', '공지/NNG', '에/JKB', '나오/VV', '어/EC', '있/VX', '는/ETM', '대로/NNB', '재수강/NNP', '할/NNB', '이전/NNG', '성적/NNG', '을/JKO', '선택/NNG', '하/XSV', '어/EC', '재수강/NNP', '연결/NNG', '을/JKO', '하/VV', 'ᆯ/ETM', '필요/NNG', '없이/MAG', '아무것/NNG', '도/JX', '안/MAG', '하/VV', '어도/EC', '되/VV', 'ᆫ다는/ETM', '거/NNB', '이/VCP', 'ᆫ가요/EF', '감사/NNG', '하/XSA', 'ᆸ니다/EF'], ['항상/MAG', '수고/NNG', '가/JKS', '많/VA', '으시/EP', 'ᆸ니다/EF', '다르/VA', 'ᆷ/ETN', '아니/VCN', '라/EC', '제가/NNP', '총/MM', '평점/NNG', '이/JKS', '좀/MAG', '낮/VA', '은/ETM', '편/NNB', '이/VCP', '라/EC', '막/MAG', '학기/NNG', '에/JKB', '수업/NNG', '을/JKO', '더/MAG', '듣/VV', '으면서/EC', '평점/NNG', '을/JKO', '올리/VV', '어/EC', '보/VX', '고자/EC', '하/VX', '는데요/EF', '졸업/NNG', '학점/NNG', '이/VCP', 'ᆫ/ETM', '134/SN', '학점/NNG', '을/JKO', '초과/NNG', '하/XSV', '어서/EC', '듣/VV', '는/ETM', '것/NNB', '이/JKS', '문제/NNG', '가/JKC', '되/VV', '나요/EF'], ['제/NP', '가/JKS', '맨/MM', '처음/NNG', '에/JKB', '이중전공/@', '을/JKO', 'gbt/SL', '로/JKB', '신청/NNG', '하/XSV', '었/EP', '다가/EC', '이중전공/@', '경영/NNG', '으로/JKB', '변경/NNG', '하/XSV', '려고/EC', '시도/NNG', '하/XSV', '었/EP', '는데/EC', '자체/NNG', '시험/NNG', '에/JKB', '2/SN', '번/NNB', '이나/JX', '떨어지/VV', '어/EC', '변경/NNG', '을/JKO', '실패/NNG', '하/XSV', '었/EP', '습니다/EF', '그래서/MAJ', '지나/VV', 'ᆫ/ETM', '겨울/NNG', '방학/NNG', '2019/SN', '년/NNB', '에/JKB', '부전공/@', '으로/JKB', '경영/NNG', '을/JKO', '선택/NNG', '을/JKO', '하/VV', '고/EC', '2020년/NNP', '도/JX', '1/SN', '학기/NNG', '이중전공/@', '변경/NNG', '기간/NNG', '에/JKB', '경영/NNG', '으로/JKB', '신청/NNG', '하/XSV', '려고/EC', '하/VX', 'ᆸ니다/EF', '한번/NNG', '종합/NNG', '정보/NNG', '시스템/NNG', '을/JKO', '들어가/VV', '었/EP', '는데/EC', '사진/NNG', '과/JKB', '같/VA', '은/ETM', '내요/NNP', '이/JKS', '있/VV', '더라고요/EF', '신경/NNG', '쓰/VV', '지/EC', '않/VX', '고/EC', '변경/NNG', '기간/NNG', '에/JKB', '경영/NNG', '으로/JKB', '신청/NNG', '하/XSV', '면/EC', '되/VV', '는/ETM', '거/NNB', '이/VCP', 'ᆫ가/EF', '요/JX'], ['이중전공/@', '을/JKO', '바꾸/VV', '고/EC', '싶/VX', '은데/EC', '혹시/MAG', '바꾸/VV', '게/EC', '되/VV', 'ᆫ다면/EC', '그/MM', '전/NNG', '에/JKB', '받/VV', '은/ETM', '학점/NNG', '은/JX', '잇/VV', '어/EC', '가/VX', '는/ETM', '거/NNB', '이/VCP', 'ᆫ가요/EF', '아니면/MAJ', '소멸/NNG', '되/XSV', '는/ETM', '거/NNB', '이/VCP', 'ᆫ가/EF', '요/JX'], ['혹시/MAG', '등록/NNG', '휴학/NNG', '후/NNG', '자퇴/NNG', '하/XSV', 'ᆯ/ETM', '경우/NNG', '이번/NNG', '학기/NNG', '등록금/NNG', '환불/NNG', '이/JKS', '가능/NNG', '하/XSA', 'ᆫ가요/EF'], ['졸업/NNG', '유예/NNG', '기간/NNG', '동안/NNG', '학점/NNG', '취득/NNG', '이/JKS', '가능/NNG', '하/XSA', 'ᆫ가요/EF'], ['제/NP', '가/JKS', '인간/NNG', '과/JC', '사회/NNG', '2/SN', '학점/NNG', '짜리/XSN', '과목/NNG', '씨쁠/NNG', '을/JKO', '맞/VV', '었었/EP', '는데/EC', '이거/NP', 'ᆯ/JKO', '언어/NNG', '와/JC', '문학/NNG', '3/SN', '학점/NNG', '짜리/XSN', '페논/NNG', '패/NNG', '과목/NNG', '으로/JKB', '재수강/NNP', '연결/NNG', '이/JKS', '가능/NNG', '하/XSA', '나/EC', '요/JX'], ['2019/SN', '-/SO', '2/SN', '학기/NNG', '에/JKB', '8/SN', '학기/NNG', '까지/JX', '마치/VV', '고/EC', '현재/MAG', '사정/NNG', '상/XSN', '2/SN', '학점/NNG', '이/JKS', '남/VV', '은/ETM', '상태/NNG', '로/JKB', '휴학/NNG', '중/NNB', '이/VCP', 'ᆸ니다/EF', '전공/NNG', '과/JC', '이중전공/@', '학점/NNG', '은/JX', '다/MAG', '채운/NNP', '상황/NNG', '이나/JC', '총/MM', '취득/NNG', '학점/NNG', '이/JKS', '132/SN', '학점/NNG', '이/VCP', '라/EC', '2/SN', '학점/NNG', '이/JKS', '모자라/VV', 'ᆸ니다/EF', '추가/NNG', '학기/NNG', '를/JKO', '듣/VV', '어야/EC', '하/VX', '는/ETM', '상황/NNG', '이/VCP', 'ᆫ데요/EF', '이/MM', '경우/NNG', '2020/SN', '여름/NNG', '계절/NNG', '학기/NNG', '때/NNG', '2/SN', '학점/NNG', '수강/NNG', '후/NNG', '수료/NNG', '가/JKS', '가능/NNG', '하/XSA', 'ᆫ지/EC', '궁금/XR', '하/XSA', 'ᆸ니다/EF', '답변/NNG', '부탁/NNG', '드리/VV', 'ᆸ니다/EF', '-/SO'], ['교양/NNG', '영어/NNG', '재/XPN', '수강/NNG', '하/XSV', '는/ETM', '학생/NNG', '은/JX', '온라인/NNG', '과제/NNG', '하/XSV', '려면/EC', '전/NNG', '에/JKB', '쓰/VV', '었/EP', '던/ETM', '책/NNG', '이/JKS', '있/VV', '는/ETM', '코드/NNG', '로/JKB', '하/VV', 'ᆯ/ETM', '수/NNB', '있/VV', '는/ETM', '거/NNB', '이/VCP', 'ᆫ가요/EF', '아니면/MAJ', '새/MM', '책/NNG', '으로/JKB', '하/VV', '어야/EC', '하/VX', '나요/EF']]\n"
    }
   ],
   "source": [
    "from kiwipiepy import Kiwi\n",
    "\n",
    "kiwi = Kiwi()\n",
    "\n",
    "#대분류 사전 추가\n",
    "kiwi.add_user_word('이중전공', 'DM', 20.0)\n",
    "kiwi.add_user_word('융합전공', 'UM', 20.0)\n",
    "kiwi.add_user_word('전공심화', 'MD', 20.0)\n",
    "kiwi.add_user_word('부전공', 'SM', 20.0)\n",
    "kiwi.add_user_word('연계전공', 'UM', 20.0)\n",
    "\n",
    "kiwi.prepare()\n",
    "\n",
    "## 형태소 분석\n",
    "sent = ''\n",
    "lem_cont = []\n",
    "for quest in norm_content:\n",
    "    ## 형태소만 떼어내기\n",
    "    temp_tagging = [x[0] for x in kiwi.analyze(quest, top_n=1)]\n",
    "    inner_temp = [\"{}/{}\".format(word, tag) for word, tag, score1, score2 in temp_tagging[0]]\n",
    "    lem_cont.append(inner_temp)\n",
    "\n",
    "print(lem_cont[:10])"
   ]
  },
  {
   "cell_type": "code",
   "execution_count": 66,
   "metadata": {
    "tags": [
     "outputPrepend"
    ]
   },
   "outputs": [
    {
     "output_type": "stream",
     "name": "stdout",
     "text": "['이중전공 부전공 차이 대하 이중전공 학위 졸업장 표시 부전공 졸업장 표시', '재수강 연결 종합 정보 시스템 수업 수강 관리 수강 과목 선택 메뉴 들어가 안내 사항 이전 성적 연결 현황 동일 교과 자동연결되었습 나오 학사 공지 나오 대로 재수강 이전 성적 선택 재수강 연결 필요 아무것 감사', '수고 다르 아니 제가 평점 학기 수업 평점 올리 졸업 학점 134 학점 초과 문제', '처음 이중전공 신청 이중전공 경영 변경 시도 자체 시험 떨어지 변경 실패 지나 겨울 방학 2019 부전공 경영 선택 2020년 학기 이중전공 변경 기간 경영 신청 한번 종합 정보 시스템 들어가 사진 내요 신경 변경 기간 경영 신청', '이중전공 바꾸 바꾸 학점 소멸', '등록 휴학 자퇴 경우 이번 학기 등록금 환불 가능', '졸업 유예 기간 동안 학점 취득 가능', '인간 사회 학점 짜리 과목 씨쁠 이거 언어 문학 학점 짜리 페논 과목 재수강 연결 가능', '2019 학기 학기 마치 사정 학점 상태 휴학 전공 이중전공 학점 채운 상황 취득 학점 132 학점 학점 모자라 추가 학기 상황 경우 2020 여름 계절 학기 학점 수강 수료 가능 답변 부탁 드리', '교양 영어 수강 학생 온라인 과제 코드']\n"
    },
    {
     "output_type": "execute_result",
     "data": {
      "text/plain": "                                               QUESTION  \\\n0     이중전공이랑 부전공 차이에 대해서 궁금해요이중전공은 학위졸업장 표시인건 알겠는데부전...   \n1     재수강 연결방밥 대로 종합정보시스템-수업수강관리-재수강과목선택메뉴를 들어갔는데안내사...   \n2     항상 수고가 많으십니다 다름아니라 제가 총평점이 좀 낮은편이라 막학기에 수업을 더 ...   \n3     제가 맨 처음에 이중전공을 gbt로 신청했다가 이중전공 경영으로 변경하려고 시도했는...   \n4     이중전공을 바꾸고 싶은데 혹시 바꾸게 된다면 그전에 받은 학점은 이어가는 건가요 아...   \n...                                                 ...   \n6885               중외통 17학번인데요이중전공 어떤 걸로 하면 좋은지 추천해주세요    \n6886                       공대생 이중전공으로 언어할까 하는데 힘듦 언어추천좀   \n6887                           국제통상학과 이중전공생인데 걱정이 많이 된다   \n6888  경영 후기 이중전공 신청할 때이중전공 떨어져서 부전공 경영인데후기 이중전공 경영 신...   \n6889                   국제학부 이중전공생 없나요 다른 과보다 정보가 많이 없는듯   \n\n                                                 ANSWER  TAGSET  \\\n0                                                   NaN     NaN   \n1                                                   NaN     NaN   \n2                                                   NaN     NaN   \n3                                                   NaN     NaN   \n4                                                   NaN     NaN   \n...                                                 ...     ...   \n6885                                ['아 그렇군요! 감사합니다!!']     NaN   \n6886                    ['스페인어 했다가 힘들어서 영어로 바꾼 사람은 봤음']     NaN   \n6887  ['저도요.... 진짜 국통법 때문에 미칠거 같네요 ,', '나두...', '국통 ...     NaN   \n6888  ['부전공학점 다 채운다음 이중전공이랑 차이나는 전공점수 채워야되요', '한마디로 ...     NaN   \n6889  ['반가워요 동지...!', '저요저요!', '저욤!', '오 친해져요!!', '님...     NaN   \n\n                                                  LEMMA  \n0              이중전공 부전공 차이 대하 이중전공 학위 졸업장 표시 부전공 졸업장 표시  \n1     재수강 연결 종합 정보 시스템 수업 수강 관리 수강 과목 선택 메뉴 들어가 안내 사...  \n2         수고 다르 아니 제가 평점 학기 수업 평점 올리 졸업 학점 134 학점 초과 문제  \n3     처음 이중전공 신청 이중전공 경영 변경 시도 자체 시험 떨어지 변경 실패 지나 겨울...  \n4                                      이중전공 바꾸 바꾸 학점 소멸  \n...                                                 ...  \n6885                                   중외 17 학번 이중전공 추천  \n6886                                공대 이중전공 언어 힘들 언어 추천  \n6887                                   국제 통상 학과 이중전공 걱정  \n6888  경영 후기 이중전공 신청 이중전공 떨어지 부전공 경영 후기 이중전공 경영 신청 경영...  \n6889                                      국제 학부 이중전공 정보  \n\n[6890 rows x 4 columns]",
      "text/html": "<div>\n<style scoped>\n    .dataframe tbody tr th:only-of-type {\n        vertical-align: middle;\n    }\n\n    .dataframe tbody tr th {\n        vertical-align: top;\n    }\n\n    .dataframe thead th {\n        text-align: right;\n    }\n</style>\n<table border=\"1\" class=\"dataframe\">\n  <thead>\n    <tr style=\"text-align: right;\">\n      <th></th>\n      <th>QUESTION</th>\n      <th>ANSWER</th>\n      <th>TAGSET</th>\n      <th>LEMMA</th>\n    </tr>\n  </thead>\n  <tbody>\n    <tr>\n      <th>0</th>\n      <td>이중전공이랑 부전공 차이에 대해서 궁금해요이중전공은 학위졸업장 표시인건 알겠는데부전...</td>\n      <td>NaN</td>\n      <td>NaN</td>\n      <td>이중전공 부전공 차이 대하 이중전공 학위 졸업장 표시 부전공 졸업장 표시</td>\n    </tr>\n    <tr>\n      <th>1</th>\n      <td>재수강 연결방밥 대로 종합정보시스템-수업수강관리-재수강과목선택메뉴를 들어갔는데안내사...</td>\n      <td>NaN</td>\n      <td>NaN</td>\n      <td>재수강 연결 종합 정보 시스템 수업 수강 관리 수강 과목 선택 메뉴 들어가 안내 사...</td>\n    </tr>\n    <tr>\n      <th>2</th>\n      <td>항상 수고가 많으십니다 다름아니라 제가 총평점이 좀 낮은편이라 막학기에 수업을 더 ...</td>\n      <td>NaN</td>\n      <td>NaN</td>\n      <td>수고 다르 아니 제가 평점 학기 수업 평점 올리 졸업 학점 134 학점 초과 문제</td>\n    </tr>\n    <tr>\n      <th>3</th>\n      <td>제가 맨 처음에 이중전공을 gbt로 신청했다가 이중전공 경영으로 변경하려고 시도했는...</td>\n      <td>NaN</td>\n      <td>NaN</td>\n      <td>처음 이중전공 신청 이중전공 경영 변경 시도 자체 시험 떨어지 변경 실패 지나 겨울...</td>\n    </tr>\n    <tr>\n      <th>4</th>\n      <td>이중전공을 바꾸고 싶은데 혹시 바꾸게 된다면 그전에 받은 학점은 이어가는 건가요 아...</td>\n      <td>NaN</td>\n      <td>NaN</td>\n      <td>이중전공 바꾸 바꾸 학점 소멸</td>\n    </tr>\n    <tr>\n      <th>...</th>\n      <td>...</td>\n      <td>...</td>\n      <td>...</td>\n      <td>...</td>\n    </tr>\n    <tr>\n      <th>6885</th>\n      <td>중외통 17학번인데요이중전공 어떤 걸로 하면 좋은지 추천해주세요</td>\n      <td>['아 그렇군요! 감사합니다!!']</td>\n      <td>NaN</td>\n      <td>중외 17 학번 이중전공 추천</td>\n    </tr>\n    <tr>\n      <th>6886</th>\n      <td>공대생 이중전공으로 언어할까 하는데 힘듦 언어추천좀</td>\n      <td>['스페인어 했다가 힘들어서 영어로 바꾼 사람은 봤음']</td>\n      <td>NaN</td>\n      <td>공대 이중전공 언어 힘들 언어 추천</td>\n    </tr>\n    <tr>\n      <th>6887</th>\n      <td>국제통상학과 이중전공생인데 걱정이 많이 된다</td>\n      <td>['저도요.... 진짜 국통법 때문에 미칠거 같네요 ,', '나두...', '국통 ...</td>\n      <td>NaN</td>\n      <td>국제 통상 학과 이중전공 걱정</td>\n    </tr>\n    <tr>\n      <th>6888</th>\n      <td>경영 후기 이중전공 신청할 때이중전공 떨어져서 부전공 경영인데후기 이중전공 경영 신...</td>\n      <td>['부전공학점 다 채운다음 이중전공이랑 차이나는 전공점수 채워야되요', '한마디로 ...</td>\n      <td>NaN</td>\n      <td>경영 후기 이중전공 신청 이중전공 떨어지 부전공 경영 후기 이중전공 경영 신청 경영...</td>\n    </tr>\n    <tr>\n      <th>6889</th>\n      <td>국제학부 이중전공생 없나요 다른 과보다 정보가 많이 없는듯</td>\n      <td>['반가워요 동지...!', '저요저요!', '저욤!', '오 친해져요!!', '님...</td>\n      <td>NaN</td>\n      <td>국제 학부 이중전공 정보</td>\n    </tr>\n  </tbody>\n</table>\n<p>6890 rows × 4 columns</p>\n</div>"
     },
     "metadata": {},
     "execution_count": 66
    }
   ],
   "source": [
    "## 불용어 처리 ##\n",
    "\n",
    "file = open(r'E:\\Programming\\python\\NLP\\howls_nlp\\Chatbot\\자료\\stop_words.txt','r', encoding = 'utf8')\n",
    "lines = file.readlines()\n",
    "file.close()\n",
    "stop_words = lines[0].split()\n",
    "\n",
    "#texts = [[word for word in document if word not in stop_words]\n",
    "#            for document in lem_cont]\n",
    "\n",
    "#print(texts[:10])\n",
    "\n",
    "listed_cont = [[comb.split('/') for comb in sent] for sent in lem_cont]\n",
    "\n",
    "main_texts = []\n",
    "non_mean = []\n",
    "for sent in listed_cont:\n",
    "    texts = []\n",
    "    for word in sent:\n",
    "        # 한 글자 제거\n",
    "        if len(word[0]) > 1:\n",
    "            # 조사 등 불필요한 거 제거\n",
    "            if 'N' in word[-1]:\n",
    "                texts.append(word[0])\n",
    "            elif '@' in word[-1]:\n",
    "                texts.append(word[0])\n",
    "            elif 'V' in word[-1]:\n",
    "                texts.append(word[0])\n",
    "            else:\n",
    "                non_mean.append(word[0])\n",
    "        else:\n",
    "            non_mean.append(word[0])\n",
    "    \n",
    "    main_texts.append(texts)\n",
    "\n",
    "lemmatized_question = []\n",
    "\n",
    "for noun in main_texts:\n",
    "    txt = ' '.join(noun)\n",
    "    lemmatized_question.append(txt)\n",
    "\n",
    "print(lemmatized_question[:10])\n",
    "\n",
    "merged_df['LEMMA'] = lemmatized_question\n",
    "\n",
    "merged_df"
   ]
  },
  {
   "cell_type": "code",
   "execution_count": 70,
   "metadata": {},
   "outputs": [
    {
     "output_type": "stream",
     "name": "stdout",
     "text": "[['DM', 'SM'], ['UK'], ['UK'], ['DM', 'SM'], ['DM'], ['UK'], ['UK'], ['UK'], ['DM'], ['UK']]\n"
    },
    {
     "output_type": "execute_result",
     "data": {
      "text/plain": "                                               QUESTION  \\\n0     이중전공이랑 부전공 차이에 대해서 궁금해요이중전공은 학위졸업장 표시인건 알겠는데부전...   \n1     재수강 연결방밥 대로 종합정보시스템-수업수강관리-재수강과목선택메뉴를 들어갔는데안내사...   \n2     항상 수고가 많으십니다 다름아니라 제가 총평점이 좀 낮은편이라 막학기에 수업을 더 ...   \n3     제가 맨 처음에 이중전공을 gbt로 신청했다가 이중전공 경영으로 변경하려고 시도했는...   \n4     이중전공을 바꾸고 싶은데 혹시 바꾸게 된다면 그전에 받은 학점은 이어가는 건가요 아...   \n...                                                 ...   \n6885               중외통 17학번인데요이중전공 어떤 걸로 하면 좋은지 추천해주세요    \n6886                       공대생 이중전공으로 언어할까 하는데 힘듦 언어추천좀   \n6887                           국제통상학과 이중전공생인데 걱정이 많이 된다   \n6888  경영 후기 이중전공 신청할 때이중전공 떨어져서 부전공 경영인데후기 이중전공 경영 신...   \n6889                   국제학부 이중전공생 없나요 다른 과보다 정보가 많이 없는듯   \n\n                                                 ANSWER    TAGSET  \\\n0                                                   NaN  [DM, SM]   \n1                                                   NaN      [UK]   \n2                                                   NaN      [UK]   \n3                                                   NaN  [DM, SM]   \n4                                                   NaN      [DM]   \n...                                                 ...       ...   \n6885                                ['아 그렇군요! 감사합니다!!']      [DM]   \n6886                    ['스페인어 했다가 힘들어서 영어로 바꾼 사람은 봤음']      [DM]   \n6887  ['저도요.... 진짜 국통법 때문에 미칠거 같네요 ,', '나두...', '국통 ...      [DM]   \n6888  ['부전공학점 다 채운다음 이중전공이랑 차이나는 전공점수 채워야되요', '한마디로 ...  [DM, SM]   \n6889  ['반가워요 동지...!', '저요저요!', '저욤!', '오 친해져요!!', '님...      [DM]   \n\n                                                  LEMMA  \n0              이중전공 부전공 차이 대하 이중전공 학위 졸업장 표시 부전공 졸업장 표시  \n1     재수강 연결 종합 정보 시스템 수업 수강 관리 수강 과목 선택 메뉴 들어가 안내 사...  \n2         수고 다르 아니 제가 평점 학기 수업 평점 올리 졸업 학점 134 학점 초과 문제  \n3     처음 이중전공 신청 이중전공 경영 변경 시도 자체 시험 떨어지 변경 실패 지나 겨울...  \n4                                      이중전공 바꾸 바꾸 학점 소멸  \n...                                                 ...  \n6885                                   중외 17 학번 이중전공 추천  \n6886                                공대 이중전공 언어 힘들 언어 추천  \n6887                                   국제 통상 학과 이중전공 걱정  \n6888  경영 후기 이중전공 신청 이중전공 떨어지 부전공 경영 후기 이중전공 경영 신청 경영...  \n6889                                      국제 학부 이중전공 정보  \n\n[6890 rows x 4 columns]",
      "text/html": "<div>\n<style scoped>\n    .dataframe tbody tr th:only-of-type {\n        vertical-align: middle;\n    }\n\n    .dataframe tbody tr th {\n        vertical-align: top;\n    }\n\n    .dataframe thead th {\n        text-align: right;\n    }\n</style>\n<table border=\"1\" class=\"dataframe\">\n  <thead>\n    <tr style=\"text-align: right;\">\n      <th></th>\n      <th>QUESTION</th>\n      <th>ANSWER</th>\n      <th>TAGSET</th>\n      <th>LEMMA</th>\n    </tr>\n  </thead>\n  <tbody>\n    <tr>\n      <th>0</th>\n      <td>이중전공이랑 부전공 차이에 대해서 궁금해요이중전공은 학위졸업장 표시인건 알겠는데부전...</td>\n      <td>NaN</td>\n      <td>[DM, SM]</td>\n      <td>이중전공 부전공 차이 대하 이중전공 학위 졸업장 표시 부전공 졸업장 표시</td>\n    </tr>\n    <tr>\n      <th>1</th>\n      <td>재수강 연결방밥 대로 종합정보시스템-수업수강관리-재수강과목선택메뉴를 들어갔는데안내사...</td>\n      <td>NaN</td>\n      <td>[UK]</td>\n      <td>재수강 연결 종합 정보 시스템 수업 수강 관리 수강 과목 선택 메뉴 들어가 안내 사...</td>\n    </tr>\n    <tr>\n      <th>2</th>\n      <td>항상 수고가 많으십니다 다름아니라 제가 총평점이 좀 낮은편이라 막학기에 수업을 더 ...</td>\n      <td>NaN</td>\n      <td>[UK]</td>\n      <td>수고 다르 아니 제가 평점 학기 수업 평점 올리 졸업 학점 134 학점 초과 문제</td>\n    </tr>\n    <tr>\n      <th>3</th>\n      <td>제가 맨 처음에 이중전공을 gbt로 신청했다가 이중전공 경영으로 변경하려고 시도했는...</td>\n      <td>NaN</td>\n      <td>[DM, SM]</td>\n      <td>처음 이중전공 신청 이중전공 경영 변경 시도 자체 시험 떨어지 변경 실패 지나 겨울...</td>\n    </tr>\n    <tr>\n      <th>4</th>\n      <td>이중전공을 바꾸고 싶은데 혹시 바꾸게 된다면 그전에 받은 학점은 이어가는 건가요 아...</td>\n      <td>NaN</td>\n      <td>[DM]</td>\n      <td>이중전공 바꾸 바꾸 학점 소멸</td>\n    </tr>\n    <tr>\n      <th>...</th>\n      <td>...</td>\n      <td>...</td>\n      <td>...</td>\n      <td>...</td>\n    </tr>\n    <tr>\n      <th>6885</th>\n      <td>중외통 17학번인데요이중전공 어떤 걸로 하면 좋은지 추천해주세요</td>\n      <td>['아 그렇군요! 감사합니다!!']</td>\n      <td>[DM]</td>\n      <td>중외 17 학번 이중전공 추천</td>\n    </tr>\n    <tr>\n      <th>6886</th>\n      <td>공대생 이중전공으로 언어할까 하는데 힘듦 언어추천좀</td>\n      <td>['스페인어 했다가 힘들어서 영어로 바꾼 사람은 봤음']</td>\n      <td>[DM]</td>\n      <td>공대 이중전공 언어 힘들 언어 추천</td>\n    </tr>\n    <tr>\n      <th>6887</th>\n      <td>국제통상학과 이중전공생인데 걱정이 많이 된다</td>\n      <td>['저도요.... 진짜 국통법 때문에 미칠거 같네요 ,', '나두...', '국통 ...</td>\n      <td>[DM]</td>\n      <td>국제 통상 학과 이중전공 걱정</td>\n    </tr>\n    <tr>\n      <th>6888</th>\n      <td>경영 후기 이중전공 신청할 때이중전공 떨어져서 부전공 경영인데후기 이중전공 경영 신...</td>\n      <td>['부전공학점 다 채운다음 이중전공이랑 차이나는 전공점수 채워야되요', '한마디로 ...</td>\n      <td>[DM, SM]</td>\n      <td>경영 후기 이중전공 신청 이중전공 떨어지 부전공 경영 후기 이중전공 경영 신청 경영...</td>\n    </tr>\n    <tr>\n      <th>6889</th>\n      <td>국제학부 이중전공생 없나요 다른 과보다 정보가 많이 없는듯</td>\n      <td>['반가워요 동지...!', '저요저요!', '저욤!', '오 친해져요!!', '님...</td>\n      <td>[DM]</td>\n      <td>국제 학부 이중전공 정보</td>\n    </tr>\n  </tbody>\n</table>\n<p>6890 rows × 4 columns</p>\n</div>"
     },
     "metadata": {},
     "execution_count": 70
    }
   ],
   "source": [
    "##Tagset 달기\n",
    "tagset = []\n",
    "for sent in main_texts:\n",
    "    tags = []\n",
    "    for word in sent:\n",
    "        if '이중전공' == word:\n",
    "            tags.append(\"DM\")\n",
    "        elif '부전공' == word:\n",
    "            tags.append(\"SM\")\n",
    "        elif '전공심화' == word:\n",
    "            tags.append(\"MD\")\n",
    "        elif '융합전공' == word:\n",
    "            tags.append(\"UM\")\n",
    "        else:\n",
    "            tags.append(\"UK\")\n",
    "    tagset.append(tags)\n",
    "\n",
    "tagsets = []\n",
    "for sent_tag in tagset:\n",
    "    tagsets.append(list(set(sent_tag)))\n",
    "\n",
    "for tags in tagsets:\n",
    "    if len(tags) > 1:\n",
    "        del tags[-1]\n",
    "print(tagsets[:10])\n",
    "\n",
    "\n",
    "merged_df['TAGSET'] = tagsets\n",
    "\n",
    "merged_df"
   ]
  },
  {
   "cell_type": "code",
   "execution_count": 71,
   "metadata": {},
   "outputs": [],
   "source": [
    "# csv로 출력\n",
    "\n",
    "\n",
    "merged_df.to_csv(r\"E:\\Programming\\python\\NLP\\howls_nlp\\Chatbot\\자료\\results\\preprocessed_question.csv\", index=False, encoding=\"utf-8\")"
   ]
  },
  {
   "cell_type": "code",
   "execution_count": null,
   "metadata": {},
   "outputs": [],
   "source": []
  }
 ],
 "metadata": {
  "language_info": {
   "codemirror_mode": {
    "name": "ipython",
    "version": 3
   },
   "file_extension": ".py",
   "mimetype": "text/x-python",
   "name": "python",
   "nbconvert_exporter": "python",
   "pygments_lexer": "ipython3",
   "version": "3.7.7-final"
  },
  "orig_nbformat": 2,
  "kernelspec": {
   "name": "python37664bitbaseconda7ccc1197ea424c04aa8e970980241a68",
   "display_name": "Python 3.7.6 64-bit ('base': conda)"
  }
 },
 "nbformat": 4,
 "nbformat_minor": 2
}