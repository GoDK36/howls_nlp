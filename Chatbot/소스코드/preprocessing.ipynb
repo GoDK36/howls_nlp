{
 "cells": [
  {
   "cell_type": "code",
   "execution_count": 10,
   "metadata": {},
   "outputs": [],
   "source": [
    "import os, re, csv\n",
    "import pandas as pd\n",
    "import numpy as np\n",
    "from kiwipiepy import Kiwi"
   ]
  },
  {
   "cell_type": "code",
   "execution_count": 11,
   "metadata": {},
   "outputs": [],
   "source": [
    "# 데이터셋 불러와서 정리하기\n",
    "\n",
    "eta_df = pd.read_csv(r\"E:\\Programming\\python\\NLP\\howls_nlp\\Chatbot\\자료\\질문.csv\", encoding='ANSI')\n",
    "eta_df = eta_df.drop(['Unnamed: 0', '글쓴이', '더보기', 'id', '작성시간', '좋아요', '댓글 수'], axis=1)\n",
    "eta_df['TAGSET'] = np.nan\n",
    "eta_df.rename(columns={\"내용\":\"QUESTION\", \"댓글\":\"ANSWER\"}, inplace=True)\n",
    "\n",
    "eta2_df = pd.read_csv(r\"E:\\Programming\\python\\NLP\\howls_nlp\\Chatbot\\자료\\질문2.csv\", encoding='ANSI')\n",
    "eta2_df = eta2_df.drop(['Unnamed: 0', '댓글쓴이', '대댓글여부', 'id'], axis=1)\n",
    "eta2_df['TAGSET'] = np.nan\n",
    "eta2_df.rename(columns={\"내용\":\"QUESTION\", \"댓글\":\"ANSWER\"}, inplace=True)\n",
    "\n",
    "dm_df = pd.read_csv(r\"E:\\Programming\\python\\NLP\\howls_nlp\\Chatbot\\자료\\이중전과게시판_이중검색.csv\", encoding='UTF-8')\n",
    "dm_df = dm_df.drop(['Unnamed: 0', '댓글쓴이', '대댓글여부', 'id'], axis=1)\n",
    "dm_df['TAGSET'] = np.nan\n",
    "dm_df.rename(columns={\"내용\":\"QUESTION\", \"댓글\":\"ANSWER\"}, inplace=True)\n",
    "\n",
    "# 데이터 병합\n",
    "df_lst = [eta_df, eta2_df, dm_df]\n",
    "merged_df = pd.concat(df_lst)\n",
    "merged_df.reset_index(drop=True, inplace=True)\n",
    "merged_df = merged_df[['QUESTION', \"ANSWER\", \"TAGSET\"]]"
   ]
  },
  {
   "cell_type": "code",
   "execution_count": 12,
   "metadata": {},
   "outputs": [],
   "source": [
    "question_list = merged_df['QUESTION'].tolist()"
   ]
  },
  {
   "cell_type": "code",
   "execution_count": 4,
   "metadata": {},
   "outputs": [],
   "source": [
    "## 띄어쓰기 교정\n",
    "from pycrfsuite_spacing import TemplateGenerator\n",
    "from pycrfsuite_spacing import CharacterFeatureTransformer\n",
    "\n",
    "to_feature = CharacterFeatureTransformer(\n",
    "    TemplateGenerator(\n",
    "        begin=-2,\n",
    "        end=2,\n",
    "        min_range_length=3,\n",
    "        max_range_length=3)\n",
    "    )"
   ]
  },
  {
   "cell_type": "code",
   "execution_count": 5,
   "metadata": {},
   "outputs": [
    {
     "output_type": "stream",
     "name": "stdout",
     "text": "['14장 추적', '귀녀의 모습을 한번 쳐다보고 떠나려 했다. 집안을 이리저리 기웃거리던 강포수는 윤씨부인에게 인사를 올리고 중문을 나서는 치수 뒷모습을 보았다. 실망에 얼굴이 일그러지면서 강포수는 치수 뒤를 따라나올 수밖에 없었다. 문전에는 하인들이 즐비하게 늘어서서 상전을 전송하기 위해 기다리고 있었다.', '치수는 거들떠보지 않고 나귀 등에 오르고 말고삐를 잡은 수동은 엉성한 수염에 묻힌 작은 입술을 다물고 늘어선 하인들에게 일별을 던진다.', '삼수가 묘하게 웃었다. 복이 삼수에게 곁눈질을 했다. 짐을 실은 다른 한 필의 나귀는 텁석부리 강포수를 경계했던지 말고삐를 잡자 코를 불었다.', '\"나리마님, 안녕히 다녀오시오.\"', '제가끔 인사했으나 최치수는 말안장에 앉아 강물만 바라보고 있었다.', '의외로 단촐한 출발이었다. 하인들이 서너 명은 수행하리니, 김평산도 동행하지 않을까 예상했었지만 기운 센 편도 아닌 수동이 한 사람만 데리고 강포수와 함께 출발한 것이다. 엉거주춤 서 있는 하인들은 언덕길을 내려가는 두 필의 나귀를 멍청히 내려다본다.', '일행은 강을 끼고, 나귀와 사람들 발자국에 다져진 길을 천천히 간다. 몇 번씩이나 돌아보고 하며 아쉬움에 가득 찼던 강포수는 최참판댁 지붕이 시야에서 사라지자 눈을 내리깔았다. 고개가 차츰 숙어지면서 발끝으로 눈길이 떨어진다.', \"'머 영영 안 돌아올 기건데?'\", '나귀는 강포수에게 곁눈질을 하며 끝내 미덥지 못한가 코를 분다. 앞서가는 나귀 등에는 최치수의 뒷모습이 짐짝같이 보이었다.', \"'온 천지가 허퉁한 거맨치로 마음이 허퉁해서 갈 바를 못 잡겄다. 총도 싫고 돈도 싫고 ……'\", '길섶에 뻗은 풀잎에 이슬이 남아 있어서 짚세기가 젖는다. 날씨는 변덕을 부릴는지, 흩어져 있는 구름은 훨씬 빠르게 움직이고 있는 것 같았으나 하늘은 휑하니 높았고 푸른 빛은 차가웠다. 들판은 바람에 일렁이고 있었다. 목동이 소를 몰고 들판을 질러가는데 송아지가 어미소 뒤를 졸래졸래 따라간다.', '십리 길을 거의 지나는 동안 아무도 입을 떼지 않았다. 이 중에서 앞장선 수동의 얼굴에는 간혹 긴장의 빛이 돌다간 생각에 잠기곤 했다.', \"'서방님 속마음을 알 수가 있이야제. 하지마는 이분 길에는 무신 사단이 있기는 있을 기다. 무서운 어른이니께.'\", '수동이는 지리산에 구천이가 있다는 뜬소문을 생각 안 할래야 안 할 수가 없었다. 할 수만 있다면 그는 머릿속에서 구천의 모습을 싹 지워버리고 싶었다. 그러나 별당아씨와 구천이를 도장에 가두었던 무서운 그날 밤의 일이 말고삐를 잡고 가는 눈앞에 선하게 떠오른다. 이미 모든 일을 각오한 듯 태연하게 반항 없이, 또 굽히려 하지도 않던 구천의 얼굴은 더욱더 선명하다. 그들의 죄 많은 애정을 젤 먼저 알아차린 사람이 수동이었다. 다음날 아침, 도장 문이 열려진 채 두 남녀가 도망친 것을 알고 마음속으로 기뻐하며 그들이 손 닿지 못할 곳으로 달아날 것을 바란 사람도 수동이였다. 화심리 장암선생 문병에서 돌아온 치수는 윤씨부인한테서 그 경위를 들었을 것이 틀림이 없겠는데 안방에서 나올 때 그는 싱긋이 웃었던 것이다.', '\"이놈 길상아! 나뭇잎을 왜 안 쓸었느냐?\"', '사랑 뜰에서 그는 호통을 한번 쳤고 그러고는 여느 때와 다름없이 성큼 사랑방으로 들어섰던 것이다. 다음날, 또 그 다음날, 계속하여 그에게서 하인들은 아무런 변화를 볼 수 없었다. 사람을 놔서 구천이의 수소문을 하고 있다는 말이 이따금 하인들을 긴장시키곤 했으나 그러나 하인들은 어느덧 그 사건에서 최치수를 도외시하게 되었던 것이다. 금실이 좋지 않던 내외간이었으니까, 하며 일단락 지어진 일로 치부했었다.', \"'아니지, 아니지. 서방님 성미가 우떻다고? 성미는 내가 잘 아누만.'\", '기우가, 총포 연습에서 기우에 그칠 일이 아님을 수동은 깨달았다. 그런데 지금, 단촐한 행장을 꾸려 산을 향하고 있는 것이다. 사냥이 한갓 놀이에 불과했더라면 최치수는 결코 단촐한 인원으로 출발하지는 않았을 것이다. 수동이는 이미 구천의 운명이 결정되어버린 것 같은 예감을 느낀다.', \"'불쌍한 놈, 이리 될지 모르고 일을 저질렀나. 인륜을 짓밟아놓고 우찌 지가 살기를 바랄 것꼬. 남으 여자도 유만부동이지. 하늘 겉은 상전의 아씨를, 부치가 까꾸로 서지 않고서야. 환장했지. 빌어묵을 놈. 참말이제 이 노릇을 우찌 하노.'\", '주막 앞에 이르러 잠시 쉬어가기 위해 최치수가 나귀에서 내렸을 때 수동이는 재빨리 상전의 얼굴을 살핀다. 항상 날카롭게 다물려져 있던 입술이 헤벌어져 있었다. 나귀를 몰고 앞서가면서 최치수의 날카로운 표정만을 상상해온 수동이로서는 의외였다. 나귀에게 물을 먹이면서 다시 치수 쪽을 보았을 때 그는 멍하니 강물을 바라보고 있었다. 전혀 아무 생각이 없는 듯했고 병신스럽게 보이기까지 했다. 강포수는 주막 앞에 쭈그리고 있었는데 눈살을 찌푸리며 하늘을 올려다보고 있었다.', '\"오늘 밤은 연곡사에서 묵는 게야. 알았느냐?\"', '강물을 바라본 채 치수가 말했다.', '\"예.\"', '떠나기 전에 한마디 한 말의 되풀이였다. 하늘을 쳐다보고 있던 강포수가 일어섰다. 치수 뒷모습을 향해 비실비실 걸어가더니', '\"나으리!\"', '천천히 몸을 돌리고 최치수는 강포수를 쳐다본다.', '\"나으리!\"', '\"……\"', '\"저어.\"']\n"
    }
   ],
   "source": [
    "## 훈련 파일 정제 (수강편람)\n",
    "train_path = r'E:\\Programming\\python\\NLP\\howls_nlp\\Chatbot\\자료\\space_trainer.txt'\n",
    "\n",
    "corpus = open(train_path, encoding='utf-8').read()\n",
    "corpus = corpus.replace('\\t',' ')\n",
    "train_corpus = corpus.split('\\n')\n",
    "print(train_corpus[:30])"
   ]
  },
  {
   "cell_type": "code",
   "execution_count": 8,
   "metadata": {},
   "outputs": [],
   "source": [
    "# 모델 훈련\n",
    "from pycrfsuite_spacing import PyCRFSuiteSpacing\n",
    "\n",
    "model_path = 'space_model.crfsuite'\n",
    "correct = PyCRFSuiteSpacing(\n",
    "    to_feature=to_feature,\n",
    "    l1_cost = 0,\n",
    "    l2_cost = 1.0,  # L2 규제 사용\n",
    "    verbose=False,\n",
    ")\n",
    "correct.train(train_corpus, model_path)"
   ]
  },
  {
   "cell_type": "code",
   "execution_count": 7,
   "metadata": {},
   "outputs": [
    {
     "output_type": "execute_result",
     "data": {
      "text/plain": "'나도너만큼잘할 수 있어멍청아!'"
     },
     "metadata": {},
     "execution_count": 7
    }
   ],
   "source": [
    "correct('나도너만큼잘할수있어멍청아!')"
   ]
  },
  {
   "cell_type": "code",
   "execution_count": 24,
   "metadata": {},
   "outputs": [
    {
     "output_type": "stream",
     "name": "stdout",
     "text": "['조교님! 이중전공 이랑 부전공 차이에 대해서 궁금해요!이중전공은 학위+ 졸업장 표시인건 알겠는 데부전공은 졸업장에 도 표시가 안되나요?', '안녕하세요 조교님!재수강 연결 방밥 대로 종합정보시스템- 수업수강관리- 재수강과목선택메뉴를 들어갔는 데안내사항 및 이전 성적 연결 현황에 ‘동일 교과로 자동연결 되었습다 ‘ 라고 나와 있습니다. 그럼 학사공지에 나와 있는 대로 재수강할 이전 성적을 선택해 재수강연결을 할 필요없이 아무것도 안해도 된 다는 건가요? 감사합니다. !', '조교님 안녕하세요!! 항상 수고가 많으십니다 다름아니라 제가 총 평점이 좀 낮은 편이라 막학기에 수업을 더 들으면서 평점을 올려보고자 하는 데요, 졸업학점인 134학점을 초과해서 듣는 것이 문제가 되나요??ㅠㅠ', '안녕하세요 조교님!제가 맨 처음에 이중전공을 gbt로 신청했다가 이중전공 경영으로 변경하려고 시도했는 데자체시험에 2번 이나 떨어져 변경을 실패했습니다그래서 지난 겨울 방학(2019년)에 부전공으로 경영을 선택을 하고 2020년도 1학기 이중전공 변경기간에 경영으로 신청하려고 합니다한 번 종합정보시스템을 들어갔는 데 사진과 같은 내용이 있더라고요신경쓰지 않고 변경기간에 경영으로 신청하면 되는 건가요?', '이중전공을 바꾸고싶은 데 혹시 바꾸게 된 다면 그전에 받은 학점은 이어가는 건가요? 아니면 소멸되는 건가요?', '조교님 혹시 등록휴학 후 자퇴할 경우 이번 학기 등록금 환불이 가능한 가요?', '졸업유예 기간 동안 학점 취득이 가능한 가요?', '조교님 제가 인간과 사회 2학점 짜리 과목 씨쁠을 맞았었는 데 이걸 언어와 문학 3학점 짜리 페논패 과목으로 재수강 연결이 가능하나요??', '안녕하세요 조교님. 2019-2학기에 8학기 까지 마치고, 현재 사정상 2학점이 남은 상태로 휴학 중 입니다. 전공과 이중전공 학점은 다 채운 상황이나, 총 취득학점이 132학점 이라 2학점이 모자랍니다. 추가 학기를 들어야 하는 상황인데요, 이 경우 2020 여름 계절학기 때 2학점 수강 후 수료가 가능한 지 궁금합니다. 답변 부탁드립니다- !', '교양 영어 재수강 하는 학생은 온라인 과제 하려면 전에 썼던 책이 있는 코드로 할 수 있는 건가요? 아니면 새 책으로 해야 하나요?']\n"
    }
   ],
   "source": [
    "corrected_question = []\n",
    "for x in question_list:\n",
    "    correction = correct(x)\n",
    "    corrected_question.append(correction)\n",
    "print(corrected_question[:10])"
   ]
  },
  {
   "cell_type": "code",
   "execution_count": 14,
   "metadata": {},
   "outputs": [
    {
     "output_type": "stream",
     "name": "stdout",
     "text": "all tags length = 163369 --> 104037, (num_doc = 3451290)"
    }
   ],
   "source": [
    "## soyspace 이용한 띄어쓰기\n",
    "from soyspacing.countbase import CountSpace\n",
    "\n",
    "corpus_fname = r'E:\\Programming\\python\\NLP\\howls_nlp\\Chatbot\\자료\\자이언트_대본.txt'\n",
    "model = CountSpace()\n",
    "model.train(corpus_fname)\n",
    "\n",
    "# 모델 저장하기\n",
    "model.save_model(r\"E:\\Programming\\python\\NLP\\howls_nlp\\Chatbot\\자료\\soy_space_model\", json_format=False)"
   ]
  },
  {
   "cell_type": "code",
   "execution_count": 15,
   "metadata": {},
   "outputs": [
    {
     "output_type": "stream",
     "name": "stdout",
     "text": "[('조교님! 이중전공이랑 부전공 차이에 대해서 궁금해요!이중전공은 학위+졸업장 표시인건 알겠는데부전공은 졸업장에도 표시가 안되나요?', [None, None, None, 1, None, None, None, None, None, 1, None, None, 1, None, None, 1, 0, 0, 1, None, 0, None, None, None, None, None, None, None, 1, None, None, None, None, None, 1, None, None, None, 1, None, None, 0, None, None, None, None, 1, None, None, None, 0, 1, None, None, 1, None, None, None, 0, 1]), ('안녕하세요 조교님!재수강 연결방밥 대로 종합정보시스템-수업수강관리-재수강과목선택메뉴를 들어갔는데안내사항 및 이전성적 연결현황에 ‘동일교과로 자동연결되었습다 ‘ 라고 나와 있습니다. 그럼 학사공지에 나와 있는 대로 재수강할 이전 성적을 선택해 재수강연결을 할 필요 없이 아무것도 안해도 된다는 건가요? 감사합니다.!', [0, 0, 0, None, 1, None, None, None, None, None, None, 1, None, None, None, 1, None, 1, None, None, None, None, None, None, None, None, None, None, None, None, None, None, None, None, None, None, None, None, None, None, None, None, 1, 0, 0, 0, 0, None, None, None, None, 1, 1, None, None, None, 1, None, None, None, None, 1, None, None, None, None, None, 1, None, None, None, None, None, None, None, 1, 1, None, 1, None, 1, 0, 0, 0, 0, 1, 0, 1, None, None, None, None, 1, 0, 1, 0, 1, 0, 1, None, None, None, 1, None, 1, None, None, 1, None, None, 1, None, None, None, None, None, 1, 1, 0, 1, None, 1, 0, 0, 0, 1, None, 0, 1, None, 0, 1, 0, 0, 0, 1, None, 0, 0, 0, 0, None, 1]), ('조교님 안녕하세요!! 항상 수고가 많으십니다 다름아니라 제가 총평점이 좀 낮은편이라 막학기에 수업을 더 들으면서 평점을 올려보고자 하는데요, 졸업학점인 134학점을 초과해서 듣는것이 문제가 되나요??ㅠㅠ', [None, None, 1, None, 0, 0, 0, None, None, 1, None, 1, None, None, 1, None, None, 0, None, 1, None, None, None, 0, 1, None, 1, None, None, None, 1, 1, None, None, None, None, 1, None, None, None, 1, None, None, 1, 1, None, None, 0, 1, None, None, 1, 0, 0, 0, None, 1, None, 0, 0, 0, 1, None, None, None, None, 1, None, None, None, None, None, 1, None, None, None, 1, None, None, 0, 1, 0, 0, 1, None, None, 0, None, None, None, 1]), ('안녕하세요 조교님!제가 맨 처음에 이중전공을 gbt로 신청했다가 이중전공 경영으로 변경하려고 시도했는데자체시험에 2번이나 떨어져 변경을 실패했습니다그래서 지난 겨울방학(2019년)에 부전공으로 경영을 선택을 하고 2020년도 1학기 이중전공 변경기간에 경영으로 신청하려고 합니다한번 종합정보시스템을 들어갔는데 사진과 같은 내용이 있더라고요신경 쓰지 않고 변경기간에 경영으로 신청하면 되는 건가요?', [0, 0, 0, None, 1, None, None, None, None, None, 1, 1, None, None, 1, None, None, None, None, 1, None, None, None, 1, None, None, None, None, 1, None, None, None, 1, None, None, None, 1, None, None, None, 0, 1, None, None, None, 0, None, None, None, None, None, 1, None, None, None, 1, None, 0, 1, None, None, 1, None, None, None, 0, 0, None, None, 0, 1, None, 1, None, None, None, None, None, None, None, None, None, None, None, 1, None, None, None, None, 1, None, None, 1, None, None, 1, 0, 1, None, None, None, None, None, 1, None, None, 1, None, None, None, 1, None, None, None, None, 1, None, None, None, 1, None, None, None, 0, 1, 0, 0, None, None, 1, None, None, None, None, None, None, None, 1, 0, 0, 0, 0, 1, None, None, 1, 0, 1, None, 0, 1, None, None, None, 0, None, None, 1, 0, 1, 0, 1, None, None, None, None, 1, None, None, None, 1, None, None, None, 1, 0, 1, 0, 0, 0, 1]), ('이중전공을 바꾸고 싶은데 혹시 바꾸게 된다면 그전에 받은 학점은 이어가는 건가요? 아니면 소멸되는 건가요?', [None, None, None, None, 1, 0, 0, 1, 0, None, 1, None, 1, None, None, 1, None, 0, 1, None, 0, 1, None, 1, None, None, 1, None, None, 0, 1, 0, 0, 0, 1, 0, 0, 1, None, None, None, 1, 0, 0, 0, 1]), ('조교님 혹시 등록휴학 후 자퇴할 경우 이번학기 등록금 환불이 가능한가요?', [None, None, 1, None, 1, None, None, None, 1, 1, None, None, 1, None, 1, None, None, None, 1, None, None, 1, None, None, 1, 0, 0, None, None, 0, 1]), ('졸업유예 기간동안 학점 취득이 가능한가요?', [None, None, None, 1, None, None, None, 1, None, 1, None, None, 1, 0, 0, None, None, 0, 1]), ('조교님 제가 인간과 사회 2학점 짜리 과목 씨쁠을 맞았었는데 이걸 언어와 문학 3학점 짜리 페논패 과목으로 재수강 연결이 가능하나요??', [None, None, 1, None, 1, None, None, 1, None, 1, None, None, 1, None, 1, None, 1, None, None, 1, None, None, None, 0, 1, None, 1, None, None, 1, None, 1, None, None, 1, None, 1, None, None, 1, None, None, 0, 1, None, None, 1, None, None, 1, 0, 0, None, None, 0, None, 1]), ('안녕하세요 조교님.2019-2학기에 8학기 까지 마치고, 현재 사정상 2학점이 남은 상태로 휴학중입니다. 전공과 이중전공 학점은 다 채운 상황이나, 총 취득학점이 132학점이라 2학점이 모자랍니다. 추가학기를 들어야 하는 상황인데요, 이 경우 2020 여름 계절학기 때 2학점 수강 후 수료가 가능한지 궁금합니다. 답변 부탁드립니다-!', [0, 0, 0, None, 1, None, None, None, None, None, None, None, None, None, None, None, None, 1, None, None, 1, None, 1, None, 0, None, 1, 0, 1, None, None, 1, None, None, None, 1, None, 1, None, 0, 1, None, None, None, 0, 0, 0, 1, None, None, 1, None, None, None, 1, None, None, 1, 1, None, 1, None, 0, None, 0, 1, 1, None, None, None, None, 1, None, None, None, None, None, None, 1, None, None, None, 1, None, None, None, 0, 0, 1, None, None, None, None, 1, 0, 0, 1, 0, 1, 0, None, None, 0, 0, 1, 1, None, 1, None, None, None, 1, None, 1, None, None, None, 1, 1, None, None, 1, None, 1, 1, None, None, 1, None, 0, None, 1, None, None, None, 0, 0, 1, None, 1, None, 0, 0, 0, 0, None, None, 1]), ('교양영어 재수강 하는 학생은 온라인 과제 하려면 전에 썼던 책이 있는 코드로 할 수 있는 건가요? 아니면 새 책으로 해야 하나요?', [None, None, None, 1, None, None, 1, None, 1, None, None, 1, None, None, 1, None, 1, None, 0, 1, None, 1, None, 1, None, 1, 0, 1, None, None, 1, 1, 1, 0, 1, 0, 0, 0, 1, 0, 0, 1, 1, None, None, 1, 0, 1, None, None, 0, 1])]\n"
    }
   ],
   "source": [
    "soy_corrected_question = []\n",
    "for x in question_list:\n",
    "    corrected = model.correct(x)\n",
    "    soy_corrected_question.append(corrected)\n",
    "print(soy_corrected_question[:10])"
   ]
  },
  {
   "cell_type": "code",
   "execution_count": 17,
   "metadata": {},
   "outputs": [
    {
     "output_type": "stream",
     "name": "stdout",
     "text": "['조교님! 이중전공이랑 부전공 차이에 대해서 궁금해요!이중전공은 학위+졸업장 표시인건 알겠는데부전공은 졸업장에도 표시가 안되나요?', '안녕하세요 조교님!재수강 연결방밥 대로 종합정보시스템-수업수강관리-재수강과목선택메뉴를 들어갔는데안내사항 및 이전성적 연결현황에 ‘동일교과로 자동연결되었습다 ‘ 라고 나와 있습니다. 그럼 학사공지에 나와 있는 대로 재수강할 이전 성적을 선택해 재수강연결을 할 필요 없이 아무것도 안해도 된다는 건가요? 감사합니다.!', '조교님 안녕하세요!! 항상 수고가 많으십니다 다름아니라 제가 총평점이 좀 낮은편이라 막학기에 수업을 더 들으면서 평점을 올려보고자 하는데요, 졸업학점인 134학점을 초과해서 듣는것이 문제가 되나요??ㅠㅠ', '안녕하세요 조교님!제가 맨 처음에 이중전공을 gbt로 신청했다가 이중전공 경영으로 변경하려고 시도했는데자체시험에 2번이나 떨어져 변경을 실패했습니다그래서 지난 겨울방학(2019년)에 부전공으로 경영을 선택을 하고 2020년도 1학기 이중전공 변경기간에 경영으로 신청하려고 합니다한번 종합정보시스템을 들어갔는데 사진과 같은 내용이 있더라고요신경 쓰지 않고 변경기간에 경영으로 신청하면 되는 건가요?', '이중전공을 바꾸고 싶은데 혹시 바꾸게 된다면 그전에 받은 학점은 이어가는 건가요? 아니면 소멸되는 건가요?', '조교님 혹시 등록휴학 후 자퇴할 경우 이번학기 등록금 환불이 가능한가요?', '졸업유예 기간동안 학점 취득이 가능한가요?', '조교님 제가 인간과 사회 2학점 짜리 과목 씨쁠을 맞았었는데 이걸 언어와 문학 3학점 짜리 페논패 과목으로 재수강 연결이 가능하나요??', '안녕하세요 조교님.2019-2학기에 8학기 까지 마치고, 현재 사정상 2학점이 남은 상태로 휴학중입니다. 전공과 이중전공 학점은 다 채운 상황이나, 총 취득학점이 132학점이라 2학점이 모자랍니다. 추가학기를 들어야 하는 상황인데요, 이 경우 2020 여름 계절학기 때 2학점 수강 후 수료가 가능한지 궁금합니다. 답변 부탁드립니다-!', '교양영어 재수강 하는 학생은 온라인 과제 하려면 전에 썼던 책이 있는 코드로 할 수 있는 건가요? 아니면 새 책으로 해야 하나요?']\n"
    }
   ],
   "source": [
    "spaced_quest = []\n",
    "for quest, tag in soy_corrected_question:\n",
    "    if type(quest) == str:\n",
    "        spaced_quest.append(quest)\n",
    "    else:\n",
    "        continue\n",
    "print(spaced_quest[:10])"
   ]
  },
  {
   "cell_type": "code",
   "execution_count": 20,
   "metadata": {},
   "outputs": [
    {
     "output_type": "execute_result",
     "data": {
      "text/plain": "                                               QUESTION  \\\n0     조교님! 이중전공이랑 부전공 차이에 대해서 궁금해요!이중전공은 학위+졸업장 표시인건...   \n1     안녕하세요 조교님!재수강 연결방밥 대로 종합정보시스템-수업수강관리-재수강과목선택메뉴...   \n2     조교님 안녕하세요!! 항상 수고가 많으십니다 다름아니라 제가 총평점이 좀 낮은편이라...   \n3     안녕하세요 조교님!제가 맨 처음에 이중전공을 gbt로 신청했다가 이중전공 경영으로 ...   \n4     이중전공을 바꾸고 싶은데 혹시 바꾸게 된다면 그전에 받은 학점은 이어가는 건가요? ...   \n...                                                 ...   \n6885       안녕하세요 중외통 17학번인데요이중전공 어떤 걸로 하면 좋은지 추천해주세요 ㅎㅎ   \n6886                      공대생 이중전공으로 언어할까 하는데 힘듦? 언어추천좀   \n6887                         국제통상학과 이중전공생인데 걱정이 많이 된다..   \n6888  경영 후기 이중전공 신청할 때이중전공 떨어져서 부전공 경영인데후기 이중 경영 신청해...   \n6889                  국제학부 이중전공생 없나여ㅠ 다른 과보다 정보가 많이 없는듯   \n\n                                                 ANSWER  TAGSET  \n0                                                   NaN     NaN  \n1                                                   NaN     NaN  \n2                                                   NaN     NaN  \n3                                                   NaN     NaN  \n4                                                   NaN     NaN  \n...                                                 ...     ...  \n6885                                ['아 그렇군요! 감사합니다!!']     NaN  \n6886                    ['스페인어 했다가 힘들어서 영어로 바꾼 사람은 봤음']     NaN  \n6887  ['저도요.... 진짜 국통법 때문에 미칠거 같네요 ,', '나두...', '국통 ...     NaN  \n6888  ['부전공학점 다 채운다음 이중전공이랑 차이나는 전공점수 채워야되요', '한마디로 ...     NaN  \n6889  ['반가워요 동지...!', '저요저요!', '저욤!', '오 친해져요!!', '님...     NaN  \n\n[6890 rows x 3 columns]",
      "text/html": "<div>\n<style scoped>\n    .dataframe tbody tr th:only-of-type {\n        vertical-align: middle;\n    }\n\n    .dataframe tbody tr th {\n        vertical-align: top;\n    }\n\n    .dataframe thead th {\n        text-align: right;\n    }\n</style>\n<table border=\"1\" class=\"dataframe\">\n  <thead>\n    <tr style=\"text-align: right;\">\n      <th></th>\n      <th>QUESTION</th>\n      <th>ANSWER</th>\n      <th>TAGSET</th>\n    </tr>\n  </thead>\n  <tbody>\n    <tr>\n      <th>0</th>\n      <td>조교님! 이중전공이랑 부전공 차이에 대해서 궁금해요!이중전공은 학위+졸업장 표시인건...</td>\n      <td>NaN</td>\n      <td>NaN</td>\n    </tr>\n    <tr>\n      <th>1</th>\n      <td>안녕하세요 조교님!재수강 연결방밥 대로 종합정보시스템-수업수강관리-재수강과목선택메뉴...</td>\n      <td>NaN</td>\n      <td>NaN</td>\n    </tr>\n    <tr>\n      <th>2</th>\n      <td>조교님 안녕하세요!! 항상 수고가 많으십니다 다름아니라 제가 총평점이 좀 낮은편이라...</td>\n      <td>NaN</td>\n      <td>NaN</td>\n    </tr>\n    <tr>\n      <th>3</th>\n      <td>안녕하세요 조교님!제가 맨 처음에 이중전공을 gbt로 신청했다가 이중전공 경영으로 ...</td>\n      <td>NaN</td>\n      <td>NaN</td>\n    </tr>\n    <tr>\n      <th>4</th>\n      <td>이중전공을 바꾸고 싶은데 혹시 바꾸게 된다면 그전에 받은 학점은 이어가는 건가요? ...</td>\n      <td>NaN</td>\n      <td>NaN</td>\n    </tr>\n    <tr>\n      <th>...</th>\n      <td>...</td>\n      <td>...</td>\n      <td>...</td>\n    </tr>\n    <tr>\n      <th>6885</th>\n      <td>안녕하세요 중외통 17학번인데요이중전공 어떤 걸로 하면 좋은지 추천해주세요 ㅎㅎ</td>\n      <td>['아 그렇군요! 감사합니다!!']</td>\n      <td>NaN</td>\n    </tr>\n    <tr>\n      <th>6886</th>\n      <td>공대생 이중전공으로 언어할까 하는데 힘듦? 언어추천좀</td>\n      <td>['스페인어 했다가 힘들어서 영어로 바꾼 사람은 봤음']</td>\n      <td>NaN</td>\n    </tr>\n    <tr>\n      <th>6887</th>\n      <td>국제통상학과 이중전공생인데 걱정이 많이 된다..</td>\n      <td>['저도요.... 진짜 국통법 때문에 미칠거 같네요 ,', '나두...', '국통 ...</td>\n      <td>NaN</td>\n    </tr>\n    <tr>\n      <th>6888</th>\n      <td>경영 후기 이중전공 신청할 때이중전공 떨어져서 부전공 경영인데후기 이중 경영 신청해...</td>\n      <td>['부전공학점 다 채운다음 이중전공이랑 차이나는 전공점수 채워야되요', '한마디로 ...</td>\n      <td>NaN</td>\n    </tr>\n    <tr>\n      <th>6889</th>\n      <td>국제학부 이중전공생 없나여ㅠ 다른 과보다 정보가 많이 없는듯</td>\n      <td>['반가워요 동지...!', '저요저요!', '저욤!', '오 친해져요!!', '님...</td>\n      <td>NaN</td>\n    </tr>\n  </tbody>\n</table>\n<p>6890 rows × 3 columns</p>\n</div>"
     },
     "metadata": {},
     "execution_count": 20
    }
   ],
   "source": [
    "merged_df['QUESTION'] = spaced_quest\n",
    "\n",
    "merged_df"
   ]
  },
  {
   "cell_type": "code",
   "execution_count": 19,
   "metadata": {},
   "outputs": [],
   "source": [
    "### 정규식(이모티콘)으로 전처리하기 ###"
   ]
  },
  {
   "cell_type": "code",
   "execution_count": 34,
   "metadata": {
    "tags": [
     "outputPrepend"
    ]
   },
   "outputs": [
    {
     "output_type": "stream",
     "name": "stdout",
     "text": "['지금 자대 다니는 신입생입니다 이중전공을 골라야 하는 데어문계열은 1전공하고 2전공하고 성적 같이 평가하나요 아니면 이중전공 경쟁하나요', '전과하려고 하는 곳으로 이중전공 신청해놓고 전과할 때 그 과 선택할 수 있나요 이중전공으로 신청해서 안되는 거 아니겠죠', '이중전공에 대해 고민이 많습니다 머리가 터질 것 같에요1학기때 학점이 35였는데 국제학부나 국제통상 아니면 정치외교 가망없을까요 그리고 국제통상은 시험 영어랑 수학 어떤식으로 나오나요 정치외교도 면접 정치나 시사에 관한 질문 나오겠죠 어떻게 준비해야될지 모르겠어요 신문사설을 읽어야 하나 이 과들이 다 법이랑 국제학 쪽 배우는 거 맞죠 아 국제통상은 법이랑 경제인가 여튼 나중에 7급 영사직 시험볼 생각인데 도움될까요 선배님들 도와주세요', '이중전공 경제통계 어느게 더 나을까요1전공 언어이고 고등학교 때 수학 좋아했어요', '나중에 복전에서 이중전공 올릴 때 국통 티오 많이 나나요', '새내기입니다제가 정말 학점관리를 못해서 설캠으로 이중전공을 하고 싶지만 절대 하지 못할 성적인데요그래서 설캠에서 부전공으로 하다가 나중에 이중전공으로 바꾸려고 하는데 많이 힘들까요', '이중전공 신청 먼저하고 전과 신청하잖아요만약에 이중전공으로 신청한 과가 붙었는데 그 과를 1전공으로 하고 싶어서 그 과로 전과신청이 가능한가요 그래도 된다고 가정했을때전과도 성공하면 그 때 이중전공은 어떻게 되는 건가요', '이중전공문화콘텐츠vs스통뭐가 더 나을까요', '이중전공 고민중인 17 스페인어과입니다 이중전공 국통이랑 중외통 고민중인데 뭐가 좋을까요', '전과 생각중인데 전과보다 이중전공 먼저던데 일단 이중전공 전과하는 거죠전과가 되냐 안되냐에 따라 이중전공이 달라질 것 같은데 어떡하죠', '이중전공 1지망 2지망 두개쓰잖아요1지망 떨어지면 자동적으로 2지망으로 배정되나요 만약에 2지망도 떨어지면 언제 다시 이중전공 있을까요', '혹시 궁금해서 그러는데 이중전공과 부전공의 차이점을 제대로 알려면 어디 나와 있는곳이 없을까요', '이중전공 1지망 2지망 둘다 붙으면 무조건 1지망 가야하나요', '이중전공 경영이랑 경제 중에 너무 고민되는데 각각 장단점 좀 제대로 알려주실분 있을까요 사례하겠습니다', '수학싫거나 못해서 경영경제 이중전공 분들다들 이중전공 뭐하세요 계열이라도', '1학년 이중전공신청 언제인지 아시는 분있나요 너무 불안해서', '경영 이중전공 필요한 토익이 750만 넘으면 되나요 아니면 그것보다 더 높아야 하나요', '경영학과 이중전공 하고 싶은데요 시험 많이 어려워요', '1학기 학점이 너무 안나왔지만 어떻게든 국통 이중전공 하고 싶습니다 조언 부탁드립니다', '경영 1전공이면 이중전공 사회과학계열보다 어문이 낫겟죠근데 베이스있는 게 하나도 없어서이중 사회과학계열vs어문계열 어떤게나을가요', 'EICC 이중전공 어때 커리라던가 어떤 점이 도움 되는 것 같아', '이중전공 커리는 본전공하는 사람들 커리랑 다르나요 이중전공 어디서 확인할수잇나요', '제가 문과이지만 예전부터 공대에도 관심이 있었어가지고 공대로 이중전공 변경하고 싶은데 혹시 추천해주실 전공 있나요 그리고 공대 이중전공 인원 많이 남나요', '미컴이나 행정 정외는 이중전공 컷 얼마정도일까요', '경영 이중전공하고 있는데요 외대고 문과다 보니 살릴만한 무역이나 해외영업직무 생각중이고 공부중이에요 경영 이중전공 이쪽에 크게 메리트 있을까요 그래도 기업에 대해 알게되고 좋은데 국통아니면 100프로 연관은 없잖아요 그래서 과연 의미있는 공부를 하는가 의문이에요 아시다시피 경영 학점관리 어렵잖아요 그래서 시간을 효율적으로 쓰는건가 싶기도 하고 겨우 38정도 유지중인데 힘드네요그렇다고 부전공 내리고 전공공부러시아 열심히 하자니 부전공은 기업에서 쳐주지도 않는다고 하고 이중전공 러시아어나 전공은 머리에 제대로 못넣고 있네요 취준 선배님들 조언 부탁드립니다 ', '스페인어 이중전공 컷 몇이에요', '전과 목표로하고 있는데 이중전공 선택하기가 상당히 애매하네요 결정난 다음에 추후에 선택해도 상관없나요', '글캠이 설캠으로 캠간이중하려면 4점대 넘어야 가능한가요 4점대 아니면 불가능에 가까운가요', '이중전공 신청한 뒤에 다른 이중전공 변경 가능한가요 예를 들어 2학년 올라갈때 A로 이중전공 신청을 하고 듣다가 2-2학기나 그럴때 국통으로 변경하고 싶어서요', '아랍어 이중전공 어때요 학점컷은 어느 정도 ', '영어통번역 이중전공 컷이 어느 정도 되나요', 'eicc 이중전공 하려면 필요한 조건이 먼가요', '이중전공은 무한대로 지원할 수 있나요 이번에도 지원하고 내년에도 지원하고', '1학년 1학기 학점 2점대중반인데 이중전공 정치외교나 국가리더 가능한가요망했어', '경영 이중전공 시험은 언제쯤인지 혹시 알 수 있을까요 나중에 학사공지 올라온다고는 아는데 그래도 작년엔 언제였는지 알고 있었거든요 토익시험을 11월에 볼 예정인데 혹시 이거에 대한 유통기한 같은게 있나 궁금하기도 하고요', '국통 이중전공 시험 난이도 어떤가요학점관리도 물론 기본으로 중요한 건 알지만 아무튼 지금부터 준비해도 괜찮을까요성적컷 평균도 알고 싶습니다', '지비티 이중전공 사람 있어', '글캠 이중전공 정외 학점 어느 정도 되야 하나요 그 외에 면접도 본다는 것 같은데 혹시 지금 이중전공 하시는 분 도와주세요', '7급 외무영사직을 고민하고 있는데요 이중전공 정외과가 나을까요 아님 국가리더가 괜찮을까요본 전공이 언어라서 제2외는 괜찮습니다 ', '전과하는 거랑 이중전공 거랑 차이가 크나요 설캠이에요', '285 나왔는데 경영 이중전공 2학기까지 평균 3점 이상으로만 올리면 되나요', '회계쪽 관심이 있는데요 이중전공 신청할려면 경제보다는 경영신청하는 게 낫겠죠 경영 말구 또 어느 과 이중전공 고려 하는 게 좋을까요', '이중전공으로 경영학 듣고 싶은데요 경영학 원론이라는 책 사야하나요 경영학으로의 초대라는 책은 살건데 경영학 원론 책도 사야하는지', '국가리더 이중전공 어느 정도인가요', '익씨 이중전공 학점컷 어느 정도', '현재 2학년이고 이중전공은 1학년인건데 중통 이중전공 경영쪽으로 어문아닌 거로 들을려는데일단 듣고 나중에 변경신청하면 되나요 근데 지금 중통 수강신청해놧는데 정정기간에 취소하고 경영관련된 수업 자리나려나', '캠간 이중전공하고 싶은데 티오 많이 남는 과 있나요 4점대 초반인데 미컴 노리기 힘들까요', '학점 2점대도 가능한 이중전공 있을까요 양아치인가요', '1학기 학점은 353 이구요 이중전공 1지망 미컴 2지망 영미문학문화 생각하고 있는데 다 떨어지면 어떻게 되는 건가요', '1학기 학점 28인데 2학기에 아무리 올려도 이중전공 경제나 국통 하기는 힘들겠죠 2-1에 1학기 학점 메꾼 뒤에 2학기에 다시 신청해도 되려나요', '구체적 꿈 없는 새내기 이중전공 경영 vs 경제 뭐가 나을까요', '이중전공 1지망 2지망 다 컷당하면 어떻게 되나요', '제가 1학년 1학기 학점이 너무 딸려서 2학년 1학기에 재수강으로 다시 들으려고 하는데요 제가 하고 싶은 이중전공 경제나 국통인지라 2학기에 이중전공 신청해도 괜찮은 거로 아는데 2학년 2학기에 이중전공 신청할 시에 불이익 받는 게 있나요 만약 그렇다면 경영 쪽으로 넘어가려구요', '이중전공 국통 원하는데 컷 어떻게 되나요 1학기때 40인데 얼만큼 더 높요야하나요', '일통 이중전공 컷 궁금합니다', 'ld로는 이중전공', '이중전공 경제vs국통 뭐가 나을까요', '학점 평균이 30정도 되면 어딜 이중전공 수 있을까요 전 어문입니다', '미커이중 학점얼마나필요할까요', '국통 이중전공 하고 싶은데 일단 학점은 2학기때 어떻게 커버친다고 해도 진짜 장난이 아니네요 시험 통과하려면 수학도 잘해야 할 것 같고 하요튼 여러모로 혹시 국통 이중전공 분들 후기 남겨주실 수 있나요 학점컷 같은 거요', '1학기 성적 28이면 이중전공 뭐 할 수 있을까요 어문이라 똑같은 어문 하기는 싫은데 경영 이중전공 꿈도 못 꾸겠죠', '경제학과 이중전공 하고 싶은데 1학기 36 힘들죠', '아통 이중전공어때무리야', '이중전공 한번 변경했는데 또 가능한가요', '익씨 이중전공 어느 정도 컷', '1전공 상경인데 이중전공으르 베어하는 게 좋을까요 융소하는 게 좋을까요너무 고민돼요', '경영이중전공 평균 학점은어느 정도야 이번에36정도나왔는데 무난한가', '3학년 2학기에 이중전공 변경 어떰', '경영 이중전공 싶은데 1학기 성적이 너무 낮아서 안될 거 같아요 2학기 아무리 잘봐도 32 정도 나올 거 같은데 이 성적이면 이중전공 못 하겠죠 이중전공 신청이 2학기때도 가능하다고 아는데 그럼 2-1학기에 1학년 거 재수강하고 2학년 2학기에 다시 이중전공 도전해도 되나요', '국제학전공으로 이중전공하려면 학점 몇이어야 해요', '국제금융 이중전공할려는데 학점 얼마나되야하나요', '이중전공 필요한 요건을 어디서 찾아볼 수 있나요', '전과하면 이중전공은 언제해요 전과 이중전공 같이 신청하는 거에요', '사학이중전공 어때요', '이중전공 35넘어야 신청가능하다는 거 수강편람에 나와 있어', '이중전공 1학년때 평점이 35가 안되서 신청 못햇다고 치자 그러면 나중에 이중전공 다시 신청할때 1학년학기 성적 말고도 다른 학기성적 포함평균35넘어야 하는 거야 아니면 이중전공 기간 기준으로 전 2개학기 평균35여야 하는 거야', '이중전공 신청하려고 하는데 이번학기에 3학점짜리 f가나와버렸어요 다른 건다 에이쁠비쁠 사이인데 저 f때문에 학점타격이 크네요 2학기때 열심히해서 올리려고 하는 의지는 있는데 아무래도 이중전공 신청하기에는 빠듯하겠죠 부전공으로 하고 후기이중전공으로 나중에 바꾸는게 나은 방법일까요 으아 하나도 모르겠어요 엉엉', '베트남어이중전공 하고 싶은데 혹시 컷이랑 관련정보 아시는 분은 좀 알려주세요@', '마인어과 이중전공 하고 싶은데 학점이 어느 정도요야 되죠', '이중전공 1지망2지망 이런 게 따로 있나요 아니면 무조건 하나신청', '행정 이중전공 나을까요 경영 부전공 나을까요¿', '경영 이중전공 하고 싶은데 뭐뭐 필요해요 학점만 잘 받아놓으면 되는 건강_', '국통으로 이중전공을 하고 싶은 1학년인데 국통 학점 컷 높나요 1학기를 죽쒀서', '1전공이 베트남언데 이중전공 스페인어 어때사과대는 전혀 관심 없고 상경은 괜찮긴한데언어 하나 더 하고 싶어서', '이중전공으로 중국외교 할려는데 학점 컷있나요 있으면 혹시 아시는 분', '인문대생 이중전공 추천받음', '전과나 이중전공 궁금한거 있으신 분 쪽지주세요', '익씨로 이중전공 바꿀까 고민중인데 지금 하시는 분들 어떠세요', '캠 간 이중전공하려고 하는데요설캠 미디어커뮤니케이션 학점 몇부터 이중전공 가능한가요', '통댄데 이중전공이 걱정이에요 공대를 같이 해볼까했는데수학을 중학교때부터 안해서 정말정말 못하고 정말 싫어해서 해낼 수 있을지 모르겠네요 통 통은 힘들다고 하고 다른 언어를 배울까 하다가도 지금 하는 것도 제대로 못하는데 이도저도 아닌게 될까 걱정이네요', '이중전공변경은 재학중 딱 한번인가요', '소수어 플러스 메이저 언어 이중전공 힘들까요 동대 서대로 하나씩이요', '글캠 영통 이중전공 학점 어느 정도임', '지금 2학년인데 이중전공 변경할 때 1학년까지의 성적만 들어가나요', '미디어커뮤니케이션 이중전공하려면 학점 어느 정도 나와야 하나요 만약에 재수강 각인 과목 있으면 힘들까요', '중외통 17학번인데요이중전공 어떤 걸로 하면 좋은지 추천해주세요 ', '공대생 이중전공으로 언어할까 하는데 힘듦 언어추천좀', '국제통상학과 이중전공생인데 걱정이 많이 된다', '경영 후기 이중전공 신청할 때이중전공 떨어져서 부전공 경영인데후기 이중전공 경영 신청해서 붙으려면 경영 전필 과목 수강해야 돼요필수아님 유리한거어디서 대충 그렇게 들은 것 같아서']\n"
    }
   ],
   "source": [
    "norm_content = []\n",
    "for text in spaced_quest:\n",
    "    punct = re.compile(r'[\\~\\'\\\"\\.\\,\\?\\!\\:\\;\\)\\(\\+]+') \n",
    "    norm_text = re.sub(punct, \"\", text)\n",
    "    norm_text = re.sub(r'(안녕)+(하세요)?', '', norm_text)\n",
    "    norm_text = re.sub(r'(조교)[님]?', \"\", norm_text)\n",
    "    norm_text = re.sub(r'[ㄱ-ㅎㅏ-ㅣ]+', '', norm_text) # ㅠ하나 쓰는 놈들꺼 제거...\n",
    "    norm_text = re.sub( r\"\\s{2,}\",\" \", norm_text) \n",
    "    norm_text = re.sub( r\"\\A\\s+\",'', norm_text)\n",
    "    norm_text = re.sub(r\"([가-힣]+)[여용염]\",r\"\\1요\",norm_text) # 용용체 제거 슈바끄...\n",
    "    norm_text = re.sub(r\"\\b이중[^전공]*?\\b\",\"이중전공\",norm_text) # 이중으로만 적혀있는거 변형\n",
    "    norm_text = re.sub(r\"\\b부전[^공]*?\\b\",\"부전공\",norm_text) # 부전으로만 적혀있는거 변형\n",
    "\n",
    "    # 줄인말제거\n",
    "    norm_text = re.sub(r\"\\b전심[가-힣]*\\b\", \"전공심화\", norm_text)\n",
    "    norm_text = re.sub(r\"\\b융전[가-힣]*\\b\", \"융합전공\", norm_text)\n",
    "    \n",
    "    norm_content.append(norm_text)\n",
    "\n",
    "print(norm_content[-100:-1])"
   ]
  },
  {
   "cell_type": "code",
   "execution_count": 31,
   "metadata": {},
   "outputs": [],
   "source": [
    "### kiwi를 사용한 형태소 분석 ###"
   ]
  },
  {
   "cell_type": "code",
   "execution_count": 41,
   "metadata": {
    "tags": [
     "outputPrepend",
     "outputPrepend",
     "outputPrepend",
     "outputPrepend",
     "outputPrepend",
     "outputPrepend",
     "outputPrepend",
     "outputPrepend",
     "outputPrepend",
     "outputPrepend",
     "outputPrepend",
     "outputPrepend",
     "outputPrepend",
     "outputPrepend",
     "outputPrepend",
     "outputPrepend",
     "outputPrepend",
     "outputPrepend",
     "outputPrepend",
     "outputPrepend",
     "outputPrepend",
     "outputPrepend",
     "outputPrepend",
     "outputPrepend",
     "outputPrepend",
     "outputPrepend",
     "outputPrepend",
     "outputPrepend",
     "outputPrepend",
     "outputPrepend",
     "outputPrepend",
     "outputPrepend",
     "outputPrepend",
     "outputPrepend",
     "outputPrepend",
     "outputPrepend",
     "outputPrepend",
     "outputPrepend",
     "outputPrepend",
     "outputPrepend",
     "outputPrepend",
     "outputPrepend",
     "outputPrepend",
     "outputPrepend",
     "outputPrepend",
     "outputPrepend",
     "outputPrepend",
     "outputPrepend",
     "outputPrepend",
     "outputPrepend",
     "outputPrepend",
     "outputPrepend",
     "outputPrepend",
     "outputPrepend",
     "outputPrepend",
     "outputPrepend",
     "outputPrepend",
     "outputPrepend",
     "outputPrepend",
     "outputPrepend",
     "outputPrepend",
     "outputPrepend",
     "outputPrepend",
     "outputPrepend",
     "outputPrepend",
     "outputPrepend",
     "outputPrepend",
     "outputPrepend",
     "outputPrepend",
     "outputPrepend",
     "outputPrepend",
     "outputPrepend",
     "outputPrepend",
     "outputPrepend",
     "outputPrepend",
     "outputPrepend",
     "outputPrepend",
     "outputPrepend",
     "outputPrepend",
     "outputPrepend",
     "outputPrepend",
     "outputPrepend",
     "outputPrepend",
     "outputPrepend",
     "outputPrepend",
     "outputPrepend",
     "outputPrepend",
     "outputPrepend",
     "outputPrepend",
     "outputPrepend",
     "outputPrepend",
     "outputPrepend",
     "outputPrepend",
     "outputPrepend",
     "outputPrepend",
     "outputPrepend",
     "outputPrepend",
     "outputPrepend",
     "outputPrepend",
     "outputPrepend",
     "outputPrepend",
     "outputPrepend",
     "outputPrepend",
     "outputPrepend",
     "outputPrepend",
     "outputPrepend",
     "outputPrepend",
     "outputPrepend",
     "outputPrepend",
     "outputPrepend",
     "outputPrepend",
     "outputPrepend",
     "outputPrepend",
     "outputPrepend",
     "outputPrepend",
     "outputPrepend",
     "outputPrepend",
     "outputPrepend",
     "outputPrepend",
     "outputPrepend",
     "outputPrepend",
     "outputPrepend",
     "outputPrepend",
     "outputPrepend",
     "outputPrepend",
     "outputPrepend",
     "outputPrepend",
     "outputPrepend",
     "outputPrepend",
     "outputPrepend",
     "outputPrepend",
     "outputPrepend",
     "outputPrepend",
     "outputPrepend",
     "outputPrepend",
     "outputPrepend",
     "outputPrepend",
     "outputPrepend",
     "outputPrepend",
     "outputPrepend",
     "outputPrepend",
     "outputPrepend",
     "outputPrepend",
     "outputPrepend",
     "outputPrepend",
     "outputPrepend",
     "outputPrepend",
     "outputPrepend",
     "outputPrepend",
     "outputPrepend",
     "outputPrepend",
     "outputPrepend",
     "outputPrepend",
     "outputPrepend",
     "outputPrepend",
     "outputPrepend",
     "outputPrepend",
     "outputPrepend",
     "outputPrepend",
     "outputPrepend",
     "outputPrepend",
     "outputPrepend",
     "outputPrepend",
     "outputPrepend",
     "outputPrepend",
     "outputPrepend",
     "outputPrepend",
     "outputPrepend",
     "outputPrepend",
     "outputPrepend",
     "outputPrepend",
     "outputPrepend",
     "outputPrepend",
     "outputPrepend",
     "outputPrepend",
     "outputPrepend",
     "outputPrepend",
     "outputPrepend",
     "outputPrepend",
     "outputPrepend",
     "outputPrepend",
     "outputPrepend",
     "outputPrepend",
     "outputPrepend",
     "outputPrepend",
     "outputPrepend",
     "outputPrepend",
     "outputPrepend"
    ]
   },
   "outputs": [
    {
     "output_type": "stream",
     "name": "stdout",
     "text": "[['이중전공/@', '이랑/JC', '부전공/@', '차이/NNG', '에/JKB', '대하/VV', '어서/EC', '궁금/XR', '하/XSA', '어요/EF', '이중/NNG', '전공/NNG', '은/JX', '학위/NNG', '졸업장/NNG', '표시/NNG', '이/VCP', 'ᆫ/ETM', '거/NNB', 'ᆫ/JX', '알/VV', '겠/EP', '는데/EC', '부전공/NNG', '은/JX', '졸업장/NNG', '에/JKB', '도/JX', '표시/NNG', '가/JKS', '안/MAG', '되/VV', '나요/EF'], ['재수강/NNP', '연결/NNG', '방/NNG', '밥/NNG', '대로/JX', '종합/NNG', '정보/NNG', '시스템/NNG', '-/SO', '수업/NNG', '수강/NNG', '관리/NNG', '-/SO', '재/XPN', '수강/NNG', '과목/NNG', '선택/NNG', '메뉴/NNG', '를/JKO', '들어가/VV', '었/EP', '는데/EC', '안내/NNG', '사항/NNG', '및/MAG', '이전/NNG', '성적/NNG', '연결/NNG', '현황/NNG', '에/JKB', '‘/SS', '동일/NNG', '교과/NNG', '로/JKB', '자동연결되었습/NNG', '다/EC', '‘/SS', '라고/JKQ', '나오/VV', '어/EC', '있/VX', '습니다/EC', '그럼/MAJ', '학사/NNG', '공지/NNG', '에/JKB', '나오/VV', '어/EC', '있/VX', '는/ETM', '대로/NNB', '재수강/NNP', '할/NNB', '이전/NNG', '성적/NNG', '을/JKO', '선택/NNG', '하/XSV', '어/EC', '재수강/NNP', '연결/NNG', '을/JKO', '하/VV', 'ᆯ/ETM', '필요/NNG', '없이/MAG', '아무것/NNG', '도/JX', '안/MAG', '하/VV', '어도/EC', '되/VV', 'ᆫ다는/ETM', '거/NNB', '이/VCP', 'ᆫ가요/EF', '감사/NNG', '하/XSA', 'ᆸ니다/EF'], ['항상/MAG', '수고/NNG', '가/JKS', '많/VA', '으시/EP', 'ᆸ니다/EF', '다르/VA', 'ᆷ/ETN', '아니/VCN', '라/EC', '제가/NNP', '총/MM', '평점/NNG', '이/JKS', '좀/MAG', '낮/VA', '은/ETM', '편/NNB', '이/VCP', '라/EC', '막/MAG', '학기/NNG', '에/JKB', '수업/NNG', '을/JKO', '더/MAG', '듣/VV', '으면서/EC', '평점/NNG', '을/JKO', '올리/VV', '어/EC', '보/VX', '고자/EC', '하/VX', '는데요/EF', '졸업/NNG', '학점/NNG', '이/VCP', 'ᆫ/ETM', '134/SN', '학점/NNG', '을/JKO', '초과/NNG', '하/XSV', '어서/EC', '듣/VV', '는/ETM', '것/NNB', '이/JKS', '문제/NNG', '가/JKC', '되/VV', '나요/EF'], ['제/NP', '가/JKS', '맨/MM', '처음/NNG', '에/JKB', '이중전공/@', '을/JKO', 'gbt/SL', '로/JKB', '신청/NNG', '하/XSV', '었/EP', '다가/EC', '이중전공/@', '경영/NNG', '으로/JKB', '변경/NNG', '하/XSV', '려고/EC', '시도/NNG', '하/XSV', '었/EP', '는데/EC', '자체/NNG', '시험/NNG', '에/JKB', '2/SN', '번/NNB', '이나/JX', '떨어지/VV', '어/EC', '변경/NNG', '을/JKO', '실패/NNG', '하/XSV', '었/EP', '습니다/EF', '그래서/MAJ', '지나/VV', 'ᆫ/ETM', '겨울/NNG', '방학/NNG', '2019/SN', '년/NNB', '에/JKB', '부전공/@', '으로/JKB', '경영/NNG', '을/JKO', '선택/NNG', '을/JKO', '하/VV', '고/EC', '2020년/NNP', '도/JX', '1/SN', '학기/NNG', '이중전공/@', '변경/NNG', '기간/NNG', '에/JKB', '경영/NNG', '으로/JKB', '신청/NNG', '하/XSV', '려고/EC', '하/VX', 'ᆸ니다/EF', '한번/NNG', '종합/NNG', '정보/NNG', '시스템/NNG', '을/JKO', '들어가/VV', '었/EP', '는데/EC', '사진/NNG', '과/JKB', '같/VA', '은/ETM', '내요/NNP', '이/JKS', '있/VV', '더라고요/EF', '신경/NNG', '쓰/VV', '지/EC', '않/VX', '고/EC', '변경/NNG', '기간/NNG', '에/JKB', '경영/NNG', '으로/JKB', '신청/NNG', '하/XSV', '면/EC', '되/VV', '는/ETM', '거/NNB', '이/VCP', 'ᆫ가/EF', '요/JX'], ['이중/NNG', '전공/NNG', '을/JKO', '바꾸/VV', '고/EC', '싶/VX', '은데/EC', '혹시/MAG', '바꾸/VV', '게/EC', '되/VV', 'ᆫ다면/EC', '그/MM', '전/NNG', '에/JKB', '받/VV', '은/ETM', '학점/NNG', '은/JX', '잇/VV', '어/EC', '가/VX', '는/ETM', '거/NNB', '이/VCP', 'ᆫ가요/EF', '아니면/MAJ', '소멸/NNG', '되/XSV', '는/ETM', '거/NNB', '이/VCP', 'ᆫ가/EF', '요/JX'], ['혹시/MAG', '등록/NNG', '휴학/NNG', '후/NNG', '자퇴/NNG', '하/XSV', 'ᆯ/ETM', '경우/NNG', '이번/NNG', '학기/NNG', '등록금/NNG', '환불/NNG', '이/JKS', '가능/NNG', '하/XSA', 'ᆫ가요/EF'], ['졸업/NNG', '유예/NNG', '기간/NNG', '동안/NNG', '학점/NNG', '취득/NNG', '이/JKS', '가능/NNG', '하/XSA', 'ᆫ가요/EF'], ['제/NP', '가/JKS', '인간/NNG', '과/JC', '사회/NNG', '2/SN', '학점/NNG', '짜리/XSN', '과목/NNG', '씨쁠/NNG', '을/JKO', '맞/VV', '었었/EP', '는데/EC', '이거/NP', 'ᆯ/JKO', '언어/NNG', '와/JC', '문학/NNG', '3/SN', '학점/NNG', '짜리/XSN', '페논/NNG', '패/NNG', '과목/NNG', '으로/JKB', '재수강/NNP', '연결/NNG', '이/JKS', '가능/NNG', '하/XSA', '나/EC', '요/JX'], ['2019/SN', '-/SO', '2/SN', '학기/NNG', '에/JKB', '8/SN', '학기/NNG', '까지/JX', '마치/VV', '고/EC', '현재/MAG', '사정/NNG', '상/XSN', '2/SN', '학점/NNG', '이/JKS', '남/VV', '은/ETM', '상태/NNG', '로/JKB', '휴학/NNG', '중/NNB', '이/VCP', 'ᆸ니다/EF', '전공/NNG', '과/JC', '이중전공/@', '학점/NNG', '은/JX', '다/MAG', '채운/NNP', '상황/NNG', '이나/JC', '총/MM', '취득/NNG', '학점/NNG', '이/JKS', '132/SN', '학점/NNG', '이/VCP', '라/EC', '2/SN', '학점/NNG', '이/JKS', '모자라/VV', 'ᆸ니다/EF', '추가/NNG', '학기/NNG', '를/JKO', '듣/VV', '어야/EC', '하/VX', '는/ETM', '상황/NNG', '이/VCP', 'ᆫ데요/EF', '이/MM', '경우/NNG', '2020/SN', '여름/NNG', '계절/NNG', '학기/NNG', '때/NNG', '2/SN', '학점/NNG', '수강/NNG', '후/NNG', '수료/NNG', '가/JKS', '가능/NNG', '하/XSA', 'ᆫ지/EC', '궁금/XR', '하/XSA', 'ᆸ니다/EF', '답변/NNG', '부탁/NNG', '드리/VV', 'ᆸ니다/EF', '-/SO'], ['교양/NNG', '영어/NNG', '재/XPN', '수강/NNG', '하/XSV', '는/ETM', '학생/NNG', '은/JX', '온라인/NNG', '과제/NNG', '하/XSV', '려면/EC', '전/NNG', '에/JKB', '쓰/VV', '었/EP', '던/ETM', '책/NNG', '이/JKS', '있/VV', '는/ETM', '코드/NNG', '로/JKB', '하/VV', 'ᆯ/ETM', '수/NNB', '있/VV', '는/ETM', '거/NNB', '이/VCP', 'ᆫ가요/EF', '아니면/MAJ', '새/MM', '책/NNG', '으로/JKB', '하/VV', '어야/EC', '하/VX', '나요/EF']]\n"
    }
   ],
   "source": [
    "from kiwipiepy import Kiwi\n",
    "\n",
    "kiwi = Kiwi()\n",
    "\n",
    "#대분류 사전 추가\n",
    "kiwi.add_user_word('이중전공', 'DM', 3.0)\n",
    "kiwi.add_user_word('융합전공', 'UM', 3.0)\n",
    "kiwi.add_user_word('전공심화', 'MD', 3.0)\n",
    "kiwi.add_user_word('부전공', 'SM', 3.0)\n",
    "kiwi.add_user_word('연계전공', 'UM', 3.0)\n",
    "\n",
    "kiwi.prepare()\n",
    "\n",
    "## 형태소 분석\n",
    "sent = ''\n",
    "lem_cont = []\n",
    "for quest in norm_content:\n",
    "    ## 형태소만 떼어내기\n",
    "    temp_tagging = [x[0] for x in kiwi.analyze(quest, top_n=1)]\n",
    "    inner_temp = [\"{}/{}\".format(word, tag) for word, tag, score1, score2 in temp_tagging[0]]\n",
    "    lem_cont.append(inner_temp)\n",
    "\n",
    "print(lem_cont[:10])"
   ]
  },
  {
   "cell_type": "code",
   "execution_count": null,
   "metadata": {},
   "outputs": [],
   "source": [
    "## 불용어 처리 ##\n",
    "\n",
    "# TODO : 한 글자 제거\n",
    "# TODO : 조사 등 불필요한 거 제거"
   ]
  }
 ],
 "metadata": {
  "language_info": {
   "codemirror_mode": {
    "name": "ipython",
    "version": 3
   },
   "file_extension": ".py",
   "mimetype": "text/x-python",
   "name": "python",
   "nbconvert_exporter": "python",
   "pygments_lexer": "ipython3",
   "version": "3.7.7-final"
  },
  "orig_nbformat": 2,
  "kernelspec": {
   "name": "python37664bitbaseconda7ccc1197ea424c04aa8e970980241a68",
   "display_name": "Python 3.7.6 64-bit ('base': conda)"
  }
 },
 "nbformat": 4,
 "nbformat_minor": 2
}